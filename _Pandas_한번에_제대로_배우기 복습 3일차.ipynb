{
 "cells": [
  {
   "cell_type": "markdown",
   "metadata": {
    "id": "l5jkTeeNjUae"
   },
   "source": [
    "# Pandas 한번에 제대로 배우기\n"
   ]
  },
  {
   "cell_type": "markdown",
   "metadata": {
    "id": "063zrZmgk8Gx"
   },
   "source": [
    "\n",
    "\n",
    "---\n",
    "\n"
   ]
  },
  {
   "cell_type": "code",
   "execution_count": 2,
   "metadata": {
    "id": "yse0ihPdjJbw"
   },
   "outputs": [
    {
     "data": {
      "text/plain": [
       "'1.2.4'"
      ]
     },
     "execution_count": 2,
     "metadata": {},
     "output_type": "execute_result"
    }
   ],
   "source": [
    "import numpy as np\n",
    "import pandas as pd\n",
    "pd.__version__"
   ]
  },
  {
   "cell_type": "markdown",
   "metadata": {
    "id": "CsH0REQfuLu2"
   },
   "source": [
    "## Pandas 객체\n"
   ]
  },
  {
   "cell_type": "markdown",
   "metadata": {
    "id": "J4u_-QUtwsKq"
   },
   "source": [
    "### Series 객체"
   ]
  },
  {
   "cell_type": "code",
   "execution_count": 2,
   "metadata": {
    "id": "xb5Lsw3Qk_6Q"
   },
   "outputs": [
    {
     "data": {
      "text/plain": [
       "0    0.00\n",
       "1    0.25\n",
       "2    0.50\n",
       "3    0.75\n",
       "4    1.00\n",
       "dtype: float64"
      ]
     },
     "execution_count": 2,
     "metadata": {},
     "output_type": "execute_result"
    }
   ],
   "source": [
    "s = pd.Series([0, 0.25, 0.5, 0.75, 1.0])\n",
    "s"
   ]
  },
  {
   "cell_type": "code",
   "execution_count": 3,
   "metadata": {
    "id": "kU9VyUV6uiNx"
   },
   "outputs": [
    {
     "data": {
      "text/plain": [
       "array([0.  , 0.25, 0.5 , 0.75, 1.  ])"
      ]
     },
     "execution_count": 3,
     "metadata": {},
     "output_type": "execute_result"
    }
   ],
   "source": [
    "s.values"
   ]
  },
  {
   "cell_type": "code",
   "execution_count": 4,
   "metadata": {
    "id": "4fRQDuG2une6"
   },
   "outputs": [
    {
     "data": {
      "text/plain": [
       "RangeIndex(start=0, stop=5, step=1)"
      ]
     },
     "execution_count": 4,
     "metadata": {},
     "output_type": "execute_result"
    }
   ],
   "source": [
    "s.index"
   ]
  },
  {
   "cell_type": "code",
   "execution_count": 5,
   "metadata": {
    "id": "yZZ8khTnun6k"
   },
   "outputs": [
    {
     "data": {
      "text/plain": [
       "0.25"
      ]
     },
     "execution_count": 5,
     "metadata": {},
     "output_type": "execute_result"
    }
   ],
   "source": [
    "s[1]"
   ]
  },
  {
   "cell_type": "code",
   "execution_count": 6,
   "metadata": {
    "id": "TYahWVDa5QHX"
   },
   "outputs": [
    {
     "data": {
      "text/plain": [
       "a    0.00\n",
       "b    0.25\n",
       "c    0.50\n",
       "d    0.75\n",
       "e    1.00\n",
       "dtype: float64"
      ]
     },
     "execution_count": 6,
     "metadata": {},
     "output_type": "execute_result"
    }
   ],
   "source": [
    "s = pd.Series([0, 0.25, 0.5, 0.75, 1.0],\n",
    "              index=['a', 'b', 'c', 'd', 'e'])\n",
    "s"
   ]
  },
  {
   "cell_type": "code",
   "execution_count": 7,
   "metadata": {
    "id": "YSLBo7xOuw4X"
   },
   "outputs": [
    {
     "data": {
      "text/plain": [
       "0.5"
      ]
     },
     "execution_count": 7,
     "metadata": {},
     "output_type": "execute_result"
    }
   ],
   "source": [
    "s['c']"
   ]
  },
  {
   "cell_type": "code",
   "execution_count": 8,
   "metadata": {
    "id": "9cZUdDGdvKMs"
   },
   "outputs": [
    {
     "data": {
      "text/plain": [
       "c    0.50\n",
       "d    0.75\n",
       "e    1.00\n",
       "dtype: float64"
      ]
     },
     "execution_count": 8,
     "metadata": {},
     "output_type": "execute_result"
    }
   ],
   "source": [
    "s[['c', 'd', 'e']]"
   ]
  },
  {
   "cell_type": "code",
   "execution_count": 9,
   "metadata": {
    "id": "YME6WAvUnvAE"
   },
   "outputs": [
    {
     "data": {
      "text/plain": [
       "True"
      ]
     },
     "execution_count": 9,
     "metadata": {},
     "output_type": "execute_result"
    }
   ],
   "source": [
    "'b' in s"
   ]
  },
  {
   "cell_type": "code",
   "execution_count": 10,
   "metadata": {
    "id": "ICRZfCe1o9SO"
   },
   "outputs": [
    {
     "data": {
      "text/plain": [
       "2     0.00\n",
       "4     0.25\n",
       "6     0.50\n",
       "8     0.75\n",
       "10    1.00\n",
       "dtype: float64"
      ]
     },
     "execution_count": 10,
     "metadata": {},
     "output_type": "execute_result"
    }
   ],
   "source": [
    "s = pd.Series([0, 0.25, 0.5, 0.75, 1.0],\n",
    "              index=[2, 4, 6, 8, 10])\n",
    "s"
   ]
  },
  {
   "cell_type": "code",
   "execution_count": 11,
   "metadata": {
    "id": "fk7JuV4yvLUO"
   },
   "outputs": [
    {
     "data": {
      "text/plain": [
       "0.25"
      ]
     },
     "execution_count": 11,
     "metadata": {},
     "output_type": "execute_result"
    }
   ],
   "source": [
    "s[4]"
   ]
  },
  {
   "cell_type": "code",
   "execution_count": 12,
   "metadata": {
    "id": "z8X3HamnxweS"
   },
   "outputs": [
    {
     "data": {
      "text/plain": [
       "6     0.50\n",
       "8     0.75\n",
       "10    1.00\n",
       "dtype: float64"
      ]
     },
     "execution_count": 12,
     "metadata": {},
     "output_type": "execute_result"
    }
   ],
   "source": [
    "s[2:]"
   ]
  },
  {
   "cell_type": "code",
   "execution_count": 13,
   "metadata": {
    "id": "BPIhn89Tn_wd"
   },
   "outputs": [
    {
     "data": {
      "text/plain": [
       "array([0.  , 0.25, 0.5 , 0.75, 1.  ])"
      ]
     },
     "execution_count": 13,
     "metadata": {},
     "output_type": "execute_result"
    }
   ],
   "source": [
    "s.unique()"
   ]
  },
  {
   "cell_type": "code",
   "execution_count": 14,
   "metadata": {
    "id": "bJjXA4YLrRUK"
   },
   "outputs": [
    {
     "data": {
      "text/plain": [
       "0.00    1\n",
       "1.00    1\n",
       "0.50    1\n",
       "0.75    1\n",
       "0.25    1\n",
       "dtype: int64"
      ]
     },
     "execution_count": 14,
     "metadata": {},
     "output_type": "execute_result"
    }
   ],
   "source": [
    "s.value_counts()"
   ]
  },
  {
   "cell_type": "code",
   "execution_count": 15,
   "metadata": {
    "id": "e77ZJdhtrejE"
   },
   "outputs": [
    {
     "data": {
      "text/plain": [
       "2     False\n",
       "4      True\n",
       "6     False\n",
       "8      True\n",
       "10    False\n",
       "dtype: bool"
      ]
     },
     "execution_count": 15,
     "metadata": {},
     "output_type": "execute_result"
    }
   ],
   "source": [
    "s.isin([0.25, 0.75])"
   ]
  },
  {
   "cell_type": "code",
   "execution_count": 16,
   "metadata": {
    "id": "5M0yujydruQv"
   },
   "outputs": [
    {
     "data": {
      "text/plain": [
       "서울특별시    9720846\n",
       "부산광역시    3404423\n",
       "인천광역시    2947217\n",
       "대구광역시    2427954\n",
       "대전광역시    1471040\n",
       "광주광역시    1455048\n",
       "dtype: int64"
      ]
     },
     "execution_count": 16,
     "metadata": {},
     "output_type": "execute_result"
    }
   ],
   "source": [
    "pop_tuple = {'서울특별시' : 9720846,\n",
    "            '부산광역시' : 3404423,\n",
    "            '인천광역시' : 2947217,\n",
    "            '대구광역시' : 2427954,\n",
    "            '대전광역시' : 1471040,\n",
    "            '광주광역시' : 1455048}\n",
    "population = pd.Series(pop_tuple)\n",
    "population"
   ]
  },
  {
   "cell_type": "code",
   "execution_count": 17,
   "metadata": {
    "id": "4Ys3lrybxyz4"
   },
   "outputs": [
    {
     "data": {
      "text/plain": [
       "9720846"
      ]
     },
     "execution_count": 17,
     "metadata": {},
     "output_type": "execute_result"
    }
   ],
   "source": [
    "population['서울특별시']"
   ]
  },
  {
   "cell_type": "code",
   "execution_count": 18,
   "metadata": {
    "id": "6colocsazpUm"
   },
   "outputs": [
    {
     "data": {
      "text/plain": [
       "서울특별시    9720846\n",
       "부산광역시    3404423\n",
       "인천광역시    2947217\n",
       "dtype: int64"
      ]
     },
     "execution_count": 18,
     "metadata": {},
     "output_type": "execute_result"
    }
   ],
   "source": [
    "population['서울특별시' : '인천광역시']"
   ]
  },
  {
   "cell_type": "markdown",
   "metadata": {
    "id": "2oGWT2Kd0JV0"
   },
   "source": [
    "### DataFrame 객체"
   ]
  },
  {
   "cell_type": "code",
   "execution_count": 19,
   "metadata": {
    "id": "BWi3ow9C3N5c"
   },
   "outputs": [
    {
     "data": {
      "text/html": [
       "<div>\n",
       "<style scoped>\n",
       "    .dataframe tbody tr th:only-of-type {\n",
       "        vertical-align: middle;\n",
       "    }\n",
       "\n",
       "    .dataframe tbody tr th {\n",
       "        vertical-align: top;\n",
       "    }\n",
       "\n",
       "    .dataframe thead th {\n",
       "        text-align: right;\n",
       "    }\n",
       "</style>\n",
       "<table border=\"1\" class=\"dataframe\">\n",
       "  <thead>\n",
       "    <tr style=\"text-align: right;\">\n",
       "      <th></th>\n",
       "      <th>A</th>\n",
       "      <th>B</th>\n",
       "      <th>D</th>\n",
       "      <th>C</th>\n",
       "    </tr>\n",
       "  </thead>\n",
       "  <tbody>\n",
       "    <tr>\n",
       "      <th>0</th>\n",
       "      <td>2</td>\n",
       "      <td>4</td>\n",
       "      <td>3.0</td>\n",
       "      <td>NaN</td>\n",
       "    </tr>\n",
       "    <tr>\n",
       "      <th>1</th>\n",
       "      <td>4</td>\n",
       "      <td>5</td>\n",
       "      <td>NaN</td>\n",
       "      <td>7.0</td>\n",
       "    </tr>\n",
       "  </tbody>\n",
       "</table>\n",
       "</div>"
      ],
      "text/plain": [
       "   A  B    D    C\n",
       "0  2  4  3.0  NaN\n",
       "1  4  5  NaN  7.0"
      ]
     },
     "execution_count": 19,
     "metadata": {},
     "output_type": "execute_result"
    }
   ],
   "source": [
    "pd.DataFrame([{'A' : 2, 'B' : 4, 'D' : 3}, {'A': 4, 'B': 5, 'C': 7}])"
   ]
  },
  {
   "cell_type": "code",
   "execution_count": 20,
   "metadata": {
    "id": "KSeay5dT35eH"
   },
   "outputs": [
    {
     "data": {
      "text/html": [
       "<div>\n",
       "<style scoped>\n",
       "    .dataframe tbody tr th:only-of-type {\n",
       "        vertical-align: middle;\n",
       "    }\n",
       "\n",
       "    .dataframe tbody tr th {\n",
       "        vertical-align: top;\n",
       "    }\n",
       "\n",
       "    .dataframe thead th {\n",
       "        text-align: right;\n",
       "    }\n",
       "</style>\n",
       "<table border=\"1\" class=\"dataframe\">\n",
       "  <thead>\n",
       "    <tr style=\"text-align: right;\">\n",
       "      <th></th>\n",
       "      <th>A</th>\n",
       "      <th>B</th>\n",
       "      <th>C</th>\n",
       "      <th>D</th>\n",
       "      <th>E</th>\n",
       "    </tr>\n",
       "  </thead>\n",
       "  <tbody>\n",
       "    <tr>\n",
       "      <th>1</th>\n",
       "      <td>-0.475097</td>\n",
       "      <td>0.153538</td>\n",
       "      <td>1.167551</td>\n",
       "      <td>1.870953</td>\n",
       "      <td>-1.030394</td>\n",
       "    </tr>\n",
       "    <tr>\n",
       "      <th>2</th>\n",
       "      <td>0.191699</td>\n",
       "      <td>0.968959</td>\n",
       "      <td>-0.655110</td>\n",
       "      <td>1.598391</td>\n",
       "      <td>-1.447329</td>\n",
       "    </tr>\n",
       "    <tr>\n",
       "      <th>3</th>\n",
       "      <td>-2.957880</td>\n",
       "      <td>-2.698595</td>\n",
       "      <td>2.262150</td>\n",
       "      <td>0.630355</td>\n",
       "      <td>-0.387836</td>\n",
       "    </tr>\n",
       "    <tr>\n",
       "      <th>4</th>\n",
       "      <td>-0.874204</td>\n",
       "      <td>-0.351303</td>\n",
       "      <td>0.791829</td>\n",
       "      <td>-0.139447</td>\n",
       "      <td>-0.206368</td>\n",
       "    </tr>\n",
       "    <tr>\n",
       "      <th>5</th>\n",
       "      <td>-0.306700</td>\n",
       "      <td>-0.196562</td>\n",
       "      <td>-0.962519</td>\n",
       "      <td>0.232477</td>\n",
       "      <td>-1.194005</td>\n",
       "    </tr>\n",
       "  </tbody>\n",
       "</table>\n",
       "</div>"
      ],
      "text/plain": [
       "          A         B         C         D         E\n",
       "1 -0.475097  0.153538  1.167551  1.870953 -1.030394\n",
       "2  0.191699  0.968959 -0.655110  1.598391 -1.447329\n",
       "3 -2.957880 -2.698595  2.262150  0.630355 -0.387836\n",
       "4 -0.874204 -0.351303  0.791829 -0.139447 -0.206368\n",
       "5 -0.306700 -0.196562 -0.962519  0.232477 -1.194005"
      ]
     },
     "execution_count": 20,
     "metadata": {},
     "output_type": "execute_result"
    }
   ],
   "source": [
    "pd.DataFrame(np.random.randn(5, 5),\n",
    "            columns=['A', 'B', 'C', 'D', 'E'],\n",
    "            index=[1, 2, 3, 4, 5])"
   ]
  },
  {
   "cell_type": "code",
   "execution_count": 21,
   "metadata": {
    "id": "LF5SPGK5z7PA"
   },
   "outputs": [
    {
     "data": {
      "text/plain": [
       "서울특별시    4988571\n",
       "부산광역시    1735805\n",
       "인천광역시    1470404\n",
       "대구광역시    1229139\n",
       "대전광역시     736599\n",
       "광주광역시     734988\n",
       "dtype: int64"
      ]
     },
     "execution_count": 21,
     "metadata": {},
     "output_type": "execute_result"
    }
   ],
   "source": [
    "female_tuple = {'서울특별시' : 4988571,\n",
    "               '부산광역시' : 1735805,\n",
    "               '인천광역시' : 1470404,\n",
    "               '대구광역시' : 1229139,\n",
    "               '대전광역시' : 736599,\n",
    "               '광주광역시' : 734988}\n",
    "female = pd.Series(female_tuple)\n",
    "female"
   ]
  },
  {
   "cell_type": "code",
   "execution_count": 22,
   "metadata": {
    "id": "1XAK9yR91tyy"
   },
   "outputs": [
    {
     "data": {
      "text/plain": [
       "서울광역시    4732275\n",
       "부산광역시    1668618\n",
       "인천광역시    1476813\n",
       "대구광역시    1198815\n",
       "대전광역시     734441\n",
       "광주광역시     720060\n",
       "dtype: int64"
      ]
     },
     "execution_count": 22,
     "metadata": {},
     "output_type": "execute_result"
    }
   ],
   "source": [
    "male_tuple = {'서울광역시' : 4732275,\n",
    "             '부산광역시' : 1668618,\n",
    "             '인천광역시' : 1476813,\n",
    "             '대구광역시' : 1198815,\n",
    "             '대전광역시' : 734441,\n",
    "             '광주광역시' : 720060}\n",
    "male = pd.Series(male_tuple)\n",
    "male"
   ]
  },
  {
   "cell_type": "code",
   "execution_count": 23,
   "metadata": {
    "id": "gpOOL8zh2EI-"
   },
   "outputs": [
    {
     "data": {
      "text/html": [
       "<div>\n",
       "<style scoped>\n",
       "    .dataframe tbody tr th:only-of-type {\n",
       "        vertical-align: middle;\n",
       "    }\n",
       "\n",
       "    .dataframe tbody tr th {\n",
       "        vertical-align: top;\n",
       "    }\n",
       "\n",
       "    .dataframe thead th {\n",
       "        text-align: right;\n",
       "    }\n",
       "</style>\n",
       "<table border=\"1\" class=\"dataframe\">\n",
       "  <thead>\n",
       "    <tr style=\"text-align: right;\">\n",
       "      <th></th>\n",
       "      <th>인구수</th>\n",
       "      <th>남자인구수</th>\n",
       "      <th>여자인구수</th>\n",
       "    </tr>\n",
       "  </thead>\n",
       "  <tbody>\n",
       "    <tr>\n",
       "      <th>광주광역시</th>\n",
       "      <td>1455048.0</td>\n",
       "      <td>720060.0</td>\n",
       "      <td>734988.0</td>\n",
       "    </tr>\n",
       "    <tr>\n",
       "      <th>대구광역시</th>\n",
       "      <td>2427954.0</td>\n",
       "      <td>1198815.0</td>\n",
       "      <td>1229139.0</td>\n",
       "    </tr>\n",
       "    <tr>\n",
       "      <th>대전광역시</th>\n",
       "      <td>1471040.0</td>\n",
       "      <td>734441.0</td>\n",
       "      <td>736599.0</td>\n",
       "    </tr>\n",
       "    <tr>\n",
       "      <th>부산광역시</th>\n",
       "      <td>3404423.0</td>\n",
       "      <td>1668618.0</td>\n",
       "      <td>1735805.0</td>\n",
       "    </tr>\n",
       "    <tr>\n",
       "      <th>서울광역시</th>\n",
       "      <td>NaN</td>\n",
       "      <td>4732275.0</td>\n",
       "      <td>NaN</td>\n",
       "    </tr>\n",
       "    <tr>\n",
       "      <th>서울특별시</th>\n",
       "      <td>9720846.0</td>\n",
       "      <td>NaN</td>\n",
       "      <td>4988571.0</td>\n",
       "    </tr>\n",
       "    <tr>\n",
       "      <th>인천광역시</th>\n",
       "      <td>2947217.0</td>\n",
       "      <td>1476813.0</td>\n",
       "      <td>1470404.0</td>\n",
       "    </tr>\n",
       "  </tbody>\n",
       "</table>\n",
       "</div>"
      ],
      "text/plain": [
       "             인구수      남자인구수      여자인구수\n",
       "광주광역시  1455048.0   720060.0   734988.0\n",
       "대구광역시  2427954.0  1198815.0  1229139.0\n",
       "대전광역시  1471040.0   734441.0   736599.0\n",
       "부산광역시  3404423.0  1668618.0  1735805.0\n",
       "서울광역시        NaN  4732275.0        NaN\n",
       "서울특별시  9720846.0        NaN  4988571.0\n",
       "인천광역시  2947217.0  1476813.0  1470404.0"
      ]
     },
     "execution_count": 23,
     "metadata": {},
     "output_type": "execute_result"
    }
   ],
   "source": [
    "korea_df = pd.DataFrame({'인구수': population,\n",
    "                        '남자인구수': male,\n",
    "                        '여자인구수' : female})\n",
    "korea_df"
   ]
  },
  {
   "cell_type": "code",
   "execution_count": 24,
   "metadata": {
    "id": "9A0OSZFw2TJZ"
   },
   "outputs": [
    {
     "data": {
      "text/plain": [
       "Index(['광주광역시', '대구광역시', '대전광역시', '부산광역시', '서울광역시', '서울특별시', '인천광역시'], dtype='object')"
      ]
     },
     "execution_count": 24,
     "metadata": {},
     "output_type": "execute_result"
    }
   ],
   "source": [
    "korea_df.index"
   ]
  },
  {
   "cell_type": "code",
   "execution_count": 25,
   "metadata": {
    "id": "qCRB-v6w2Xmt"
   },
   "outputs": [
    {
     "data": {
      "text/plain": [
       "Index(['인구수', '남자인구수', '여자인구수'], dtype='object')"
      ]
     },
     "execution_count": 25,
     "metadata": {},
     "output_type": "execute_result"
    }
   ],
   "source": [
    "korea_df.columns"
   ]
  },
  {
   "cell_type": "code",
   "execution_count": 26,
   "metadata": {
    "id": "I86OnLLj2bSf"
   },
   "outputs": [
    {
     "data": {
      "text/plain": [
       "광주광역시     734988.0\n",
       "대구광역시    1229139.0\n",
       "대전광역시     736599.0\n",
       "부산광역시    1735805.0\n",
       "서울광역시          NaN\n",
       "서울특별시    4988571.0\n",
       "인천광역시    1470404.0\n",
       "Name: 여자인구수, dtype: float64"
      ]
     },
     "execution_count": 26,
     "metadata": {},
     "output_type": "execute_result"
    }
   ],
   "source": [
    "korea_df['여자인구수']"
   ]
  },
  {
   "cell_type": "code",
   "execution_count": 27,
   "metadata": {
    "id": "I2Cx16L42gSj"
   },
   "outputs": [
    {
     "data": {
      "text/html": [
       "<div>\n",
       "<style scoped>\n",
       "    .dataframe tbody tr th:only-of-type {\n",
       "        vertical-align: middle;\n",
       "    }\n",
       "\n",
       "    .dataframe tbody tr th {\n",
       "        vertical-align: top;\n",
       "    }\n",
       "\n",
       "    .dataframe thead th {\n",
       "        text-align: right;\n",
       "    }\n",
       "</style>\n",
       "<table border=\"1\" class=\"dataframe\">\n",
       "  <thead>\n",
       "    <tr style=\"text-align: right;\">\n",
       "      <th></th>\n",
       "      <th>인구수</th>\n",
       "      <th>남자인구수</th>\n",
       "      <th>여자인구수</th>\n",
       "    </tr>\n",
       "  </thead>\n",
       "  <tbody>\n",
       "    <tr>\n",
       "      <th>서울특별시</th>\n",
       "      <td>9720846.0</td>\n",
       "      <td>NaN</td>\n",
       "      <td>4988571.0</td>\n",
       "    </tr>\n",
       "    <tr>\n",
       "      <th>인천광역시</th>\n",
       "      <td>2947217.0</td>\n",
       "      <td>1476813.0</td>\n",
       "      <td>1470404.0</td>\n",
       "    </tr>\n",
       "  </tbody>\n",
       "</table>\n",
       "</div>"
      ],
      "text/plain": [
       "             인구수      남자인구수      여자인구수\n",
       "서울특별시  9720846.0        NaN  4988571.0\n",
       "인천광역시  2947217.0  1476813.0  1470404.0"
      ]
     },
     "execution_count": 27,
     "metadata": {},
     "output_type": "execute_result"
    }
   ],
   "source": [
    "korea_df['서울특별시':'인천광역시']"
   ]
  },
  {
   "cell_type": "markdown",
   "metadata": {
    "id": "YLyCNxg45qyN"
   },
   "source": [
    "### Index 객체\n"
   ]
  },
  {
   "cell_type": "code",
   "execution_count": 28,
   "metadata": {
    "id": "sveOOZiM4dDu"
   },
   "outputs": [
    {
     "data": {
      "text/plain": [
       "Int64Index([2, 4, 6, 8, 10], dtype='int64')"
      ]
     },
     "execution_count": 28,
     "metadata": {},
     "output_type": "execute_result"
    }
   ],
   "source": [
    "idx = pd.Index([2, 4, 6, 8, 10])\n",
    "idx"
   ]
  },
  {
   "cell_type": "code",
   "execution_count": 29,
   "metadata": {
    "id": "wq3KUCST5yDP"
   },
   "outputs": [
    {
     "data": {
      "text/plain": [
       "4"
      ]
     },
     "execution_count": 29,
     "metadata": {},
     "output_type": "execute_result"
    }
   ],
   "source": [
    "idx[1]"
   ]
  },
  {
   "cell_type": "code",
   "execution_count": 30,
   "metadata": {
    "id": "4MZR1LaP500X"
   },
   "outputs": [
    {
     "data": {
      "text/plain": [
       "Int64Index([4], dtype='int64')"
      ]
     },
     "execution_count": 30,
     "metadata": {},
     "output_type": "execute_result"
    }
   ],
   "source": [
    "idx[1:2:2]"
   ]
  },
  {
   "cell_type": "code",
   "execution_count": 31,
   "metadata": {
    "id": "NcGmnV_H52uy"
   },
   "outputs": [
    {
     "data": {
      "text/plain": [
       "Int64Index([10], dtype='int64')"
      ]
     },
     "execution_count": 31,
     "metadata": {},
     "output_type": "execute_result"
    }
   ],
   "source": [
    "idx[-1::]"
   ]
  },
  {
   "cell_type": "code",
   "execution_count": 32,
   "metadata": {
    "id": "0mtbfeYY54Jk"
   },
   "outputs": [
    {
     "data": {
      "text/plain": [
       "Int64Index([2, 6, 10], dtype='int64')"
      ]
     },
     "execution_count": 32,
     "metadata": {},
     "output_type": "execute_result"
    }
   ],
   "source": [
    "idx[::2]"
   ]
  },
  {
   "cell_type": "code",
   "execution_count": 33,
   "metadata": {
    "id": "CB_BwH3G57c9"
   },
   "outputs": [
    {
     "name": "stdout",
     "output_type": "stream",
     "text": [
      "Int64Index([2, 4, 6, 8, 10], dtype='int64')\n",
      "5\n",
      "(5,)\n",
      "1\n",
      "int64\n"
     ]
    }
   ],
   "source": [
    "print(idx)\n",
    "print(idx.size)\n",
    "print(idx.shape)\n",
    "print(idx.ndim)\n",
    "print(idx.dtype)"
   ]
  },
  {
   "cell_type": "markdown",
   "metadata": {
    "id": "M2xlGdrok22S"
   },
   "source": [
    "#### Index 연산"
   ]
  },
  {
   "cell_type": "markdown",
   "metadata": {
    "id": "kd8eQIoYHoaS"
   },
   "source": [
    "\n",
    "\n",
    "---\n",
    "\n"
   ]
  },
  {
   "cell_type": "code",
   "execution_count": 34,
   "metadata": {
    "id": "e2yx1bpE6B3_"
   },
   "outputs": [
    {
     "name": "stdout",
     "output_type": "stream",
     "text": [
      "Int64Index([1, 2, 4, 6, 8, 2, 4, 5, 6, 7], dtype='int64')\n",
      "Int64Index([1, 8], dtype='int64')\n",
      "Int64Index([-1, -2, -1, 0, 1], dtype='int64')\n",
      "Int64Index([2, 4, 6], dtype='int64')\n",
      "Int64Index([2, 4, 6], dtype='int64')\n",
      "Int64Index([1, 2, 4, 5, 6, 7, 8], dtype='int64')\n",
      "Int64Index([2, 4, 5, 6, 7, 8, 10], dtype='int64')\n",
      "Int64Index([2, 4, 6, 8], dtype='int64')\n",
      "Int64Index([2, 4, 6, 8], dtype='int64')\n",
      "Int64Index([1, 5, 7, 8], dtype='int64')\n"
     ]
    },
    {
     "name": "stderr",
     "output_type": "stream",
     "text": [
      "<ipython-input-34-1549881258cf>:7: FutureWarning: Index.__and__ operating as a set operation is deprecated, in the future this will be a logical operation matching Series.__and__.  Use index.intersection(other) instead\n",
      "  print(idx1 & idx2)\n",
      "<ipython-input-34-1549881258cf>:9: FutureWarning: Index.__or__ operating as a set operation is deprecated, in the future this will be a logical operation matching Series.__or__.  Use index.union(other) instead\n",
      "  print(idx | idx2)\n",
      "<ipython-input-34-1549881258cf>:12: FutureWarning: Index.__xor__ operating as a set operation is deprecated, in the future this will be a logical operation matching Series.__xor__.  Use index.symmetric_difference(other) instead\n",
      "  print(idx1 ^ idx2)\n"
     ]
    }
   ],
   "source": [
    "idx1 = pd.Index([1, 2, 4, 6, 8])\n",
    "idx2 = pd.Index([2, 4, 5, 6, 7])\n",
    "print(idx1.append(idx2))\n",
    "print(idx1.difference(idx2))\n",
    "print(idx1 - idx2)\n",
    "print(idx1.intersection(idx2))\n",
    "print(idx1 & idx2)\n",
    "print(idx1.union(idx2))\n",
    "print(idx | idx2)\n",
    "print(idx1.delete(0))\n",
    "print(idx1.drop(1))\n",
    "print(idx1 ^ idx2)"
   ]
  },
  {
   "cell_type": "markdown",
   "metadata": {
    "id": "KZLKu-HM6yEm"
   },
   "source": [
    "## 인덱싱(Indexing)"
   ]
  },
  {
   "cell_type": "code",
   "execution_count": 35,
   "metadata": {
    "id": "2kLDyvXi60-A"
   },
   "outputs": [
    {
     "data": {
      "text/plain": [
       "a    0.00\n",
       "b    0.25\n",
       "c    0.50\n",
       "d    0.75\n",
       "e    1.00\n",
       "dtype: float64"
      ]
     },
     "execution_count": 35,
     "metadata": {},
     "output_type": "execute_result"
    }
   ],
   "source": [
    "s = pd.Series([0, 0.25, 0.5, 0.75, 1.0],\n",
    "             index=['a', 'b', 'c', 'd', 'e'])\n",
    "s"
   ]
  },
  {
   "cell_type": "code",
   "execution_count": 36,
   "metadata": {
    "id": "5oXPBg2kHqMH"
   },
   "outputs": [
    {
     "data": {
      "text/plain": [
       "0.25"
      ]
     },
     "execution_count": 36,
     "metadata": {},
     "output_type": "execute_result"
    }
   ],
   "source": [
    "s['b']"
   ]
  },
  {
   "cell_type": "code",
   "execution_count": 37,
   "metadata": {
    "id": "msZ7pmajIgiR"
   },
   "outputs": [
    {
     "data": {
      "text/plain": [
       "True"
      ]
     },
     "execution_count": 37,
     "metadata": {},
     "output_type": "execute_result"
    }
   ],
   "source": [
    "'b' in s"
   ]
  },
  {
   "cell_type": "code",
   "execution_count": 38,
   "metadata": {
    "id": "lyi7cVYbIjPF"
   },
   "outputs": [
    {
     "data": {
      "text/plain": [
       "Index(['a', 'b', 'c', 'd', 'e'], dtype='object')"
      ]
     },
     "execution_count": 38,
     "metadata": {},
     "output_type": "execute_result"
    }
   ],
   "source": [
    "s.keys()"
   ]
  },
  {
   "cell_type": "code",
   "execution_count": 39,
   "metadata": {
    "id": "AQc6QXxBIj9m"
   },
   "outputs": [
    {
     "data": {
      "text/plain": [
       "[('a', 0.0), ('b', 0.25), ('c', 0.5), ('d', 0.75), ('e', 1.0)]"
      ]
     },
     "execution_count": 39,
     "metadata": {},
     "output_type": "execute_result"
    }
   ],
   "source": [
    "list(s.items())"
   ]
  },
  {
   "cell_type": "code",
   "execution_count": 40,
   "metadata": {
    "id": "ZwWy7NqlImoZ"
   },
   "outputs": [
    {
     "data": {
      "text/plain": [
       "a    0.00\n",
       "b    0.25\n",
       "c    0.50\n",
       "d    0.75\n",
       "e    1.00\n",
       "f    1.25\n",
       "dtype: float64"
      ]
     },
     "execution_count": 40,
     "metadata": {},
     "output_type": "execute_result"
    }
   ],
   "source": [
    "s['f'] = 1.25\n",
    "s"
   ]
  },
  {
   "cell_type": "code",
   "execution_count": 41,
   "metadata": {
    "id": "r_q7ScSMIu4C"
   },
   "outputs": [
    {
     "data": {
      "text/plain": [
       "a    0.00\n",
       "b    0.25\n",
       "c    0.50\n",
       "d    0.75\n",
       "dtype: float64"
      ]
     },
     "execution_count": 41,
     "metadata": {},
     "output_type": "execute_result"
    }
   ],
   "source": [
    "s['a' : 'd']"
   ]
  },
  {
   "cell_type": "code",
   "execution_count": 42,
   "metadata": {
    "id": "1EPBjuijIzhX"
   },
   "outputs": [
    {
     "data": {
      "text/plain": [
       "a    0.00\n",
       "b    0.25\n",
       "c    0.50\n",
       "d    0.75\n",
       "dtype: float64"
      ]
     },
     "execution_count": 42,
     "metadata": {},
     "output_type": "execute_result"
    }
   ],
   "source": [
    "s[0:4]"
   ]
  },
  {
   "cell_type": "code",
   "execution_count": 43,
   "metadata": {
    "id": "3O4Cm0fXI1sZ"
   },
   "outputs": [
    {
     "data": {
      "text/plain": [
       "c    0.50\n",
       "d    0.75\n",
       "dtype: float64"
      ]
     },
     "execution_count": 43,
     "metadata": {},
     "output_type": "execute_result"
    }
   ],
   "source": [
    "s[(s>0.4) & (s<0.8)]"
   ]
  },
  {
   "cell_type": "code",
   "execution_count": 44,
   "metadata": {
    "id": "i9DDqXO0I9wo"
   },
   "outputs": [
    {
     "data": {
      "text/plain": [
       "a    0.0\n",
       "c    0.5\n",
       "e    1.0\n",
       "dtype: float64"
      ]
     },
     "execution_count": 44,
     "metadata": {},
     "output_type": "execute_result"
    }
   ],
   "source": [
    "s[['a','c','e']]"
   ]
  },
  {
   "cell_type": "markdown",
   "metadata": {
    "id": "NoRP6_bPrViW"
   },
   "source": [
    "### Series 인덱싱"
   ]
  },
  {
   "cell_type": "code",
   "execution_count": 45,
   "metadata": {
    "id": "lf8mRyNeI_b_"
   },
   "outputs": [
    {
     "data": {
      "text/plain": [
       "1    a\n",
       "3    b\n",
       "5    c\n",
       "7    d\n",
       "9    e\n",
       "dtype: object"
      ]
     },
     "execution_count": 45,
     "metadata": {},
     "output_type": "execute_result"
    }
   ],
   "source": [
    "s = pd.Series(['a','b','c','d','e'],\n",
    "             index=[1,3,5,7,9])\n",
    "s"
   ]
  },
  {
   "cell_type": "code",
   "execution_count": 46,
   "metadata": {
    "id": "5H1JoKlKLjsw"
   },
   "outputs": [
    {
     "data": {
      "text/plain": [
       "'a'"
      ]
     },
     "execution_count": 46,
     "metadata": {},
     "output_type": "execute_result"
    }
   ],
   "source": [
    "s[1]"
   ]
  },
  {
   "cell_type": "code",
   "execution_count": 47,
   "metadata": {
    "id": "hVSHrsMzLln2"
   },
   "outputs": [
    {
     "data": {
      "text/plain": [
       "5    c\n",
       "7    d\n",
       "dtype: object"
      ]
     },
     "execution_count": 47,
     "metadata": {},
     "output_type": "execute_result"
    }
   ],
   "source": [
    "s[2:4]"
   ]
  },
  {
   "cell_type": "code",
   "execution_count": 48,
   "metadata": {
    "id": "qtpxKX78Lmlm"
   },
   "outputs": [
    {
     "data": {
      "text/plain": [
       "'b'"
      ]
     },
     "execution_count": 48,
     "metadata": {},
     "output_type": "execute_result"
    }
   ],
   "source": [
    "s.iloc[1]"
   ]
  },
  {
   "cell_type": "code",
   "execution_count": 49,
   "metadata": {},
   "outputs": [
    {
     "data": {
      "text/plain": [
       "5    c\n",
       "7    d\n",
       "dtype: object"
      ]
     },
     "execution_count": 49,
     "metadata": {},
     "output_type": "execute_result"
    }
   ],
   "source": [
    "s.iloc[2:4]"
   ]
  },
  {
   "cell_type": "code",
   "execution_count": 50,
   "metadata": {
    "id": "gy5ShWM4LqMU"
   },
   "outputs": [
    {
     "data": {
      "text/plain": [
       "0    NaN\n",
       "1      a\n",
       "2    NaN\n",
       "3      b\n",
       "4    NaN\n",
       "5      c\n",
       "6    NaN\n",
       "7      d\n",
       "8    NaN\n",
       "9      e\n",
       "dtype: object"
      ]
     },
     "execution_count": 50,
     "metadata": {},
     "output_type": "execute_result"
    }
   ],
   "source": [
    "s.reindex(range(10))"
   ]
  },
  {
   "cell_type": "code",
   "execution_count": 51,
   "metadata": {
    "id": "utldkXViqAfQ"
   },
   "outputs": [
    {
     "data": {
      "text/plain": [
       "0    a\n",
       "1    a\n",
       "2    b\n",
       "3    b\n",
       "4    c\n",
       "5    c\n",
       "6    d\n",
       "7    d\n",
       "8    e\n",
       "9    e\n",
       "dtype: object"
      ]
     },
     "execution_count": 51,
     "metadata": {},
     "output_type": "execute_result"
    }
   ],
   "source": [
    "s.reindex(range(10), method='bfill')"
   ]
  },
  {
   "cell_type": "markdown",
   "metadata": {
    "id": "aOLEal9Hrli0"
   },
   "source": [
    "### DataFrame 인덱싱\n"
   ]
  },
  {
   "cell_type": "code",
   "execution_count": 52,
   "metadata": {
    "id": "77aifW07LsTZ"
   },
   "outputs": [
    {
     "data": {
      "text/html": [
       "<div>\n",
       "<style scoped>\n",
       "    .dataframe tbody tr th:only-of-type {\n",
       "        vertical-align: middle;\n",
       "    }\n",
       "\n",
       "    .dataframe tbody tr th {\n",
       "        vertical-align: top;\n",
       "    }\n",
       "\n",
       "    .dataframe thead th {\n",
       "        text-align: right;\n",
       "    }\n",
       "</style>\n",
       "<table border=\"1\" class=\"dataframe\">\n",
       "  <thead>\n",
       "    <tr style=\"text-align: right;\">\n",
       "      <th></th>\n",
       "      <th>인구수</th>\n",
       "      <th>남자인구수</th>\n",
       "      <th>여자인구수</th>\n",
       "    </tr>\n",
       "  </thead>\n",
       "  <tbody>\n",
       "    <tr>\n",
       "      <th>광주광역시</th>\n",
       "      <td>1455048.0</td>\n",
       "      <td>720060.0</td>\n",
       "      <td>734988.0</td>\n",
       "    </tr>\n",
       "    <tr>\n",
       "      <th>대구광역시</th>\n",
       "      <td>2427954.0</td>\n",
       "      <td>1198815.0</td>\n",
       "      <td>1229139.0</td>\n",
       "    </tr>\n",
       "    <tr>\n",
       "      <th>대전광역시</th>\n",
       "      <td>1471040.0</td>\n",
       "      <td>734441.0</td>\n",
       "      <td>736599.0</td>\n",
       "    </tr>\n",
       "    <tr>\n",
       "      <th>부산광역시</th>\n",
       "      <td>3404423.0</td>\n",
       "      <td>1668618.0</td>\n",
       "      <td>1735805.0</td>\n",
       "    </tr>\n",
       "    <tr>\n",
       "      <th>서울광역시</th>\n",
       "      <td>NaN</td>\n",
       "      <td>4732275.0</td>\n",
       "      <td>NaN</td>\n",
       "    </tr>\n",
       "    <tr>\n",
       "      <th>서울특별시</th>\n",
       "      <td>9720846.0</td>\n",
       "      <td>NaN</td>\n",
       "      <td>4988571.0</td>\n",
       "    </tr>\n",
       "    <tr>\n",
       "      <th>인천광역시</th>\n",
       "      <td>2947217.0</td>\n",
       "      <td>1476813.0</td>\n",
       "      <td>1470404.0</td>\n",
       "    </tr>\n",
       "  </tbody>\n",
       "</table>\n",
       "</div>"
      ],
      "text/plain": [
       "             인구수      남자인구수      여자인구수\n",
       "광주광역시  1455048.0   720060.0   734988.0\n",
       "대구광역시  2427954.0  1198815.0  1229139.0\n",
       "대전광역시  1471040.0   734441.0   736599.0\n",
       "부산광역시  3404423.0  1668618.0  1735805.0\n",
       "서울광역시        NaN  4732275.0        NaN\n",
       "서울특별시  9720846.0        NaN  4988571.0\n",
       "인천광역시  2947217.0  1476813.0  1470404.0"
      ]
     },
     "execution_count": 52,
     "metadata": {},
     "output_type": "execute_result"
    }
   ],
   "source": [
    "korea_df"
   ]
  },
  {
   "cell_type": "code",
   "execution_count": 53,
   "metadata": {
    "id": "Gqv2LvUsL_hy"
   },
   "outputs": [
    {
     "data": {
      "text/plain": [
       "광주광역시     720060.0\n",
       "대구광역시    1198815.0\n",
       "대전광역시     734441.0\n",
       "부산광역시    1668618.0\n",
       "서울광역시    4732275.0\n",
       "서울특별시          NaN\n",
       "인천광역시    1476813.0\n",
       "Name: 남자인구수, dtype: float64"
      ]
     },
     "execution_count": 53,
     "metadata": {},
     "output_type": "execute_result"
    }
   ],
   "source": [
    "korea_df['남자인구수']"
   ]
  },
  {
   "cell_type": "code",
   "execution_count": 54,
   "metadata": {
    "id": "ASLLVKjxOCaq"
   },
   "outputs": [
    {
     "data": {
      "text/plain": [
       "광주광역시     720060.0\n",
       "대구광역시    1198815.0\n",
       "대전광역시     734441.0\n",
       "부산광역시    1668618.0\n",
       "서울광역시    4732275.0\n",
       "서울특별시          NaN\n",
       "인천광역시    1476813.0\n",
       "Name: 남자인구수, dtype: float64"
      ]
     },
     "execution_count": 54,
     "metadata": {},
     "output_type": "execute_result"
    }
   ],
   "source": [
    "korea_df.남자인구수"
   ]
  },
  {
   "cell_type": "code",
   "execution_count": 55,
   "metadata": {
    "id": "HwAFfjLBOEp5"
   },
   "outputs": [
    {
     "data": {
      "text/plain": [
       "광주광역시     734988.0\n",
       "대구광역시    1229139.0\n",
       "대전광역시     736599.0\n",
       "부산광역시    1735805.0\n",
       "서울광역시          NaN\n",
       "서울특별시    4988571.0\n",
       "인천광역시    1470404.0\n",
       "Name: 여자인구수, dtype: float64"
      ]
     },
     "execution_count": 55,
     "metadata": {},
     "output_type": "execute_result"
    }
   ],
   "source": [
    "korea_df.여자인구수"
   ]
  },
  {
   "cell_type": "code",
   "execution_count": 56,
   "metadata": {
    "id": "pECRBE1iOJqe"
   },
   "outputs": [],
   "source": [
    "korea_df['남녀비율'] = (korea_df['남자인구수'] * 100 / korea_df['여자인구수'])"
   ]
  },
  {
   "cell_type": "code",
   "execution_count": 57,
   "metadata": {
    "id": "MYpzQMFiOrGC"
   },
   "outputs": [
    {
     "data": {
      "text/plain": [
       "광주광역시     97.968946\n",
       "대구광역시     97.532907\n",
       "대전광역시     99.707032\n",
       "부산광역시     96.129346\n",
       "서울광역시           NaN\n",
       "서울특별시           NaN\n",
       "인천광역시    100.435867\n",
       "Name: 남녀비율, dtype: float64"
      ]
     },
     "execution_count": 57,
     "metadata": {},
     "output_type": "execute_result"
    }
   ],
   "source": [
    "korea_df.남녀비율"
   ]
  },
  {
   "cell_type": "code",
   "execution_count": 58,
   "metadata": {
    "id": "wVpY62uBOs9E"
   },
   "outputs": [
    {
     "data": {
      "text/plain": [
       "array([[1.45504800e+06, 7.20060000e+05, 7.34988000e+05, 9.79689464e+01],\n",
       "       [2.42795400e+06, 1.19881500e+06, 1.22913900e+06, 9.75329072e+01],\n",
       "       [1.47104000e+06, 7.34441000e+05, 7.36599000e+05, 9.97070319e+01],\n",
       "       [3.40442300e+06, 1.66861800e+06, 1.73580500e+06, 9.61293463e+01],\n",
       "       [           nan, 4.73227500e+06,            nan,            nan],\n",
       "       [9.72084600e+06,            nan, 4.98857100e+06,            nan],\n",
       "       [2.94721700e+06, 1.47681300e+06, 1.47040400e+06, 1.00435867e+02]])"
      ]
     },
     "execution_count": 58,
     "metadata": {},
     "output_type": "execute_result"
    }
   ],
   "source": [
    "korea_df.values"
   ]
  },
  {
   "cell_type": "code",
   "execution_count": 59,
   "metadata": {
    "id": "RRce4iuBO30i"
   },
   "outputs": [
    {
     "data": {
      "text/html": [
       "<div>\n",
       "<style scoped>\n",
       "    .dataframe tbody tr th:only-of-type {\n",
       "        vertical-align: middle;\n",
       "    }\n",
       "\n",
       "    .dataframe tbody tr th {\n",
       "        vertical-align: top;\n",
       "    }\n",
       "\n",
       "    .dataframe thead th {\n",
       "        text-align: right;\n",
       "    }\n",
       "</style>\n",
       "<table border=\"1\" class=\"dataframe\">\n",
       "  <thead>\n",
       "    <tr style=\"text-align: right;\">\n",
       "      <th></th>\n",
       "      <th>광주광역시</th>\n",
       "      <th>대구광역시</th>\n",
       "      <th>대전광역시</th>\n",
       "      <th>부산광역시</th>\n",
       "      <th>서울광역시</th>\n",
       "      <th>서울특별시</th>\n",
       "      <th>인천광역시</th>\n",
       "    </tr>\n",
       "  </thead>\n",
       "  <tbody>\n",
       "    <tr>\n",
       "      <th>인구수</th>\n",
       "      <td>1.455048e+06</td>\n",
       "      <td>2.427954e+06</td>\n",
       "      <td>1.471040e+06</td>\n",
       "      <td>3.404423e+06</td>\n",
       "      <td>NaN</td>\n",
       "      <td>9720846.0</td>\n",
       "      <td>2.947217e+06</td>\n",
       "    </tr>\n",
       "    <tr>\n",
       "      <th>남자인구수</th>\n",
       "      <td>7.200600e+05</td>\n",
       "      <td>1.198815e+06</td>\n",
       "      <td>7.344410e+05</td>\n",
       "      <td>1.668618e+06</td>\n",
       "      <td>4732275.0</td>\n",
       "      <td>NaN</td>\n",
       "      <td>1.476813e+06</td>\n",
       "    </tr>\n",
       "    <tr>\n",
       "      <th>여자인구수</th>\n",
       "      <td>7.349880e+05</td>\n",
       "      <td>1.229139e+06</td>\n",
       "      <td>7.365990e+05</td>\n",
       "      <td>1.735805e+06</td>\n",
       "      <td>NaN</td>\n",
       "      <td>4988571.0</td>\n",
       "      <td>1.470404e+06</td>\n",
       "    </tr>\n",
       "    <tr>\n",
       "      <th>남녀비율</th>\n",
       "      <td>9.796895e+01</td>\n",
       "      <td>9.753291e+01</td>\n",
       "      <td>9.970703e+01</td>\n",
       "      <td>9.612935e+01</td>\n",
       "      <td>NaN</td>\n",
       "      <td>NaN</td>\n",
       "      <td>1.004359e+02</td>\n",
       "    </tr>\n",
       "  </tbody>\n",
       "</table>\n",
       "</div>"
      ],
      "text/plain": [
       "              광주광역시         대구광역시         대전광역시         부산광역시      서울광역시  \\\n",
       "인구수    1.455048e+06  2.427954e+06  1.471040e+06  3.404423e+06        NaN   \n",
       "남자인구수  7.200600e+05  1.198815e+06  7.344410e+05  1.668618e+06  4732275.0   \n",
       "여자인구수  7.349880e+05  1.229139e+06  7.365990e+05  1.735805e+06        NaN   \n",
       "남녀비율   9.796895e+01  9.753291e+01  9.970703e+01  9.612935e+01        NaN   \n",
       "\n",
       "           서울특별시         인천광역시  \n",
       "인구수    9720846.0  2.947217e+06  \n",
       "남자인구수        NaN  1.476813e+06  \n",
       "여자인구수  4988571.0  1.470404e+06  \n",
       "남녀비율         NaN  1.004359e+02  "
      ]
     },
     "execution_count": 59,
     "metadata": {},
     "output_type": "execute_result"
    }
   ],
   "source": [
    "korea_df.T"
   ]
  },
  {
   "cell_type": "code",
   "execution_count": 60,
   "metadata": {
    "id": "4kgf30KQO_s3"
   },
   "outputs": [
    {
     "data": {
      "text/plain": [
       "array([1.45504800e+06, 7.20060000e+05, 7.34988000e+05, 9.79689464e+01])"
      ]
     },
     "execution_count": 60,
     "metadata": {},
     "output_type": "execute_result"
    }
   ],
   "source": [
    "korea_df.values[0]"
   ]
  },
  {
   "cell_type": "code",
   "execution_count": 61,
   "metadata": {
    "id": "QmM75FOUPBgH"
   },
   "outputs": [
    {
     "data": {
      "text/plain": [
       "광주광역시    1455048.0\n",
       "대구광역시    2427954.0\n",
       "대전광역시    1471040.0\n",
       "부산광역시    3404423.0\n",
       "서울광역시          NaN\n",
       "서울특별시    9720846.0\n",
       "인천광역시    2947217.0\n",
       "Name: 인구수, dtype: float64"
      ]
     },
     "execution_count": 61,
     "metadata": {},
     "output_type": "execute_result"
    }
   ],
   "source": [
    "korea_df['인구수']"
   ]
  },
  {
   "cell_type": "code",
   "execution_count": 62,
   "metadata": {
    "id": "TdhfKQSgPERt"
   },
   "outputs": [
    {
     "data": {
      "text/html": [
       "<div>\n",
       "<style scoped>\n",
       "    .dataframe tbody tr th:only-of-type {\n",
       "        vertical-align: middle;\n",
       "    }\n",
       "\n",
       "    .dataframe tbody tr th {\n",
       "        vertical-align: top;\n",
       "    }\n",
       "\n",
       "    .dataframe thead th {\n",
       "        text-align: right;\n",
       "    }\n",
       "</style>\n",
       "<table border=\"1\" class=\"dataframe\">\n",
       "  <thead>\n",
       "    <tr style=\"text-align: right;\">\n",
       "      <th></th>\n",
       "      <th>인구수</th>\n",
       "      <th>남자인구수</th>\n",
       "    </tr>\n",
       "  </thead>\n",
       "  <tbody>\n",
       "    <tr>\n",
       "      <th>광주광역시</th>\n",
       "      <td>1455048.0</td>\n",
       "      <td>720060.0</td>\n",
       "    </tr>\n",
       "    <tr>\n",
       "      <th>대구광역시</th>\n",
       "      <td>2427954.0</td>\n",
       "      <td>1198815.0</td>\n",
       "    </tr>\n",
       "    <tr>\n",
       "      <th>대전광역시</th>\n",
       "      <td>1471040.0</td>\n",
       "      <td>734441.0</td>\n",
       "    </tr>\n",
       "    <tr>\n",
       "      <th>부산광역시</th>\n",
       "      <td>3404423.0</td>\n",
       "      <td>1668618.0</td>\n",
       "    </tr>\n",
       "    <tr>\n",
       "      <th>서울광역시</th>\n",
       "      <td>NaN</td>\n",
       "      <td>4732275.0</td>\n",
       "    </tr>\n",
       "    <tr>\n",
       "      <th>서울특별시</th>\n",
       "      <td>9720846.0</td>\n",
       "      <td>NaN</td>\n",
       "    </tr>\n",
       "    <tr>\n",
       "      <th>인천광역시</th>\n",
       "      <td>2947217.0</td>\n",
       "      <td>1476813.0</td>\n",
       "    </tr>\n",
       "  </tbody>\n",
       "</table>\n",
       "</div>"
      ],
      "text/plain": [
       "             인구수      남자인구수\n",
       "광주광역시  1455048.0   720060.0\n",
       "대구광역시  2427954.0  1198815.0\n",
       "대전광역시  1471040.0   734441.0\n",
       "부산광역시  3404423.0  1668618.0\n",
       "서울광역시        NaN  4732275.0\n",
       "서울특별시  9720846.0        NaN\n",
       "인천광역시  2947217.0  1476813.0"
      ]
     },
     "execution_count": 62,
     "metadata": {},
     "output_type": "execute_result"
    }
   ],
   "source": [
    "korea_df.loc[:'인천광역시', :'남자인구수']"
   ]
  },
  {
   "cell_type": "code",
   "execution_count": 63,
   "metadata": {
    "id": "UKbn4mbdPGqb"
   },
   "outputs": [
    {
     "data": {
      "text/html": [
       "<div>\n",
       "<style scoped>\n",
       "    .dataframe tbody tr th:only-of-type {\n",
       "        vertical-align: middle;\n",
       "    }\n",
       "\n",
       "    .dataframe tbody tr th {\n",
       "        vertical-align: top;\n",
       "    }\n",
       "\n",
       "    .dataframe thead th {\n",
       "        text-align: right;\n",
       "    }\n",
       "</style>\n",
       "<table border=\"1\" class=\"dataframe\">\n",
       "  <thead>\n",
       "    <tr style=\"text-align: right;\">\n",
       "      <th></th>\n",
       "      <th>인구수</th>\n",
       "      <th>남자인구수</th>\n",
       "      <th>여자인구수</th>\n",
       "      <th>남녀비율</th>\n",
       "    </tr>\n",
       "  </thead>\n",
       "  <tbody>\n",
       "    <tr>\n",
       "      <th>대구광역시</th>\n",
       "      <td>2427954.0</td>\n",
       "      <td>1198815.0</td>\n",
       "      <td>1229139.0</td>\n",
       "      <td>97.532907</td>\n",
       "    </tr>\n",
       "    <tr>\n",
       "      <th>부산광역시</th>\n",
       "      <td>3404423.0</td>\n",
       "      <td>1668618.0</td>\n",
       "      <td>1735805.0</td>\n",
       "      <td>96.129346</td>\n",
       "    </tr>\n",
       "    <tr>\n",
       "      <th>서울특별시</th>\n",
       "      <td>9720846.0</td>\n",
       "      <td>NaN</td>\n",
       "      <td>4988571.0</td>\n",
       "      <td>NaN</td>\n",
       "    </tr>\n",
       "    <tr>\n",
       "      <th>인천광역시</th>\n",
       "      <td>2947217.0</td>\n",
       "      <td>1476813.0</td>\n",
       "      <td>1470404.0</td>\n",
       "      <td>100.435867</td>\n",
       "    </tr>\n",
       "  </tbody>\n",
       "</table>\n",
       "</div>"
      ],
      "text/plain": [
       "             인구수      남자인구수      여자인구수        남녀비율\n",
       "대구광역시  2427954.0  1198815.0  1229139.0   97.532907\n",
       "부산광역시  3404423.0  1668618.0  1735805.0   96.129346\n",
       "서울특별시  9720846.0        NaN  4988571.0         NaN\n",
       "인천광역시  2947217.0  1476813.0  1470404.0  100.435867"
      ]
     },
     "execution_count": 63,
     "metadata": {},
     "output_type": "execute_result"
    }
   ],
   "source": [
    "korea_df.loc[(korea_df.여자인구수 > 1000000)]"
   ]
  },
  {
   "cell_type": "code",
   "execution_count": 64,
   "metadata": {
    "id": "QMK8qC5YQRUc"
   },
   "outputs": [
    {
     "data": {
      "text/html": [
       "<div>\n",
       "<style scoped>\n",
       "    .dataframe tbody tr th:only-of-type {\n",
       "        vertical-align: middle;\n",
       "    }\n",
       "\n",
       "    .dataframe tbody tr th {\n",
       "        vertical-align: top;\n",
       "    }\n",
       "\n",
       "    .dataframe thead th {\n",
       "        text-align: right;\n",
       "    }\n",
       "</style>\n",
       "<table border=\"1\" class=\"dataframe\">\n",
       "  <thead>\n",
       "    <tr style=\"text-align: right;\">\n",
       "      <th></th>\n",
       "      <th>인구수</th>\n",
       "      <th>남자인구수</th>\n",
       "      <th>여자인구수</th>\n",
       "      <th>남녀비율</th>\n",
       "    </tr>\n",
       "  </thead>\n",
       "  <tbody>\n",
       "    <tr>\n",
       "      <th>대구광역시</th>\n",
       "      <td>2427954.0</td>\n",
       "      <td>1198815.0</td>\n",
       "      <td>1229139.0</td>\n",
       "      <td>97.532907</td>\n",
       "    </tr>\n",
       "    <tr>\n",
       "      <th>부산광역시</th>\n",
       "      <td>3404423.0</td>\n",
       "      <td>1668618.0</td>\n",
       "      <td>1735805.0</td>\n",
       "      <td>96.129346</td>\n",
       "    </tr>\n",
       "    <tr>\n",
       "      <th>서울특별시</th>\n",
       "      <td>9720846.0</td>\n",
       "      <td>NaN</td>\n",
       "      <td>4988571.0</td>\n",
       "      <td>NaN</td>\n",
       "    </tr>\n",
       "    <tr>\n",
       "      <th>인천광역시</th>\n",
       "      <td>2947217.0</td>\n",
       "      <td>1476813.0</td>\n",
       "      <td>1470404.0</td>\n",
       "      <td>100.435867</td>\n",
       "    </tr>\n",
       "  </tbody>\n",
       "</table>\n",
       "</div>"
      ],
      "text/plain": [
       "             인구수      남자인구수      여자인구수        남녀비율\n",
       "대구광역시  2427954.0  1198815.0  1229139.0   97.532907\n",
       "부산광역시  3404423.0  1668618.0  1735805.0   96.129346\n",
       "서울특별시  9720846.0        NaN  4988571.0         NaN\n",
       "인천광역시  2947217.0  1476813.0  1470404.0  100.435867"
      ]
     },
     "execution_count": 64,
     "metadata": {},
     "output_type": "execute_result"
    }
   ],
   "source": [
    "korea_df.loc[(korea_df.인구수 > 2000000)]"
   ]
  },
  {
   "cell_type": "code",
   "execution_count": 65,
   "metadata": {
    "id": "sKV0f9f5Yfxz"
   },
   "outputs": [
    {
     "data": {
      "text/html": [
       "<div>\n",
       "<style scoped>\n",
       "    .dataframe tbody tr th:only-of-type {\n",
       "        vertical-align: middle;\n",
       "    }\n",
       "\n",
       "    .dataframe tbody tr th {\n",
       "        vertical-align: top;\n",
       "    }\n",
       "\n",
       "    .dataframe thead th {\n",
       "        text-align: right;\n",
       "    }\n",
       "</style>\n",
       "<table border=\"1\" class=\"dataframe\">\n",
       "  <thead>\n",
       "    <tr style=\"text-align: right;\">\n",
       "      <th></th>\n",
       "      <th>인구수</th>\n",
       "      <th>남자인구수</th>\n",
       "      <th>여자인구수</th>\n",
       "      <th>남녀비율</th>\n",
       "    </tr>\n",
       "  </thead>\n",
       "  <tbody>\n",
       "    <tr>\n",
       "      <th>부산광역시</th>\n",
       "      <td>3404423.0</td>\n",
       "      <td>1668618.0</td>\n",
       "      <td>1735805.0</td>\n",
       "      <td>96.129346</td>\n",
       "    </tr>\n",
       "    <tr>\n",
       "      <th>서울특별시</th>\n",
       "      <td>9720846.0</td>\n",
       "      <td>NaN</td>\n",
       "      <td>4988571.0</td>\n",
       "      <td>NaN</td>\n",
       "    </tr>\n",
       "    <tr>\n",
       "      <th>인천광역시</th>\n",
       "      <td>2947217.0</td>\n",
       "      <td>1476813.0</td>\n",
       "      <td>1470404.0</td>\n",
       "      <td>100.435867</td>\n",
       "    </tr>\n",
       "  </tbody>\n",
       "</table>\n",
       "</div>"
      ],
      "text/plain": [
       "             인구수      남자인구수      여자인구수        남녀비율\n",
       "부산광역시  3404423.0  1668618.0  1735805.0   96.129346\n",
       "서울특별시  9720846.0        NaN  4988571.0         NaN\n",
       "인천광역시  2947217.0  1476813.0  1470404.0  100.435867"
      ]
     },
     "execution_count": 65,
     "metadata": {},
     "output_type": "execute_result"
    }
   ],
   "source": [
    "korea_df.loc[(korea_df.인구수 > 2500000)]"
   ]
  },
  {
   "cell_type": "code",
   "execution_count": 66,
   "metadata": {
    "id": "XYAGQU5IP7Md"
   },
   "outputs": [
    {
     "data": {
      "text/html": [
       "<div>\n",
       "<style scoped>\n",
       "    .dataframe tbody tr th:only-of-type {\n",
       "        vertical-align: middle;\n",
       "    }\n",
       "\n",
       "    .dataframe tbody tr th {\n",
       "        vertical-align: top;\n",
       "    }\n",
       "\n",
       "    .dataframe thead th {\n",
       "        text-align: right;\n",
       "    }\n",
       "</style>\n",
       "<table border=\"1\" class=\"dataframe\">\n",
       "  <thead>\n",
       "    <tr style=\"text-align: right;\">\n",
       "      <th></th>\n",
       "      <th>인구수</th>\n",
       "      <th>남자인구수</th>\n",
       "      <th>여자인구수</th>\n",
       "      <th>남녀비율</th>\n",
       "    </tr>\n",
       "  </thead>\n",
       "  <tbody>\n",
       "    <tr>\n",
       "      <th>인천광역시</th>\n",
       "      <td>2947217.0</td>\n",
       "      <td>1476813.0</td>\n",
       "      <td>1470404.0</td>\n",
       "      <td>100.435867</td>\n",
       "    </tr>\n",
       "  </tbody>\n",
       "</table>\n",
       "</div>"
      ],
      "text/plain": [
       "             인구수      남자인구수      여자인구수        남녀비율\n",
       "인천광역시  2947217.0  1476813.0  1470404.0  100.435867"
      ]
     },
     "execution_count": 66,
     "metadata": {},
     "output_type": "execute_result"
    }
   ],
   "source": [
    "korea_df.loc[korea_df.남녀비율 > 100]"
   ]
  },
  {
   "cell_type": "code",
   "execution_count": 67,
   "metadata": {
    "id": "s752djzTPNiY"
   },
   "outputs": [
    {
     "data": {
      "text/html": [
       "<div>\n",
       "<style scoped>\n",
       "    .dataframe tbody tr th:only-of-type {\n",
       "        vertical-align: middle;\n",
       "    }\n",
       "\n",
       "    .dataframe tbody tr th {\n",
       "        vertical-align: top;\n",
       "    }\n",
       "\n",
       "    .dataframe thead th {\n",
       "        text-align: right;\n",
       "    }\n",
       "</style>\n",
       "<table border=\"1\" class=\"dataframe\">\n",
       "  <thead>\n",
       "    <tr style=\"text-align: right;\">\n",
       "      <th></th>\n",
       "      <th>인구수</th>\n",
       "      <th>남자인구수</th>\n",
       "      <th>여자인구수</th>\n",
       "      <th>남녀비율</th>\n",
       "    </tr>\n",
       "  </thead>\n",
       "  <tbody>\n",
       "    <tr>\n",
       "      <th>인천광역시</th>\n",
       "      <td>2947217.0</td>\n",
       "      <td>1476813.0</td>\n",
       "      <td>1470404.0</td>\n",
       "      <td>100.435867</td>\n",
       "    </tr>\n",
       "  </tbody>\n",
       "</table>\n",
       "</div>"
      ],
      "text/plain": [
       "             인구수      남자인구수      여자인구수        남녀비율\n",
       "인천광역시  2947217.0  1476813.0  1470404.0  100.435867"
      ]
     },
     "execution_count": 67,
     "metadata": {},
     "output_type": "execute_result"
    }
   ],
   "source": [
    "korea_df.loc[(korea_df.인구수 > 2500000) & (korea_df.남녀비율 > 100)]"
   ]
  },
  {
   "cell_type": "code",
   "execution_count": 68,
   "metadata": {
    "id": "NKk4cWARPQgE"
   },
   "outputs": [
    {
     "data": {
      "text/html": [
       "<div>\n",
       "<style scoped>\n",
       "    .dataframe tbody tr th:only-of-type {\n",
       "        vertical-align: middle;\n",
       "    }\n",
       "\n",
       "    .dataframe tbody tr th {\n",
       "        vertical-align: top;\n",
       "    }\n",
       "\n",
       "    .dataframe thead th {\n",
       "        text-align: right;\n",
       "    }\n",
       "</style>\n",
       "<table border=\"1\" class=\"dataframe\">\n",
       "  <thead>\n",
       "    <tr style=\"text-align: right;\">\n",
       "      <th></th>\n",
       "      <th>인구수</th>\n",
       "      <th>남자인구수</th>\n",
       "    </tr>\n",
       "  </thead>\n",
       "  <tbody>\n",
       "    <tr>\n",
       "      <th>광주광역시</th>\n",
       "      <td>1455048.0</td>\n",
       "      <td>720060.0</td>\n",
       "    </tr>\n",
       "    <tr>\n",
       "      <th>대구광역시</th>\n",
       "      <td>2427954.0</td>\n",
       "      <td>1198815.0</td>\n",
       "    </tr>\n",
       "    <tr>\n",
       "      <th>대전광역시</th>\n",
       "      <td>1471040.0</td>\n",
       "      <td>734441.0</td>\n",
       "    </tr>\n",
       "  </tbody>\n",
       "</table>\n",
       "</div>"
      ],
      "text/plain": [
       "             인구수      남자인구수\n",
       "광주광역시  1455048.0   720060.0\n",
       "대구광역시  2427954.0  1198815.0\n",
       "대전광역시  1471040.0   734441.0"
      ]
     },
     "execution_count": 68,
     "metadata": {},
     "output_type": "execute_result"
    }
   ],
   "source": [
    "korea_df.iloc[:3, :2]"
   ]
  },
  {
   "cell_type": "markdown",
   "metadata": {
    "id": "KJfzYxtksAMb"
   },
   "source": [
    "### 다중 인덱싱(Multi Indexing)\n",
    "\n",
    "* 1차원의 Series와 2차원의 DataFrame 객체를 넘어 3차원, 4차원 이상의 고차원 데이터 처리\n",
    "* 단일 인덱스 내에 여러 인덱스를 포함하는 다중 인덱싱"
   ]
  },
  {
   "cell_type": "markdown",
   "metadata": {
    "id": "K2c8rSnJ0NZx"
   },
   "source": [
    "#### 다중 인덱스 Series"
   ]
  },
  {
   "cell_type": "code",
   "execution_count": 69,
   "metadata": {
    "id": "kEA1qtgWtJcG"
   },
   "outputs": [
    {
     "data": {
      "text/html": [
       "<div>\n",
       "<style scoped>\n",
       "    .dataframe tbody tr th:only-of-type {\n",
       "        vertical-align: middle;\n",
       "    }\n",
       "\n",
       "    .dataframe tbody tr th {\n",
       "        vertical-align: top;\n",
       "    }\n",
       "\n",
       "    .dataframe thead th {\n",
       "        text-align: right;\n",
       "    }\n",
       "</style>\n",
       "<table border=\"1\" class=\"dataframe\">\n",
       "  <thead>\n",
       "    <tr style=\"text-align: right;\">\n",
       "      <th></th>\n",
       "      <th>인구수</th>\n",
       "      <th>남자인구수</th>\n",
       "      <th>여자인구수</th>\n",
       "      <th>남녀비율</th>\n",
       "    </tr>\n",
       "  </thead>\n",
       "  <tbody>\n",
       "    <tr>\n",
       "      <th>광주광역시</th>\n",
       "      <td>1455048.0</td>\n",
       "      <td>720060.0</td>\n",
       "      <td>734988.0</td>\n",
       "      <td>97.968946</td>\n",
       "    </tr>\n",
       "    <tr>\n",
       "      <th>대구광역시</th>\n",
       "      <td>2427954.0</td>\n",
       "      <td>1198815.0</td>\n",
       "      <td>1229139.0</td>\n",
       "      <td>97.532907</td>\n",
       "    </tr>\n",
       "    <tr>\n",
       "      <th>대전광역시</th>\n",
       "      <td>1471040.0</td>\n",
       "      <td>734441.0</td>\n",
       "      <td>736599.0</td>\n",
       "      <td>99.707032</td>\n",
       "    </tr>\n",
       "    <tr>\n",
       "      <th>부산광역시</th>\n",
       "      <td>3404423.0</td>\n",
       "      <td>1668618.0</td>\n",
       "      <td>1735805.0</td>\n",
       "      <td>96.129346</td>\n",
       "    </tr>\n",
       "    <tr>\n",
       "      <th>서울광역시</th>\n",
       "      <td>NaN</td>\n",
       "      <td>4732275.0</td>\n",
       "      <td>NaN</td>\n",
       "      <td>NaN</td>\n",
       "    </tr>\n",
       "    <tr>\n",
       "      <th>서울특별시</th>\n",
       "      <td>9720846.0</td>\n",
       "      <td>NaN</td>\n",
       "      <td>4988571.0</td>\n",
       "      <td>NaN</td>\n",
       "    </tr>\n",
       "    <tr>\n",
       "      <th>인천광역시</th>\n",
       "      <td>2947217.0</td>\n",
       "      <td>1476813.0</td>\n",
       "      <td>1470404.0</td>\n",
       "      <td>100.435867</td>\n",
       "    </tr>\n",
       "  </tbody>\n",
       "</table>\n",
       "</div>"
      ],
      "text/plain": [
       "             인구수      남자인구수      여자인구수        남녀비율\n",
       "광주광역시  1455048.0   720060.0   734988.0   97.968946\n",
       "대구광역시  2427954.0  1198815.0  1229139.0   97.532907\n",
       "대전광역시  1471040.0   734441.0   736599.0   99.707032\n",
       "부산광역시  3404423.0  1668618.0  1735805.0   96.129346\n",
       "서울광역시        NaN  4732275.0        NaN         NaN\n",
       "서울특별시  9720846.0        NaN  4988571.0         NaN\n",
       "인천광역시  2947217.0  1476813.0  1470404.0  100.435867"
      ]
     },
     "execution_count": 69,
     "metadata": {},
     "output_type": "execute_result"
    }
   ],
   "source": [
    "korea_df"
   ]
  },
  {
   "cell_type": "code",
   "execution_count": 70,
   "metadata": {
    "id": "3nO23L67vKpP"
   },
   "outputs": [
    {
     "data": {
      "text/plain": [
       "[('서울특별시', 2010),\n",
       " ('서울특별시', 2020),\n",
       " ('부산광역시', 2010),\n",
       " ('부산광역시', 2020),\n",
       " ('인천광역시', 2010),\n",
       " ('인천광역시', 2020),\n",
       " ('대구광역시', 2010),\n",
       " ('대구광역시', 2020),\n",
       " ('대전광역시', 2010),\n",
       " ('대전광역시', 2020),\n",
       " ('광주광역시', 2010),\n",
       " ('광주광역시', 2020)]"
      ]
     },
     "execution_count": 70,
     "metadata": {},
     "output_type": "execute_result"
    }
   ],
   "source": [
    "idx_tuples = [('서울특별시', 2010), ('서울특별시', 2020),\n",
    "             ('부산광역시', 2010), ('부산광역시', 2020),\n",
    "             ('인천광역시', 2010), ('인천광역시', 2020),\n",
    "             ('대구광역시', 2010), ('대구광역시', 2020),\n",
    "             ('대전광역시', 2010), ('대전광역시', 2020),\n",
    "             ('광주광역시', 2010), ('광주광역시', 2020)]\n",
    "idx_tuples"
   ]
  },
  {
   "cell_type": "code",
   "execution_count": 71,
   "metadata": {
    "id": "FWw04oTC36Gy"
   },
   "outputs": [
    {
     "data": {
      "text/plain": [
       "(서울특별시, 2010)    10312545\n",
       "(서울특별시, 2020)     9720846\n",
       "(부산광역시, 2010)     2567810\n",
       "(부산광역시, 2020)     3404423\n",
       "(인천광역시, 2010)     2758296\n",
       "(인천광역시, 2020)     2947217\n",
       "(대구광역시, 2010)     2511676\n",
       "(대구광역시, 2020)     2427954\n",
       "(대전광역시, 2010)     1503664\n",
       "(대전광역시, 2020)     1471040\n",
       "(광주광역시, 2010)     1454636\n",
       "(광주광역시, 2020)     1455048\n",
       "dtype: int64"
      ]
     },
     "execution_count": 71,
     "metadata": {},
     "output_type": "execute_result"
    }
   ],
   "source": [
    "pop_tuples = [10312545, 9720846,\n",
    "             2567810, 3404423,\n",
    "             2758296, 2947217,\n",
    "             2511676, 2427954,\n",
    "             1503664, 1471040,\n",
    "             1454636, 1455048]\n",
    "population = pd.Series(pop_tuples, index=idx_tuples)\n",
    "population"
   ]
  },
  {
   "cell_type": "code",
   "execution_count": 72,
   "metadata": {
    "id": "1cOc-3Da1kGZ"
   },
   "outputs": [
    {
     "data": {
      "text/plain": [
       "MultiIndex([('서울특별시', 2010),\n",
       "            ('서울특별시', 2020),\n",
       "            ('부산광역시', 2010),\n",
       "            ('부산광역시', 2020),\n",
       "            ('인천광역시', 2010),\n",
       "            ('인천광역시', 2020),\n",
       "            ('대구광역시', 2010),\n",
       "            ('대구광역시', 2020),\n",
       "            ('대전광역시', 2010),\n",
       "            ('대전광역시', 2020),\n",
       "            ('광주광역시', 2010),\n",
       "            ('광주광역시', 2020)],\n",
       "           )"
      ]
     },
     "execution_count": 72,
     "metadata": {},
     "output_type": "execute_result"
    }
   ],
   "source": [
    "midx = pd.MultiIndex.from_tuples(idx_tuples)\n",
    "midx"
   ]
  },
  {
   "cell_type": "code",
   "execution_count": 73,
   "metadata": {
    "id": "q_dEok8s5yLx"
   },
   "outputs": [
    {
     "data": {
      "text/plain": [
       "서울특별시  2010    10312545\n",
       "       2020     9720846\n",
       "부산광역시  2010     2567810\n",
       "       2020     3404423\n",
       "인천광역시  2010     2758296\n",
       "       2020     2947217\n",
       "대구광역시  2010     2511676\n",
       "       2020     2427954\n",
       "대전광역시  2010     1503664\n",
       "       2020     1471040\n",
       "광주광역시  2010     1454636\n",
       "       2020     1455048\n",
       "dtype: int64"
      ]
     },
     "execution_count": 73,
     "metadata": {},
     "output_type": "execute_result"
    }
   ],
   "source": [
    "population = population.reindex(midx)\n",
    "population"
   ]
  },
  {
   "cell_type": "code",
   "execution_count": 74,
   "metadata": {
    "id": "NmhgBRyI5-W0"
   },
   "outputs": [
    {
     "data": {
      "text/plain": [
       "서울특별시    10312545\n",
       "부산광역시     2567810\n",
       "인천광역시     2758296\n",
       "대구광역시     2511676\n",
       "대전광역시     1503664\n",
       "광주광역시     1454636\n",
       "dtype: int64"
      ]
     },
     "execution_count": 74,
     "metadata": {},
     "output_type": "execute_result"
    }
   ],
   "source": [
    "population[:, 2010]"
   ]
  },
  {
   "cell_type": "code",
   "execution_count": 75,
   "metadata": {
    "id": "-t0tJ1mh6hkn"
   },
   "outputs": [
    {
     "data": {
      "text/plain": [
       "2010    1503664\n",
       "2020    1471040\n",
       "dtype: int64"
      ]
     },
     "execution_count": 75,
     "metadata": {},
     "output_type": "execute_result"
    }
   ],
   "source": [
    "population['대전광역시', :]"
   ]
  },
  {
   "cell_type": "code",
   "execution_count": 76,
   "metadata": {
    "id": "ppSy2UMT-LY-"
   },
   "outputs": [
    {
     "data": {
      "text/html": [
       "<div>\n",
       "<style scoped>\n",
       "    .dataframe tbody tr th:only-of-type {\n",
       "        vertical-align: middle;\n",
       "    }\n",
       "\n",
       "    .dataframe tbody tr th {\n",
       "        vertical-align: top;\n",
       "    }\n",
       "\n",
       "    .dataframe thead th {\n",
       "        text-align: right;\n",
       "    }\n",
       "</style>\n",
       "<table border=\"1\" class=\"dataframe\">\n",
       "  <thead>\n",
       "    <tr style=\"text-align: right;\">\n",
       "      <th></th>\n",
       "      <th>2010</th>\n",
       "      <th>2020</th>\n",
       "    </tr>\n",
       "  </thead>\n",
       "  <tbody>\n",
       "    <tr>\n",
       "      <th>광주광역시</th>\n",
       "      <td>1454636</td>\n",
       "      <td>1455048</td>\n",
       "    </tr>\n",
       "    <tr>\n",
       "      <th>대구광역시</th>\n",
       "      <td>2511676</td>\n",
       "      <td>2427954</td>\n",
       "    </tr>\n",
       "    <tr>\n",
       "      <th>대전광역시</th>\n",
       "      <td>1503664</td>\n",
       "      <td>1471040</td>\n",
       "    </tr>\n",
       "    <tr>\n",
       "      <th>부산광역시</th>\n",
       "      <td>2567810</td>\n",
       "      <td>3404423</td>\n",
       "    </tr>\n",
       "    <tr>\n",
       "      <th>서울특별시</th>\n",
       "      <td>10312545</td>\n",
       "      <td>9720846</td>\n",
       "    </tr>\n",
       "    <tr>\n",
       "      <th>인천광역시</th>\n",
       "      <td>2758296</td>\n",
       "      <td>2947217</td>\n",
       "    </tr>\n",
       "  </tbody>\n",
       "</table>\n",
       "</div>"
      ],
      "text/plain": [
       "           2010     2020\n",
       "광주광역시   1454636  1455048\n",
       "대구광역시   2511676  2427954\n",
       "대전광역시   1503664  1471040\n",
       "부산광역시   2567810  3404423\n",
       "서울특별시  10312545  9720846\n",
       "인천광역시   2758296  2947217"
      ]
     },
     "execution_count": 76,
     "metadata": {},
     "output_type": "execute_result"
    }
   ],
   "source": [
    "korea_mdf = population.unstack()\n",
    "korea_mdf"
   ]
  },
  {
   "cell_type": "code",
   "execution_count": 77,
   "metadata": {
    "id": "SCDTvAeL-SDk"
   },
   "outputs": [
    {
     "data": {
      "text/plain": [
       "광주광역시  2010     1454636\n",
       "       2020     1455048\n",
       "대구광역시  2010     2511676\n",
       "       2020     2427954\n",
       "대전광역시  2010     1503664\n",
       "       2020     1471040\n",
       "부산광역시  2010     2567810\n",
       "       2020     3404423\n",
       "서울특별시  2010    10312545\n",
       "       2020     9720846\n",
       "인천광역시  2010     2758296\n",
       "       2020     2947217\n",
       "dtype: int64"
      ]
     },
     "execution_count": 77,
     "metadata": {},
     "output_type": "execute_result"
    }
   ],
   "source": [
    "korea_mdf.stack()"
   ]
  },
  {
   "cell_type": "code",
   "execution_count": 78,
   "metadata": {
    "id": "0MYobeuhBp92"
   },
   "outputs": [
    {
     "data": {
      "text/plain": [
       "[5111259,\n",
       " 4732275,\n",
       " 1773170,\n",
       " 1668618,\n",
       " 1390356,\n",
       " 1476813,\n",
       " 1255245,\n",
       " 1198815,\n",
       " 753648,\n",
       " 734441,\n",
       " 721780,\n",
       " 720060]"
      ]
     },
     "execution_count": 78,
     "metadata": {},
     "output_type": "execute_result"
    }
   ],
   "source": [
    "male_tuples = [5111259, 4732275,\n",
    "              1773170, 1668618,\n",
    "              1390356, 1476813,\n",
    "              1255245, 1198815,\n",
    "              753648, 734441,\n",
    "              721780, 720060]\n",
    "male_tuples"
   ]
  },
  {
   "cell_type": "code",
   "execution_count": 79,
   "metadata": {
    "id": "x8Y7Z77sF6Jf"
   },
   "outputs": [
    {
     "data": {
      "text/html": [
       "<div>\n",
       "<style scoped>\n",
       "    .dataframe tbody tr th:only-of-type {\n",
       "        vertical-align: middle;\n",
       "    }\n",
       "\n",
       "    .dataframe tbody tr th {\n",
       "        vertical-align: top;\n",
       "    }\n",
       "\n",
       "    .dataframe thead th {\n",
       "        text-align: right;\n",
       "    }\n",
       "</style>\n",
       "<table border=\"1\" class=\"dataframe\">\n",
       "  <thead>\n",
       "    <tr style=\"text-align: right;\">\n",
       "      <th></th>\n",
       "      <th></th>\n",
       "      <th>총인구수</th>\n",
       "      <th>남자인구수</th>\n",
       "    </tr>\n",
       "  </thead>\n",
       "  <tbody>\n",
       "    <tr>\n",
       "      <th rowspan=\"2\" valign=\"top\">서울특별시</th>\n",
       "      <th>2010</th>\n",
       "      <td>10312545</td>\n",
       "      <td>5111259</td>\n",
       "    </tr>\n",
       "    <tr>\n",
       "      <th>2020</th>\n",
       "      <td>9720846</td>\n",
       "      <td>4732275</td>\n",
       "    </tr>\n",
       "    <tr>\n",
       "      <th rowspan=\"2\" valign=\"top\">부산광역시</th>\n",
       "      <th>2010</th>\n",
       "      <td>2567810</td>\n",
       "      <td>1773170</td>\n",
       "    </tr>\n",
       "    <tr>\n",
       "      <th>2020</th>\n",
       "      <td>3404423</td>\n",
       "      <td>1668618</td>\n",
       "    </tr>\n",
       "    <tr>\n",
       "      <th rowspan=\"2\" valign=\"top\">인천광역시</th>\n",
       "      <th>2010</th>\n",
       "      <td>2758296</td>\n",
       "      <td>1390356</td>\n",
       "    </tr>\n",
       "    <tr>\n",
       "      <th>2020</th>\n",
       "      <td>2947217</td>\n",
       "      <td>1476813</td>\n",
       "    </tr>\n",
       "    <tr>\n",
       "      <th rowspan=\"2\" valign=\"top\">대구광역시</th>\n",
       "      <th>2010</th>\n",
       "      <td>2511676</td>\n",
       "      <td>1255245</td>\n",
       "    </tr>\n",
       "    <tr>\n",
       "      <th>2020</th>\n",
       "      <td>2427954</td>\n",
       "      <td>1198815</td>\n",
       "    </tr>\n",
       "    <tr>\n",
       "      <th rowspan=\"2\" valign=\"top\">대전광역시</th>\n",
       "      <th>2010</th>\n",
       "      <td>1503664</td>\n",
       "      <td>753648</td>\n",
       "    </tr>\n",
       "    <tr>\n",
       "      <th>2020</th>\n",
       "      <td>1471040</td>\n",
       "      <td>734441</td>\n",
       "    </tr>\n",
       "    <tr>\n",
       "      <th rowspan=\"2\" valign=\"top\">광주광역시</th>\n",
       "      <th>2010</th>\n",
       "      <td>1454636</td>\n",
       "      <td>721780</td>\n",
       "    </tr>\n",
       "    <tr>\n",
       "      <th>2020</th>\n",
       "      <td>1455048</td>\n",
       "      <td>720060</td>\n",
       "    </tr>\n",
       "  </tbody>\n",
       "</table>\n",
       "</div>"
      ],
      "text/plain": [
       "                총인구수    남자인구수\n",
       "서울특별시 2010  10312545  5111259\n",
       "      2020   9720846  4732275\n",
       "부산광역시 2010   2567810  1773170\n",
       "      2020   3404423  1668618\n",
       "인천광역시 2010   2758296  1390356\n",
       "      2020   2947217  1476813\n",
       "대구광역시 2010   2511676  1255245\n",
       "      2020   2427954  1198815\n",
       "대전광역시 2010   1503664   753648\n",
       "      2020   1471040   734441\n",
       "광주광역시 2010   1454636   721780\n",
       "      2020   1455048   720060"
      ]
     },
     "execution_count": 79,
     "metadata": {},
     "output_type": "execute_result"
    }
   ],
   "source": [
    "korea_mdf = pd.DataFrame({'총인구수' : population,\n",
    "                         '남자인구수' : male_tuples})\n",
    "korea_mdf"
   ]
  },
  {
   "cell_type": "code",
   "execution_count": 80,
   "metadata": {
    "id": "mtXvWQcMGwCo"
   },
   "outputs": [
    {
     "data": {
      "text/plain": [
       "[5201286,\n",
       " 4988571,\n",
       " 1794740,\n",
       " 1735805,\n",
       " 1367940,\n",
       " 1470404,\n",
       " 1257431,\n",
       " 1229139,\n",
       " 750016,\n",
       " 736599,\n",
       " 732856,\n",
       " 734988]"
      ]
     },
     "execution_count": 80,
     "metadata": {},
     "output_type": "execute_result"
    }
   ],
   "source": [
    "female_tuples = [5201286, 4988571,\n",
    "                1794740, 1735805,\n",
    "                1367940, 1470404,\n",
    "                1257431, 1229139,\n",
    "                750016, 736599,\n",
    "                732856, 734988]\n",
    "female_tuples"
   ]
  },
  {
   "cell_type": "code",
   "execution_count": 81,
   "metadata": {
    "id": "iihD5i0hHZJl"
   },
   "outputs": [
    {
     "data": {
      "text/html": [
       "<div>\n",
       "<style scoped>\n",
       "    .dataframe tbody tr th:only-of-type {\n",
       "        vertical-align: middle;\n",
       "    }\n",
       "\n",
       "    .dataframe tbody tr th {\n",
       "        vertical-align: top;\n",
       "    }\n",
       "\n",
       "    .dataframe thead th {\n",
       "        text-align: right;\n",
       "    }\n",
       "</style>\n",
       "<table border=\"1\" class=\"dataframe\">\n",
       "  <thead>\n",
       "    <tr style=\"text-align: right;\">\n",
       "      <th></th>\n",
       "      <th></th>\n",
       "      <th>총인구수</th>\n",
       "      <th>남자인구수</th>\n",
       "      <th>여자인구수</th>\n",
       "    </tr>\n",
       "  </thead>\n",
       "  <tbody>\n",
       "    <tr>\n",
       "      <th rowspan=\"2\" valign=\"top\">서울특별시</th>\n",
       "      <th>2010</th>\n",
       "      <td>10312545</td>\n",
       "      <td>5111259</td>\n",
       "      <td>5201286</td>\n",
       "    </tr>\n",
       "    <tr>\n",
       "      <th>2020</th>\n",
       "      <td>9720846</td>\n",
       "      <td>4732275</td>\n",
       "      <td>4988571</td>\n",
       "    </tr>\n",
       "    <tr>\n",
       "      <th rowspan=\"2\" valign=\"top\">부산광역시</th>\n",
       "      <th>2010</th>\n",
       "      <td>2567810</td>\n",
       "      <td>1773170</td>\n",
       "      <td>1794740</td>\n",
       "    </tr>\n",
       "    <tr>\n",
       "      <th>2020</th>\n",
       "      <td>3404423</td>\n",
       "      <td>1668618</td>\n",
       "      <td>1735805</td>\n",
       "    </tr>\n",
       "    <tr>\n",
       "      <th rowspan=\"2\" valign=\"top\">인천광역시</th>\n",
       "      <th>2010</th>\n",
       "      <td>2758296</td>\n",
       "      <td>1390356</td>\n",
       "      <td>1367940</td>\n",
       "    </tr>\n",
       "    <tr>\n",
       "      <th>2020</th>\n",
       "      <td>2947217</td>\n",
       "      <td>1476813</td>\n",
       "      <td>1470404</td>\n",
       "    </tr>\n",
       "    <tr>\n",
       "      <th rowspan=\"2\" valign=\"top\">대구광역시</th>\n",
       "      <th>2010</th>\n",
       "      <td>2511676</td>\n",
       "      <td>1255245</td>\n",
       "      <td>1257431</td>\n",
       "    </tr>\n",
       "    <tr>\n",
       "      <th>2020</th>\n",
       "      <td>2427954</td>\n",
       "      <td>1198815</td>\n",
       "      <td>1229139</td>\n",
       "    </tr>\n",
       "    <tr>\n",
       "      <th rowspan=\"2\" valign=\"top\">대전광역시</th>\n",
       "      <th>2010</th>\n",
       "      <td>1503664</td>\n",
       "      <td>753648</td>\n",
       "      <td>750016</td>\n",
       "    </tr>\n",
       "    <tr>\n",
       "      <th>2020</th>\n",
       "      <td>1471040</td>\n",
       "      <td>734441</td>\n",
       "      <td>736599</td>\n",
       "    </tr>\n",
       "    <tr>\n",
       "      <th rowspan=\"2\" valign=\"top\">광주광역시</th>\n",
       "      <th>2010</th>\n",
       "      <td>1454636</td>\n",
       "      <td>721780</td>\n",
       "      <td>732856</td>\n",
       "    </tr>\n",
       "    <tr>\n",
       "      <th>2020</th>\n",
       "      <td>1455048</td>\n",
       "      <td>720060</td>\n",
       "      <td>734988</td>\n",
       "    </tr>\n",
       "  </tbody>\n",
       "</table>\n",
       "</div>"
      ],
      "text/plain": [
       "                총인구수    남자인구수    여자인구수\n",
       "서울특별시 2010  10312545  5111259  5201286\n",
       "      2020   9720846  4732275  4988571\n",
       "부산광역시 2010   2567810  1773170  1794740\n",
       "      2020   3404423  1668618  1735805\n",
       "인천광역시 2010   2758296  1390356  1367940\n",
       "      2020   2947217  1476813  1470404\n",
       "대구광역시 2010   2511676  1255245  1257431\n",
       "      2020   2427954  1198815  1229139\n",
       "대전광역시 2010   1503664   753648   750016\n",
       "      2020   1471040   734441   736599\n",
       "광주광역시 2010   1454636   721780   732856\n",
       "      2020   1455048   720060   734988"
      ]
     },
     "execution_count": 81,
     "metadata": {},
     "output_type": "execute_result"
    }
   ],
   "source": [
    "korea_mdf = pd.DataFrame({'총인구수' : population,\n",
    "                         '남자인구수' : male_tuples,\n",
    "                         '여자인구수' : female_tuples})\n",
    "korea_mdf"
   ]
  },
  {
   "cell_type": "code",
   "execution_count": 82,
   "metadata": {
    "id": "tfEo_ilxI10d"
   },
   "outputs": [
    {
     "data": {
      "text/plain": [
       "서울특별시  2010     98.269140\n",
       "       2020     94.862336\n",
       "부산광역시  2010     98.798155\n",
       "       2020     96.129346\n",
       "인천광역시  2010    101.638668\n",
       "       2020    100.435867\n",
       "대구광역시  2010     99.826153\n",
       "       2020     97.532907\n",
       "대전광역시  2010    100.484256\n",
       "       2020     99.707032\n",
       "광주광역시  2010     98.488653\n",
       "       2020     97.968946\n",
       "dtype: float64"
      ]
     },
     "execution_count": 82,
     "metadata": {},
     "output_type": "execute_result"
    }
   ],
   "source": [
    "ratio = korea_mdf['남자인구수'] * 100 / korea_mdf['여자인구수']\n",
    "ratio"
   ]
  },
  {
   "cell_type": "code",
   "execution_count": 83,
   "metadata": {
    "id": "SEZnxJ4gxR44"
   },
   "outputs": [
    {
     "data": {
      "text/html": [
       "<div>\n",
       "<style scoped>\n",
       "    .dataframe tbody tr th:only-of-type {\n",
       "        vertical-align: middle;\n",
       "    }\n",
       "\n",
       "    .dataframe tbody tr th {\n",
       "        vertical-align: top;\n",
       "    }\n",
       "\n",
       "    .dataframe thead th {\n",
       "        text-align: right;\n",
       "    }\n",
       "</style>\n",
       "<table border=\"1\" class=\"dataframe\">\n",
       "  <thead>\n",
       "    <tr style=\"text-align: right;\">\n",
       "      <th></th>\n",
       "      <th>2010</th>\n",
       "      <th>2020</th>\n",
       "    </tr>\n",
       "  </thead>\n",
       "  <tbody>\n",
       "    <tr>\n",
       "      <th>광주광역시</th>\n",
       "      <td>98.488653</td>\n",
       "      <td>97.968946</td>\n",
       "    </tr>\n",
       "    <tr>\n",
       "      <th>대구광역시</th>\n",
       "      <td>99.826153</td>\n",
       "      <td>97.532907</td>\n",
       "    </tr>\n",
       "    <tr>\n",
       "      <th>대전광역시</th>\n",
       "      <td>100.484256</td>\n",
       "      <td>99.707032</td>\n",
       "    </tr>\n",
       "    <tr>\n",
       "      <th>부산광역시</th>\n",
       "      <td>98.798155</td>\n",
       "      <td>96.129346</td>\n",
       "    </tr>\n",
       "    <tr>\n",
       "      <th>서울특별시</th>\n",
       "      <td>98.269140</td>\n",
       "      <td>94.862336</td>\n",
       "    </tr>\n",
       "    <tr>\n",
       "      <th>인천광역시</th>\n",
       "      <td>101.638668</td>\n",
       "      <td>100.435867</td>\n",
       "    </tr>\n",
       "  </tbody>\n",
       "</table>\n",
       "</div>"
      ],
      "text/plain": [
       "             2010        2020\n",
       "광주광역시   98.488653   97.968946\n",
       "대구광역시   99.826153   97.532907\n",
       "대전광역시  100.484256   99.707032\n",
       "부산광역시   98.798155   96.129346\n",
       "서울특별시   98.269140   94.862336\n",
       "인천광역시  101.638668  100.435867"
      ]
     },
     "execution_count": 83,
     "metadata": {},
     "output_type": "execute_result"
    }
   ],
   "source": [
    "ratio.unstack()"
   ]
  },
  {
   "cell_type": "code",
   "execution_count": 84,
   "metadata": {
    "id": "pjKTjkngxmdk"
   },
   "outputs": [
    {
     "data": {
      "text/html": [
       "<div>\n",
       "<style scoped>\n",
       "    .dataframe tbody tr th:only-of-type {\n",
       "        vertical-align: middle;\n",
       "    }\n",
       "\n",
       "    .dataframe tbody tr th {\n",
       "        vertical-align: top;\n",
       "    }\n",
       "\n",
       "    .dataframe thead th {\n",
       "        text-align: right;\n",
       "    }\n",
       "</style>\n",
       "<table border=\"1\" class=\"dataframe\">\n",
       "  <thead>\n",
       "    <tr style=\"text-align: right;\">\n",
       "      <th></th>\n",
       "      <th></th>\n",
       "      <th>총인구수</th>\n",
       "      <th>남자인구수</th>\n",
       "      <th>여자인구수</th>\n",
       "      <th>남녀비율</th>\n",
       "    </tr>\n",
       "  </thead>\n",
       "  <tbody>\n",
       "    <tr>\n",
       "      <th rowspan=\"2\" valign=\"top\">서울특별시</th>\n",
       "      <th>2010</th>\n",
       "      <td>10312545</td>\n",
       "      <td>5111259</td>\n",
       "      <td>5201286</td>\n",
       "      <td>98.269140</td>\n",
       "    </tr>\n",
       "    <tr>\n",
       "      <th>2020</th>\n",
       "      <td>9720846</td>\n",
       "      <td>4732275</td>\n",
       "      <td>4988571</td>\n",
       "      <td>94.862336</td>\n",
       "    </tr>\n",
       "    <tr>\n",
       "      <th rowspan=\"2\" valign=\"top\">부산광역시</th>\n",
       "      <th>2010</th>\n",
       "      <td>2567810</td>\n",
       "      <td>1773170</td>\n",
       "      <td>1794740</td>\n",
       "      <td>98.798155</td>\n",
       "    </tr>\n",
       "    <tr>\n",
       "      <th>2020</th>\n",
       "      <td>3404423</td>\n",
       "      <td>1668618</td>\n",
       "      <td>1735805</td>\n",
       "      <td>96.129346</td>\n",
       "    </tr>\n",
       "    <tr>\n",
       "      <th rowspan=\"2\" valign=\"top\">인천광역시</th>\n",
       "      <th>2010</th>\n",
       "      <td>2758296</td>\n",
       "      <td>1390356</td>\n",
       "      <td>1367940</td>\n",
       "      <td>101.638668</td>\n",
       "    </tr>\n",
       "    <tr>\n",
       "      <th>2020</th>\n",
       "      <td>2947217</td>\n",
       "      <td>1476813</td>\n",
       "      <td>1470404</td>\n",
       "      <td>100.435867</td>\n",
       "    </tr>\n",
       "    <tr>\n",
       "      <th rowspan=\"2\" valign=\"top\">대구광역시</th>\n",
       "      <th>2010</th>\n",
       "      <td>2511676</td>\n",
       "      <td>1255245</td>\n",
       "      <td>1257431</td>\n",
       "      <td>99.826153</td>\n",
       "    </tr>\n",
       "    <tr>\n",
       "      <th>2020</th>\n",
       "      <td>2427954</td>\n",
       "      <td>1198815</td>\n",
       "      <td>1229139</td>\n",
       "      <td>97.532907</td>\n",
       "    </tr>\n",
       "    <tr>\n",
       "      <th rowspan=\"2\" valign=\"top\">대전광역시</th>\n",
       "      <th>2010</th>\n",
       "      <td>1503664</td>\n",
       "      <td>753648</td>\n",
       "      <td>750016</td>\n",
       "      <td>100.484256</td>\n",
       "    </tr>\n",
       "    <tr>\n",
       "      <th>2020</th>\n",
       "      <td>1471040</td>\n",
       "      <td>734441</td>\n",
       "      <td>736599</td>\n",
       "      <td>99.707032</td>\n",
       "    </tr>\n",
       "    <tr>\n",
       "      <th rowspan=\"2\" valign=\"top\">광주광역시</th>\n",
       "      <th>2010</th>\n",
       "      <td>1454636</td>\n",
       "      <td>721780</td>\n",
       "      <td>732856</td>\n",
       "      <td>98.488653</td>\n",
       "    </tr>\n",
       "    <tr>\n",
       "      <th>2020</th>\n",
       "      <td>1455048</td>\n",
       "      <td>720060</td>\n",
       "      <td>734988</td>\n",
       "      <td>97.968946</td>\n",
       "    </tr>\n",
       "  </tbody>\n",
       "</table>\n",
       "</div>"
      ],
      "text/plain": [
       "                총인구수    남자인구수    여자인구수        남녀비율\n",
       "서울특별시 2010  10312545  5111259  5201286   98.269140\n",
       "      2020   9720846  4732275  4988571   94.862336\n",
       "부산광역시 2010   2567810  1773170  1794740   98.798155\n",
       "      2020   3404423  1668618  1735805   96.129346\n",
       "인천광역시 2010   2758296  1390356  1367940  101.638668\n",
       "      2020   2947217  1476813  1470404  100.435867\n",
       "대구광역시 2010   2511676  1255245  1257431   99.826153\n",
       "      2020   2427954  1198815  1229139   97.532907\n",
       "대전광역시 2010   1503664   753648   750016  100.484256\n",
       "      2020   1471040   734441   736599   99.707032\n",
       "광주광역시 2010   1454636   721780   732856   98.488653\n",
       "      2020   1455048   720060   734988   97.968946"
      ]
     },
     "execution_count": 84,
     "metadata": {},
     "output_type": "execute_result"
    }
   ],
   "source": [
    "korea_mdf = pd.DataFrame({'총인구수' : population,\n",
    "                         '남자인구수' : male_tuples,\n",
    "                         '여자인구수' : female_tuples,\n",
    "                         '남녀비율' :ratio})\n",
    "korea_mdf"
   ]
  },
  {
   "cell_type": "markdown",
   "metadata": {
    "id": "dwMPxdAYzN2-"
   },
   "source": [
    "#### 다중 인덱스 생성"
   ]
  },
  {
   "cell_type": "code",
   "execution_count": 85,
   "metadata": {
    "id": "0AWJ--PgyQ9_"
   },
   "outputs": [
    {
     "data": {
      "text/html": [
       "<div>\n",
       "<style scoped>\n",
       "    .dataframe tbody tr th:only-of-type {\n",
       "        vertical-align: middle;\n",
       "    }\n",
       "\n",
       "    .dataframe tbody tr th {\n",
       "        vertical-align: top;\n",
       "    }\n",
       "\n",
       "    .dataframe thead th {\n",
       "        text-align: right;\n",
       "    }\n",
       "</style>\n",
       "<table border=\"1\" class=\"dataframe\">\n",
       "  <thead>\n",
       "    <tr style=\"text-align: right;\">\n",
       "      <th></th>\n",
       "      <th></th>\n",
       "      <th>c1</th>\n",
       "      <th>c2</th>\n",
       "      <th>c3</th>\n",
       "    </tr>\n",
       "  </thead>\n",
       "  <tbody>\n",
       "    <tr>\n",
       "      <th rowspan=\"2\" valign=\"top\">a</th>\n",
       "      <th>1</th>\n",
       "      <td>0.060986</td>\n",
       "      <td>0.711096</td>\n",
       "      <td>0.409039</td>\n",
       "    </tr>\n",
       "    <tr>\n",
       "      <th>2</th>\n",
       "      <td>0.046312</td>\n",
       "      <td>0.056353</td>\n",
       "      <td>0.535298</td>\n",
       "    </tr>\n",
       "    <tr>\n",
       "      <th rowspan=\"2\" valign=\"top\">b</th>\n",
       "      <th>1</th>\n",
       "      <td>0.636762</td>\n",
       "      <td>0.542830</td>\n",
       "      <td>0.037306</td>\n",
       "    </tr>\n",
       "    <tr>\n",
       "      <th>2</th>\n",
       "      <td>0.900611</td>\n",
       "      <td>0.064200</td>\n",
       "      <td>0.378392</td>\n",
       "    </tr>\n",
       "    <tr>\n",
       "      <th rowspan=\"2\" valign=\"top\">c</th>\n",
       "      <th>1</th>\n",
       "      <td>0.442740</td>\n",
       "      <td>0.086773</td>\n",
       "      <td>0.546230</td>\n",
       "    </tr>\n",
       "    <tr>\n",
       "      <th>2</th>\n",
       "      <td>0.366546</td>\n",
       "      <td>0.011517</td>\n",
       "      <td>0.238892</td>\n",
       "    </tr>\n",
       "  </tbody>\n",
       "</table>\n",
       "</div>"
      ],
      "text/plain": [
       "           c1        c2        c3\n",
       "a 1  0.060986  0.711096  0.409039\n",
       "  2  0.046312  0.056353  0.535298\n",
       "b 1  0.636762  0.542830  0.037306\n",
       "  2  0.900611  0.064200  0.378392\n",
       "c 1  0.442740  0.086773  0.546230\n",
       "  2  0.366546  0.011517  0.238892"
      ]
     },
     "execution_count": 85,
     "metadata": {},
     "output_type": "execute_result"
    }
   ],
   "source": [
    "df = pd.DataFrame(np.random.rand(6, 3),\n",
    "                 index=[['a', 'a', 'b', 'b', 'c', 'c'], [1,2,1,2,1,2]],\n",
    "                 columns=['c1', 'c2', 'c3'])\n",
    "df"
   ]
  },
  {
   "cell_type": "code",
   "execution_count": 86,
   "metadata": {
    "id": "b9lRLS_l0tr8"
   },
   "outputs": [
    {
     "data": {
      "text/plain": [
       "MultiIndex([( 'a', 1),\n",
       "            ( 'a', 2),\n",
       "            ( 'b', 1),\n",
       "            ( 'b', 2),\n",
       "            (' c', 1),\n",
       "            ( 'c', 2)],\n",
       "           )"
      ]
     },
     "execution_count": 86,
     "metadata": {},
     "output_type": "execute_result"
    }
   ],
   "source": [
    "pd.MultiIndex.from_arrays([['a', 'a', 'b', 'b',' c', 'c'], [1,2,1,2,1,2]])"
   ]
  },
  {
   "cell_type": "code",
   "execution_count": 87,
   "metadata": {
    "id": "IkjKulZW2Ocr"
   },
   "outputs": [
    {
     "data": {
      "text/plain": [
       "MultiIndex([('a', 'a', 'b', 'b', 'c', 'c'),\n",
       "            (  1,   2,   1,   2,   1,   2)],\n",
       "           )"
      ]
     },
     "execution_count": 87,
     "metadata": {},
     "output_type": "execute_result"
    }
   ],
   "source": [
    "pd.MultiIndex.from_arrays([('a', 1), ('a', 2), ('b', 1), ('b', 2), ('c', 1), ('c', 2)])"
   ]
  },
  {
   "cell_type": "code",
   "execution_count": 88,
   "metadata": {
    "id": "xfQ8edOF2eN_"
   },
   "outputs": [
    {
     "data": {
      "text/plain": [
       "MultiIndex([('a', 1),\n",
       "            ('a', 2),\n",
       "            ('b', 1),\n",
       "            ('b', 2),\n",
       "            ('c', 1),\n",
       "            ('c', 2)],\n",
       "           )"
      ]
     },
     "execution_count": 88,
     "metadata": {},
     "output_type": "execute_result"
    }
   ],
   "source": [
    "pd.MultiIndex.from_product([['a', 'b', 'c'], [1, 2]])"
   ]
  },
  {
   "cell_type": "code",
   "execution_count": 89,
   "metadata": {
    "id": "bK3cXvJy3Bhg"
   },
   "outputs": [
    {
     "data": {
      "text/plain": [
       "MultiIndex([('a', 1),\n",
       "            ('a', 2),\n",
       "            ('b', 1),\n",
       "            ('b', 2),\n",
       "            ('c', 1),\n",
       "            ('c', 2)],\n",
       "           )"
      ]
     },
     "execution_count": 89,
     "metadata": {},
     "output_type": "execute_result"
    }
   ],
   "source": [
    "pd.MultiIndex(levels=[['a', 'b', 'c'], [1, 2]],\n",
    "             codes=[[0,0,1,1,2,2],[0,1,0,1,0,1]])"
   ]
  },
  {
   "cell_type": "code",
   "execution_count": 90,
   "metadata": {
    "id": "hWJShVRj5RFP"
   },
   "outputs": [
    {
     "data": {
      "text/plain": [
       "서울특별시  2010    10312545\n",
       "       2020     9720846\n",
       "부산광역시  2010     2567810\n",
       "       2020     3404423\n",
       "인천광역시  2010     2758296\n",
       "       2020     2947217\n",
       "대구광역시  2010     2511676\n",
       "       2020     2427954\n",
       "대전광역시  2010     1503664\n",
       "       2020     1471040\n",
       "광주광역시  2010     1454636\n",
       "       2020     1455048\n",
       "dtype: int64"
      ]
     },
     "execution_count": 90,
     "metadata": {},
     "output_type": "execute_result"
    }
   ],
   "source": [
    "population"
   ]
  },
  {
   "cell_type": "code",
   "execution_count": 91,
   "metadata": {
    "id": "KNos70_J5ZjD"
   },
   "outputs": [
    {
     "data": {
      "text/plain": [
       "행정구역   년도  \n",
       "서울특별시  2010    10312545\n",
       "       2020     9720846\n",
       "부산광역시  2010     2567810\n",
       "       2020     3404423\n",
       "인천광역시  2010     2758296\n",
       "       2020     2947217\n",
       "대구광역시  2010     2511676\n",
       "       2020     2427954\n",
       "대전광역시  2010     1503664\n",
       "       2020     1471040\n",
       "광주광역시  2010     1454636\n",
       "       2020     1455048\n",
       "dtype: int64"
      ]
     },
     "execution_count": 91,
     "metadata": {},
     "output_type": "execute_result"
    }
   ],
   "source": [
    "population.index.names = ['행정구역', '년도']\n",
    "population"
   ]
  },
  {
   "cell_type": "code",
   "execution_count": 92,
   "metadata": {
    "id": "Th-G-FAn6z-j"
   },
   "outputs": [
    {
     "data": {
      "text/html": [
       "<div>\n",
       "<style scoped>\n",
       "    .dataframe tbody tr th:only-of-type {\n",
       "        vertical-align: middle;\n",
       "    }\n",
       "\n",
       "    .dataframe tbody tr th {\n",
       "        vertical-align: top;\n",
       "    }\n",
       "\n",
       "    .dataframe thead tr th {\n",
       "        text-align: left;\n",
       "    }\n",
       "\n",
       "    .dataframe thead tr:last-of-type th {\n",
       "        text-align: right;\n",
       "    }\n",
       "</style>\n",
       "<table border=\"1\" class=\"dataframe\">\n",
       "  <thead>\n",
       "    <tr>\n",
       "      <th></th>\n",
       "      <th>col_name1</th>\n",
       "      <th colspan=\"2\" halign=\"left\">c1</th>\n",
       "      <th colspan=\"2\" halign=\"left\">c2</th>\n",
       "      <th colspan=\"2\" halign=\"left\">c3</th>\n",
       "    </tr>\n",
       "    <tr>\n",
       "      <th></th>\n",
       "      <th>col_name2</th>\n",
       "      <th>1</th>\n",
       "      <th>2</th>\n",
       "      <th>1</th>\n",
       "      <th>2</th>\n",
       "      <th>1</th>\n",
       "      <th>2</th>\n",
       "    </tr>\n",
       "    <tr>\n",
       "      <th>naem1</th>\n",
       "      <th>name2</th>\n",
       "      <th></th>\n",
       "      <th></th>\n",
       "      <th></th>\n",
       "      <th></th>\n",
       "      <th></th>\n",
       "      <th></th>\n",
       "    </tr>\n",
       "  </thead>\n",
       "  <tbody>\n",
       "    <tr>\n",
       "      <th rowspan=\"2\" valign=\"top\">a</th>\n",
       "      <th>1</th>\n",
       "      <td>-2.06</td>\n",
       "      <td>-2.51</td>\n",
       "      <td>-1.47</td>\n",
       "      <td>-0.61</td>\n",
       "      <td>-1.12</td>\n",
       "      <td>0.50</td>\n",
       "    </tr>\n",
       "    <tr>\n",
       "      <th>2</th>\n",
       "      <td>0.03</td>\n",
       "      <td>-0.67</td>\n",
       "      <td>-1.38</td>\n",
       "      <td>-1.89</td>\n",
       "      <td>-0.31</td>\n",
       "      <td>0.64</td>\n",
       "    </tr>\n",
       "    <tr>\n",
       "      <th rowspan=\"2\" valign=\"top\">b</th>\n",
       "      <th>1</th>\n",
       "      <td>-0.12</td>\n",
       "      <td>-1.53</td>\n",
       "      <td>1.43</td>\n",
       "      <td>0.35</td>\n",
       "      <td>-0.75</td>\n",
       "      <td>-0.96</td>\n",
       "    </tr>\n",
       "    <tr>\n",
       "      <th>2</th>\n",
       "      <td>0.66</td>\n",
       "      <td>-1.60</td>\n",
       "      <td>-0.18</td>\n",
       "      <td>-1.12</td>\n",
       "      <td>-0.21</td>\n",
       "      <td>-1.76</td>\n",
       "    </tr>\n",
       "    <tr>\n",
       "      <th rowspan=\"2\" valign=\"top\">c</th>\n",
       "      <th>1</th>\n",
       "      <td>-0.45</td>\n",
       "      <td>0.56</td>\n",
       "      <td>-0.06</td>\n",
       "      <td>1.37</td>\n",
       "      <td>0.47</td>\n",
       "      <td>0.46</td>\n",
       "    </tr>\n",
       "    <tr>\n",
       "      <th>2</th>\n",
       "      <td>1.31</td>\n",
       "      <td>-0.95</td>\n",
       "      <td>-1.38</td>\n",
       "      <td>-0.32</td>\n",
       "      <td>2.07</td>\n",
       "      <td>1.02</td>\n",
       "    </tr>\n",
       "  </tbody>\n",
       "</table>\n",
       "</div>"
      ],
      "text/plain": [
       "col_name1      c1          c2          c3      \n",
       "col_name2       1     2     1     2     1     2\n",
       "naem1 name2                                    \n",
       "a     1     -2.06 -2.51 -1.47 -0.61 -1.12  0.50\n",
       "      2      0.03 -0.67 -1.38 -1.89 -0.31  0.64\n",
       "b     1     -0.12 -1.53  1.43  0.35 -0.75 -0.96\n",
       "      2      0.66 -1.60 -0.18 -1.12 -0.21 -1.76\n",
       "c     1     -0.45  0.56 -0.06  1.37  0.47  0.46\n",
       "      2      1.31 -0.95 -1.38 -0.32  2.07  1.02"
      ]
     },
     "execution_count": 92,
     "metadata": {},
     "output_type": "execute_result"
    }
   ],
   "source": [
    "idx = pd.MultiIndex.from_product([['a', 'b', 'c'], [1, 2]],\n",
    "                                names=['naem1', 'name2'])\n",
    "cols = pd.MultiIndex.from_product([['c1', 'c2', 'c3'], [1, 2]],\n",
    "                                 names=['col_name1', 'col_name2'])\n",
    "data = np.round(np.random.randn(6, 6), 2)\n",
    "mdf = pd.DataFrame(data, index=idx, columns=cols)\n",
    "mdf"
   ]
  },
  {
   "cell_type": "code",
   "execution_count": 93,
   "metadata": {
    "id": "ooMpG3MG8nhc"
   },
   "outputs": [
    {
     "data": {
      "text/html": [
       "<div>\n",
       "<style scoped>\n",
       "    .dataframe tbody tr th:only-of-type {\n",
       "        vertical-align: middle;\n",
       "    }\n",
       "\n",
       "    .dataframe tbody tr th {\n",
       "        vertical-align: top;\n",
       "    }\n",
       "\n",
       "    .dataframe thead th {\n",
       "        text-align: right;\n",
       "    }\n",
       "</style>\n",
       "<table border=\"1\" class=\"dataframe\">\n",
       "  <thead>\n",
       "    <tr style=\"text-align: right;\">\n",
       "      <th></th>\n",
       "      <th>col_name2</th>\n",
       "      <th>1</th>\n",
       "      <th>2</th>\n",
       "    </tr>\n",
       "    <tr>\n",
       "      <th>naem1</th>\n",
       "      <th>name2</th>\n",
       "      <th></th>\n",
       "      <th></th>\n",
       "    </tr>\n",
       "  </thead>\n",
       "  <tbody>\n",
       "    <tr>\n",
       "      <th rowspan=\"2\" valign=\"top\">a</th>\n",
       "      <th>1</th>\n",
       "      <td>-1.47</td>\n",
       "      <td>-0.61</td>\n",
       "    </tr>\n",
       "    <tr>\n",
       "      <th>2</th>\n",
       "      <td>-1.38</td>\n",
       "      <td>-1.89</td>\n",
       "    </tr>\n",
       "    <tr>\n",
       "      <th rowspan=\"2\" valign=\"top\">b</th>\n",
       "      <th>1</th>\n",
       "      <td>1.43</td>\n",
       "      <td>0.35</td>\n",
       "    </tr>\n",
       "    <tr>\n",
       "      <th>2</th>\n",
       "      <td>-0.18</td>\n",
       "      <td>-1.12</td>\n",
       "    </tr>\n",
       "    <tr>\n",
       "      <th rowspan=\"2\" valign=\"top\">c</th>\n",
       "      <th>1</th>\n",
       "      <td>-0.06</td>\n",
       "      <td>1.37</td>\n",
       "    </tr>\n",
       "    <tr>\n",
       "      <th>2</th>\n",
       "      <td>-1.38</td>\n",
       "      <td>-0.32</td>\n",
       "    </tr>\n",
       "  </tbody>\n",
       "</table>\n",
       "</div>"
      ],
      "text/plain": [
       "col_name2       1     2\n",
       "naem1 name2            \n",
       "a     1     -1.47 -0.61\n",
       "      2     -1.38 -1.89\n",
       "b     1      1.43  0.35\n",
       "      2     -0.18 -1.12\n",
       "c     1     -0.06  1.37\n",
       "      2     -1.38 -0.32"
      ]
     },
     "execution_count": 93,
     "metadata": {},
     "output_type": "execute_result"
    }
   ],
   "source": [
    "mdf['c2']"
   ]
  },
  {
   "cell_type": "markdown",
   "metadata": {
    "id": "d2jFmy1x837m"
   },
   "source": [
    "#### 인덱싱 및 슬라이싱"
   ]
  },
  {
   "cell_type": "code",
   "execution_count": 94,
   "metadata": {
    "id": "5qDexsN98_3V"
   },
   "outputs": [
    {
     "data": {
      "text/plain": [
       "2758296"
      ]
     },
     "execution_count": 94,
     "metadata": {},
     "output_type": "execute_result"
    }
   ],
   "source": [
    "population['인천광역시', 2010]"
   ]
  },
  {
   "cell_type": "code",
   "execution_count": 95,
   "metadata": {
    "id": "daJEr_c_9EGT"
   },
   "outputs": [
    {
     "data": {
      "text/plain": [
       "행정구역\n",
       "서울특별시    10312545\n",
       "부산광역시     2567810\n",
       "인천광역시     2758296\n",
       "대구광역시     2511676\n",
       "대전광역시     1503664\n",
       "광주광역시     1454636\n",
       "dtype: int64"
      ]
     },
     "execution_count": 95,
     "metadata": {},
     "output_type": "execute_result"
    }
   ],
   "source": [
    "population[:, 2010]"
   ]
  },
  {
   "cell_type": "code",
   "execution_count": 96,
   "metadata": {
    "id": "AqPBvowq9YY3"
   },
   "outputs": [
    {
     "data": {
      "text/plain": [
       "행정구역   년도  \n",
       "서울특별시  2010    10312545\n",
       "       2020     9720846\n",
       "부산광역시  2020     3404423\n",
       "dtype: int64"
      ]
     },
     "execution_count": 96,
     "metadata": {},
     "output_type": "execute_result"
    }
   ],
   "source": [
    "population[population > 3000000]"
   ]
  },
  {
   "cell_type": "code",
   "execution_count": 97,
   "metadata": {
    "id": "zkMhB7q1-DlM"
   },
   "outputs": [
    {
     "data": {
      "text/plain": [
       "행정구역   년도  \n",
       "대구광역시  2010    2511676\n",
       "       2020    2427954\n",
       "대전광역시  2010    1503664\n",
       "       2020    1471040\n",
       "dtype: int64"
      ]
     },
     "execution_count": 97,
     "metadata": {},
     "output_type": "execute_result"
    }
   ],
   "source": [
    "population[['대구광역시', '대전광역시']]"
   ]
  },
  {
   "cell_type": "code",
   "execution_count": 98,
   "metadata": {
    "id": "tcQ-jXF--Q0m"
   },
   "outputs": [
    {
     "data": {
      "text/html": [
       "<div>\n",
       "<style scoped>\n",
       "    .dataframe tbody tr th:only-of-type {\n",
       "        vertical-align: middle;\n",
       "    }\n",
       "\n",
       "    .dataframe tbody tr th {\n",
       "        vertical-align: top;\n",
       "    }\n",
       "\n",
       "    .dataframe thead tr th {\n",
       "        text-align: left;\n",
       "    }\n",
       "\n",
       "    .dataframe thead tr:last-of-type th {\n",
       "        text-align: right;\n",
       "    }\n",
       "</style>\n",
       "<table border=\"1\" class=\"dataframe\">\n",
       "  <thead>\n",
       "    <tr>\n",
       "      <th></th>\n",
       "      <th>col_name1</th>\n",
       "      <th colspan=\"2\" halign=\"left\">c1</th>\n",
       "      <th colspan=\"2\" halign=\"left\">c2</th>\n",
       "      <th colspan=\"2\" halign=\"left\">c3</th>\n",
       "    </tr>\n",
       "    <tr>\n",
       "      <th></th>\n",
       "      <th>col_name2</th>\n",
       "      <th>1</th>\n",
       "      <th>2</th>\n",
       "      <th>1</th>\n",
       "      <th>2</th>\n",
       "      <th>1</th>\n",
       "      <th>2</th>\n",
       "    </tr>\n",
       "    <tr>\n",
       "      <th>naem1</th>\n",
       "      <th>name2</th>\n",
       "      <th></th>\n",
       "      <th></th>\n",
       "      <th></th>\n",
       "      <th></th>\n",
       "      <th></th>\n",
       "      <th></th>\n",
       "    </tr>\n",
       "  </thead>\n",
       "  <tbody>\n",
       "    <tr>\n",
       "      <th rowspan=\"2\" valign=\"top\">a</th>\n",
       "      <th>1</th>\n",
       "      <td>-2.06</td>\n",
       "      <td>-2.51</td>\n",
       "      <td>-1.47</td>\n",
       "      <td>-0.61</td>\n",
       "      <td>-1.12</td>\n",
       "      <td>0.50</td>\n",
       "    </tr>\n",
       "    <tr>\n",
       "      <th>2</th>\n",
       "      <td>0.03</td>\n",
       "      <td>-0.67</td>\n",
       "      <td>-1.38</td>\n",
       "      <td>-1.89</td>\n",
       "      <td>-0.31</td>\n",
       "      <td>0.64</td>\n",
       "    </tr>\n",
       "    <tr>\n",
       "      <th rowspan=\"2\" valign=\"top\">b</th>\n",
       "      <th>1</th>\n",
       "      <td>-0.12</td>\n",
       "      <td>-1.53</td>\n",
       "      <td>1.43</td>\n",
       "      <td>0.35</td>\n",
       "      <td>-0.75</td>\n",
       "      <td>-0.96</td>\n",
       "    </tr>\n",
       "    <tr>\n",
       "      <th>2</th>\n",
       "      <td>0.66</td>\n",
       "      <td>-1.60</td>\n",
       "      <td>-0.18</td>\n",
       "      <td>-1.12</td>\n",
       "      <td>-0.21</td>\n",
       "      <td>-1.76</td>\n",
       "    </tr>\n",
       "    <tr>\n",
       "      <th rowspan=\"2\" valign=\"top\">c</th>\n",
       "      <th>1</th>\n",
       "      <td>-0.45</td>\n",
       "      <td>0.56</td>\n",
       "      <td>-0.06</td>\n",
       "      <td>1.37</td>\n",
       "      <td>0.47</td>\n",
       "      <td>0.46</td>\n",
       "    </tr>\n",
       "    <tr>\n",
       "      <th>2</th>\n",
       "      <td>1.31</td>\n",
       "      <td>-0.95</td>\n",
       "      <td>-1.38</td>\n",
       "      <td>-0.32</td>\n",
       "      <td>2.07</td>\n",
       "      <td>1.02</td>\n",
       "    </tr>\n",
       "  </tbody>\n",
       "</table>\n",
       "</div>"
      ],
      "text/plain": [
       "col_name1      c1          c2          c3      \n",
       "col_name2       1     2     1     2     1     2\n",
       "naem1 name2                                    \n",
       "a     1     -2.06 -2.51 -1.47 -0.61 -1.12  0.50\n",
       "      2      0.03 -0.67 -1.38 -1.89 -0.31  0.64\n",
       "b     1     -0.12 -1.53  1.43  0.35 -0.75 -0.96\n",
       "      2      0.66 -1.60 -0.18 -1.12 -0.21 -1.76\n",
       "c     1     -0.45  0.56 -0.06  1.37  0.47  0.46\n",
       "      2      1.31 -0.95 -1.38 -0.32  2.07  1.02"
      ]
     },
     "execution_count": 98,
     "metadata": {},
     "output_type": "execute_result"
    }
   ],
   "source": [
    "mdf"
   ]
  },
  {
   "cell_type": "code",
   "execution_count": 99,
   "metadata": {
    "id": "88uFVbPP-Z4g"
   },
   "outputs": [
    {
     "data": {
      "text/plain": [
       "naem1  name2\n",
       "a      1       -1.47\n",
       "       2       -1.38\n",
       "b      1        1.43\n",
       "       2       -0.18\n",
       "c      1       -0.06\n",
       "       2       -1.38\n",
       "Name: (c2, 1), dtype: float64"
      ]
     },
     "execution_count": 99,
     "metadata": {},
     "output_type": "execute_result"
    }
   ],
   "source": [
    "mdf['c2', 1]"
   ]
  },
  {
   "cell_type": "code",
   "execution_count": 100,
   "metadata": {
    "id": "RwkBWRU_-fHW"
   },
   "outputs": [
    {
     "data": {
      "text/html": [
       "<div>\n",
       "<style scoped>\n",
       "    .dataframe tbody tr th:only-of-type {\n",
       "        vertical-align: middle;\n",
       "    }\n",
       "\n",
       "    .dataframe tbody tr th {\n",
       "        vertical-align: top;\n",
       "    }\n",
       "\n",
       "    .dataframe thead tr th {\n",
       "        text-align: left;\n",
       "    }\n",
       "\n",
       "    .dataframe thead tr:last-of-type th {\n",
       "        text-align: right;\n",
       "    }\n",
       "</style>\n",
       "<table border=\"1\" class=\"dataframe\">\n",
       "  <thead>\n",
       "    <tr>\n",
       "      <th></th>\n",
       "      <th>col_name1</th>\n",
       "      <th colspan=\"2\" halign=\"left\">c1</th>\n",
       "      <th colspan=\"2\" halign=\"left\">c2</th>\n",
       "    </tr>\n",
       "    <tr>\n",
       "      <th></th>\n",
       "      <th>col_name2</th>\n",
       "      <th>1</th>\n",
       "      <th>2</th>\n",
       "      <th>1</th>\n",
       "      <th>2</th>\n",
       "    </tr>\n",
       "    <tr>\n",
       "      <th>naem1</th>\n",
       "      <th>name2</th>\n",
       "      <th></th>\n",
       "      <th></th>\n",
       "      <th></th>\n",
       "      <th></th>\n",
       "    </tr>\n",
       "  </thead>\n",
       "  <tbody>\n",
       "    <tr>\n",
       "      <th rowspan=\"2\" valign=\"top\">a</th>\n",
       "      <th>1</th>\n",
       "      <td>-2.06</td>\n",
       "      <td>-2.51</td>\n",
       "      <td>-1.47</td>\n",
       "      <td>-0.61</td>\n",
       "    </tr>\n",
       "    <tr>\n",
       "      <th>2</th>\n",
       "      <td>0.03</td>\n",
       "      <td>-0.67</td>\n",
       "      <td>-1.38</td>\n",
       "      <td>-1.89</td>\n",
       "    </tr>\n",
       "    <tr>\n",
       "      <th>b</th>\n",
       "      <th>1</th>\n",
       "      <td>-0.12</td>\n",
       "      <td>-1.53</td>\n",
       "      <td>1.43</td>\n",
       "      <td>0.35</td>\n",
       "    </tr>\n",
       "  </tbody>\n",
       "</table>\n",
       "</div>"
      ],
      "text/plain": [
       "col_name1      c1          c2      \n",
       "col_name2       1     2     1     2\n",
       "naem1 name2                        \n",
       "a     1     -2.06 -2.51 -1.47 -0.61\n",
       "      2      0.03 -0.67 -1.38 -1.89\n",
       "b     1     -0.12 -1.53  1.43  0.35"
      ]
     },
     "execution_count": 100,
     "metadata": {},
     "output_type": "execute_result"
    }
   ],
   "source": [
    "mdf.iloc[:3, :4]"
   ]
  },
  {
   "cell_type": "code",
   "execution_count": 101,
   "metadata": {
    "id": "GVqzxZcq-tiq"
   },
   "outputs": [
    {
     "data": {
      "text/plain": [
       "naem1  name2\n",
       "a      1       -1.47\n",
       "       2       -1.38\n",
       "b      1        1.43\n",
       "       2       -0.18\n",
       "c      1       -0.06\n",
       "       2       -1.38\n",
       "Name: (c2, 1), dtype: float64"
      ]
     },
     "execution_count": 101,
     "metadata": {},
     "output_type": "execute_result"
    }
   ],
   "source": [
    "mdf.loc[:, ('c2', 1)]"
   ]
  },
  {
   "cell_type": "code",
   "execution_count": 102,
   "metadata": {
    "id": "Ywhin1Dc--st"
   },
   "outputs": [
    {
     "data": {
      "text/html": [
       "<div>\n",
       "<style scoped>\n",
       "    .dataframe tbody tr th:only-of-type {\n",
       "        vertical-align: middle;\n",
       "    }\n",
       "\n",
       "    .dataframe tbody tr th {\n",
       "        vertical-align: top;\n",
       "    }\n",
       "\n",
       "    .dataframe thead tr th {\n",
       "        text-align: left;\n",
       "    }\n",
       "\n",
       "    .dataframe thead tr:last-of-type th {\n",
       "        text-align: right;\n",
       "    }\n",
       "</style>\n",
       "<table border=\"1\" class=\"dataframe\">\n",
       "  <thead>\n",
       "    <tr>\n",
       "      <th></th>\n",
       "      <th>col_name1</th>\n",
       "      <th>c1</th>\n",
       "      <th>c2</th>\n",
       "      <th>c3</th>\n",
       "    </tr>\n",
       "    <tr>\n",
       "      <th></th>\n",
       "      <th>col_name2</th>\n",
       "      <th>2</th>\n",
       "      <th>2</th>\n",
       "      <th>2</th>\n",
       "    </tr>\n",
       "    <tr>\n",
       "      <th>naem1</th>\n",
       "      <th>name2</th>\n",
       "      <th></th>\n",
       "      <th></th>\n",
       "      <th></th>\n",
       "    </tr>\n",
       "  </thead>\n",
       "  <tbody>\n",
       "    <tr>\n",
       "      <th>a</th>\n",
       "      <th>2</th>\n",
       "      <td>-0.67</td>\n",
       "      <td>-1.89</td>\n",
       "      <td>0.64</td>\n",
       "    </tr>\n",
       "    <tr>\n",
       "      <th>b</th>\n",
       "      <th>2</th>\n",
       "      <td>-1.60</td>\n",
       "      <td>-1.12</td>\n",
       "      <td>-1.76</td>\n",
       "    </tr>\n",
       "    <tr>\n",
       "      <th>c</th>\n",
       "      <th>2</th>\n",
       "      <td>-0.95</td>\n",
       "      <td>-0.32</td>\n",
       "      <td>1.02</td>\n",
       "    </tr>\n",
       "  </tbody>\n",
       "</table>\n",
       "</div>"
      ],
      "text/plain": [
       "col_name1      c1    c2    c3\n",
       "col_name2       2     2     2\n",
       "naem1 name2                  \n",
       "a     2     -0.67 -1.89  0.64\n",
       "b     2     -1.60 -1.12 -1.76\n",
       "c     2     -0.95 -0.32  1.02"
      ]
     },
     "execution_count": 102,
     "metadata": {},
     "output_type": "execute_result"
    }
   ],
   "source": [
    "idx_slice = pd.IndexSlice\n",
    "mdf.loc[idx_slice[:, 2], idx_slice[:, 2]]"
   ]
  },
  {
   "cell_type": "markdown",
   "metadata": {
    "id": "Nt4Rby0LA9M0"
   },
   "source": [
    "#### 다중 인덱스 재정렬"
   ]
  },
  {
   "cell_type": "code",
   "execution_count": 103,
   "metadata": {
    "id": "_Q9X9HWs_fMN"
   },
   "outputs": [
    {
     "data": {
      "text/html": [
       "<div>\n",
       "<style scoped>\n",
       "    .dataframe tbody tr th:only-of-type {\n",
       "        vertical-align: middle;\n",
       "    }\n",
       "\n",
       "    .dataframe tbody tr th {\n",
       "        vertical-align: top;\n",
       "    }\n",
       "\n",
       "    .dataframe thead th {\n",
       "        text-align: right;\n",
       "    }\n",
       "</style>\n",
       "<table border=\"1\" class=\"dataframe\">\n",
       "  <thead>\n",
       "    <tr style=\"text-align: right;\">\n",
       "      <th></th>\n",
       "      <th></th>\n",
       "      <th>총인구수</th>\n",
       "      <th>남자인구수</th>\n",
       "      <th>여자인구수</th>\n",
       "      <th>남녀비율</th>\n",
       "    </tr>\n",
       "  </thead>\n",
       "  <tbody>\n",
       "    <tr>\n",
       "      <th rowspan=\"2\" valign=\"top\">서울특별시</th>\n",
       "      <th>2010</th>\n",
       "      <td>10312545</td>\n",
       "      <td>5111259</td>\n",
       "      <td>5201286</td>\n",
       "      <td>98.269140</td>\n",
       "    </tr>\n",
       "    <tr>\n",
       "      <th>2020</th>\n",
       "      <td>9720846</td>\n",
       "      <td>4732275</td>\n",
       "      <td>4988571</td>\n",
       "      <td>94.862336</td>\n",
       "    </tr>\n",
       "    <tr>\n",
       "      <th rowspan=\"2\" valign=\"top\">부산광역시</th>\n",
       "      <th>2010</th>\n",
       "      <td>2567810</td>\n",
       "      <td>1773170</td>\n",
       "      <td>1794740</td>\n",
       "      <td>98.798155</td>\n",
       "    </tr>\n",
       "    <tr>\n",
       "      <th>2020</th>\n",
       "      <td>3404423</td>\n",
       "      <td>1668618</td>\n",
       "      <td>1735805</td>\n",
       "      <td>96.129346</td>\n",
       "    </tr>\n",
       "    <tr>\n",
       "      <th rowspan=\"2\" valign=\"top\">인천광역시</th>\n",
       "      <th>2010</th>\n",
       "      <td>2758296</td>\n",
       "      <td>1390356</td>\n",
       "      <td>1367940</td>\n",
       "      <td>101.638668</td>\n",
       "    </tr>\n",
       "    <tr>\n",
       "      <th>2020</th>\n",
       "      <td>2947217</td>\n",
       "      <td>1476813</td>\n",
       "      <td>1470404</td>\n",
       "      <td>100.435867</td>\n",
       "    </tr>\n",
       "    <tr>\n",
       "      <th rowspan=\"2\" valign=\"top\">대구광역시</th>\n",
       "      <th>2010</th>\n",
       "      <td>2511676</td>\n",
       "      <td>1255245</td>\n",
       "      <td>1257431</td>\n",
       "      <td>99.826153</td>\n",
       "    </tr>\n",
       "    <tr>\n",
       "      <th>2020</th>\n",
       "      <td>2427954</td>\n",
       "      <td>1198815</td>\n",
       "      <td>1229139</td>\n",
       "      <td>97.532907</td>\n",
       "    </tr>\n",
       "    <tr>\n",
       "      <th rowspan=\"2\" valign=\"top\">대전광역시</th>\n",
       "      <th>2010</th>\n",
       "      <td>1503664</td>\n",
       "      <td>753648</td>\n",
       "      <td>750016</td>\n",
       "      <td>100.484256</td>\n",
       "    </tr>\n",
       "    <tr>\n",
       "      <th>2020</th>\n",
       "      <td>1471040</td>\n",
       "      <td>734441</td>\n",
       "      <td>736599</td>\n",
       "      <td>99.707032</td>\n",
       "    </tr>\n",
       "    <tr>\n",
       "      <th rowspan=\"2\" valign=\"top\">광주광역시</th>\n",
       "      <th>2010</th>\n",
       "      <td>1454636</td>\n",
       "      <td>721780</td>\n",
       "      <td>732856</td>\n",
       "      <td>98.488653</td>\n",
       "    </tr>\n",
       "    <tr>\n",
       "      <th>2020</th>\n",
       "      <td>1455048</td>\n",
       "      <td>720060</td>\n",
       "      <td>734988</td>\n",
       "      <td>97.968946</td>\n",
       "    </tr>\n",
       "  </tbody>\n",
       "</table>\n",
       "</div>"
      ],
      "text/plain": [
       "                총인구수    남자인구수    여자인구수        남녀비율\n",
       "서울특별시 2010  10312545  5111259  5201286   98.269140\n",
       "      2020   9720846  4732275  4988571   94.862336\n",
       "부산광역시 2010   2567810  1773170  1794740   98.798155\n",
       "      2020   3404423  1668618  1735805   96.129346\n",
       "인천광역시 2010   2758296  1390356  1367940  101.638668\n",
       "      2020   2947217  1476813  1470404  100.435867\n",
       "대구광역시 2010   2511676  1255245  1257431   99.826153\n",
       "      2020   2427954  1198815  1229139   97.532907\n",
       "대전광역시 2010   1503664   753648   750016  100.484256\n",
       "      2020   1471040   734441   736599   99.707032\n",
       "광주광역시 2010   1454636   721780   732856   98.488653\n",
       "      2020   1455048   720060   734988   97.968946"
      ]
     },
     "execution_count": 103,
     "metadata": {},
     "output_type": "execute_result"
    }
   ],
   "source": [
    "korea_mdf"
   ]
  },
  {
   "cell_type": "code",
   "execution_count": 104,
   "metadata": {
    "id": "NgpfPvpaBBHR"
   },
   "outputs": [
    {
     "data": {
      "text/html": [
       "<div>\n",
       "<style scoped>\n",
       "    .dataframe tbody tr th:only-of-type {\n",
       "        vertical-align: middle;\n",
       "    }\n",
       "\n",
       "    .dataframe tbody tr th {\n",
       "        vertical-align: top;\n",
       "    }\n",
       "\n",
       "    .dataframe thead th {\n",
       "        text-align: right;\n",
       "    }\n",
       "</style>\n",
       "<table border=\"1\" class=\"dataframe\">\n",
       "  <thead>\n",
       "    <tr style=\"text-align: right;\">\n",
       "      <th></th>\n",
       "      <th></th>\n",
       "      <th>총인구수</th>\n",
       "      <th>남자인구수</th>\n",
       "      <th>여자인구수</th>\n",
       "      <th>남녀비율</th>\n",
       "    </tr>\n",
       "  </thead>\n",
       "  <tbody>\n",
       "    <tr>\n",
       "      <th rowspan=\"2\" valign=\"top\">광주광역시</th>\n",
       "      <th>2010</th>\n",
       "      <td>1454636</td>\n",
       "      <td>721780</td>\n",
       "      <td>732856</td>\n",
       "      <td>98.488653</td>\n",
       "    </tr>\n",
       "    <tr>\n",
       "      <th>2020</th>\n",
       "      <td>1455048</td>\n",
       "      <td>720060</td>\n",
       "      <td>734988</td>\n",
       "      <td>97.968946</td>\n",
       "    </tr>\n",
       "    <tr>\n",
       "      <th rowspan=\"2\" valign=\"top\">대구광역시</th>\n",
       "      <th>2010</th>\n",
       "      <td>2511676</td>\n",
       "      <td>1255245</td>\n",
       "      <td>1257431</td>\n",
       "      <td>99.826153</td>\n",
       "    </tr>\n",
       "    <tr>\n",
       "      <th>2020</th>\n",
       "      <td>2427954</td>\n",
       "      <td>1198815</td>\n",
       "      <td>1229139</td>\n",
       "      <td>97.532907</td>\n",
       "    </tr>\n",
       "    <tr>\n",
       "      <th rowspan=\"2\" valign=\"top\">대전광역시</th>\n",
       "      <th>2010</th>\n",
       "      <td>1503664</td>\n",
       "      <td>753648</td>\n",
       "      <td>750016</td>\n",
       "      <td>100.484256</td>\n",
       "    </tr>\n",
       "    <tr>\n",
       "      <th>2020</th>\n",
       "      <td>1471040</td>\n",
       "      <td>734441</td>\n",
       "      <td>736599</td>\n",
       "      <td>99.707032</td>\n",
       "    </tr>\n",
       "    <tr>\n",
       "      <th rowspan=\"2\" valign=\"top\">부산광역시</th>\n",
       "      <th>2010</th>\n",
       "      <td>2567810</td>\n",
       "      <td>1773170</td>\n",
       "      <td>1794740</td>\n",
       "      <td>98.798155</td>\n",
       "    </tr>\n",
       "    <tr>\n",
       "      <th>2020</th>\n",
       "      <td>3404423</td>\n",
       "      <td>1668618</td>\n",
       "      <td>1735805</td>\n",
       "      <td>96.129346</td>\n",
       "    </tr>\n",
       "    <tr>\n",
       "      <th rowspan=\"2\" valign=\"top\">서울특별시</th>\n",
       "      <th>2010</th>\n",
       "      <td>10312545</td>\n",
       "      <td>5111259</td>\n",
       "      <td>5201286</td>\n",
       "      <td>98.269140</td>\n",
       "    </tr>\n",
       "    <tr>\n",
       "      <th>2020</th>\n",
       "      <td>9720846</td>\n",
       "      <td>4732275</td>\n",
       "      <td>4988571</td>\n",
       "      <td>94.862336</td>\n",
       "    </tr>\n",
       "    <tr>\n",
       "      <th rowspan=\"2\" valign=\"top\">인천광역시</th>\n",
       "      <th>2010</th>\n",
       "      <td>2758296</td>\n",
       "      <td>1390356</td>\n",
       "      <td>1367940</td>\n",
       "      <td>101.638668</td>\n",
       "    </tr>\n",
       "    <tr>\n",
       "      <th>2020</th>\n",
       "      <td>2947217</td>\n",
       "      <td>1476813</td>\n",
       "      <td>1470404</td>\n",
       "      <td>100.435867</td>\n",
       "    </tr>\n",
       "  </tbody>\n",
       "</table>\n",
       "</div>"
      ],
      "text/plain": [
       "                총인구수    남자인구수    여자인구수        남녀비율\n",
       "광주광역시 2010   1454636   721780   732856   98.488653\n",
       "      2020   1455048   720060   734988   97.968946\n",
       "대구광역시 2010   2511676  1255245  1257431   99.826153\n",
       "      2020   2427954  1198815  1229139   97.532907\n",
       "대전광역시 2010   1503664   753648   750016  100.484256\n",
       "      2020   1471040   734441   736599   99.707032\n",
       "부산광역시 2010   2567810  1773170  1794740   98.798155\n",
       "      2020   3404423  1668618  1735805   96.129346\n",
       "서울특별시 2010  10312545  5111259  5201286   98.269140\n",
       "      2020   9720846  4732275  4988571   94.862336\n",
       "인천광역시 2010   2758296  1390356  1367940  101.638668\n",
       "      2020   2947217  1476813  1470404  100.435867"
      ]
     },
     "execution_count": 104,
     "metadata": {},
     "output_type": "execute_result"
    }
   ],
   "source": [
    "korea_mdf = korea_mdf.sort_index()\n",
    "korea_mdf"
   ]
  },
  {
   "cell_type": "code",
   "execution_count": 105,
   "metadata": {
    "id": "uniTQ5qIBMfP"
   },
   "outputs": [
    {
     "data": {
      "text/html": [
       "<div>\n",
       "<style scoped>\n",
       "    .dataframe tbody tr th:only-of-type {\n",
       "        vertical-align: middle;\n",
       "    }\n",
       "\n",
       "    .dataframe tbody tr th {\n",
       "        vertical-align: top;\n",
       "    }\n",
       "\n",
       "    .dataframe thead th {\n",
       "        text-align: right;\n",
       "    }\n",
       "</style>\n",
       "<table border=\"1\" class=\"dataframe\">\n",
       "  <thead>\n",
       "    <tr style=\"text-align: right;\">\n",
       "      <th></th>\n",
       "      <th></th>\n",
       "      <th>총인구수</th>\n",
       "      <th>남자인구수</th>\n",
       "      <th>여자인구수</th>\n",
       "      <th>남녀비율</th>\n",
       "    </tr>\n",
       "  </thead>\n",
       "  <tbody>\n",
       "    <tr>\n",
       "      <th rowspan=\"2\" valign=\"top\">서울특별시</th>\n",
       "      <th>2010</th>\n",
       "      <td>10312545</td>\n",
       "      <td>5111259</td>\n",
       "      <td>5201286</td>\n",
       "      <td>98.269140</td>\n",
       "    </tr>\n",
       "    <tr>\n",
       "      <th>2020</th>\n",
       "      <td>9720846</td>\n",
       "      <td>4732275</td>\n",
       "      <td>4988571</td>\n",
       "      <td>94.862336</td>\n",
       "    </tr>\n",
       "    <tr>\n",
       "      <th rowspan=\"2\" valign=\"top\">인천광역시</th>\n",
       "      <th>2010</th>\n",
       "      <td>2758296</td>\n",
       "      <td>1390356</td>\n",
       "      <td>1367940</td>\n",
       "      <td>101.638668</td>\n",
       "    </tr>\n",
       "    <tr>\n",
       "      <th>2020</th>\n",
       "      <td>2947217</td>\n",
       "      <td>1476813</td>\n",
       "      <td>1470404</td>\n",
       "      <td>100.435867</td>\n",
       "    </tr>\n",
       "  </tbody>\n",
       "</table>\n",
       "</div>"
      ],
      "text/plain": [
       "                총인구수    남자인구수    여자인구수        남녀비율\n",
       "서울특별시 2010  10312545  5111259  5201286   98.269140\n",
       "      2020   9720846  4732275  4988571   94.862336\n",
       "인천광역시 2010   2758296  1390356  1367940  101.638668\n",
       "      2020   2947217  1476813  1470404  100.435867"
      ]
     },
     "execution_count": 105,
     "metadata": {},
     "output_type": "execute_result"
    }
   ],
   "source": [
    "korea_mdf['서울특별시' : '인천광역시']"
   ]
  },
  {
   "cell_type": "code",
   "execution_count": 106,
   "metadata": {
    "id": "zilkRp8RBm87"
   },
   "outputs": [
    {
     "data": {
      "text/html": [
       "<div>\n",
       "<style scoped>\n",
       "    .dataframe tbody tr th:only-of-type {\n",
       "        vertical-align: middle;\n",
       "    }\n",
       "\n",
       "    .dataframe tbody tr th {\n",
       "        vertical-align: top;\n",
       "    }\n",
       "\n",
       "    .dataframe thead tr th {\n",
       "        text-align: left;\n",
       "    }\n",
       "</style>\n",
       "<table border=\"1\" class=\"dataframe\">\n",
       "  <thead>\n",
       "    <tr>\n",
       "      <th></th>\n",
       "      <th colspan=\"6\" halign=\"left\">총인구수</th>\n",
       "      <th colspan=\"4\" halign=\"left\">남자인구수</th>\n",
       "      <th>...</th>\n",
       "      <th colspan=\"4\" halign=\"left\">여자인구수</th>\n",
       "      <th colspan=\"6\" halign=\"left\">남녀비율</th>\n",
       "    </tr>\n",
       "    <tr>\n",
       "      <th></th>\n",
       "      <th>광주광역시</th>\n",
       "      <th>대구광역시</th>\n",
       "      <th>대전광역시</th>\n",
       "      <th>부산광역시</th>\n",
       "      <th>서울특별시</th>\n",
       "      <th>인천광역시</th>\n",
       "      <th>광주광역시</th>\n",
       "      <th>대구광역시</th>\n",
       "      <th>대전광역시</th>\n",
       "      <th>부산광역시</th>\n",
       "      <th>...</th>\n",
       "      <th>대전광역시</th>\n",
       "      <th>부산광역시</th>\n",
       "      <th>서울특별시</th>\n",
       "      <th>인천광역시</th>\n",
       "      <th>광주광역시</th>\n",
       "      <th>대구광역시</th>\n",
       "      <th>대전광역시</th>\n",
       "      <th>부산광역시</th>\n",
       "      <th>서울특별시</th>\n",
       "      <th>인천광역시</th>\n",
       "    </tr>\n",
       "  </thead>\n",
       "  <tbody>\n",
       "    <tr>\n",
       "      <th>2010</th>\n",
       "      <td>1454636</td>\n",
       "      <td>2511676</td>\n",
       "      <td>1503664</td>\n",
       "      <td>2567810</td>\n",
       "      <td>10312545</td>\n",
       "      <td>2758296</td>\n",
       "      <td>721780</td>\n",
       "      <td>1255245</td>\n",
       "      <td>753648</td>\n",
       "      <td>1773170</td>\n",
       "      <td>...</td>\n",
       "      <td>750016</td>\n",
       "      <td>1794740</td>\n",
       "      <td>5201286</td>\n",
       "      <td>1367940</td>\n",
       "      <td>98.488653</td>\n",
       "      <td>99.826153</td>\n",
       "      <td>100.484256</td>\n",
       "      <td>98.798155</td>\n",
       "      <td>98.269140</td>\n",
       "      <td>101.638668</td>\n",
       "    </tr>\n",
       "    <tr>\n",
       "      <th>2020</th>\n",
       "      <td>1455048</td>\n",
       "      <td>2427954</td>\n",
       "      <td>1471040</td>\n",
       "      <td>3404423</td>\n",
       "      <td>9720846</td>\n",
       "      <td>2947217</td>\n",
       "      <td>720060</td>\n",
       "      <td>1198815</td>\n",
       "      <td>734441</td>\n",
       "      <td>1668618</td>\n",
       "      <td>...</td>\n",
       "      <td>736599</td>\n",
       "      <td>1735805</td>\n",
       "      <td>4988571</td>\n",
       "      <td>1470404</td>\n",
       "      <td>97.968946</td>\n",
       "      <td>97.532907</td>\n",
       "      <td>99.707032</td>\n",
       "      <td>96.129346</td>\n",
       "      <td>94.862336</td>\n",
       "      <td>100.435867</td>\n",
       "    </tr>\n",
       "  </tbody>\n",
       "</table>\n",
       "<p>2 rows × 24 columns</p>\n",
       "</div>"
      ],
      "text/plain": [
       "         총인구수                                                 남자인구수           \\\n",
       "        광주광역시    대구광역시    대전광역시    부산광역시     서울특별시    인천광역시   광주광역시    대구광역시   \n",
       "2010  1454636  2511676  1503664  2567810  10312545  2758296  721780  1255245   \n",
       "2020  1455048  2427954  1471040  3404423   9720846  2947217  720060  1198815   \n",
       "\n",
       "                       ...   여자인구수                                  남녀비율  \\\n",
       "       대전광역시    부산광역시  ...   대전광역시    부산광역시    서울특별시    인천광역시      광주광역시   \n",
       "2010  753648  1773170  ...  750016  1794740  5201286  1367940  98.488653   \n",
       "2020  734441  1668618  ...  736599  1735805  4988571  1470404  97.968946   \n",
       "\n",
       "                                                               \n",
       "          대구광역시       대전광역시      부산광역시      서울특별시       인천광역시  \n",
       "2010  99.826153  100.484256  98.798155  98.269140  101.638668  \n",
       "2020  97.532907   99.707032  96.129346  94.862336  100.435867  \n",
       "\n",
       "[2 rows x 24 columns]"
      ]
     },
     "execution_count": 106,
     "metadata": {},
     "output_type": "execute_result"
    }
   ],
   "source": [
    "korea_mdf.unstack(level=0)"
   ]
  },
  {
   "cell_type": "code",
   "execution_count": 107,
   "metadata": {
    "id": "4928t860U-Ot"
   },
   "outputs": [
    {
     "data": {
      "text/html": [
       "<div>\n",
       "<style scoped>\n",
       "    .dataframe tbody tr th:only-of-type {\n",
       "        vertical-align: middle;\n",
       "    }\n",
       "\n",
       "    .dataframe tbody tr th {\n",
       "        vertical-align: top;\n",
       "    }\n",
       "\n",
       "    .dataframe thead tr th {\n",
       "        text-align: left;\n",
       "    }\n",
       "</style>\n",
       "<table border=\"1\" class=\"dataframe\">\n",
       "  <thead>\n",
       "    <tr>\n",
       "      <th></th>\n",
       "      <th colspan=\"2\" halign=\"left\">총인구수</th>\n",
       "      <th colspan=\"2\" halign=\"left\">남자인구수</th>\n",
       "      <th colspan=\"2\" halign=\"left\">여자인구수</th>\n",
       "      <th colspan=\"2\" halign=\"left\">남녀비율</th>\n",
       "    </tr>\n",
       "    <tr>\n",
       "      <th></th>\n",
       "      <th>2010</th>\n",
       "      <th>2020</th>\n",
       "      <th>2010</th>\n",
       "      <th>2020</th>\n",
       "      <th>2010</th>\n",
       "      <th>2020</th>\n",
       "      <th>2010</th>\n",
       "      <th>2020</th>\n",
       "    </tr>\n",
       "  </thead>\n",
       "  <tbody>\n",
       "    <tr>\n",
       "      <th>광주광역시</th>\n",
       "      <td>1454636</td>\n",
       "      <td>1455048</td>\n",
       "      <td>721780</td>\n",
       "      <td>720060</td>\n",
       "      <td>732856</td>\n",
       "      <td>734988</td>\n",
       "      <td>98.488653</td>\n",
       "      <td>97.968946</td>\n",
       "    </tr>\n",
       "    <tr>\n",
       "      <th>대구광역시</th>\n",
       "      <td>2511676</td>\n",
       "      <td>2427954</td>\n",
       "      <td>1255245</td>\n",
       "      <td>1198815</td>\n",
       "      <td>1257431</td>\n",
       "      <td>1229139</td>\n",
       "      <td>99.826153</td>\n",
       "      <td>97.532907</td>\n",
       "    </tr>\n",
       "    <tr>\n",
       "      <th>대전광역시</th>\n",
       "      <td>1503664</td>\n",
       "      <td>1471040</td>\n",
       "      <td>753648</td>\n",
       "      <td>734441</td>\n",
       "      <td>750016</td>\n",
       "      <td>736599</td>\n",
       "      <td>100.484256</td>\n",
       "      <td>99.707032</td>\n",
       "    </tr>\n",
       "    <tr>\n",
       "      <th>부산광역시</th>\n",
       "      <td>2567810</td>\n",
       "      <td>3404423</td>\n",
       "      <td>1773170</td>\n",
       "      <td>1668618</td>\n",
       "      <td>1794740</td>\n",
       "      <td>1735805</td>\n",
       "      <td>98.798155</td>\n",
       "      <td>96.129346</td>\n",
       "    </tr>\n",
       "    <tr>\n",
       "      <th>서울특별시</th>\n",
       "      <td>10312545</td>\n",
       "      <td>9720846</td>\n",
       "      <td>5111259</td>\n",
       "      <td>4732275</td>\n",
       "      <td>5201286</td>\n",
       "      <td>4988571</td>\n",
       "      <td>98.269140</td>\n",
       "      <td>94.862336</td>\n",
       "    </tr>\n",
       "    <tr>\n",
       "      <th>인천광역시</th>\n",
       "      <td>2758296</td>\n",
       "      <td>2947217</td>\n",
       "      <td>1390356</td>\n",
       "      <td>1476813</td>\n",
       "      <td>1367940</td>\n",
       "      <td>1470404</td>\n",
       "      <td>101.638668</td>\n",
       "      <td>100.435867</td>\n",
       "    </tr>\n",
       "  </tbody>\n",
       "</table>\n",
       "</div>"
      ],
      "text/plain": [
       "           총인구수             남자인구수             여자인구수                 남녀비율  \\\n",
       "           2010     2020     2010     2020     2010     2020        2010   \n",
       "광주광역시   1454636  1455048   721780   720060   732856   734988   98.488653   \n",
       "대구광역시   2511676  2427954  1255245  1198815  1257431  1229139   99.826153   \n",
       "대전광역시   1503664  1471040   753648   734441   750016   736599  100.484256   \n",
       "부산광역시   2567810  3404423  1773170  1668618  1794740  1735805   98.798155   \n",
       "서울특별시  10312545  9720846  5111259  4732275  5201286  4988571   98.269140   \n",
       "인천광역시   2758296  2947217  1390356  1476813  1367940  1470404  101.638668   \n",
       "\n",
       "                   \n",
       "             2020  \n",
       "광주광역시   97.968946  \n",
       "대구광역시   97.532907  \n",
       "대전광역시   99.707032  \n",
       "부산광역시   96.129346  \n",
       "서울특별시   94.862336  \n",
       "인천광역시  100.435867  "
      ]
     },
     "execution_count": 107,
     "metadata": {},
     "output_type": "execute_result"
    }
   ],
   "source": [
    "korea_mdf.unstack(level=1)"
   ]
  },
  {
   "cell_type": "code",
   "execution_count": 108,
   "metadata": {
    "id": "x0XfqiPwVaId"
   },
   "outputs": [
    {
     "data": {
      "text/plain": [
       "광주광역시  2010  총인구수     1.454636e+06\n",
       "             남자인구수    7.217800e+05\n",
       "             여자인구수    7.328560e+05\n",
       "             남녀비율     9.848865e+01\n",
       "       2020  총인구수     1.455048e+06\n",
       "             남자인구수    7.200600e+05\n",
       "             여자인구수    7.349880e+05\n",
       "             남녀비율     9.796895e+01\n",
       "대구광역시  2010  총인구수     2.511676e+06\n",
       "             남자인구수    1.255245e+06\n",
       "             여자인구수    1.257431e+06\n",
       "             남녀비율     9.982615e+01\n",
       "       2020  총인구수     2.427954e+06\n",
       "             남자인구수    1.198815e+06\n",
       "             여자인구수    1.229139e+06\n",
       "             남녀비율     9.753291e+01\n",
       "대전광역시  2010  총인구수     1.503664e+06\n",
       "             남자인구수    7.536480e+05\n",
       "             여자인구수    7.500160e+05\n",
       "             남녀비율     1.004843e+02\n",
       "       2020  총인구수     1.471040e+06\n",
       "             남자인구수    7.344410e+05\n",
       "             여자인구수    7.365990e+05\n",
       "             남녀비율     9.970703e+01\n",
       "부산광역시  2010  총인구수     2.567810e+06\n",
       "             남자인구수    1.773170e+06\n",
       "             여자인구수    1.794740e+06\n",
       "             남녀비율     9.879815e+01\n",
       "       2020  총인구수     3.404423e+06\n",
       "             남자인구수    1.668618e+06\n",
       "             여자인구수    1.735805e+06\n",
       "             남녀비율     9.612935e+01\n",
       "서울특별시  2010  총인구수     1.031254e+07\n",
       "             남자인구수    5.111259e+06\n",
       "             여자인구수    5.201286e+06\n",
       "             남녀비율     9.826914e+01\n",
       "       2020  총인구수     9.720846e+06\n",
       "             남자인구수    4.732275e+06\n",
       "             여자인구수    4.988571e+06\n",
       "             남녀비율     9.486234e+01\n",
       "인천광역시  2010  총인구수     2.758296e+06\n",
       "             남자인구수    1.390356e+06\n",
       "             여자인구수    1.367940e+06\n",
       "             남녀비율     1.016387e+02\n",
       "       2020  총인구수     2.947217e+06\n",
       "             남자인구수    1.476813e+06\n",
       "             여자인구수    1.470404e+06\n",
       "             남녀비율     1.004359e+02\n",
       "dtype: float64"
      ]
     },
     "execution_count": 108,
     "metadata": {},
     "output_type": "execute_result"
    }
   ],
   "source": [
    "korea_mdf.stack()"
   ]
  },
  {
   "cell_type": "code",
   "execution_count": 109,
   "metadata": {
    "id": "K-x8Kr_lVpUC"
   },
   "outputs": [
    {
     "data": {
      "text/html": [
       "<div>\n",
       "<style scoped>\n",
       "    .dataframe tbody tr th:only-of-type {\n",
       "        vertical-align: middle;\n",
       "    }\n",
       "\n",
       "    .dataframe tbody tr th {\n",
       "        vertical-align: top;\n",
       "    }\n",
       "\n",
       "    .dataframe thead th {\n",
       "        text-align: right;\n",
       "    }\n",
       "</style>\n",
       "<table border=\"1\" class=\"dataframe\">\n",
       "  <thead>\n",
       "    <tr style=\"text-align: right;\">\n",
       "      <th></th>\n",
       "      <th></th>\n",
       "      <th>총인구수</th>\n",
       "      <th>남자인구수</th>\n",
       "      <th>여자인구수</th>\n",
       "      <th>남녀비율</th>\n",
       "    </tr>\n",
       "  </thead>\n",
       "  <tbody>\n",
       "    <tr>\n",
       "      <th rowspan=\"2\" valign=\"top\">광주광역시</th>\n",
       "      <th>2010</th>\n",
       "      <td>1454636</td>\n",
       "      <td>721780</td>\n",
       "      <td>732856</td>\n",
       "      <td>98.488653</td>\n",
       "    </tr>\n",
       "    <tr>\n",
       "      <th>2020</th>\n",
       "      <td>1455048</td>\n",
       "      <td>720060</td>\n",
       "      <td>734988</td>\n",
       "      <td>97.968946</td>\n",
       "    </tr>\n",
       "    <tr>\n",
       "      <th rowspan=\"2\" valign=\"top\">대구광역시</th>\n",
       "      <th>2010</th>\n",
       "      <td>2511676</td>\n",
       "      <td>1255245</td>\n",
       "      <td>1257431</td>\n",
       "      <td>99.826153</td>\n",
       "    </tr>\n",
       "    <tr>\n",
       "      <th>2020</th>\n",
       "      <td>2427954</td>\n",
       "      <td>1198815</td>\n",
       "      <td>1229139</td>\n",
       "      <td>97.532907</td>\n",
       "    </tr>\n",
       "    <tr>\n",
       "      <th rowspan=\"2\" valign=\"top\">대전광역시</th>\n",
       "      <th>2010</th>\n",
       "      <td>1503664</td>\n",
       "      <td>753648</td>\n",
       "      <td>750016</td>\n",
       "      <td>100.484256</td>\n",
       "    </tr>\n",
       "    <tr>\n",
       "      <th>2020</th>\n",
       "      <td>1471040</td>\n",
       "      <td>734441</td>\n",
       "      <td>736599</td>\n",
       "      <td>99.707032</td>\n",
       "    </tr>\n",
       "    <tr>\n",
       "      <th rowspan=\"2\" valign=\"top\">부산광역시</th>\n",
       "      <th>2010</th>\n",
       "      <td>2567810</td>\n",
       "      <td>1773170</td>\n",
       "      <td>1794740</td>\n",
       "      <td>98.798155</td>\n",
       "    </tr>\n",
       "    <tr>\n",
       "      <th>2020</th>\n",
       "      <td>3404423</td>\n",
       "      <td>1668618</td>\n",
       "      <td>1735805</td>\n",
       "      <td>96.129346</td>\n",
       "    </tr>\n",
       "    <tr>\n",
       "      <th rowspan=\"2\" valign=\"top\">서울특별시</th>\n",
       "      <th>2010</th>\n",
       "      <td>10312545</td>\n",
       "      <td>5111259</td>\n",
       "      <td>5201286</td>\n",
       "      <td>98.269140</td>\n",
       "    </tr>\n",
       "    <tr>\n",
       "      <th>2020</th>\n",
       "      <td>9720846</td>\n",
       "      <td>4732275</td>\n",
       "      <td>4988571</td>\n",
       "      <td>94.862336</td>\n",
       "    </tr>\n",
       "    <tr>\n",
       "      <th rowspan=\"2\" valign=\"top\">인천광역시</th>\n",
       "      <th>2010</th>\n",
       "      <td>2758296</td>\n",
       "      <td>1390356</td>\n",
       "      <td>1367940</td>\n",
       "      <td>101.638668</td>\n",
       "    </tr>\n",
       "    <tr>\n",
       "      <th>2020</th>\n",
       "      <td>2947217</td>\n",
       "      <td>1476813</td>\n",
       "      <td>1470404</td>\n",
       "      <td>100.435867</td>\n",
       "    </tr>\n",
       "  </tbody>\n",
       "</table>\n",
       "</div>"
      ],
      "text/plain": [
       "                총인구수    남자인구수    여자인구수        남녀비율\n",
       "광주광역시 2010   1454636   721780   732856   98.488653\n",
       "      2020   1455048   720060   734988   97.968946\n",
       "대구광역시 2010   2511676  1255245  1257431   99.826153\n",
       "      2020   2427954  1198815  1229139   97.532907\n",
       "대전광역시 2010   1503664   753648   750016  100.484256\n",
       "      2020   1471040   734441   736599   99.707032\n",
       "부산광역시 2010   2567810  1773170  1794740   98.798155\n",
       "      2020   3404423  1668618  1735805   96.129346\n",
       "서울특별시 2010  10312545  5111259  5201286   98.269140\n",
       "      2020   9720846  4732275  4988571   94.862336\n",
       "인천광역시 2010   2758296  1390356  1367940  101.638668\n",
       "      2020   2947217  1476813  1470404  100.435867"
      ]
     },
     "execution_count": 109,
     "metadata": {},
     "output_type": "execute_result"
    }
   ],
   "source": [
    "korea_mdf"
   ]
  },
  {
   "cell_type": "code",
   "execution_count": 110,
   "metadata": {
    "id": "rWxg_YXIVw6x"
   },
   "outputs": [
    {
     "data": {
      "text/html": [
       "<div>\n",
       "<style scoped>\n",
       "    .dataframe tbody tr th:only-of-type {\n",
       "        vertical-align: middle;\n",
       "    }\n",
       "\n",
       "    .dataframe tbody tr th {\n",
       "        vertical-align: top;\n",
       "    }\n",
       "\n",
       "    .dataframe thead th {\n",
       "        text-align: right;\n",
       "    }\n",
       "</style>\n",
       "<table border=\"1\" class=\"dataframe\">\n",
       "  <thead>\n",
       "    <tr style=\"text-align: right;\">\n",
       "      <th></th>\n",
       "      <th>level_0</th>\n",
       "      <th>총인구수</th>\n",
       "      <th>남자인구수</th>\n",
       "      <th>여자인구수</th>\n",
       "      <th>남녀비율</th>\n",
       "    </tr>\n",
       "  </thead>\n",
       "  <tbody>\n",
       "    <tr>\n",
       "      <th>2010</th>\n",
       "      <td>광주광역시</td>\n",
       "      <td>1454636</td>\n",
       "      <td>721780</td>\n",
       "      <td>732856</td>\n",
       "      <td>98.488653</td>\n",
       "    </tr>\n",
       "    <tr>\n",
       "      <th>2020</th>\n",
       "      <td>광주광역시</td>\n",
       "      <td>1455048</td>\n",
       "      <td>720060</td>\n",
       "      <td>734988</td>\n",
       "      <td>97.968946</td>\n",
       "    </tr>\n",
       "    <tr>\n",
       "      <th>2010</th>\n",
       "      <td>대구광역시</td>\n",
       "      <td>2511676</td>\n",
       "      <td>1255245</td>\n",
       "      <td>1257431</td>\n",
       "      <td>99.826153</td>\n",
       "    </tr>\n",
       "    <tr>\n",
       "      <th>2020</th>\n",
       "      <td>대구광역시</td>\n",
       "      <td>2427954</td>\n",
       "      <td>1198815</td>\n",
       "      <td>1229139</td>\n",
       "      <td>97.532907</td>\n",
       "    </tr>\n",
       "    <tr>\n",
       "      <th>2010</th>\n",
       "      <td>대전광역시</td>\n",
       "      <td>1503664</td>\n",
       "      <td>753648</td>\n",
       "      <td>750016</td>\n",
       "      <td>100.484256</td>\n",
       "    </tr>\n",
       "    <tr>\n",
       "      <th>2020</th>\n",
       "      <td>대전광역시</td>\n",
       "      <td>1471040</td>\n",
       "      <td>734441</td>\n",
       "      <td>736599</td>\n",
       "      <td>99.707032</td>\n",
       "    </tr>\n",
       "    <tr>\n",
       "      <th>2010</th>\n",
       "      <td>부산광역시</td>\n",
       "      <td>2567810</td>\n",
       "      <td>1773170</td>\n",
       "      <td>1794740</td>\n",
       "      <td>98.798155</td>\n",
       "    </tr>\n",
       "    <tr>\n",
       "      <th>2020</th>\n",
       "      <td>부산광역시</td>\n",
       "      <td>3404423</td>\n",
       "      <td>1668618</td>\n",
       "      <td>1735805</td>\n",
       "      <td>96.129346</td>\n",
       "    </tr>\n",
       "    <tr>\n",
       "      <th>2010</th>\n",
       "      <td>서울특별시</td>\n",
       "      <td>10312545</td>\n",
       "      <td>5111259</td>\n",
       "      <td>5201286</td>\n",
       "      <td>98.269140</td>\n",
       "    </tr>\n",
       "    <tr>\n",
       "      <th>2020</th>\n",
       "      <td>서울특별시</td>\n",
       "      <td>9720846</td>\n",
       "      <td>4732275</td>\n",
       "      <td>4988571</td>\n",
       "      <td>94.862336</td>\n",
       "    </tr>\n",
       "    <tr>\n",
       "      <th>2010</th>\n",
       "      <td>인천광역시</td>\n",
       "      <td>2758296</td>\n",
       "      <td>1390356</td>\n",
       "      <td>1367940</td>\n",
       "      <td>101.638668</td>\n",
       "    </tr>\n",
       "    <tr>\n",
       "      <th>2020</th>\n",
       "      <td>인천광역시</td>\n",
       "      <td>2947217</td>\n",
       "      <td>1476813</td>\n",
       "      <td>1470404</td>\n",
       "      <td>100.435867</td>\n",
       "    </tr>\n",
       "  </tbody>\n",
       "</table>\n",
       "</div>"
      ],
      "text/plain": [
       "     level_0      총인구수    남자인구수    여자인구수        남녀비율\n",
       "2010   광주광역시   1454636   721780   732856   98.488653\n",
       "2020   광주광역시   1455048   720060   734988   97.968946\n",
       "2010   대구광역시   2511676  1255245  1257431   99.826153\n",
       "2020   대구광역시   2427954  1198815  1229139   97.532907\n",
       "2010   대전광역시   1503664   753648   750016  100.484256\n",
       "2020   대전광역시   1471040   734441   736599   99.707032\n",
       "2010   부산광역시   2567810  1773170  1794740   98.798155\n",
       "2020   부산광역시   3404423  1668618  1735805   96.129346\n",
       "2010   서울특별시  10312545  5111259  5201286   98.269140\n",
       "2020   서울특별시   9720846  4732275  4988571   94.862336\n",
       "2010   인천광역시   2758296  1390356  1367940  101.638668\n",
       "2020   인천광역시   2947217  1476813  1470404  100.435867"
      ]
     },
     "execution_count": 110,
     "metadata": {},
     "output_type": "execute_result"
    }
   ],
   "source": [
    "idx_flat = korea_mdf.reset_index(level=0)\n",
    "idx_flat"
   ]
  },
  {
   "cell_type": "code",
   "execution_count": 111,
   "metadata": {
    "id": "tSCUmYovYiAA"
   },
   "outputs": [
    {
     "data": {
      "text/html": [
       "<div>\n",
       "<style scoped>\n",
       "    .dataframe tbody tr th:only-of-type {\n",
       "        vertical-align: middle;\n",
       "    }\n",
       "\n",
       "    .dataframe tbody tr th {\n",
       "        vertical-align: top;\n",
       "    }\n",
       "\n",
       "    .dataframe thead th {\n",
       "        text-align: right;\n",
       "    }\n",
       "</style>\n",
       "<table border=\"1\" class=\"dataframe\">\n",
       "  <thead>\n",
       "    <tr style=\"text-align: right;\">\n",
       "      <th></th>\n",
       "      <th>level_0</th>\n",
       "      <th>level_1</th>\n",
       "      <th>총인구수</th>\n",
       "      <th>남자인구수</th>\n",
       "      <th>여자인구수</th>\n",
       "      <th>남녀비율</th>\n",
       "    </tr>\n",
       "  </thead>\n",
       "  <tbody>\n",
       "    <tr>\n",
       "      <th>0</th>\n",
       "      <td>광주광역시</td>\n",
       "      <td>2010</td>\n",
       "      <td>1454636</td>\n",
       "      <td>721780</td>\n",
       "      <td>732856</td>\n",
       "      <td>98.488653</td>\n",
       "    </tr>\n",
       "    <tr>\n",
       "      <th>1</th>\n",
       "      <td>광주광역시</td>\n",
       "      <td>2020</td>\n",
       "      <td>1455048</td>\n",
       "      <td>720060</td>\n",
       "      <td>734988</td>\n",
       "      <td>97.968946</td>\n",
       "    </tr>\n",
       "    <tr>\n",
       "      <th>2</th>\n",
       "      <td>대구광역시</td>\n",
       "      <td>2010</td>\n",
       "      <td>2511676</td>\n",
       "      <td>1255245</td>\n",
       "      <td>1257431</td>\n",
       "      <td>99.826153</td>\n",
       "    </tr>\n",
       "    <tr>\n",
       "      <th>3</th>\n",
       "      <td>대구광역시</td>\n",
       "      <td>2020</td>\n",
       "      <td>2427954</td>\n",
       "      <td>1198815</td>\n",
       "      <td>1229139</td>\n",
       "      <td>97.532907</td>\n",
       "    </tr>\n",
       "    <tr>\n",
       "      <th>4</th>\n",
       "      <td>대전광역시</td>\n",
       "      <td>2010</td>\n",
       "      <td>1503664</td>\n",
       "      <td>753648</td>\n",
       "      <td>750016</td>\n",
       "      <td>100.484256</td>\n",
       "    </tr>\n",
       "    <tr>\n",
       "      <th>5</th>\n",
       "      <td>대전광역시</td>\n",
       "      <td>2020</td>\n",
       "      <td>1471040</td>\n",
       "      <td>734441</td>\n",
       "      <td>736599</td>\n",
       "      <td>99.707032</td>\n",
       "    </tr>\n",
       "    <tr>\n",
       "      <th>6</th>\n",
       "      <td>부산광역시</td>\n",
       "      <td>2010</td>\n",
       "      <td>2567810</td>\n",
       "      <td>1773170</td>\n",
       "      <td>1794740</td>\n",
       "      <td>98.798155</td>\n",
       "    </tr>\n",
       "    <tr>\n",
       "      <th>7</th>\n",
       "      <td>부산광역시</td>\n",
       "      <td>2020</td>\n",
       "      <td>3404423</td>\n",
       "      <td>1668618</td>\n",
       "      <td>1735805</td>\n",
       "      <td>96.129346</td>\n",
       "    </tr>\n",
       "    <tr>\n",
       "      <th>8</th>\n",
       "      <td>서울특별시</td>\n",
       "      <td>2010</td>\n",
       "      <td>10312545</td>\n",
       "      <td>5111259</td>\n",
       "      <td>5201286</td>\n",
       "      <td>98.269140</td>\n",
       "    </tr>\n",
       "    <tr>\n",
       "      <th>9</th>\n",
       "      <td>서울특별시</td>\n",
       "      <td>2020</td>\n",
       "      <td>9720846</td>\n",
       "      <td>4732275</td>\n",
       "      <td>4988571</td>\n",
       "      <td>94.862336</td>\n",
       "    </tr>\n",
       "    <tr>\n",
       "      <th>10</th>\n",
       "      <td>인천광역시</td>\n",
       "      <td>2010</td>\n",
       "      <td>2758296</td>\n",
       "      <td>1390356</td>\n",
       "      <td>1367940</td>\n",
       "      <td>101.638668</td>\n",
       "    </tr>\n",
       "    <tr>\n",
       "      <th>11</th>\n",
       "      <td>인천광역시</td>\n",
       "      <td>2020</td>\n",
       "      <td>2947217</td>\n",
       "      <td>1476813</td>\n",
       "      <td>1470404</td>\n",
       "      <td>100.435867</td>\n",
       "    </tr>\n",
       "  </tbody>\n",
       "</table>\n",
       "</div>"
      ],
      "text/plain": [
       "   level_0  level_1      총인구수    남자인구수    여자인구수        남녀비율\n",
       "0    광주광역시     2010   1454636   721780   732856   98.488653\n",
       "1    광주광역시     2020   1455048   720060   734988   97.968946\n",
       "2    대구광역시     2010   2511676  1255245  1257431   99.826153\n",
       "3    대구광역시     2020   2427954  1198815  1229139   97.532907\n",
       "4    대전광역시     2010   1503664   753648   750016  100.484256\n",
       "5    대전광역시     2020   1471040   734441   736599   99.707032\n",
       "6    부산광역시     2010   2567810  1773170  1794740   98.798155\n",
       "7    부산광역시     2020   3404423  1668618  1735805   96.129346\n",
       "8    서울특별시     2010  10312545  5111259  5201286   98.269140\n",
       "9    서울특별시     2020   9720846  4732275  4988571   94.862336\n",
       "10   인천광역시     2010   2758296  1390356  1367940  101.638668\n",
       "11   인천광역시     2020   2947217  1476813  1470404  100.435867"
      ]
     },
     "execution_count": 111,
     "metadata": {},
     "output_type": "execute_result"
    }
   ],
   "source": [
    "idx_flat = korea_mdf.reset_index(level=(0,1))\n",
    "idx_flat"
   ]
  },
  {
   "cell_type": "code",
   "execution_count": 112,
   "metadata": {
    "id": "wdWqvOFZWJPf"
   },
   "outputs": [
    {
     "ename": "KeyError",
     "evalue": "\"None of ['행정구역', '년도'] are in the columns\"",
     "output_type": "error",
     "traceback": [
      "\u001b[1;31m---------------------------------------------------------------------------\u001b[0m",
      "\u001b[1;31mKeyError\u001b[0m                                  Traceback (most recent call last)",
      "\u001b[1;32m<ipython-input-112-1197ebb54e53>\u001b[0m in \u001b[0;36m<module>\u001b[1;34m\u001b[0m\n\u001b[1;32m----> 1\u001b[1;33m \u001b[0midx_flat\u001b[0m\u001b[1;33m.\u001b[0m\u001b[0mset_index\u001b[0m\u001b[1;33m(\u001b[0m\u001b[1;33m[\u001b[0m\u001b[1;34m'행정구역'\u001b[0m\u001b[1;33m,\u001b[0m \u001b[1;34m'년도'\u001b[0m\u001b[1;33m]\u001b[0m\u001b[1;33m)\u001b[0m\u001b[1;33m\u001b[0m\u001b[1;33m\u001b[0m\u001b[0m\n\u001b[0m",
      "\u001b[1;32m~\\anaconda3\\lib\\site-packages\\pandas\\core\\frame.py\u001b[0m in \u001b[0;36mset_index\u001b[1;34m(self, keys, drop, append, inplace, verify_integrity)\u001b[0m\n\u001b[0;32m   4725\u001b[0m \u001b[1;33m\u001b[0m\u001b[0m\n\u001b[0;32m   4726\u001b[0m         \u001b[1;32mif\u001b[0m \u001b[0mmissing\u001b[0m\u001b[1;33m:\u001b[0m\u001b[1;33m\u001b[0m\u001b[1;33m\u001b[0m\u001b[0m\n\u001b[1;32m-> 4727\u001b[1;33m             \u001b[1;32mraise\u001b[0m \u001b[0mKeyError\u001b[0m\u001b[1;33m(\u001b[0m\u001b[1;34mf\"None of {missing} are in the columns\"\u001b[0m\u001b[1;33m)\u001b[0m\u001b[1;33m\u001b[0m\u001b[1;33m\u001b[0m\u001b[0m\n\u001b[0m\u001b[0;32m   4728\u001b[0m \u001b[1;33m\u001b[0m\u001b[0m\n\u001b[0;32m   4729\u001b[0m         \u001b[1;32mif\u001b[0m \u001b[0minplace\u001b[0m\u001b[1;33m:\u001b[0m\u001b[1;33m\u001b[0m\u001b[1;33m\u001b[0m\u001b[0m\n",
      "\u001b[1;31mKeyError\u001b[0m: \"None of ['행정구역', '년도'] are in the columns\""
     ]
    }
   ],
   "source": [
    "idx_flat.set_index(['행정구역', '년도'])"
   ]
  },
  {
   "cell_type": "markdown",
   "metadata": {
    "id": "iTw6ejGdZuiw"
   },
   "source": [
    "## 데이터 연산"
   ]
  },
  {
   "cell_type": "code",
   "execution_count": 113,
   "metadata": {
    "id": "s89AjfxyYp2u"
   },
   "outputs": [
    {
     "data": {
      "text/plain": [
       "0    8\n",
       "1    1\n",
       "2    2\n",
       "3    4\n",
       "4    3\n",
       "dtype: int32"
      ]
     },
     "execution_count": 113,
     "metadata": {},
     "output_type": "execute_result"
    }
   ],
   "source": [
    "s = pd.Series(np.random.randint(0, 10, 5))\n",
    "s"
   ]
  },
  {
   "cell_type": "code",
   "execution_count": 114,
   "metadata": {
    "id": "EGXDMOzgZ8EW"
   },
   "outputs": [
    {
     "data": {
      "text/html": [
       "<div>\n",
       "<style scoped>\n",
       "    .dataframe tbody tr th:only-of-type {\n",
       "        vertical-align: middle;\n",
       "    }\n",
       "\n",
       "    .dataframe tbody tr th {\n",
       "        vertical-align: top;\n",
       "    }\n",
       "\n",
       "    .dataframe thead th {\n",
       "        text-align: right;\n",
       "    }\n",
       "</style>\n",
       "<table border=\"1\" class=\"dataframe\">\n",
       "  <thead>\n",
       "    <tr style=\"text-align: right;\">\n",
       "      <th></th>\n",
       "      <th>A</th>\n",
       "      <th>B</th>\n",
       "      <th>C</th>\n",
       "    </tr>\n",
       "  </thead>\n",
       "  <tbody>\n",
       "    <tr>\n",
       "      <th>0</th>\n",
       "      <td>8</td>\n",
       "      <td>5</td>\n",
       "      <td>4</td>\n",
       "    </tr>\n",
       "    <tr>\n",
       "      <th>1</th>\n",
       "      <td>5</td>\n",
       "      <td>8</td>\n",
       "      <td>3</td>\n",
       "    </tr>\n",
       "    <tr>\n",
       "      <th>2</th>\n",
       "      <td>9</td>\n",
       "      <td>9</td>\n",
       "      <td>5</td>\n",
       "    </tr>\n",
       "  </tbody>\n",
       "</table>\n",
       "</div>"
      ],
      "text/plain": [
       "   A  B  C\n",
       "0  8  5  4\n",
       "1  5  8  3\n",
       "2  9  9  5"
      ]
     },
     "execution_count": 114,
     "metadata": {},
     "output_type": "execute_result"
    }
   ],
   "source": [
    "df = pd.DataFrame(np.random.randint(0, 10, (3, 3)),\n",
    "                 columns=['A', 'B', 'C'])\n",
    "df"
   ]
  },
  {
   "cell_type": "code",
   "execution_count": 115,
   "metadata": {
    "id": "iBbFzDqFabQv"
   },
   "outputs": [
    {
     "data": {
      "text/plain": [
       "0    2980.957987\n",
       "1       2.718282\n",
       "2       7.389056\n",
       "3      54.598150\n",
       "4      20.085537\n",
       "dtype: float64"
      ]
     },
     "execution_count": 115,
     "metadata": {},
     "output_type": "execute_result"
    }
   ],
   "source": [
    "np.exp(s)"
   ]
  },
  {
   "cell_type": "code",
   "execution_count": 116,
   "metadata": {
    "id": "LGsnlcjfagUv"
   },
   "outputs": [
    {
     "data": {
      "text/html": [
       "<div>\n",
       "<style scoped>\n",
       "    .dataframe tbody tr th:only-of-type {\n",
       "        vertical-align: middle;\n",
       "    }\n",
       "\n",
       "    .dataframe tbody tr th {\n",
       "        vertical-align: top;\n",
       "    }\n",
       "\n",
       "    .dataframe thead th {\n",
       "        text-align: right;\n",
       "    }\n",
       "</style>\n",
       "<table border=\"1\" class=\"dataframe\">\n",
       "  <thead>\n",
       "    <tr style=\"text-align: right;\">\n",
       "      <th></th>\n",
       "      <th>A</th>\n",
       "      <th>B</th>\n",
       "      <th>C</th>\n",
       "    </tr>\n",
       "  </thead>\n",
       "  <tbody>\n",
       "    <tr>\n",
       "      <th>0</th>\n",
       "      <td>1.000000</td>\n",
       "      <td>-0.707107</td>\n",
       "      <td>-1.000000</td>\n",
       "    </tr>\n",
       "    <tr>\n",
       "      <th>1</th>\n",
       "      <td>-0.707107</td>\n",
       "      <td>1.000000</td>\n",
       "      <td>-0.707107</td>\n",
       "    </tr>\n",
       "    <tr>\n",
       "      <th>2</th>\n",
       "      <td>0.707107</td>\n",
       "      <td>0.707107</td>\n",
       "      <td>-0.707107</td>\n",
       "    </tr>\n",
       "  </tbody>\n",
       "</table>\n",
       "</div>"
      ],
      "text/plain": [
       "          A         B         C\n",
       "0  1.000000 -0.707107 -1.000000\n",
       "1 -0.707107  1.000000 -0.707107\n",
       "2  0.707107  0.707107 -0.707107"
      ]
     },
     "execution_count": 116,
     "metadata": {},
     "output_type": "execute_result"
    }
   ],
   "source": [
    "np.cos(df * np.pi / 4)"
   ]
  },
  {
   "cell_type": "code",
   "execution_count": 117,
   "metadata": {
    "id": "lUpXJh0uajOg"
   },
   "outputs": [
    {
     "data": {
      "text/plain": [
       "0     NaN\n",
       "1     5.0\n",
       "2     9.0\n",
       "3    13.0\n",
       "4    17.0\n",
       "5     NaN\n",
       "dtype: float64"
      ]
     },
     "execution_count": 117,
     "metadata": {},
     "output_type": "execute_result"
    }
   ],
   "source": [
    "s1 = pd.Series([1, 3, 5, 7, 9], index=[0, 1, 2, 3, 4])\n",
    "s2 = pd.Series([2, 4, 6, 8, 10], index=[1, 2, 3, 4, 5])\n",
    "s1 + s2"
   ]
  },
  {
   "cell_type": "code",
   "execution_count": 118,
   "metadata": {
    "id": "UMNfm7S7caJd"
   },
   "outputs": [
    {
     "data": {
      "text/plain": [
       "0     1.0\n",
       "1     5.0\n",
       "2     9.0\n",
       "3    13.0\n",
       "4    17.0\n",
       "5    10.0\n",
       "dtype: float64"
      ]
     },
     "execution_count": 118,
     "metadata": {},
     "output_type": "execute_result"
    }
   ],
   "source": [
    "s1.add(s2, fill_value=0)"
   ]
  },
  {
   "cell_type": "code",
   "execution_count": 122,
   "metadata": {
    "id": "7gQjdKNYdHl4"
   },
   "outputs": [
    {
     "data": {
      "text/html": [
       "<div>\n",
       "<style scoped>\n",
       "    .dataframe tbody tr th:only-of-type {\n",
       "        vertical-align: middle;\n",
       "    }\n",
       "\n",
       "    .dataframe tbody tr th {\n",
       "        vertical-align: top;\n",
       "    }\n",
       "\n",
       "    .dataframe thead th {\n",
       "        text-align: right;\n",
       "    }\n",
       "</style>\n",
       "<table border=\"1\" class=\"dataframe\">\n",
       "  <thead>\n",
       "    <tr style=\"text-align: right;\">\n",
       "      <th></th>\n",
       "      <th>A</th>\n",
       "      <th>C</th>\n",
       "      <th>D</th>\n",
       "    </tr>\n",
       "  </thead>\n",
       "  <tbody>\n",
       "    <tr>\n",
       "      <th>0</th>\n",
       "      <td>7</td>\n",
       "      <td>18</td>\n",
       "      <td>2</td>\n",
       "    </tr>\n",
       "    <tr>\n",
       "      <th>1</th>\n",
       "      <td>8</td>\n",
       "      <td>9</td>\n",
       "      <td>12</td>\n",
       "    </tr>\n",
       "    <tr>\n",
       "      <th>2</th>\n",
       "      <td>9</td>\n",
       "      <td>13</td>\n",
       "      <td>14</td>\n",
       "    </tr>\n",
       "  </tbody>\n",
       "</table>\n",
       "</div>"
      ],
      "text/plain": [
       "   A   C   D\n",
       "0  7  18   2\n",
       "1  8   9  12\n",
       "2  9  13  14"
      ]
     },
     "execution_count": 122,
     "metadata": {},
     "output_type": "execute_result"
    }
   ],
   "source": [
    "df1 = pd.DataFrame(np.random.randint(0, 20, (3, 3)),\n",
    "                  columns=list('ACD'))\n",
    "df1"
   ]
  },
  {
   "cell_type": "code",
   "execution_count": 123,
   "metadata": {
    "id": "RFDnK7BHdUGM"
   },
   "outputs": [
    {
     "data": {
      "text/plain": [
       "0     1.0\n",
       "1     5.0\n",
       "2     9.0\n",
       "3    13.0\n",
       "4    17.0\n",
       "5    10.0\n",
       "dtype: float64"
      ]
     },
     "execution_count": 123,
     "metadata": {},
     "output_type": "execute_result"
    }
   ],
   "source": [
    "s1.add(s2, fill_value=0)"
   ]
  },
  {
   "cell_type": "code",
   "execution_count": 125,
   "metadata": {
    "id": "2ZtF9SKVdeuy"
   },
   "outputs": [
    {
     "data": {
      "text/html": [
       "<div>\n",
       "<style scoped>\n",
       "    .dataframe tbody tr th:only-of-type {\n",
       "        vertical-align: middle;\n",
       "    }\n",
       "\n",
       "    .dataframe tbody tr th {\n",
       "        vertical-align: top;\n",
       "    }\n",
       "\n",
       "    .dataframe thead th {\n",
       "        text-align: right;\n",
       "    }\n",
       "</style>\n",
       "<table border=\"1\" class=\"dataframe\">\n",
       "  <thead>\n",
       "    <tr style=\"text-align: right;\">\n",
       "      <th></th>\n",
       "      <th>B</th>\n",
       "      <th>A</th>\n",
       "      <th>E</th>\n",
       "      <th>C</th>\n",
       "      <th>D</th>\n",
       "    </tr>\n",
       "  </thead>\n",
       "  <tbody>\n",
       "    <tr>\n",
       "      <th>0</th>\n",
       "      <td>6</td>\n",
       "      <td>15</td>\n",
       "      <td>16</td>\n",
       "      <td>6</td>\n",
       "      <td>17</td>\n",
       "    </tr>\n",
       "    <tr>\n",
       "      <th>1</th>\n",
       "      <td>3</td>\n",
       "      <td>11</td>\n",
       "      <td>17</td>\n",
       "      <td>2</td>\n",
       "      <td>19</td>\n",
       "    </tr>\n",
       "    <tr>\n",
       "      <th>2</th>\n",
       "      <td>14</td>\n",
       "      <td>1</td>\n",
       "      <td>17</td>\n",
       "      <td>17</td>\n",
       "      <td>19</td>\n",
       "    </tr>\n",
       "    <tr>\n",
       "      <th>3</th>\n",
       "      <td>4</td>\n",
       "      <td>4</td>\n",
       "      <td>19</td>\n",
       "      <td>18</td>\n",
       "      <td>16</td>\n",
       "    </tr>\n",
       "    <tr>\n",
       "      <th>4</th>\n",
       "      <td>6</td>\n",
       "      <td>1</td>\n",
       "      <td>2</td>\n",
       "      <td>7</td>\n",
       "      <td>17</td>\n",
       "    </tr>\n",
       "  </tbody>\n",
       "</table>\n",
       "</div>"
      ],
      "text/plain": [
       "    B   A   E   C   D\n",
       "0   6  15  16   6  17\n",
       "1   3  11  17   2  19\n",
       "2  14   1  17  17  19\n",
       "3   4   4  19  18  16\n",
       "4   6   1   2   7  17"
      ]
     },
     "execution_count": 125,
     "metadata": {},
     "output_type": "execute_result"
    }
   ],
   "source": [
    "df2 = pd.DataFrame(np.random.randint(0, 20, (5, 5)),\n",
    "                  columns=list('BAECD'))\n",
    "df2"
   ]
  },
  {
   "cell_type": "code",
   "execution_count": 126,
   "metadata": {
    "id": "jHQflTypdq7U",
    "scrolled": true
   },
   "outputs": [
    {
     "data": {
      "text/html": [
       "<div>\n",
       "<style scoped>\n",
       "    .dataframe tbody tr th:only-of-type {\n",
       "        vertical-align: middle;\n",
       "    }\n",
       "\n",
       "    .dataframe tbody tr th {\n",
       "        vertical-align: top;\n",
       "    }\n",
       "\n",
       "    .dataframe thead th {\n",
       "        text-align: right;\n",
       "    }\n",
       "</style>\n",
       "<table border=\"1\" class=\"dataframe\">\n",
       "  <thead>\n",
       "    <tr style=\"text-align: right;\">\n",
       "      <th></th>\n",
       "      <th>A</th>\n",
       "      <th>B</th>\n",
       "      <th>C</th>\n",
       "      <th>D</th>\n",
       "      <th>E</th>\n",
       "    </tr>\n",
       "  </thead>\n",
       "  <tbody>\n",
       "    <tr>\n",
       "      <th>0</th>\n",
       "      <td>22.0</td>\n",
       "      <td>NaN</td>\n",
       "      <td>24.0</td>\n",
       "      <td>19.0</td>\n",
       "      <td>NaN</td>\n",
       "    </tr>\n",
       "    <tr>\n",
       "      <th>1</th>\n",
       "      <td>19.0</td>\n",
       "      <td>NaN</td>\n",
       "      <td>11.0</td>\n",
       "      <td>31.0</td>\n",
       "      <td>NaN</td>\n",
       "    </tr>\n",
       "    <tr>\n",
       "      <th>2</th>\n",
       "      <td>10.0</td>\n",
       "      <td>NaN</td>\n",
       "      <td>30.0</td>\n",
       "      <td>33.0</td>\n",
       "      <td>NaN</td>\n",
       "    </tr>\n",
       "    <tr>\n",
       "      <th>3</th>\n",
       "      <td>NaN</td>\n",
       "      <td>NaN</td>\n",
       "      <td>NaN</td>\n",
       "      <td>NaN</td>\n",
       "      <td>NaN</td>\n",
       "    </tr>\n",
       "    <tr>\n",
       "      <th>4</th>\n",
       "      <td>NaN</td>\n",
       "      <td>NaN</td>\n",
       "      <td>NaN</td>\n",
       "      <td>NaN</td>\n",
       "      <td>NaN</td>\n",
       "    </tr>\n",
       "  </tbody>\n",
       "</table>\n",
       "</div>"
      ],
      "text/plain": [
       "      A   B     C     D   E\n",
       "0  22.0 NaN  24.0  19.0 NaN\n",
       "1  19.0 NaN  11.0  31.0 NaN\n",
       "2  10.0 NaN  30.0  33.0 NaN\n",
       "3   NaN NaN   NaN   NaN NaN\n",
       "4   NaN NaN   NaN   NaN NaN"
      ]
     },
     "execution_count": 126,
     "metadata": {},
     "output_type": "execute_result"
    }
   ],
   "source": [
    "df1 + df2"
   ]
  },
  {
   "cell_type": "code",
   "execution_count": 127,
   "metadata": {},
   "outputs": [
    {
     "data": {
      "text/html": [
       "<div>\n",
       "<style scoped>\n",
       "    .dataframe tbody tr th:only-of-type {\n",
       "        vertical-align: middle;\n",
       "    }\n",
       "\n",
       "    .dataframe tbody tr th {\n",
       "        vertical-align: top;\n",
       "    }\n",
       "\n",
       "    .dataframe thead th {\n",
       "        text-align: right;\n",
       "    }\n",
       "</style>\n",
       "<table border=\"1\" class=\"dataframe\">\n",
       "  <thead>\n",
       "    <tr style=\"text-align: right;\">\n",
       "      <th></th>\n",
       "      <th>A</th>\n",
       "      <th>B</th>\n",
       "      <th>C</th>\n",
       "      <th>D</th>\n",
       "      <th>E</th>\n",
       "    </tr>\n",
       "  </thead>\n",
       "  <tbody>\n",
       "    <tr>\n",
       "      <th>0</th>\n",
       "      <td>22.000000</td>\n",
       "      <td>16.222222</td>\n",
       "      <td>24.000000</td>\n",
       "      <td>19.000000</td>\n",
       "      <td>26.222222</td>\n",
       "    </tr>\n",
       "    <tr>\n",
       "      <th>1</th>\n",
       "      <td>19.000000</td>\n",
       "      <td>13.222222</td>\n",
       "      <td>11.000000</td>\n",
       "      <td>31.000000</td>\n",
       "      <td>27.222222</td>\n",
       "    </tr>\n",
       "    <tr>\n",
       "      <th>2</th>\n",
       "      <td>10.000000</td>\n",
       "      <td>24.222222</td>\n",
       "      <td>30.000000</td>\n",
       "      <td>33.000000</td>\n",
       "      <td>27.222222</td>\n",
       "    </tr>\n",
       "    <tr>\n",
       "      <th>3</th>\n",
       "      <td>14.222222</td>\n",
       "      <td>14.222222</td>\n",
       "      <td>28.222222</td>\n",
       "      <td>26.222222</td>\n",
       "      <td>29.222222</td>\n",
       "    </tr>\n",
       "    <tr>\n",
       "      <th>4</th>\n",
       "      <td>11.222222</td>\n",
       "      <td>16.222222</td>\n",
       "      <td>17.222222</td>\n",
       "      <td>27.222222</td>\n",
       "      <td>12.222222</td>\n",
       "    </tr>\n",
       "  </tbody>\n",
       "</table>\n",
       "</div>"
      ],
      "text/plain": [
       "           A          B          C          D          E\n",
       "0  22.000000  16.222222  24.000000  19.000000  26.222222\n",
       "1  19.000000  13.222222  11.000000  31.000000  27.222222\n",
       "2  10.000000  24.222222  30.000000  33.000000  27.222222\n",
       "3  14.222222  14.222222  28.222222  26.222222  29.222222\n",
       "4  11.222222  16.222222  17.222222  27.222222  12.222222"
      ]
     },
     "execution_count": 127,
     "metadata": {},
     "output_type": "execute_result"
    }
   ],
   "source": [
    "fvalue = df1.stack().mean()\n",
    "df1.add(df2, fill_value=fvalue)"
   ]
  },
  {
   "cell_type": "markdown",
   "metadata": {
    "id": "zAl0KQLGfOGu"
   },
   "source": [
    "### 연산자 범용 함수\n"
   ]
  },
  {
   "cell_type": "markdown",
   "metadata": {
    "id": "rtf6di7UxZm-"
   },
   "source": [
    "#### add()"
   ]
  },
  {
   "cell_type": "code",
   "execution_count": 128,
   "metadata": {
    "id": "S0ZrcMDNevbl"
   },
   "outputs": [
    {
     "data": {
      "text/plain": [
       "array([[3, 1, 2],\n",
       "       [4, 2, 4],\n",
       "       [5, 7, 5]])"
      ]
     },
     "execution_count": 128,
     "metadata": {},
     "output_type": "execute_result"
    }
   ],
   "source": [
    "a = np.random.randint(1, 10, size=(3, 3))\n",
    "a"
   ]
  },
  {
   "cell_type": "code",
   "execution_count": 129,
   "metadata": {
    "id": "XwyOkCCRiJUJ"
   },
   "outputs": [
    {
     "data": {
      "text/plain": [
       "array([[6, 2, 4],\n",
       "       [7, 3, 6],\n",
       "       [8, 8, 7]])"
      ]
     },
     "execution_count": 129,
     "metadata": {},
     "output_type": "execute_result"
    }
   ],
   "source": [
    "a + a[0]"
   ]
  },
  {
   "cell_type": "code",
   "execution_count": 130,
   "metadata": {
    "id": "qIZRHvYqhnb4"
   },
   "outputs": [
    {
     "data": {
      "text/html": [
       "<div>\n",
       "<style scoped>\n",
       "    .dataframe tbody tr th:only-of-type {\n",
       "        vertical-align: middle;\n",
       "    }\n",
       "\n",
       "    .dataframe tbody tr th {\n",
       "        vertical-align: top;\n",
       "    }\n",
       "\n",
       "    .dataframe thead th {\n",
       "        text-align: right;\n",
       "    }\n",
       "</style>\n",
       "<table border=\"1\" class=\"dataframe\">\n",
       "  <thead>\n",
       "    <tr style=\"text-align: right;\">\n",
       "      <th></th>\n",
       "      <th>A</th>\n",
       "      <th>B</th>\n",
       "      <th>C</th>\n",
       "    </tr>\n",
       "  </thead>\n",
       "  <tbody>\n",
       "    <tr>\n",
       "      <th>0</th>\n",
       "      <td>3</td>\n",
       "      <td>1</td>\n",
       "      <td>2</td>\n",
       "    </tr>\n",
       "    <tr>\n",
       "      <th>1</th>\n",
       "      <td>4</td>\n",
       "      <td>2</td>\n",
       "      <td>4</td>\n",
       "    </tr>\n",
       "    <tr>\n",
       "      <th>2</th>\n",
       "      <td>5</td>\n",
       "      <td>7</td>\n",
       "      <td>5</td>\n",
       "    </tr>\n",
       "  </tbody>\n",
       "</table>\n",
       "</div>"
      ],
      "text/plain": [
       "   A  B  C\n",
       "0  3  1  2\n",
       "1  4  2  4\n",
       "2  5  7  5"
      ]
     },
     "execution_count": 130,
     "metadata": {},
     "output_type": "execute_result"
    }
   ],
   "source": [
    "df = pd.DataFrame(a, columns=list('ABC'))\n",
    "df"
   ]
  },
  {
   "cell_type": "code",
   "execution_count": 131,
   "metadata": {
    "id": "wJVgHWuVxpMJ"
   },
   "outputs": [
    {
     "data": {
      "text/html": [
       "<div>\n",
       "<style scoped>\n",
       "    .dataframe tbody tr th:only-of-type {\n",
       "        vertical-align: middle;\n",
       "    }\n",
       "\n",
       "    .dataframe tbody tr th {\n",
       "        vertical-align: top;\n",
       "    }\n",
       "\n",
       "    .dataframe thead th {\n",
       "        text-align: right;\n",
       "    }\n",
       "</style>\n",
       "<table border=\"1\" class=\"dataframe\">\n",
       "  <thead>\n",
       "    <tr style=\"text-align: right;\">\n",
       "      <th></th>\n",
       "      <th>A</th>\n",
       "      <th>B</th>\n",
       "      <th>C</th>\n",
       "    </tr>\n",
       "  </thead>\n",
       "  <tbody>\n",
       "    <tr>\n",
       "      <th>0</th>\n",
       "      <td>6</td>\n",
       "      <td>2</td>\n",
       "      <td>4</td>\n",
       "    </tr>\n",
       "    <tr>\n",
       "      <th>1</th>\n",
       "      <td>7</td>\n",
       "      <td>3</td>\n",
       "      <td>6</td>\n",
       "    </tr>\n",
       "    <tr>\n",
       "      <th>2</th>\n",
       "      <td>8</td>\n",
       "      <td>8</td>\n",
       "      <td>7</td>\n",
       "    </tr>\n",
       "  </tbody>\n",
       "</table>\n",
       "</div>"
      ],
      "text/plain": [
       "   A  B  C\n",
       "0  6  2  4\n",
       "1  7  3  6\n",
       "2  8  8  7"
      ]
     },
     "execution_count": 131,
     "metadata": {},
     "output_type": "execute_result"
    }
   ],
   "source": [
    "df + df.iloc[0]"
   ]
  },
  {
   "cell_type": "code",
   "execution_count": 132,
   "metadata": {
    "id": "O_OF4OrGq5Cl"
   },
   "outputs": [
    {
     "data": {
      "text/html": [
       "<div>\n",
       "<style scoped>\n",
       "    .dataframe tbody tr th:only-of-type {\n",
       "        vertical-align: middle;\n",
       "    }\n",
       "\n",
       "    .dataframe tbody tr th {\n",
       "        vertical-align: top;\n",
       "    }\n",
       "\n",
       "    .dataframe thead th {\n",
       "        text-align: right;\n",
       "    }\n",
       "</style>\n",
       "<table border=\"1\" class=\"dataframe\">\n",
       "  <thead>\n",
       "    <tr style=\"text-align: right;\">\n",
       "      <th></th>\n",
       "      <th>A</th>\n",
       "      <th>B</th>\n",
       "      <th>C</th>\n",
       "    </tr>\n",
       "  </thead>\n",
       "  <tbody>\n",
       "    <tr>\n",
       "      <th>0</th>\n",
       "      <td>6</td>\n",
       "      <td>2</td>\n",
       "      <td>4</td>\n",
       "    </tr>\n",
       "    <tr>\n",
       "      <th>1</th>\n",
       "      <td>7</td>\n",
       "      <td>3</td>\n",
       "      <td>6</td>\n",
       "    </tr>\n",
       "    <tr>\n",
       "      <th>2</th>\n",
       "      <td>8</td>\n",
       "      <td>8</td>\n",
       "      <td>7</td>\n",
       "    </tr>\n",
       "  </tbody>\n",
       "</table>\n",
       "</div>"
      ],
      "text/plain": [
       "   A  B  C\n",
       "0  6  2  4\n",
       "1  7  3  6\n",
       "2  8  8  7"
      ]
     },
     "execution_count": 132,
     "metadata": {},
     "output_type": "execute_result"
    }
   ],
   "source": [
    "df.add(df.iloc[0])"
   ]
  },
  {
   "cell_type": "markdown",
   "metadata": {
    "id": "b32g_aLTxriU"
   },
   "source": [
    "#### sub() / subtract()"
   ]
  },
  {
   "cell_type": "code",
   "execution_count": 133,
   "metadata": {},
   "outputs": [
    {
     "data": {
      "text/plain": [
       "array([[3, 1, 2],\n",
       "       [4, 2, 4],\n",
       "       [5, 7, 5]])"
      ]
     },
     "execution_count": 133,
     "metadata": {},
     "output_type": "execute_result"
    }
   ],
   "source": [
    "a"
   ]
  },
  {
   "cell_type": "code",
   "execution_count": 134,
   "metadata": {},
   "outputs": [
    {
     "data": {
      "text/plain": [
       "array([[0, 0, 0],\n",
       "       [1, 1, 2],\n",
       "       [2, 6, 3]])"
      ]
     },
     "execution_count": 134,
     "metadata": {},
     "output_type": "execute_result"
    }
   ],
   "source": [
    "a - a[0]"
   ]
  },
  {
   "cell_type": "code",
   "execution_count": 135,
   "metadata": {
    "id": "_eJ9wpPKM8Ue"
   },
   "outputs": [
    {
     "data": {
      "text/html": [
       "<div>\n",
       "<style scoped>\n",
       "    .dataframe tbody tr th:only-of-type {\n",
       "        vertical-align: middle;\n",
       "    }\n",
       "\n",
       "    .dataframe tbody tr th {\n",
       "        vertical-align: top;\n",
       "    }\n",
       "\n",
       "    .dataframe thead th {\n",
       "        text-align: right;\n",
       "    }\n",
       "</style>\n",
       "<table border=\"1\" class=\"dataframe\">\n",
       "  <thead>\n",
       "    <tr style=\"text-align: right;\">\n",
       "      <th></th>\n",
       "      <th>A</th>\n",
       "      <th>B</th>\n",
       "      <th>C</th>\n",
       "    </tr>\n",
       "  </thead>\n",
       "  <tbody>\n",
       "    <tr>\n",
       "      <th>0</th>\n",
       "      <td>3</td>\n",
       "      <td>1</td>\n",
       "      <td>2</td>\n",
       "    </tr>\n",
       "    <tr>\n",
       "      <th>1</th>\n",
       "      <td>4</td>\n",
       "      <td>2</td>\n",
       "      <td>4</td>\n",
       "    </tr>\n",
       "    <tr>\n",
       "      <th>2</th>\n",
       "      <td>5</td>\n",
       "      <td>7</td>\n",
       "      <td>5</td>\n",
       "    </tr>\n",
       "  </tbody>\n",
       "</table>\n",
       "</div>"
      ],
      "text/plain": [
       "   A  B  C\n",
       "0  3  1  2\n",
       "1  4  2  4\n",
       "2  5  7  5"
      ]
     },
     "execution_count": 135,
     "metadata": {},
     "output_type": "execute_result"
    }
   ],
   "source": [
    "df"
   ]
  },
  {
   "cell_type": "code",
   "execution_count": 136,
   "metadata": {
    "id": "d2kvlPJRhj05"
   },
   "outputs": [
    {
     "data": {
      "text/html": [
       "<div>\n",
       "<style scoped>\n",
       "    .dataframe tbody tr th:only-of-type {\n",
       "        vertical-align: middle;\n",
       "    }\n",
       "\n",
       "    .dataframe tbody tr th {\n",
       "        vertical-align: top;\n",
       "    }\n",
       "\n",
       "    .dataframe thead th {\n",
       "        text-align: right;\n",
       "    }\n",
       "</style>\n",
       "<table border=\"1\" class=\"dataframe\">\n",
       "  <thead>\n",
       "    <tr style=\"text-align: right;\">\n",
       "      <th></th>\n",
       "      <th>A</th>\n",
       "      <th>B</th>\n",
       "      <th>C</th>\n",
       "    </tr>\n",
       "  </thead>\n",
       "  <tbody>\n",
       "    <tr>\n",
       "      <th>0</th>\n",
       "      <td>0</td>\n",
       "      <td>0</td>\n",
       "      <td>0</td>\n",
       "    </tr>\n",
       "    <tr>\n",
       "      <th>1</th>\n",
       "      <td>1</td>\n",
       "      <td>1</td>\n",
       "      <td>2</td>\n",
       "    </tr>\n",
       "    <tr>\n",
       "      <th>2</th>\n",
       "      <td>2</td>\n",
       "      <td>6</td>\n",
       "      <td>3</td>\n",
       "    </tr>\n",
       "  </tbody>\n",
       "</table>\n",
       "</div>"
      ],
      "text/plain": [
       "   A  B  C\n",
       "0  0  0  0\n",
       "1  1  1  2\n",
       "2  2  6  3"
      ]
     },
     "execution_count": 136,
     "metadata": {},
     "output_type": "execute_result"
    }
   ],
   "source": [
    "df - df.iloc[0]"
   ]
  },
  {
   "cell_type": "code",
   "execution_count": 137,
   "metadata": {
    "id": "4_BYRrbnxzxV"
   },
   "outputs": [
    {
     "data": {
      "text/html": [
       "<div>\n",
       "<style scoped>\n",
       "    .dataframe tbody tr th:only-of-type {\n",
       "        vertical-align: middle;\n",
       "    }\n",
       "\n",
       "    .dataframe tbody tr th {\n",
       "        vertical-align: top;\n",
       "    }\n",
       "\n",
       "    .dataframe thead th {\n",
       "        text-align: right;\n",
       "    }\n",
       "</style>\n",
       "<table border=\"1\" class=\"dataframe\">\n",
       "  <thead>\n",
       "    <tr style=\"text-align: right;\">\n",
       "      <th></th>\n",
       "      <th>A</th>\n",
       "      <th>B</th>\n",
       "      <th>C</th>\n",
       "    </tr>\n",
       "  </thead>\n",
       "  <tbody>\n",
       "    <tr>\n",
       "      <th>0</th>\n",
       "      <td>0</td>\n",
       "      <td>0</td>\n",
       "      <td>0</td>\n",
       "    </tr>\n",
       "    <tr>\n",
       "      <th>1</th>\n",
       "      <td>1</td>\n",
       "      <td>1</td>\n",
       "      <td>2</td>\n",
       "    </tr>\n",
       "    <tr>\n",
       "      <th>2</th>\n",
       "      <td>2</td>\n",
       "      <td>6</td>\n",
       "      <td>3</td>\n",
       "    </tr>\n",
       "  </tbody>\n",
       "</table>\n",
       "</div>"
      ],
      "text/plain": [
       "   A  B  C\n",
       "0  0  0  0\n",
       "1  1  1  2\n",
       "2  2  6  3"
      ]
     },
     "execution_count": 137,
     "metadata": {},
     "output_type": "execute_result"
    }
   ],
   "source": [
    "df.sub(df.iloc[0])"
   ]
  },
  {
   "cell_type": "code",
   "execution_count": 139,
   "metadata": {
    "id": "u2AUSDI8q9z3"
   },
   "outputs": [
    {
     "data": {
      "text/html": [
       "<div>\n",
       "<style scoped>\n",
       "    .dataframe tbody tr th:only-of-type {\n",
       "        vertical-align: middle;\n",
       "    }\n",
       "\n",
       "    .dataframe tbody tr th {\n",
       "        vertical-align: top;\n",
       "    }\n",
       "\n",
       "    .dataframe thead th {\n",
       "        text-align: right;\n",
       "    }\n",
       "</style>\n",
       "<table border=\"1\" class=\"dataframe\">\n",
       "  <thead>\n",
       "    <tr style=\"text-align: right;\">\n",
       "      <th></th>\n",
       "      <th>A</th>\n",
       "      <th>B</th>\n",
       "      <th>C</th>\n",
       "    </tr>\n",
       "  </thead>\n",
       "  <tbody>\n",
       "    <tr>\n",
       "      <th>0</th>\n",
       "      <td>2</td>\n",
       "      <td>0</td>\n",
       "      <td>1</td>\n",
       "    </tr>\n",
       "    <tr>\n",
       "      <th>1</th>\n",
       "      <td>2</td>\n",
       "      <td>0</td>\n",
       "      <td>2</td>\n",
       "    </tr>\n",
       "    <tr>\n",
       "      <th>2</th>\n",
       "      <td>-2</td>\n",
       "      <td>0</td>\n",
       "      <td>-2</td>\n",
       "    </tr>\n",
       "  </tbody>\n",
       "</table>\n",
       "</div>"
      ],
      "text/plain": [
       "   A  B  C\n",
       "0  2  0  1\n",
       "1  2  0  2\n",
       "2 -2  0 -2"
      ]
     },
     "execution_count": 139,
     "metadata": {},
     "output_type": "execute_result"
    }
   ],
   "source": [
    "df.subtract(df['B'], axis=0)"
   ]
  },
  {
   "cell_type": "markdown",
   "metadata": {
    "id": "k57PyNCpzN0e"
   },
   "source": [
    "#### mul() / multply()\n",
    "\n",
    "\n"
   ]
  },
  {
   "cell_type": "code",
   "execution_count": 140,
   "metadata": {
    "id": "oeNX64mMzl8X"
   },
   "outputs": [
    {
     "data": {
      "text/plain": [
       "array([[3, 1, 2],\n",
       "       [4, 2, 4],\n",
       "       [5, 7, 5]])"
      ]
     },
     "execution_count": 140,
     "metadata": {},
     "output_type": "execute_result"
    }
   ],
   "source": [
    "a"
   ]
  },
  {
   "cell_type": "code",
   "execution_count": 141,
   "metadata": {
    "id": "9XwcE7ySiMvS"
   },
   "outputs": [
    {
     "data": {
      "text/plain": [
       "array([[12,  2,  8],\n",
       "       [16,  4, 16],\n",
       "       [20, 14, 20]])"
      ]
     },
     "execution_count": 141,
     "metadata": {},
     "output_type": "execute_result"
    }
   ],
   "source": [
    "a * a[1]"
   ]
  },
  {
   "cell_type": "code",
   "execution_count": 142,
   "metadata": {
    "id": "42xISoWmzm8M"
   },
   "outputs": [
    {
     "data": {
      "text/html": [
       "<div>\n",
       "<style scoped>\n",
       "    .dataframe tbody tr th:only-of-type {\n",
       "        vertical-align: middle;\n",
       "    }\n",
       "\n",
       "    .dataframe tbody tr th {\n",
       "        vertical-align: top;\n",
       "    }\n",
       "\n",
       "    .dataframe thead th {\n",
       "        text-align: right;\n",
       "    }\n",
       "</style>\n",
       "<table border=\"1\" class=\"dataframe\">\n",
       "  <thead>\n",
       "    <tr style=\"text-align: right;\">\n",
       "      <th></th>\n",
       "      <th>A</th>\n",
       "      <th>B</th>\n",
       "      <th>C</th>\n",
       "    </tr>\n",
       "  </thead>\n",
       "  <tbody>\n",
       "    <tr>\n",
       "      <th>0</th>\n",
       "      <td>3</td>\n",
       "      <td>1</td>\n",
       "      <td>2</td>\n",
       "    </tr>\n",
       "    <tr>\n",
       "      <th>1</th>\n",
       "      <td>4</td>\n",
       "      <td>2</td>\n",
       "      <td>4</td>\n",
       "    </tr>\n",
       "    <tr>\n",
       "      <th>2</th>\n",
       "      <td>5</td>\n",
       "      <td>7</td>\n",
       "      <td>5</td>\n",
       "    </tr>\n",
       "  </tbody>\n",
       "</table>\n",
       "</div>"
      ],
      "text/plain": [
       "   A  B  C\n",
       "0  3  1  2\n",
       "1  4  2  4\n",
       "2  5  7  5"
      ]
     },
     "execution_count": 142,
     "metadata": {},
     "output_type": "execute_result"
    }
   ],
   "source": [
    "df"
   ]
  },
  {
   "cell_type": "code",
   "execution_count": 143,
   "metadata": {
    "id": "aS6XjFjCh2Jn"
   },
   "outputs": [
    {
     "data": {
      "text/html": [
       "<div>\n",
       "<style scoped>\n",
       "    .dataframe tbody tr th:only-of-type {\n",
       "        vertical-align: middle;\n",
       "    }\n",
       "\n",
       "    .dataframe tbody tr th {\n",
       "        vertical-align: top;\n",
       "    }\n",
       "\n",
       "    .dataframe thead th {\n",
       "        text-align: right;\n",
       "    }\n",
       "</style>\n",
       "<table border=\"1\" class=\"dataframe\">\n",
       "  <thead>\n",
       "    <tr style=\"text-align: right;\">\n",
       "      <th></th>\n",
       "      <th>A</th>\n",
       "      <th>B</th>\n",
       "      <th>C</th>\n",
       "    </tr>\n",
       "  </thead>\n",
       "  <tbody>\n",
       "    <tr>\n",
       "      <th>0</th>\n",
       "      <td>12</td>\n",
       "      <td>2</td>\n",
       "      <td>8</td>\n",
       "    </tr>\n",
       "    <tr>\n",
       "      <th>1</th>\n",
       "      <td>16</td>\n",
       "      <td>4</td>\n",
       "      <td>16</td>\n",
       "    </tr>\n",
       "    <tr>\n",
       "      <th>2</th>\n",
       "      <td>20</td>\n",
       "      <td>14</td>\n",
       "      <td>20</td>\n",
       "    </tr>\n",
       "  </tbody>\n",
       "</table>\n",
       "</div>"
      ],
      "text/plain": [
       "    A   B   C\n",
       "0  12   2   8\n",
       "1  16   4  16\n",
       "2  20  14  20"
      ]
     },
     "execution_count": 143,
     "metadata": {},
     "output_type": "execute_result"
    }
   ],
   "source": [
    "df * df.iloc[1]"
   ]
  },
  {
   "cell_type": "code",
   "execution_count": 144,
   "metadata": {
    "id": "GxIj27xmrGAR"
   },
   "outputs": [
    {
     "data": {
      "text/html": [
       "<div>\n",
       "<style scoped>\n",
       "    .dataframe tbody tr th:only-of-type {\n",
       "        vertical-align: middle;\n",
       "    }\n",
       "\n",
       "    .dataframe tbody tr th {\n",
       "        vertical-align: top;\n",
       "    }\n",
       "\n",
       "    .dataframe thead th {\n",
       "        text-align: right;\n",
       "    }\n",
       "</style>\n",
       "<table border=\"1\" class=\"dataframe\">\n",
       "  <thead>\n",
       "    <tr style=\"text-align: right;\">\n",
       "      <th></th>\n",
       "      <th>A</th>\n",
       "      <th>B</th>\n",
       "      <th>C</th>\n",
       "    </tr>\n",
       "  </thead>\n",
       "  <tbody>\n",
       "    <tr>\n",
       "      <th>0</th>\n",
       "      <td>12</td>\n",
       "      <td>2</td>\n",
       "      <td>8</td>\n",
       "    </tr>\n",
       "    <tr>\n",
       "      <th>1</th>\n",
       "      <td>16</td>\n",
       "      <td>4</td>\n",
       "      <td>16</td>\n",
       "    </tr>\n",
       "    <tr>\n",
       "      <th>2</th>\n",
       "      <td>20</td>\n",
       "      <td>14</td>\n",
       "      <td>20</td>\n",
       "    </tr>\n",
       "  </tbody>\n",
       "</table>\n",
       "</div>"
      ],
      "text/plain": [
       "    A   B   C\n",
       "0  12   2   8\n",
       "1  16   4  16\n",
       "2  20  14  20"
      ]
     },
     "execution_count": 144,
     "metadata": {},
     "output_type": "execute_result"
    }
   ],
   "source": [
    "df.mul(df.iloc[1])"
   ]
  },
  {
   "cell_type": "code",
   "execution_count": 145,
   "metadata": {
    "id": "HpE8CYBVvUML"
   },
   "outputs": [
    {
     "data": {
      "text/html": [
       "<div>\n",
       "<style scoped>\n",
       "    .dataframe tbody tr th:only-of-type {\n",
       "        vertical-align: middle;\n",
       "    }\n",
       "\n",
       "    .dataframe tbody tr th {\n",
       "        vertical-align: top;\n",
       "    }\n",
       "\n",
       "    .dataframe thead th {\n",
       "        text-align: right;\n",
       "    }\n",
       "</style>\n",
       "<table border=\"1\" class=\"dataframe\">\n",
       "  <thead>\n",
       "    <tr style=\"text-align: right;\">\n",
       "      <th></th>\n",
       "      <th>A</th>\n",
       "      <th>B</th>\n",
       "      <th>C</th>\n",
       "    </tr>\n",
       "  </thead>\n",
       "  <tbody>\n",
       "    <tr>\n",
       "      <th>0</th>\n",
       "      <td>15</td>\n",
       "      <td>7</td>\n",
       "      <td>10</td>\n",
       "    </tr>\n",
       "    <tr>\n",
       "      <th>1</th>\n",
       "      <td>20</td>\n",
       "      <td>14</td>\n",
       "      <td>20</td>\n",
       "    </tr>\n",
       "    <tr>\n",
       "      <th>2</th>\n",
       "      <td>25</td>\n",
       "      <td>49</td>\n",
       "      <td>25</td>\n",
       "    </tr>\n",
       "  </tbody>\n",
       "</table>\n",
       "</div>"
      ],
      "text/plain": [
       "    A   B   C\n",
       "0  15   7  10\n",
       "1  20  14  20\n",
       "2  25  49  25"
      ]
     },
     "execution_count": 145,
     "metadata": {},
     "output_type": "execute_result"
    }
   ],
   "source": [
    "df.multiply(df.iloc[2])"
   ]
  },
  {
   "cell_type": "markdown",
   "metadata": {
    "id": "hFAaKfw2zpFE"
   },
   "source": [
    "#### truediv() /  div() / divide() / floordiv()"
   ]
  },
  {
   "cell_type": "code",
   "execution_count": 146,
   "metadata": {
    "id": "BQ56Fdtyzyvp"
   },
   "outputs": [
    {
     "data": {
      "text/plain": [
       "array([[3, 1, 2],\n",
       "       [4, 2, 4],\n",
       "       [5, 7, 5]])"
      ]
     },
     "execution_count": 146,
     "metadata": {},
     "output_type": "execute_result"
    }
   ],
   "source": [
    "a"
   ]
  },
  {
   "cell_type": "code",
   "execution_count": 147,
   "metadata": {
    "id": "fgKLOKM5iQMu"
   },
   "outputs": [
    {
     "data": {
      "text/plain": [
       "array([[1.        , 1.        , 1.        ],\n",
       "       [1.33333333, 2.        , 2.        ],\n",
       "       [1.66666667, 7.        , 2.5       ]])"
      ]
     },
     "execution_count": 147,
     "metadata": {},
     "output_type": "execute_result"
    }
   ],
   "source": [
    "a / a[0]"
   ]
  },
  {
   "cell_type": "code",
   "execution_count": 148,
   "metadata": {
    "id": "HjYXWxgfz5WD"
   },
   "outputs": [
    {
     "data": {
      "text/html": [
       "<div>\n",
       "<style scoped>\n",
       "    .dataframe tbody tr th:only-of-type {\n",
       "        vertical-align: middle;\n",
       "    }\n",
       "\n",
       "    .dataframe tbody tr th {\n",
       "        vertical-align: top;\n",
       "    }\n",
       "\n",
       "    .dataframe thead th {\n",
       "        text-align: right;\n",
       "    }\n",
       "</style>\n",
       "<table border=\"1\" class=\"dataframe\">\n",
       "  <thead>\n",
       "    <tr style=\"text-align: right;\">\n",
       "      <th></th>\n",
       "      <th>A</th>\n",
       "      <th>B</th>\n",
       "      <th>C</th>\n",
       "    </tr>\n",
       "  </thead>\n",
       "  <tbody>\n",
       "    <tr>\n",
       "      <th>0</th>\n",
       "      <td>3</td>\n",
       "      <td>1</td>\n",
       "      <td>2</td>\n",
       "    </tr>\n",
       "    <tr>\n",
       "      <th>1</th>\n",
       "      <td>4</td>\n",
       "      <td>2</td>\n",
       "      <td>4</td>\n",
       "    </tr>\n",
       "    <tr>\n",
       "      <th>2</th>\n",
       "      <td>5</td>\n",
       "      <td>7</td>\n",
       "      <td>5</td>\n",
       "    </tr>\n",
       "  </tbody>\n",
       "</table>\n",
       "</div>"
      ],
      "text/plain": [
       "   A  B  C\n",
       "0  3  1  2\n",
       "1  4  2  4\n",
       "2  5  7  5"
      ]
     },
     "execution_count": 148,
     "metadata": {},
     "output_type": "execute_result"
    }
   ],
   "source": [
    "df"
   ]
  },
  {
   "cell_type": "code",
   "execution_count": 149,
   "metadata": {
    "id": "Nw0xsKsAz9XV"
   },
   "outputs": [
    {
     "data": {
      "text/html": [
       "<div>\n",
       "<style scoped>\n",
       "    .dataframe tbody tr th:only-of-type {\n",
       "        vertical-align: middle;\n",
       "    }\n",
       "\n",
       "    .dataframe tbody tr th {\n",
       "        vertical-align: top;\n",
       "    }\n",
       "\n",
       "    .dataframe thead th {\n",
       "        text-align: right;\n",
       "    }\n",
       "</style>\n",
       "<table border=\"1\" class=\"dataframe\">\n",
       "  <thead>\n",
       "    <tr style=\"text-align: right;\">\n",
       "      <th></th>\n",
       "      <th>A</th>\n",
       "      <th>B</th>\n",
       "      <th>C</th>\n",
       "    </tr>\n",
       "  </thead>\n",
       "  <tbody>\n",
       "    <tr>\n",
       "      <th>0</th>\n",
       "      <td>1.000000</td>\n",
       "      <td>1.0</td>\n",
       "      <td>1.0</td>\n",
       "    </tr>\n",
       "    <tr>\n",
       "      <th>1</th>\n",
       "      <td>1.333333</td>\n",
       "      <td>2.0</td>\n",
       "      <td>2.0</td>\n",
       "    </tr>\n",
       "    <tr>\n",
       "      <th>2</th>\n",
       "      <td>1.666667</td>\n",
       "      <td>7.0</td>\n",
       "      <td>2.5</td>\n",
       "    </tr>\n",
       "  </tbody>\n",
       "</table>\n",
       "</div>"
      ],
      "text/plain": [
       "          A    B    C\n",
       "0  1.000000  1.0  1.0\n",
       "1  1.333333  2.0  2.0\n",
       "2  1.666667  7.0  2.5"
      ]
     },
     "execution_count": 149,
     "metadata": {},
     "output_type": "execute_result"
    }
   ],
   "source": [
    "df / df.iloc[0]"
   ]
  },
  {
   "cell_type": "code",
   "execution_count": 150,
   "metadata": {
    "id": "ZoSaKROE0Ab_"
   },
   "outputs": [
    {
     "data": {
      "text/html": [
       "<div>\n",
       "<style scoped>\n",
       "    .dataframe tbody tr th:only-of-type {\n",
       "        vertical-align: middle;\n",
       "    }\n",
       "\n",
       "    .dataframe tbody tr th {\n",
       "        vertical-align: top;\n",
       "    }\n",
       "\n",
       "    .dataframe thead th {\n",
       "        text-align: right;\n",
       "    }\n",
       "</style>\n",
       "<table border=\"1\" class=\"dataframe\">\n",
       "  <thead>\n",
       "    <tr style=\"text-align: right;\">\n",
       "      <th></th>\n",
       "      <th>A</th>\n",
       "      <th>B</th>\n",
       "      <th>C</th>\n",
       "    </tr>\n",
       "  </thead>\n",
       "  <tbody>\n",
       "    <tr>\n",
       "      <th>0</th>\n",
       "      <td>1.000000</td>\n",
       "      <td>1.0</td>\n",
       "      <td>1.0</td>\n",
       "    </tr>\n",
       "    <tr>\n",
       "      <th>1</th>\n",
       "      <td>1.333333</td>\n",
       "      <td>2.0</td>\n",
       "      <td>2.0</td>\n",
       "    </tr>\n",
       "    <tr>\n",
       "      <th>2</th>\n",
       "      <td>1.666667</td>\n",
       "      <td>7.0</td>\n",
       "      <td>2.5</td>\n",
       "    </tr>\n",
       "  </tbody>\n",
       "</table>\n",
       "</div>"
      ],
      "text/plain": [
       "          A    B    C\n",
       "0  1.000000  1.0  1.0\n",
       "1  1.333333  2.0  2.0\n",
       "2  1.666667  7.0  2.5"
      ]
     },
     "execution_count": 150,
     "metadata": {},
     "output_type": "execute_result"
    }
   ],
   "source": [
    "df.truediv(df.iloc[0])"
   ]
  },
  {
   "cell_type": "code",
   "execution_count": 151,
   "metadata": {
    "id": "Q21li5Sk0TJw"
   },
   "outputs": [
    {
     "data": {
      "text/html": [
       "<div>\n",
       "<style scoped>\n",
       "    .dataframe tbody tr th:only-of-type {\n",
       "        vertical-align: middle;\n",
       "    }\n",
       "\n",
       "    .dataframe tbody tr th {\n",
       "        vertical-align: top;\n",
       "    }\n",
       "\n",
       "    .dataframe thead th {\n",
       "        text-align: right;\n",
       "    }\n",
       "</style>\n",
       "<table border=\"1\" class=\"dataframe\">\n",
       "  <thead>\n",
       "    <tr style=\"text-align: right;\">\n",
       "      <th></th>\n",
       "      <th>A</th>\n",
       "      <th>B</th>\n",
       "      <th>C</th>\n",
       "    </tr>\n",
       "  </thead>\n",
       "  <tbody>\n",
       "    <tr>\n",
       "      <th>0</th>\n",
       "      <td>0.75</td>\n",
       "      <td>0.5</td>\n",
       "      <td>0.50</td>\n",
       "    </tr>\n",
       "    <tr>\n",
       "      <th>1</th>\n",
       "      <td>1.00</td>\n",
       "      <td>1.0</td>\n",
       "      <td>1.00</td>\n",
       "    </tr>\n",
       "    <tr>\n",
       "      <th>2</th>\n",
       "      <td>1.25</td>\n",
       "      <td>3.5</td>\n",
       "      <td>1.25</td>\n",
       "    </tr>\n",
       "  </tbody>\n",
       "</table>\n",
       "</div>"
      ],
      "text/plain": [
       "      A    B     C\n",
       "0  0.75  0.5  0.50\n",
       "1  1.00  1.0  1.00\n",
       "2  1.25  3.5  1.25"
      ]
     },
     "execution_count": 151,
     "metadata": {},
     "output_type": "execute_result"
    }
   ],
   "source": [
    "df.div(df.iloc[1])"
   ]
  },
  {
   "cell_type": "code",
   "execution_count": 152,
   "metadata": {
    "id": "ct4NWN-rp4Gp"
   },
   "outputs": [
    {
     "data": {
      "text/html": [
       "<div>\n",
       "<style scoped>\n",
       "    .dataframe tbody tr th:only-of-type {\n",
       "        vertical-align: middle;\n",
       "    }\n",
       "\n",
       "    .dataframe tbody tr th {\n",
       "        vertical-align: top;\n",
       "    }\n",
       "\n",
       "    .dataframe thead th {\n",
       "        text-align: right;\n",
       "    }\n",
       "</style>\n",
       "<table border=\"1\" class=\"dataframe\">\n",
       "  <thead>\n",
       "    <tr style=\"text-align: right;\">\n",
       "      <th></th>\n",
       "      <th>A</th>\n",
       "      <th>B</th>\n",
       "      <th>C</th>\n",
       "    </tr>\n",
       "  </thead>\n",
       "  <tbody>\n",
       "    <tr>\n",
       "      <th>0</th>\n",
       "      <td>0.6</td>\n",
       "      <td>0.142857</td>\n",
       "      <td>0.4</td>\n",
       "    </tr>\n",
       "    <tr>\n",
       "      <th>1</th>\n",
       "      <td>0.8</td>\n",
       "      <td>0.285714</td>\n",
       "      <td>0.8</td>\n",
       "    </tr>\n",
       "    <tr>\n",
       "      <th>2</th>\n",
       "      <td>1.0</td>\n",
       "      <td>1.000000</td>\n",
       "      <td>1.0</td>\n",
       "    </tr>\n",
       "  </tbody>\n",
       "</table>\n",
       "</div>"
      ],
      "text/plain": [
       "     A         B    C\n",
       "0  0.6  0.142857  0.4\n",
       "1  0.8  0.285714  0.8\n",
       "2  1.0  1.000000  1.0"
      ]
     },
     "execution_count": 152,
     "metadata": {},
     "output_type": "execute_result"
    }
   ],
   "source": [
    "df.divide(df.iloc[2])"
   ]
  },
  {
   "cell_type": "code",
   "execution_count": 153,
   "metadata": {
    "id": "2ShseE-LiYxb"
   },
   "outputs": [
    {
     "data": {
      "text/plain": [
       "array([[1, 1, 1],\n",
       "       [1, 2, 2],\n",
       "       [1, 7, 2]], dtype=int32)"
      ]
     },
     "execution_count": 153,
     "metadata": {},
     "output_type": "execute_result"
    }
   ],
   "source": [
    "a // a[0]"
   ]
  },
  {
   "cell_type": "code",
   "execution_count": 154,
   "metadata": {
    "id": "XAbDLNYqovd9"
   },
   "outputs": [
    {
     "data": {
      "text/html": [
       "<div>\n",
       "<style scoped>\n",
       "    .dataframe tbody tr th:only-of-type {\n",
       "        vertical-align: middle;\n",
       "    }\n",
       "\n",
       "    .dataframe tbody tr th {\n",
       "        vertical-align: top;\n",
       "    }\n",
       "\n",
       "    .dataframe thead th {\n",
       "        text-align: right;\n",
       "    }\n",
       "</style>\n",
       "<table border=\"1\" class=\"dataframe\">\n",
       "  <thead>\n",
       "    <tr style=\"text-align: right;\">\n",
       "      <th></th>\n",
       "      <th>A</th>\n",
       "      <th>B</th>\n",
       "      <th>C</th>\n",
       "    </tr>\n",
       "  </thead>\n",
       "  <tbody>\n",
       "    <tr>\n",
       "      <th>0</th>\n",
       "      <td>1</td>\n",
       "      <td>1</td>\n",
       "      <td>1</td>\n",
       "    </tr>\n",
       "    <tr>\n",
       "      <th>1</th>\n",
       "      <td>1</td>\n",
       "      <td>2</td>\n",
       "      <td>2</td>\n",
       "    </tr>\n",
       "    <tr>\n",
       "      <th>2</th>\n",
       "      <td>1</td>\n",
       "      <td>7</td>\n",
       "      <td>2</td>\n",
       "    </tr>\n",
       "  </tbody>\n",
       "</table>\n",
       "</div>"
      ],
      "text/plain": [
       "   A  B  C\n",
       "0  1  1  1\n",
       "1  1  2  2\n",
       "2  1  7  2"
      ]
     },
     "execution_count": 154,
     "metadata": {},
     "output_type": "execute_result"
    }
   ],
   "source": [
    "df.floordiv(df.iloc[0])"
   ]
  },
  {
   "cell_type": "markdown",
   "metadata": {
    "id": "kd9HSQ6y0SwS"
   },
   "source": [
    "#### mod()"
   ]
  },
  {
   "cell_type": "code",
   "execution_count": 155,
   "metadata": {
    "id": "EzEbDy4iqOFR"
   },
   "outputs": [
    {
     "data": {
      "text/plain": [
       "array([[3, 1, 2],\n",
       "       [4, 2, 4],\n",
       "       [5, 7, 5]])"
      ]
     },
     "execution_count": 155,
     "metadata": {},
     "output_type": "execute_result"
    }
   ],
   "source": [
    "a"
   ]
  },
  {
   "cell_type": "code",
   "execution_count": 156,
   "metadata": {
    "id": "twDUry6dipns"
   },
   "outputs": [
    {
     "data": {
      "text/plain": [
       "array([[0, 0, 0],\n",
       "       [1, 0, 0],\n",
       "       [2, 0, 1]], dtype=int32)"
      ]
     },
     "execution_count": 156,
     "metadata": {},
     "output_type": "execute_result"
    }
   ],
   "source": [
    "a % a[0]"
   ]
  },
  {
   "cell_type": "code",
   "execution_count": 157,
   "metadata": {
    "id": "aqQMEZTdqPUN"
   },
   "outputs": [
    {
     "data": {
      "text/html": [
       "<div>\n",
       "<style scoped>\n",
       "    .dataframe tbody tr th:only-of-type {\n",
       "        vertical-align: middle;\n",
       "    }\n",
       "\n",
       "    .dataframe tbody tr th {\n",
       "        vertical-align: top;\n",
       "    }\n",
       "\n",
       "    .dataframe thead th {\n",
       "        text-align: right;\n",
       "    }\n",
       "</style>\n",
       "<table border=\"1\" class=\"dataframe\">\n",
       "  <thead>\n",
       "    <tr style=\"text-align: right;\">\n",
       "      <th></th>\n",
       "      <th>A</th>\n",
       "      <th>B</th>\n",
       "      <th>C</th>\n",
       "    </tr>\n",
       "  </thead>\n",
       "  <tbody>\n",
       "    <tr>\n",
       "      <th>0</th>\n",
       "      <td>3</td>\n",
       "      <td>1</td>\n",
       "      <td>2</td>\n",
       "    </tr>\n",
       "    <tr>\n",
       "      <th>1</th>\n",
       "      <td>4</td>\n",
       "      <td>2</td>\n",
       "      <td>4</td>\n",
       "    </tr>\n",
       "    <tr>\n",
       "      <th>2</th>\n",
       "      <td>5</td>\n",
       "      <td>7</td>\n",
       "      <td>5</td>\n",
       "    </tr>\n",
       "  </tbody>\n",
       "</table>\n",
       "</div>"
      ],
      "text/plain": [
       "   A  B  C\n",
       "0  3  1  2\n",
       "1  4  2  4\n",
       "2  5  7  5"
      ]
     },
     "execution_count": 157,
     "metadata": {},
     "output_type": "execute_result"
    }
   ],
   "source": [
    "df"
   ]
  },
  {
   "cell_type": "code",
   "execution_count": 158,
   "metadata": {
    "id": "NdXlrc8LqQUE"
   },
   "outputs": [
    {
     "data": {
      "text/html": [
       "<div>\n",
       "<style scoped>\n",
       "    .dataframe tbody tr th:only-of-type {\n",
       "        vertical-align: middle;\n",
       "    }\n",
       "\n",
       "    .dataframe tbody tr th {\n",
       "        vertical-align: top;\n",
       "    }\n",
       "\n",
       "    .dataframe thead th {\n",
       "        text-align: right;\n",
       "    }\n",
       "</style>\n",
       "<table border=\"1\" class=\"dataframe\">\n",
       "  <thead>\n",
       "    <tr style=\"text-align: right;\">\n",
       "      <th></th>\n",
       "      <th>A</th>\n",
       "      <th>B</th>\n",
       "      <th>C</th>\n",
       "    </tr>\n",
       "  </thead>\n",
       "  <tbody>\n",
       "    <tr>\n",
       "      <th>0</th>\n",
       "      <td>0</td>\n",
       "      <td>0</td>\n",
       "      <td>0</td>\n",
       "    </tr>\n",
       "    <tr>\n",
       "      <th>1</th>\n",
       "      <td>1</td>\n",
       "      <td>0</td>\n",
       "      <td>0</td>\n",
       "    </tr>\n",
       "    <tr>\n",
       "      <th>2</th>\n",
       "      <td>2</td>\n",
       "      <td>0</td>\n",
       "      <td>1</td>\n",
       "    </tr>\n",
       "  </tbody>\n",
       "</table>\n",
       "</div>"
      ],
      "text/plain": [
       "   A  B  C\n",
       "0  0  0  0\n",
       "1  1  0  0\n",
       "2  2  0  1"
      ]
     },
     "execution_count": 158,
     "metadata": {},
     "output_type": "execute_result"
    }
   ],
   "source": [
    "df.mod(df.iloc[0])"
   ]
  },
  {
   "cell_type": "markdown",
   "metadata": {
    "id": "U7ZuwbTDp9Se"
   },
   "source": [
    "#### pow()"
   ]
  },
  {
   "cell_type": "code",
   "execution_count": 159,
   "metadata": {
    "id": "zHZfX4K5qU0Y"
   },
   "outputs": [
    {
     "data": {
      "text/plain": [
       "array([[3, 1, 2],\n",
       "       [4, 2, 4],\n",
       "       [5, 7, 5]])"
      ]
     },
     "execution_count": 159,
     "metadata": {},
     "output_type": "execute_result"
    }
   ],
   "source": [
    "a"
   ]
  },
  {
   "cell_type": "code",
   "execution_count": 160,
   "metadata": {},
   "outputs": [
    {
     "data": {
      "text/plain": [
       "array([[ 27,   1,   4],\n",
       "       [ 64,   2,  16],\n",
       "       [125,   7,  25]], dtype=int32)"
      ]
     },
     "execution_count": 160,
     "metadata": {},
     "output_type": "execute_result"
    }
   ],
   "source": [
    "a ** a[0]"
   ]
  },
  {
   "cell_type": "code",
   "execution_count": 161,
   "metadata": {
    "id": "KpA3rMqAispd"
   },
   "outputs": [
    {
     "data": {
      "text/html": [
       "<div>\n",
       "<style scoped>\n",
       "    .dataframe tbody tr th:only-of-type {\n",
       "        vertical-align: middle;\n",
       "    }\n",
       "\n",
       "    .dataframe tbody tr th {\n",
       "        vertical-align: top;\n",
       "    }\n",
       "\n",
       "    .dataframe thead th {\n",
       "        text-align: right;\n",
       "    }\n",
       "</style>\n",
       "<table border=\"1\" class=\"dataframe\">\n",
       "  <thead>\n",
       "    <tr style=\"text-align: right;\">\n",
       "      <th></th>\n",
       "      <th>A</th>\n",
       "      <th>B</th>\n",
       "      <th>C</th>\n",
       "    </tr>\n",
       "  </thead>\n",
       "  <tbody>\n",
       "    <tr>\n",
       "      <th>0</th>\n",
       "      <td>3</td>\n",
       "      <td>1</td>\n",
       "      <td>2</td>\n",
       "    </tr>\n",
       "    <tr>\n",
       "      <th>1</th>\n",
       "      <td>4</td>\n",
       "      <td>2</td>\n",
       "      <td>4</td>\n",
       "    </tr>\n",
       "    <tr>\n",
       "      <th>2</th>\n",
       "      <td>5</td>\n",
       "      <td>7</td>\n",
       "      <td>5</td>\n",
       "    </tr>\n",
       "  </tbody>\n",
       "</table>\n",
       "</div>"
      ],
      "text/plain": [
       "   A  B  C\n",
       "0  3  1  2\n",
       "1  4  2  4\n",
       "2  5  7  5"
      ]
     },
     "execution_count": 161,
     "metadata": {},
     "output_type": "execute_result"
    }
   ],
   "source": [
    "df"
   ]
  },
  {
   "cell_type": "code",
   "execution_count": 162,
   "metadata": {
    "id": "E0kXJgdWqWcw"
   },
   "outputs": [
    {
     "data": {
      "text/html": [
       "<div>\n",
       "<style scoped>\n",
       "    .dataframe tbody tr th:only-of-type {\n",
       "        vertical-align: middle;\n",
       "    }\n",
       "\n",
       "    .dataframe tbody tr th {\n",
       "        vertical-align: top;\n",
       "    }\n",
       "\n",
       "    .dataframe thead th {\n",
       "        text-align: right;\n",
       "    }\n",
       "</style>\n",
       "<table border=\"1\" class=\"dataframe\">\n",
       "  <thead>\n",
       "    <tr style=\"text-align: right;\">\n",
       "      <th></th>\n",
       "      <th>A</th>\n",
       "      <th>B</th>\n",
       "      <th>C</th>\n",
       "    </tr>\n",
       "  </thead>\n",
       "  <tbody>\n",
       "    <tr>\n",
       "      <th>0</th>\n",
       "      <td>27</td>\n",
       "      <td>1</td>\n",
       "      <td>4</td>\n",
       "    </tr>\n",
       "    <tr>\n",
       "      <th>1</th>\n",
       "      <td>64</td>\n",
       "      <td>2</td>\n",
       "      <td>16</td>\n",
       "    </tr>\n",
       "    <tr>\n",
       "      <th>2</th>\n",
       "      <td>125</td>\n",
       "      <td>7</td>\n",
       "      <td>25</td>\n",
       "    </tr>\n",
       "  </tbody>\n",
       "</table>\n",
       "</div>"
      ],
      "text/plain": [
       "     A  B   C\n",
       "0   27  1   4\n",
       "1   64  2  16\n",
       "2  125  7  25"
      ]
     },
     "execution_count": 162,
     "metadata": {},
     "output_type": "execute_result"
    }
   ],
   "source": [
    "df.pow(df.iloc[0])"
   ]
  },
  {
   "cell_type": "code",
   "execution_count": 163,
   "metadata": {
    "id": "x3QIEcXoqW27"
   },
   "outputs": [
    {
     "data": {
      "text/plain": [
       "A    3\n",
       "C    2\n",
       "Name: 0, dtype: int32"
      ]
     },
     "execution_count": 163,
     "metadata": {},
     "output_type": "execute_result"
    }
   ],
   "source": [
    "row = df.iloc[0, ::2]\n",
    "row"
   ]
  },
  {
   "cell_type": "code",
   "execution_count": 164,
   "metadata": {
    "id": "CAZBCAMLqyLz"
   },
   "outputs": [
    {
     "data": {
      "text/html": [
       "<div>\n",
       "<style scoped>\n",
       "    .dataframe tbody tr th:only-of-type {\n",
       "        vertical-align: middle;\n",
       "    }\n",
       "\n",
       "    .dataframe tbody tr th {\n",
       "        vertical-align: top;\n",
       "    }\n",
       "\n",
       "    .dataframe thead th {\n",
       "        text-align: right;\n",
       "    }\n",
       "</style>\n",
       "<table border=\"1\" class=\"dataframe\">\n",
       "  <thead>\n",
       "    <tr style=\"text-align: right;\">\n",
       "      <th></th>\n",
       "      <th>A</th>\n",
       "      <th>B</th>\n",
       "      <th>C</th>\n",
       "    </tr>\n",
       "  </thead>\n",
       "  <tbody>\n",
       "    <tr>\n",
       "      <th>0</th>\n",
       "      <td>0.0</td>\n",
       "      <td>NaN</td>\n",
       "      <td>0.0</td>\n",
       "    </tr>\n",
       "    <tr>\n",
       "      <th>1</th>\n",
       "      <td>1.0</td>\n",
       "      <td>NaN</td>\n",
       "      <td>2.0</td>\n",
       "    </tr>\n",
       "    <tr>\n",
       "      <th>2</th>\n",
       "      <td>2.0</td>\n",
       "      <td>NaN</td>\n",
       "      <td>3.0</td>\n",
       "    </tr>\n",
       "  </tbody>\n",
       "</table>\n",
       "</div>"
      ],
      "text/plain": [
       "     A   B    C\n",
       "0  0.0 NaN  0.0\n",
       "1  1.0 NaN  2.0\n",
       "2  2.0 NaN  3.0"
      ]
     },
     "execution_count": 164,
     "metadata": {},
     "output_type": "execute_result"
    }
   ],
   "source": [
    "df - row"
   ]
  },
  {
   "cell_type": "markdown",
   "metadata": {
    "id": "olpJULJ5x1KI"
   },
   "source": [
    "### 정렬(Sort)"
   ]
  },
  {
   "cell_type": "code",
   "execution_count": 166,
   "metadata": {
    "id": "Wplj3Uw00Isa"
   },
   "outputs": [
    {
     "data": {
      "text/plain": [
       "A     0\n",
       "B     1\n",
       "C     2\n",
       " D    3\n",
       "E     4\n",
       "dtype: int64"
      ]
     },
     "execution_count": 166,
     "metadata": {},
     "output_type": "execute_result"
    }
   ],
   "source": [
    "s = pd.Series(range(5), index=['A', 'B', 'C',' D', 'E'])\n",
    "s"
   ]
  },
  {
   "cell_type": "code",
   "execution_count": 167,
   "metadata": {
    "id": "6teCdpge0Xp6"
   },
   "outputs": [
    {
     "data": {
      "text/plain": [
       " D    3\n",
       "A     0\n",
       "B     1\n",
       "C     2\n",
       "E     4\n",
       "dtype: int64"
      ]
     },
     "execution_count": 167,
     "metadata": {},
     "output_type": "execute_result"
    }
   ],
   "source": [
    "s.sort_index()"
   ]
  },
  {
   "cell_type": "code",
   "execution_count": 168,
   "metadata": {
    "id": "l77lqhu71Nd4"
   },
   "outputs": [
    {
     "data": {
      "text/plain": [
       "A     0\n",
       "B     1\n",
       "C     2\n",
       " D    3\n",
       "E     4\n",
       "dtype: int64"
      ]
     },
     "execution_count": 168,
     "metadata": {},
     "output_type": "execute_result"
    }
   ],
   "source": [
    "s.sort_values()"
   ]
  },
  {
   "cell_type": "code",
   "execution_count": 169,
   "metadata": {
    "id": "HXw87Eo0x3tZ"
   },
   "outputs": [
    {
     "data": {
      "text/html": [
       "<div>\n",
       "<style scoped>\n",
       "    .dataframe tbody tr th:only-of-type {\n",
       "        vertical-align: middle;\n",
       "    }\n",
       "\n",
       "    .dataframe tbody tr th {\n",
       "        vertical-align: top;\n",
       "    }\n",
       "\n",
       "    .dataframe thead th {\n",
       "        text-align: right;\n",
       "    }\n",
       "</style>\n",
       "<table border=\"1\" class=\"dataframe\">\n",
       "  <thead>\n",
       "    <tr style=\"text-align: right;\">\n",
       "      <th></th>\n",
       "      <th>B</th>\n",
       "      <th>D</th>\n",
       "      <th>A</th>\n",
       "      <th>C</th>\n",
       "    </tr>\n",
       "  </thead>\n",
       "  <tbody>\n",
       "    <tr>\n",
       "      <th>2</th>\n",
       "      <td>7</td>\n",
       "      <td>4</td>\n",
       "      <td>1</td>\n",
       "      <td>1</td>\n",
       "    </tr>\n",
       "    <tr>\n",
       "      <th>4</th>\n",
       "      <td>6</td>\n",
       "      <td>7</td>\n",
       "      <td>5</td>\n",
       "      <td>5</td>\n",
       "    </tr>\n",
       "    <tr>\n",
       "      <th>1</th>\n",
       "      <td>3</td>\n",
       "      <td>1</td>\n",
       "      <td>9</td>\n",
       "      <td>1</td>\n",
       "    </tr>\n",
       "    <tr>\n",
       "      <th>3</th>\n",
       "      <td>2</td>\n",
       "      <td>0</td>\n",
       "      <td>5</td>\n",
       "      <td>2</td>\n",
       "    </tr>\n",
       "  </tbody>\n",
       "</table>\n",
       "</div>"
      ],
      "text/plain": [
       "   B  D  A  C\n",
       "2  7  4  1  1\n",
       "4  6  7  5  5\n",
       "1  3  1  9  1\n",
       "3  2  0  5  2"
      ]
     },
     "execution_count": 169,
     "metadata": {},
     "output_type": "execute_result"
    }
   ],
   "source": [
    "df = pd.DataFrame(np.random.randint(0, 10, (4, 4)),\n",
    "                 index=[2, 4, 1, 3],\n",
    "                 columns=list('BDAC'))\n",
    "df"
   ]
  },
  {
   "cell_type": "code",
   "execution_count": 170,
   "metadata": {
    "id": "EOsqFoi2zMZ3"
   },
   "outputs": [
    {
     "data": {
      "text/html": [
       "<div>\n",
       "<style scoped>\n",
       "    .dataframe tbody tr th:only-of-type {\n",
       "        vertical-align: middle;\n",
       "    }\n",
       "\n",
       "    .dataframe tbody tr th {\n",
       "        vertical-align: top;\n",
       "    }\n",
       "\n",
       "    .dataframe thead th {\n",
       "        text-align: right;\n",
       "    }\n",
       "</style>\n",
       "<table border=\"1\" class=\"dataframe\">\n",
       "  <thead>\n",
       "    <tr style=\"text-align: right;\">\n",
       "      <th></th>\n",
       "      <th>B</th>\n",
       "      <th>D</th>\n",
       "      <th>A</th>\n",
       "      <th>C</th>\n",
       "    </tr>\n",
       "  </thead>\n",
       "  <tbody>\n",
       "    <tr>\n",
       "      <th>1</th>\n",
       "      <td>3</td>\n",
       "      <td>1</td>\n",
       "      <td>9</td>\n",
       "      <td>1</td>\n",
       "    </tr>\n",
       "    <tr>\n",
       "      <th>2</th>\n",
       "      <td>7</td>\n",
       "      <td>4</td>\n",
       "      <td>1</td>\n",
       "      <td>1</td>\n",
       "    </tr>\n",
       "    <tr>\n",
       "      <th>3</th>\n",
       "      <td>2</td>\n",
       "      <td>0</td>\n",
       "      <td>5</td>\n",
       "      <td>2</td>\n",
       "    </tr>\n",
       "    <tr>\n",
       "      <th>4</th>\n",
       "      <td>6</td>\n",
       "      <td>7</td>\n",
       "      <td>5</td>\n",
       "      <td>5</td>\n",
       "    </tr>\n",
       "  </tbody>\n",
       "</table>\n",
       "</div>"
      ],
      "text/plain": [
       "   B  D  A  C\n",
       "1  3  1  9  1\n",
       "2  7  4  1  1\n",
       "3  2  0  5  2\n",
       "4  6  7  5  5"
      ]
     },
     "execution_count": 170,
     "metadata": {},
     "output_type": "execute_result"
    }
   ],
   "source": [
    "df.sort_index()"
   ]
  },
  {
   "cell_type": "code",
   "execution_count": 171,
   "metadata": {
    "id": "FZ8zzlx90kqU"
   },
   "outputs": [
    {
     "data": {
      "text/html": [
       "<div>\n",
       "<style scoped>\n",
       "    .dataframe tbody tr th:only-of-type {\n",
       "        vertical-align: middle;\n",
       "    }\n",
       "\n",
       "    .dataframe tbody tr th {\n",
       "        vertical-align: top;\n",
       "    }\n",
       "\n",
       "    .dataframe thead th {\n",
       "        text-align: right;\n",
       "    }\n",
       "</style>\n",
       "<table border=\"1\" class=\"dataframe\">\n",
       "  <thead>\n",
       "    <tr style=\"text-align: right;\">\n",
       "      <th></th>\n",
       "      <th>A</th>\n",
       "      <th>B</th>\n",
       "      <th>C</th>\n",
       "      <th>D</th>\n",
       "    </tr>\n",
       "  </thead>\n",
       "  <tbody>\n",
       "    <tr>\n",
       "      <th>2</th>\n",
       "      <td>1</td>\n",
       "      <td>7</td>\n",
       "      <td>1</td>\n",
       "      <td>4</td>\n",
       "    </tr>\n",
       "    <tr>\n",
       "      <th>4</th>\n",
       "      <td>5</td>\n",
       "      <td>6</td>\n",
       "      <td>5</td>\n",
       "      <td>7</td>\n",
       "    </tr>\n",
       "    <tr>\n",
       "      <th>1</th>\n",
       "      <td>9</td>\n",
       "      <td>3</td>\n",
       "      <td>1</td>\n",
       "      <td>1</td>\n",
       "    </tr>\n",
       "    <tr>\n",
       "      <th>3</th>\n",
       "      <td>5</td>\n",
       "      <td>2</td>\n",
       "      <td>2</td>\n",
       "      <td>0</td>\n",
       "    </tr>\n",
       "  </tbody>\n",
       "</table>\n",
       "</div>"
      ],
      "text/plain": [
       "   A  B  C  D\n",
       "2  1  7  1  4\n",
       "4  5  6  5  7\n",
       "1  9  3  1  1\n",
       "3  5  2  2  0"
      ]
     },
     "execution_count": 171,
     "metadata": {},
     "output_type": "execute_result"
    }
   ],
   "source": [
    "df.sort_index(axis=1)"
   ]
  },
  {
   "cell_type": "code",
   "execution_count": 172,
   "metadata": {
    "id": "cfbgpa6R1T1r"
   },
   "outputs": [
    {
     "data": {
      "text/html": [
       "<div>\n",
       "<style scoped>\n",
       "    .dataframe tbody tr th:only-of-type {\n",
       "        vertical-align: middle;\n",
       "    }\n",
       "\n",
       "    .dataframe tbody tr th {\n",
       "        vertical-align: top;\n",
       "    }\n",
       "\n",
       "    .dataframe thead th {\n",
       "        text-align: right;\n",
       "    }\n",
       "</style>\n",
       "<table border=\"1\" class=\"dataframe\">\n",
       "  <thead>\n",
       "    <tr style=\"text-align: right;\">\n",
       "      <th></th>\n",
       "      <th>B</th>\n",
       "      <th>D</th>\n",
       "      <th>A</th>\n",
       "      <th>C</th>\n",
       "    </tr>\n",
       "  </thead>\n",
       "  <tbody>\n",
       "    <tr>\n",
       "      <th>2</th>\n",
       "      <td>7</td>\n",
       "      <td>4</td>\n",
       "      <td>1</td>\n",
       "      <td>1</td>\n",
       "    </tr>\n",
       "    <tr>\n",
       "      <th>4</th>\n",
       "      <td>6</td>\n",
       "      <td>7</td>\n",
       "      <td>5</td>\n",
       "      <td>5</td>\n",
       "    </tr>\n",
       "    <tr>\n",
       "      <th>3</th>\n",
       "      <td>2</td>\n",
       "      <td>0</td>\n",
       "      <td>5</td>\n",
       "      <td>2</td>\n",
       "    </tr>\n",
       "    <tr>\n",
       "      <th>1</th>\n",
       "      <td>3</td>\n",
       "      <td>1</td>\n",
       "      <td>9</td>\n",
       "      <td>1</td>\n",
       "    </tr>\n",
       "  </tbody>\n",
       "</table>\n",
       "</div>"
      ],
      "text/plain": [
       "   B  D  A  C\n",
       "2  7  4  1  1\n",
       "4  6  7  5  5\n",
       "3  2  0  5  2\n",
       "1  3  1  9  1"
      ]
     },
     "execution_count": 172,
     "metadata": {},
     "output_type": "execute_result"
    }
   ],
   "source": [
    "df.sort_values(by='A')"
   ]
  },
  {
   "cell_type": "code",
   "execution_count": 173,
   "metadata": {
    "id": "bqZiIeqV1n1x"
   },
   "outputs": [
    {
     "data": {
      "text/html": [
       "<div>\n",
       "<style scoped>\n",
       "    .dataframe tbody tr th:only-of-type {\n",
       "        vertical-align: middle;\n",
       "    }\n",
       "\n",
       "    .dataframe tbody tr th {\n",
       "        vertical-align: top;\n",
       "    }\n",
       "\n",
       "    .dataframe thead th {\n",
       "        text-align: right;\n",
       "    }\n",
       "</style>\n",
       "<table border=\"1\" class=\"dataframe\">\n",
       "  <thead>\n",
       "    <tr style=\"text-align: right;\">\n",
       "      <th></th>\n",
       "      <th>B</th>\n",
       "      <th>D</th>\n",
       "      <th>A</th>\n",
       "      <th>C</th>\n",
       "    </tr>\n",
       "  </thead>\n",
       "  <tbody>\n",
       "    <tr>\n",
       "      <th>2</th>\n",
       "      <td>7</td>\n",
       "      <td>4</td>\n",
       "      <td>1</td>\n",
       "      <td>1</td>\n",
       "    </tr>\n",
       "    <tr>\n",
       "      <th>3</th>\n",
       "      <td>2</td>\n",
       "      <td>0</td>\n",
       "      <td>5</td>\n",
       "      <td>2</td>\n",
       "    </tr>\n",
       "    <tr>\n",
       "      <th>4</th>\n",
       "      <td>6</td>\n",
       "      <td>7</td>\n",
       "      <td>5</td>\n",
       "      <td>5</td>\n",
       "    </tr>\n",
       "    <tr>\n",
       "      <th>1</th>\n",
       "      <td>3</td>\n",
       "      <td>1</td>\n",
       "      <td>9</td>\n",
       "      <td>1</td>\n",
       "    </tr>\n",
       "  </tbody>\n",
       "</table>\n",
       "</div>"
      ],
      "text/plain": [
       "   B  D  A  C\n",
       "2  7  4  1  1\n",
       "3  2  0  5  2\n",
       "4  6  7  5  5\n",
       "1  3  1  9  1"
      ]
     },
     "execution_count": 173,
     "metadata": {},
     "output_type": "execute_result"
    }
   ],
   "source": [
    "df.sort_values(by=['A', 'C'])"
   ]
  },
  {
   "cell_type": "markdown",
   "metadata": {
    "id": "Xrv5nCNj3K-0"
   },
   "source": [
    "### 순위(Ranking)\n"
   ]
  },
  {
   "cell_type": "code",
   "execution_count": 175,
   "metadata": {
    "id": "GYroEZZ4105r"
   },
   "outputs": [],
   "source": [
    "s = pd.Series([-2, 4, 7, 3, 0, 7, 5, -4, 2, 6])"
   ]
  },
  {
   "cell_type": "code",
   "execution_count": 176,
   "metadata": {
    "id": "S4pX_jtq2ih3"
   },
   "outputs": [
    {
     "data": {
      "text/plain": [
       "0    2.0\n",
       "1    6.0\n",
       "2    9.5\n",
       "3    5.0\n",
       "4    3.0\n",
       "5    9.5\n",
       "6    7.0\n",
       "7    1.0\n",
       "8    4.0\n",
       "9    8.0\n",
       "dtype: float64"
      ]
     },
     "execution_count": 176,
     "metadata": {},
     "output_type": "execute_result"
    }
   ],
   "source": [
    "s.rank()"
   ]
  },
  {
   "cell_type": "code",
   "execution_count": 177,
   "metadata": {
    "id": "qBjoTMbx2keP"
   },
   "outputs": [
    {
     "data": {
      "text/plain": [
       "0     2.0\n",
       "1     6.0\n",
       "2     9.0\n",
       "3     5.0\n",
       "4     3.0\n",
       "5    10.0\n",
       "6     7.0\n",
       "7     1.0\n",
       "8     4.0\n",
       "9     8.0\n",
       "dtype: float64"
      ]
     },
     "execution_count": 177,
     "metadata": {},
     "output_type": "execute_result"
    }
   ],
   "source": [
    "s.rank(method='first')"
   ]
  },
  {
   "cell_type": "code",
   "execution_count": 178,
   "metadata": {
    "id": "QRI_Z5KO2zG4"
   },
   "outputs": [
    {
     "data": {
      "text/plain": [
       "0     2.0\n",
       "1     6.0\n",
       "2    10.0\n",
       "3     5.0\n",
       "4     3.0\n",
       "5    10.0\n",
       "6     7.0\n",
       "7     1.0\n",
       "8     4.0\n",
       "9     8.0\n",
       "dtype: float64"
      ]
     },
     "execution_count": 178,
     "metadata": {},
     "output_type": "execute_result"
    }
   ],
   "source": [
    "s.rank(method='max')"
   ]
  },
  {
   "cell_type": "markdown",
   "metadata": {
    "id": "P6wc1ajiQe4r"
   },
   "source": [
    "### 고성능 연산"
   ]
  },
  {
   "cell_type": "code",
   "execution_count": 179,
   "metadata": {
    "id": "E4u2T6oSQhFu"
   },
   "outputs": [],
   "source": [
    "nrow, ncols = 100000, 100\n",
    "df1, df2, df3, df4 = (pd.DataFrame(np.random.rand(nrow, ncols)) for i in range(4))"
   ]
  },
  {
   "cell_type": "code",
   "execution_count": 180,
   "metadata": {
    "id": "SGg14HnyQvk2"
   },
   "outputs": [
    {
     "name": "stdout",
     "output_type": "stream",
     "text": [
      "104 ms ± 1.39 ms per loop (mean ± std. dev. of 7 runs, 10 loops each)\n"
     ]
    }
   ],
   "source": [
    "%timeit df1 + df2 + df3 + df4"
   ]
  },
  {
   "cell_type": "code",
   "execution_count": 181,
   "metadata": {
    "id": "k_GkpEnMQ0Fi"
   },
   "outputs": [
    {
     "name": "stdout",
     "output_type": "stream",
     "text": [
      "45.8 ms ± 1.2 ms per loop (mean ± std. dev. of 7 runs, 10 loops each)\n"
     ]
    }
   ],
   "source": [
    "%timeit pd.eval('df1 + df2 + df3 + df4')"
   ]
  },
  {
   "cell_type": "code",
   "execution_count": 182,
   "metadata": {
    "id": "qPAdmY8cQ7Sn"
   },
   "outputs": [
    {
     "name": "stdout",
     "output_type": "stream",
     "text": [
      "169 ms ± 1.67 ms per loop (mean ± std. dev. of 7 runs, 10 loops each)\n"
     ]
    }
   ],
   "source": [
    "%timeit df1* -df2 / (-df3 * df4)"
   ]
  },
  {
   "cell_type": "code",
   "execution_count": 183,
   "metadata": {
    "id": "eZzfGsGuRE3e"
   },
   "outputs": [
    {
     "name": "stdout",
     "output_type": "stream",
     "text": [
      "46.1 ms ± 1.72 ms per loop (mean ± std. dev. of 7 runs, 10 loops each)\n"
     ]
    }
   ],
   "source": [
    "%timeit pd.eval('df1 * -df2 / (-df3 * df4)')"
   ]
  },
  {
   "cell_type": "code",
   "execution_count": 184,
   "metadata": {
    "id": "snts2jL2RVq-"
   },
   "outputs": [
    {
     "name": "stdout",
     "output_type": "stream",
     "text": [
      "62.8 ms ± 1.84 ms per loop (mean ± std. dev. of 7 runs, 10 loops each)\n"
     ]
    }
   ],
   "source": [
    "%timeit (df1 < df2) & (df2 <= df3) & (df3 != df4)"
   ]
  },
  {
   "cell_type": "code",
   "execution_count": 185,
   "metadata": {
    "id": "nb6RYOJtRdE8"
   },
   "outputs": [
    {
     "name": "stdout",
     "output_type": "stream",
     "text": [
      "32 ms ± 1.78 ms per loop (mean ± std. dev. of 7 runs, 10 loops each)\n"
     ]
    }
   ],
   "source": [
    "%timeit pd.eval('(df1 < df2) & (df2 <= df3) & (df3 != df4)')"
   ]
  },
  {
   "cell_type": "code",
   "execution_count": 186,
   "metadata": {
    "id": "MPmsqO2jRyVp"
   },
   "outputs": [
    {
     "data": {
      "text/html": [
       "<div>\n",
       "<style scoped>\n",
       "    .dataframe tbody tr th:only-of-type {\n",
       "        vertical-align: middle;\n",
       "    }\n",
       "\n",
       "    .dataframe tbody tr th {\n",
       "        vertical-align: top;\n",
       "    }\n",
       "\n",
       "    .dataframe thead th {\n",
       "        text-align: right;\n",
       "    }\n",
       "</style>\n",
       "<table border=\"1\" class=\"dataframe\">\n",
       "  <thead>\n",
       "    <tr style=\"text-align: right;\">\n",
       "      <th></th>\n",
       "      <th>A</th>\n",
       "      <th>B</th>\n",
       "      <th>C</th>\n",
       "      <th>D</th>\n",
       "      <th>E</th>\n",
       "    </tr>\n",
       "  </thead>\n",
       "  <tbody>\n",
       "    <tr>\n",
       "      <th>0</th>\n",
       "      <td>0.222230</td>\n",
       "      <td>0.778953</td>\n",
       "      <td>0.188016</td>\n",
       "      <td>0.960357</td>\n",
       "      <td>0.185821</td>\n",
       "    </tr>\n",
       "    <tr>\n",
       "      <th>1</th>\n",
       "      <td>0.832470</td>\n",
       "      <td>0.280229</td>\n",
       "      <td>0.386194</td>\n",
       "      <td>0.589328</td>\n",
       "      <td>0.398904</td>\n",
       "    </tr>\n",
       "    <tr>\n",
       "      <th>2</th>\n",
       "      <td>0.940785</td>\n",
       "      <td>0.278224</td>\n",
       "      <td>0.216691</td>\n",
       "      <td>0.055154</td>\n",
       "      <td>0.977815</td>\n",
       "    </tr>\n",
       "    <tr>\n",
       "      <th>3</th>\n",
       "      <td>0.458880</td>\n",
       "      <td>0.638957</td>\n",
       "      <td>0.751300</td>\n",
       "      <td>0.439420</td>\n",
       "      <td>0.288757</td>\n",
       "    </tr>\n",
       "    <tr>\n",
       "      <th>4</th>\n",
       "      <td>0.320697</td>\n",
       "      <td>0.003434</td>\n",
       "      <td>0.940397</td>\n",
       "      <td>0.295927</td>\n",
       "      <td>0.228923</td>\n",
       "    </tr>\n",
       "  </tbody>\n",
       "</table>\n",
       "</div>"
      ],
      "text/plain": [
       "          A         B         C         D         E\n",
       "0  0.222230  0.778953  0.188016  0.960357  0.185821\n",
       "1  0.832470  0.280229  0.386194  0.589328  0.398904\n",
       "2  0.940785  0.278224  0.216691  0.055154  0.977815\n",
       "3  0.458880  0.638957  0.751300  0.439420  0.288757\n",
       "4  0.320697  0.003434  0.940397  0.295927  0.228923"
      ]
     },
     "execution_count": 186,
     "metadata": {},
     "output_type": "execute_result"
    }
   ],
   "source": [
    "df = pd.DataFrame(np.random.rand(1000000, 5), columns=['A', 'B', 'C', 'D', 'E'])\n",
    "df.head()"
   ]
  },
  {
   "cell_type": "code",
   "execution_count": 187,
   "metadata": {
    "id": "GNbooD08TyAD"
   },
   "outputs": [
    {
     "name": "stdout",
     "output_type": "stream",
     "text": [
      "18.9 ms ± 604 µs per loop (mean ± std. dev. of 7 runs, 10 loops each)\n"
     ]
    }
   ],
   "source": [
    "%timeit df['A'] + df['B'] / df['C'] - df['D'] * df['E']"
   ]
  },
  {
   "cell_type": "code",
   "execution_count": 188,
   "metadata": {
    "id": "fgwU0lS4UOl0"
   },
   "outputs": [
    {
     "name": "stdout",
     "output_type": "stream",
     "text": [
      "6.3 ms ± 94 µs per loop (mean ± std. dev. of 7 runs, 100 loops each)\n"
     ]
    }
   ],
   "source": [
    "%timeit pd.eval('df.A + df.B / df.C - df.D * df.E')"
   ]
  },
  {
   "cell_type": "code",
   "execution_count": 189,
   "metadata": {
    "id": "roVl8OAOUiHt"
   },
   "outputs": [
    {
     "name": "stdout",
     "output_type": "stream",
     "text": [
      "12.8 ms ± 77.2 µs per loop (mean ± std. dev. of 7 runs, 100 loops each)\n"
     ]
    }
   ],
   "source": [
    "%timeit df.eval('A + B / C - D * E')"
   ]
  },
  {
   "cell_type": "code",
   "execution_count": 190,
   "metadata": {
    "id": "Hud7fAOtVGDC"
   },
   "outputs": [
    {
     "data": {
      "text/html": [
       "<div>\n",
       "<style scoped>\n",
       "    .dataframe tbody tr th:only-of-type {\n",
       "        vertical-align: middle;\n",
       "    }\n",
       "\n",
       "    .dataframe tbody tr th {\n",
       "        vertical-align: top;\n",
       "    }\n",
       "\n",
       "    .dataframe thead th {\n",
       "        text-align: right;\n",
       "    }\n",
       "</style>\n",
       "<table border=\"1\" class=\"dataframe\">\n",
       "  <thead>\n",
       "    <tr style=\"text-align: right;\">\n",
       "      <th></th>\n",
       "      <th>A</th>\n",
       "      <th>B</th>\n",
       "      <th>C</th>\n",
       "      <th>D</th>\n",
       "      <th>E</th>\n",
       "      <th>R</th>\n",
       "    </tr>\n",
       "  </thead>\n",
       "  <tbody>\n",
       "    <tr>\n",
       "      <th>0</th>\n",
       "      <td>0.222230</td>\n",
       "      <td>0.778953</td>\n",
       "      <td>0.188016</td>\n",
       "      <td>0.960357</td>\n",
       "      <td>0.185821</td>\n",
       "      <td>4.186786</td>\n",
       "    </tr>\n",
       "    <tr>\n",
       "      <th>1</th>\n",
       "      <td>0.832470</td>\n",
       "      <td>0.280229</td>\n",
       "      <td>0.386194</td>\n",
       "      <td>0.589328</td>\n",
       "      <td>0.398904</td>\n",
       "      <td>1.323001</td>\n",
       "    </tr>\n",
       "    <tr>\n",
       "      <th>2</th>\n",
       "      <td>0.940785</td>\n",
       "      <td>0.278224</td>\n",
       "      <td>0.216691</td>\n",
       "      <td>0.055154</td>\n",
       "      <td>0.977815</td>\n",
       "      <td>2.170823</td>\n",
       "    </tr>\n",
       "    <tr>\n",
       "      <th>3</th>\n",
       "      <td>0.458880</td>\n",
       "      <td>0.638957</td>\n",
       "      <td>0.751300</td>\n",
       "      <td>0.439420</td>\n",
       "      <td>0.288757</td>\n",
       "      <td>1.182463</td>\n",
       "    </tr>\n",
       "    <tr>\n",
       "      <th>4</th>\n",
       "      <td>0.320697</td>\n",
       "      <td>0.003434</td>\n",
       "      <td>0.940397</td>\n",
       "      <td>0.295927</td>\n",
       "      <td>0.228923</td>\n",
       "      <td>0.256604</td>\n",
       "    </tr>\n",
       "  </tbody>\n",
       "</table>\n",
       "</div>"
      ],
      "text/plain": [
       "          A         B         C         D         E         R\n",
       "0  0.222230  0.778953  0.188016  0.960357  0.185821  4.186786\n",
       "1  0.832470  0.280229  0.386194  0.589328  0.398904  1.323001\n",
       "2  0.940785  0.278224  0.216691  0.055154  0.977815  2.170823\n",
       "3  0.458880  0.638957  0.751300  0.439420  0.288757  1.182463\n",
       "4  0.320697  0.003434  0.940397  0.295927  0.228923  0.256604"
      ]
     },
     "execution_count": 190,
     "metadata": {},
     "output_type": "execute_result"
    }
   ],
   "source": [
    "df.eval('R = A + B / C - D * E', inplace=True)\n",
    "df.head()"
   ]
  },
  {
   "cell_type": "code",
   "execution_count": 191,
   "metadata": {
    "id": "qFaoM0OBVUbX"
   },
   "outputs": [
    {
     "data": {
      "text/plain": [
       "0         0.241570\n",
       "1         0.528636\n",
       "2         0.727461\n",
       "3         0.287548\n",
       "4         0.109357\n",
       "            ...   \n",
       "999995    0.432104\n",
       "999996    0.163927\n",
       "999997    0.409870\n",
       "999998    0.434425\n",
       "999999    0.759003\n",
       "Length: 1000000, dtype: float64"
      ]
     },
     "execution_count": 191,
     "metadata": {},
     "output_type": "execute_result"
    }
   ],
   "source": [
    "col_mean =df.mean(1)\n",
    "df['A'] * col_mean"
   ]
  },
  {
   "cell_type": "code",
   "execution_count": 192,
   "metadata": {
    "id": "3_Z4QpBuVrJY"
   },
   "outputs": [
    {
     "data": {
      "text/plain": [
       "0         1.309257\n",
       "1         1.467491\n",
       "2         1.714033\n",
       "3         1.085510\n",
       "4         0.661694\n",
       "            ...   \n",
       "999995    1.351963\n",
       "999996    0.829361\n",
       "999997    1.300386\n",
       "999998    1.376798\n",
       "999999    1.744469\n",
       "Length: 1000000, dtype: float64"
      ]
     },
     "execution_count": 192,
     "metadata": {},
     "output_type": "execute_result"
    }
   ],
   "source": [
    "df.eval('A + @col_mean')"
   ]
  },
  {
   "cell_type": "code",
   "execution_count": 193,
   "metadata": {
    "id": "Ge5N1eHXV7hs"
   },
   "outputs": [
    {
     "data": {
      "text/html": [
       "<div>\n",
       "<style scoped>\n",
       "    .dataframe tbody tr th:only-of-type {\n",
       "        vertical-align: middle;\n",
       "    }\n",
       "\n",
       "    .dataframe tbody tr th {\n",
       "        vertical-align: top;\n",
       "    }\n",
       "\n",
       "    .dataframe thead th {\n",
       "        text-align: right;\n",
       "    }\n",
       "</style>\n",
       "<table border=\"1\" class=\"dataframe\">\n",
       "  <thead>\n",
       "    <tr style=\"text-align: right;\">\n",
       "      <th></th>\n",
       "      <th>A</th>\n",
       "      <th>B</th>\n",
       "      <th>C</th>\n",
       "      <th>D</th>\n",
       "      <th>E</th>\n",
       "      <th>R</th>\n",
       "    </tr>\n",
       "  </thead>\n",
       "  <tbody>\n",
       "    <tr>\n",
       "      <th>4</th>\n",
       "      <td>0.320697</td>\n",
       "      <td>0.003434</td>\n",
       "      <td>0.940397</td>\n",
       "      <td>0.295927</td>\n",
       "      <td>0.228923</td>\n",
       "      <td>0.256604</td>\n",
       "    </tr>\n",
       "    <tr>\n",
       "      <th>11</th>\n",
       "      <td>0.042849</td>\n",
       "      <td>0.477105</td>\n",
       "      <td>0.788122</td>\n",
       "      <td>0.104484</td>\n",
       "      <td>0.759718</td>\n",
       "      <td>0.568841</td>\n",
       "    </tr>\n",
       "    <tr>\n",
       "      <th>12</th>\n",
       "      <td>0.064188</td>\n",
       "      <td>0.296234</td>\n",
       "      <td>0.718098</td>\n",
       "      <td>0.106845</td>\n",
       "      <td>0.586481</td>\n",
       "      <td>0.414050</td>\n",
       "    </tr>\n",
       "    <tr>\n",
       "      <th>16</th>\n",
       "      <td>0.272212</td>\n",
       "      <td>0.314151</td>\n",
       "      <td>0.816739</td>\n",
       "      <td>0.727579</td>\n",
       "      <td>0.296068</td>\n",
       "      <td>0.441439</td>\n",
       "    </tr>\n",
       "    <tr>\n",
       "      <th>24</th>\n",
       "      <td>0.353636</td>\n",
       "      <td>0.074217</td>\n",
       "      <td>0.875608</td>\n",
       "      <td>0.830990</td>\n",
       "      <td>0.677619</td>\n",
       "      <td>-0.124698</td>\n",
       "    </tr>\n",
       "    <tr>\n",
       "      <th>...</th>\n",
       "      <td>...</td>\n",
       "      <td>...</td>\n",
       "      <td>...</td>\n",
       "      <td>...</td>\n",
       "      <td>...</td>\n",
       "      <td>...</td>\n",
       "    </tr>\n",
       "    <tr>\n",
       "      <th>999974</th>\n",
       "      <td>0.234246</td>\n",
       "      <td>0.333034</td>\n",
       "      <td>0.659449</td>\n",
       "      <td>0.045328</td>\n",
       "      <td>0.013685</td>\n",
       "      <td>0.738644</td>\n",
       "    </tr>\n",
       "    <tr>\n",
       "      <th>999985</th>\n",
       "      <td>0.120968</td>\n",
       "      <td>0.132687</td>\n",
       "      <td>0.732792</td>\n",
       "      <td>0.916841</td>\n",
       "      <td>0.876359</td>\n",
       "      <td>-0.501443</td>\n",
       "    </tr>\n",
       "    <tr>\n",
       "      <th>999987</th>\n",
       "      <td>0.043356</td>\n",
       "      <td>0.078333</td>\n",
       "      <td>0.920646</td>\n",
       "      <td>0.611950</td>\n",
       "      <td>0.609161</td>\n",
       "      <td>-0.244335</td>\n",
       "    </tr>\n",
       "    <tr>\n",
       "      <th>999989</th>\n",
       "      <td>0.281945</td>\n",
       "      <td>0.413634</td>\n",
       "      <td>0.649327</td>\n",
       "      <td>0.275183</td>\n",
       "      <td>0.827683</td>\n",
       "      <td>0.691200</td>\n",
       "    </tr>\n",
       "    <tr>\n",
       "      <th>999996</th>\n",
       "      <td>0.325051</td>\n",
       "      <td>0.333427</td>\n",
       "      <td>0.653682</td>\n",
       "      <td>0.128653</td>\n",
       "      <td>0.860640</td>\n",
       "      <td>0.724403</td>\n",
       "    </tr>\n",
       "  </tbody>\n",
       "</table>\n",
       "<p>124829 rows × 6 columns</p>\n",
       "</div>"
      ],
      "text/plain": [
       "               A         B         C         D         E         R\n",
       "4       0.320697  0.003434  0.940397  0.295927  0.228923  0.256604\n",
       "11      0.042849  0.477105  0.788122  0.104484  0.759718  0.568841\n",
       "12      0.064188  0.296234  0.718098  0.106845  0.586481  0.414050\n",
       "16      0.272212  0.314151  0.816739  0.727579  0.296068  0.441439\n",
       "24      0.353636  0.074217  0.875608  0.830990  0.677619 -0.124698\n",
       "...          ...       ...       ...       ...       ...       ...\n",
       "999974  0.234246  0.333034  0.659449  0.045328  0.013685  0.738644\n",
       "999985  0.120968  0.132687  0.732792  0.916841  0.876359 -0.501443\n",
       "999987  0.043356  0.078333  0.920646  0.611950  0.609161 -0.244335\n",
       "999989  0.281945  0.413634  0.649327  0.275183  0.827683  0.691200\n",
       "999996  0.325051  0.333427  0.653682  0.128653  0.860640  0.724403\n",
       "\n",
       "[124829 rows x 6 columns]"
      ]
     },
     "execution_count": 193,
     "metadata": {},
     "output_type": "execute_result"
    }
   ],
   "source": [
    "df[(df.A < 0.5) & (df.B < 0.5) & (df.C > 0.5)]"
   ]
  },
  {
   "cell_type": "code",
   "execution_count": 194,
   "metadata": {
    "id": "lSoS8MRFWKSm"
   },
   "outputs": [
    {
     "data": {
      "text/html": [
       "<div>\n",
       "<style scoped>\n",
       "    .dataframe tbody tr th:only-of-type {\n",
       "        vertical-align: middle;\n",
       "    }\n",
       "\n",
       "    .dataframe tbody tr th {\n",
       "        vertical-align: top;\n",
       "    }\n",
       "\n",
       "    .dataframe thead th {\n",
       "        text-align: right;\n",
       "    }\n",
       "</style>\n",
       "<table border=\"1\" class=\"dataframe\">\n",
       "  <thead>\n",
       "    <tr style=\"text-align: right;\">\n",
       "      <th></th>\n",
       "      <th>A</th>\n",
       "      <th>B</th>\n",
       "      <th>C</th>\n",
       "      <th>D</th>\n",
       "      <th>E</th>\n",
       "      <th>R</th>\n",
       "    </tr>\n",
       "  </thead>\n",
       "  <tbody>\n",
       "    <tr>\n",
       "      <th>4</th>\n",
       "      <td>0.320697</td>\n",
       "      <td>0.003434</td>\n",
       "      <td>0.940397</td>\n",
       "      <td>0.295927</td>\n",
       "      <td>0.228923</td>\n",
       "      <td>0.256604</td>\n",
       "    </tr>\n",
       "    <tr>\n",
       "      <th>11</th>\n",
       "      <td>0.042849</td>\n",
       "      <td>0.477105</td>\n",
       "      <td>0.788122</td>\n",
       "      <td>0.104484</td>\n",
       "      <td>0.759718</td>\n",
       "      <td>0.568841</td>\n",
       "    </tr>\n",
       "    <tr>\n",
       "      <th>12</th>\n",
       "      <td>0.064188</td>\n",
       "      <td>0.296234</td>\n",
       "      <td>0.718098</td>\n",
       "      <td>0.106845</td>\n",
       "      <td>0.586481</td>\n",
       "      <td>0.414050</td>\n",
       "    </tr>\n",
       "    <tr>\n",
       "      <th>16</th>\n",
       "      <td>0.272212</td>\n",
       "      <td>0.314151</td>\n",
       "      <td>0.816739</td>\n",
       "      <td>0.727579</td>\n",
       "      <td>0.296068</td>\n",
       "      <td>0.441439</td>\n",
       "    </tr>\n",
       "    <tr>\n",
       "      <th>24</th>\n",
       "      <td>0.353636</td>\n",
       "      <td>0.074217</td>\n",
       "      <td>0.875608</td>\n",
       "      <td>0.830990</td>\n",
       "      <td>0.677619</td>\n",
       "      <td>-0.124698</td>\n",
       "    </tr>\n",
       "    <tr>\n",
       "      <th>...</th>\n",
       "      <td>...</td>\n",
       "      <td>...</td>\n",
       "      <td>...</td>\n",
       "      <td>...</td>\n",
       "      <td>...</td>\n",
       "      <td>...</td>\n",
       "    </tr>\n",
       "    <tr>\n",
       "      <th>999974</th>\n",
       "      <td>0.234246</td>\n",
       "      <td>0.333034</td>\n",
       "      <td>0.659449</td>\n",
       "      <td>0.045328</td>\n",
       "      <td>0.013685</td>\n",
       "      <td>0.738644</td>\n",
       "    </tr>\n",
       "    <tr>\n",
       "      <th>999985</th>\n",
       "      <td>0.120968</td>\n",
       "      <td>0.132687</td>\n",
       "      <td>0.732792</td>\n",
       "      <td>0.916841</td>\n",
       "      <td>0.876359</td>\n",
       "      <td>-0.501443</td>\n",
       "    </tr>\n",
       "    <tr>\n",
       "      <th>999987</th>\n",
       "      <td>0.043356</td>\n",
       "      <td>0.078333</td>\n",
       "      <td>0.920646</td>\n",
       "      <td>0.611950</td>\n",
       "      <td>0.609161</td>\n",
       "      <td>-0.244335</td>\n",
       "    </tr>\n",
       "    <tr>\n",
       "      <th>999989</th>\n",
       "      <td>0.281945</td>\n",
       "      <td>0.413634</td>\n",
       "      <td>0.649327</td>\n",
       "      <td>0.275183</td>\n",
       "      <td>0.827683</td>\n",
       "      <td>0.691200</td>\n",
       "    </tr>\n",
       "    <tr>\n",
       "      <th>999996</th>\n",
       "      <td>0.325051</td>\n",
       "      <td>0.333427</td>\n",
       "      <td>0.653682</td>\n",
       "      <td>0.128653</td>\n",
       "      <td>0.860640</td>\n",
       "      <td>0.724403</td>\n",
       "    </tr>\n",
       "  </tbody>\n",
       "</table>\n",
       "<p>124829 rows × 6 columns</p>\n",
       "</div>"
      ],
      "text/plain": [
       "               A         B         C         D         E         R\n",
       "4       0.320697  0.003434  0.940397  0.295927  0.228923  0.256604\n",
       "11      0.042849  0.477105  0.788122  0.104484  0.759718  0.568841\n",
       "12      0.064188  0.296234  0.718098  0.106845  0.586481  0.414050\n",
       "16      0.272212  0.314151  0.816739  0.727579  0.296068  0.441439\n",
       "24      0.353636  0.074217  0.875608  0.830990  0.677619 -0.124698\n",
       "...          ...       ...       ...       ...       ...       ...\n",
       "999974  0.234246  0.333034  0.659449  0.045328  0.013685  0.738644\n",
       "999985  0.120968  0.132687  0.732792  0.916841  0.876359 -0.501443\n",
       "999987  0.043356  0.078333  0.920646  0.611950  0.609161 -0.244335\n",
       "999989  0.281945  0.413634  0.649327  0.275183  0.827683  0.691200\n",
       "999996  0.325051  0.333427  0.653682  0.128653  0.860640  0.724403\n",
       "\n",
       "[124829 rows x 6 columns]"
      ]
     },
     "execution_count": 194,
     "metadata": {},
     "output_type": "execute_result"
    }
   ],
   "source": [
    "pd.eval('df[(df.A < 0.5) & (df.B < 0.5) & (df.C > 0.5)]')"
   ]
  },
  {
   "cell_type": "code",
   "execution_count": 195,
   "metadata": {
    "id": "DQGuGdV0WZ3Y"
   },
   "outputs": [
    {
     "data": {
      "text/html": [
       "<div>\n",
       "<style scoped>\n",
       "    .dataframe tbody tr th:only-of-type {\n",
       "        vertical-align: middle;\n",
       "    }\n",
       "\n",
       "    .dataframe tbody tr th {\n",
       "        vertical-align: top;\n",
       "    }\n",
       "\n",
       "    .dataframe thead th {\n",
       "        text-align: right;\n",
       "    }\n",
       "</style>\n",
       "<table border=\"1\" class=\"dataframe\">\n",
       "  <thead>\n",
       "    <tr style=\"text-align: right;\">\n",
       "      <th></th>\n",
       "      <th>A</th>\n",
       "      <th>B</th>\n",
       "      <th>C</th>\n",
       "      <th>D</th>\n",
       "      <th>E</th>\n",
       "      <th>R</th>\n",
       "    </tr>\n",
       "  </thead>\n",
       "  <tbody>\n",
       "    <tr>\n",
       "      <th>4</th>\n",
       "      <td>0.320697</td>\n",
       "      <td>0.003434</td>\n",
       "      <td>0.940397</td>\n",
       "      <td>0.295927</td>\n",
       "      <td>0.228923</td>\n",
       "      <td>0.256604</td>\n",
       "    </tr>\n",
       "    <tr>\n",
       "      <th>11</th>\n",
       "      <td>0.042849</td>\n",
       "      <td>0.477105</td>\n",
       "      <td>0.788122</td>\n",
       "      <td>0.104484</td>\n",
       "      <td>0.759718</td>\n",
       "      <td>0.568841</td>\n",
       "    </tr>\n",
       "    <tr>\n",
       "      <th>12</th>\n",
       "      <td>0.064188</td>\n",
       "      <td>0.296234</td>\n",
       "      <td>0.718098</td>\n",
       "      <td>0.106845</td>\n",
       "      <td>0.586481</td>\n",
       "      <td>0.414050</td>\n",
       "    </tr>\n",
       "    <tr>\n",
       "      <th>16</th>\n",
       "      <td>0.272212</td>\n",
       "      <td>0.314151</td>\n",
       "      <td>0.816739</td>\n",
       "      <td>0.727579</td>\n",
       "      <td>0.296068</td>\n",
       "      <td>0.441439</td>\n",
       "    </tr>\n",
       "    <tr>\n",
       "      <th>24</th>\n",
       "      <td>0.353636</td>\n",
       "      <td>0.074217</td>\n",
       "      <td>0.875608</td>\n",
       "      <td>0.830990</td>\n",
       "      <td>0.677619</td>\n",
       "      <td>-0.124698</td>\n",
       "    </tr>\n",
       "    <tr>\n",
       "      <th>...</th>\n",
       "      <td>...</td>\n",
       "      <td>...</td>\n",
       "      <td>...</td>\n",
       "      <td>...</td>\n",
       "      <td>...</td>\n",
       "      <td>...</td>\n",
       "    </tr>\n",
       "    <tr>\n",
       "      <th>999974</th>\n",
       "      <td>0.234246</td>\n",
       "      <td>0.333034</td>\n",
       "      <td>0.659449</td>\n",
       "      <td>0.045328</td>\n",
       "      <td>0.013685</td>\n",
       "      <td>0.738644</td>\n",
       "    </tr>\n",
       "    <tr>\n",
       "      <th>999985</th>\n",
       "      <td>0.120968</td>\n",
       "      <td>0.132687</td>\n",
       "      <td>0.732792</td>\n",
       "      <td>0.916841</td>\n",
       "      <td>0.876359</td>\n",
       "      <td>-0.501443</td>\n",
       "    </tr>\n",
       "    <tr>\n",
       "      <th>999987</th>\n",
       "      <td>0.043356</td>\n",
       "      <td>0.078333</td>\n",
       "      <td>0.920646</td>\n",
       "      <td>0.611950</td>\n",
       "      <td>0.609161</td>\n",
       "      <td>-0.244335</td>\n",
       "    </tr>\n",
       "    <tr>\n",
       "      <th>999989</th>\n",
       "      <td>0.281945</td>\n",
       "      <td>0.413634</td>\n",
       "      <td>0.649327</td>\n",
       "      <td>0.275183</td>\n",
       "      <td>0.827683</td>\n",
       "      <td>0.691200</td>\n",
       "    </tr>\n",
       "    <tr>\n",
       "      <th>999996</th>\n",
       "      <td>0.325051</td>\n",
       "      <td>0.333427</td>\n",
       "      <td>0.653682</td>\n",
       "      <td>0.128653</td>\n",
       "      <td>0.860640</td>\n",
       "      <td>0.724403</td>\n",
       "    </tr>\n",
       "  </tbody>\n",
       "</table>\n",
       "<p>124829 rows × 6 columns</p>\n",
       "</div>"
      ],
      "text/plain": [
       "               A         B         C         D         E         R\n",
       "4       0.320697  0.003434  0.940397  0.295927  0.228923  0.256604\n",
       "11      0.042849  0.477105  0.788122  0.104484  0.759718  0.568841\n",
       "12      0.064188  0.296234  0.718098  0.106845  0.586481  0.414050\n",
       "16      0.272212  0.314151  0.816739  0.727579  0.296068  0.441439\n",
       "24      0.353636  0.074217  0.875608  0.830990  0.677619 -0.124698\n",
       "...          ...       ...       ...       ...       ...       ...\n",
       "999974  0.234246  0.333034  0.659449  0.045328  0.013685  0.738644\n",
       "999985  0.120968  0.132687  0.732792  0.916841  0.876359 -0.501443\n",
       "999987  0.043356  0.078333  0.920646  0.611950  0.609161 -0.244335\n",
       "999989  0.281945  0.413634  0.649327  0.275183  0.827683  0.691200\n",
       "999996  0.325051  0.333427  0.653682  0.128653  0.860640  0.724403\n",
       "\n",
       "[124829 rows x 6 columns]"
      ]
     },
     "execution_count": 195,
     "metadata": {},
     "output_type": "execute_result"
    }
   ],
   "source": [
    "df.query('(A < 0.5) and (B < 0.5) and (C > 0.5)')"
   ]
  },
  {
   "cell_type": "code",
   "execution_count": 196,
   "metadata": {
    "id": "xhWXd_LEW3wL"
   },
   "outputs": [
    {
     "data": {
      "text/html": [
       "<div>\n",
       "<style scoped>\n",
       "    .dataframe tbody tr th:only-of-type {\n",
       "        vertical-align: middle;\n",
       "    }\n",
       "\n",
       "    .dataframe tbody tr th {\n",
       "        vertical-align: top;\n",
       "    }\n",
       "\n",
       "    .dataframe thead th {\n",
       "        text-align: right;\n",
       "    }\n",
       "</style>\n",
       "<table border=\"1\" class=\"dataframe\">\n",
       "  <thead>\n",
       "    <tr style=\"text-align: right;\">\n",
       "      <th></th>\n",
       "      <th>A</th>\n",
       "      <th>B</th>\n",
       "      <th>C</th>\n",
       "      <th>D</th>\n",
       "      <th>E</th>\n",
       "      <th>R</th>\n",
       "    </tr>\n",
       "  </thead>\n",
       "  <tbody>\n",
       "    <tr>\n",
       "      <th>4</th>\n",
       "      <td>0.320697</td>\n",
       "      <td>0.003434</td>\n",
       "      <td>0.940397</td>\n",
       "      <td>0.295927</td>\n",
       "      <td>0.228923</td>\n",
       "      <td>0.256604</td>\n",
       "    </tr>\n",
       "    <tr>\n",
       "      <th>11</th>\n",
       "      <td>0.042849</td>\n",
       "      <td>0.477105</td>\n",
       "      <td>0.788122</td>\n",
       "      <td>0.104484</td>\n",
       "      <td>0.759718</td>\n",
       "      <td>0.568841</td>\n",
       "    </tr>\n",
       "    <tr>\n",
       "      <th>12</th>\n",
       "      <td>0.064188</td>\n",
       "      <td>0.296234</td>\n",
       "      <td>0.718098</td>\n",
       "      <td>0.106845</td>\n",
       "      <td>0.586481</td>\n",
       "      <td>0.414050</td>\n",
       "    </tr>\n",
       "    <tr>\n",
       "      <th>16</th>\n",
       "      <td>0.272212</td>\n",
       "      <td>0.314151</td>\n",
       "      <td>0.816739</td>\n",
       "      <td>0.727579</td>\n",
       "      <td>0.296068</td>\n",
       "      <td>0.441439</td>\n",
       "    </tr>\n",
       "    <tr>\n",
       "      <th>23</th>\n",
       "      <td>0.243355</td>\n",
       "      <td>0.396697</td>\n",
       "      <td>0.193370</td>\n",
       "      <td>0.112007</td>\n",
       "      <td>0.267082</td>\n",
       "      <td>2.264934</td>\n",
       "    </tr>\n",
       "    <tr>\n",
       "      <th>...</th>\n",
       "      <td>...</td>\n",
       "      <td>...</td>\n",
       "      <td>...</td>\n",
       "      <td>...</td>\n",
       "      <td>...</td>\n",
       "      <td>...</td>\n",
       "    </tr>\n",
       "    <tr>\n",
       "      <th>999982</th>\n",
       "      <td>0.065822</td>\n",
       "      <td>0.327617</td>\n",
       "      <td>0.144960</td>\n",
       "      <td>0.056471</td>\n",
       "      <td>0.471039</td>\n",
       "      <td>2.299265</td>\n",
       "    </tr>\n",
       "    <tr>\n",
       "      <th>999985</th>\n",
       "      <td>0.120968</td>\n",
       "      <td>0.132687</td>\n",
       "      <td>0.732792</td>\n",
       "      <td>0.916841</td>\n",
       "      <td>0.876359</td>\n",
       "      <td>-0.501443</td>\n",
       "    </tr>\n",
       "    <tr>\n",
       "      <th>999987</th>\n",
       "      <td>0.043356</td>\n",
       "      <td>0.078333</td>\n",
       "      <td>0.920646</td>\n",
       "      <td>0.611950</td>\n",
       "      <td>0.609161</td>\n",
       "      <td>-0.244335</td>\n",
       "    </tr>\n",
       "    <tr>\n",
       "      <th>999989</th>\n",
       "      <td>0.281945</td>\n",
       "      <td>0.413634</td>\n",
       "      <td>0.649327</td>\n",
       "      <td>0.275183</td>\n",
       "      <td>0.827683</td>\n",
       "      <td>0.691200</td>\n",
       "    </tr>\n",
       "    <tr>\n",
       "      <th>999996</th>\n",
       "      <td>0.325051</td>\n",
       "      <td>0.333427</td>\n",
       "      <td>0.653682</td>\n",
       "      <td>0.128653</td>\n",
       "      <td>0.860640</td>\n",
       "      <td>0.724403</td>\n",
       "    </tr>\n",
       "  </tbody>\n",
       "</table>\n",
       "<p>249158 rows × 6 columns</p>\n",
       "</div>"
      ],
      "text/plain": [
       "               A         B         C         D         E         R\n",
       "4       0.320697  0.003434  0.940397  0.295927  0.228923  0.256604\n",
       "11      0.042849  0.477105  0.788122  0.104484  0.759718  0.568841\n",
       "12      0.064188  0.296234  0.718098  0.106845  0.586481  0.414050\n",
       "16      0.272212  0.314151  0.816739  0.727579  0.296068  0.441439\n",
       "23      0.243355  0.396697  0.193370  0.112007  0.267082  2.264934\n",
       "...          ...       ...       ...       ...       ...       ...\n",
       "999982  0.065822  0.327617  0.144960  0.056471  0.471039  2.299265\n",
       "999985  0.120968  0.132687  0.732792  0.916841  0.876359 -0.501443\n",
       "999987  0.043356  0.078333  0.920646  0.611950  0.609161 -0.244335\n",
       "999989  0.281945  0.413634  0.649327  0.275183  0.827683  0.691200\n",
       "999996  0.325051  0.333427  0.653682  0.128653  0.860640  0.724403\n",
       "\n",
       "[249158 rows x 6 columns]"
      ]
     },
     "execution_count": 196,
     "metadata": {},
     "output_type": "execute_result"
    }
   ],
   "source": [
    "col_mean = df['D'].mean()\n",
    "df[(df.A < col_mean) & (df.B < col_mean)]"
   ]
  },
  {
   "cell_type": "code",
   "execution_count": 197,
   "metadata": {
    "id": "3LhXrBqBXZ3k"
   },
   "outputs": [
    {
     "data": {
      "text/html": [
       "<div>\n",
       "<style scoped>\n",
       "    .dataframe tbody tr th:only-of-type {\n",
       "        vertical-align: middle;\n",
       "    }\n",
       "\n",
       "    .dataframe tbody tr th {\n",
       "        vertical-align: top;\n",
       "    }\n",
       "\n",
       "    .dataframe thead th {\n",
       "        text-align: right;\n",
       "    }\n",
       "</style>\n",
       "<table border=\"1\" class=\"dataframe\">\n",
       "  <thead>\n",
       "    <tr style=\"text-align: right;\">\n",
       "      <th></th>\n",
       "      <th>A</th>\n",
       "      <th>B</th>\n",
       "      <th>C</th>\n",
       "      <th>D</th>\n",
       "      <th>E</th>\n",
       "      <th>R</th>\n",
       "    </tr>\n",
       "  </thead>\n",
       "  <tbody>\n",
       "    <tr>\n",
       "      <th>4</th>\n",
       "      <td>0.320697</td>\n",
       "      <td>0.003434</td>\n",
       "      <td>0.940397</td>\n",
       "      <td>0.295927</td>\n",
       "      <td>0.228923</td>\n",
       "      <td>0.256604</td>\n",
       "    </tr>\n",
       "    <tr>\n",
       "      <th>11</th>\n",
       "      <td>0.042849</td>\n",
       "      <td>0.477105</td>\n",
       "      <td>0.788122</td>\n",
       "      <td>0.104484</td>\n",
       "      <td>0.759718</td>\n",
       "      <td>0.568841</td>\n",
       "    </tr>\n",
       "    <tr>\n",
       "      <th>12</th>\n",
       "      <td>0.064188</td>\n",
       "      <td>0.296234</td>\n",
       "      <td>0.718098</td>\n",
       "      <td>0.106845</td>\n",
       "      <td>0.586481</td>\n",
       "      <td>0.414050</td>\n",
       "    </tr>\n",
       "    <tr>\n",
       "      <th>16</th>\n",
       "      <td>0.272212</td>\n",
       "      <td>0.314151</td>\n",
       "      <td>0.816739</td>\n",
       "      <td>0.727579</td>\n",
       "      <td>0.296068</td>\n",
       "      <td>0.441439</td>\n",
       "    </tr>\n",
       "    <tr>\n",
       "      <th>23</th>\n",
       "      <td>0.243355</td>\n",
       "      <td>0.396697</td>\n",
       "      <td>0.193370</td>\n",
       "      <td>0.112007</td>\n",
       "      <td>0.267082</td>\n",
       "      <td>2.264934</td>\n",
       "    </tr>\n",
       "    <tr>\n",
       "      <th>...</th>\n",
       "      <td>...</td>\n",
       "      <td>...</td>\n",
       "      <td>...</td>\n",
       "      <td>...</td>\n",
       "      <td>...</td>\n",
       "      <td>...</td>\n",
       "    </tr>\n",
       "    <tr>\n",
       "      <th>999982</th>\n",
       "      <td>0.065822</td>\n",
       "      <td>0.327617</td>\n",
       "      <td>0.144960</td>\n",
       "      <td>0.056471</td>\n",
       "      <td>0.471039</td>\n",
       "      <td>2.299265</td>\n",
       "    </tr>\n",
       "    <tr>\n",
       "      <th>999985</th>\n",
       "      <td>0.120968</td>\n",
       "      <td>0.132687</td>\n",
       "      <td>0.732792</td>\n",
       "      <td>0.916841</td>\n",
       "      <td>0.876359</td>\n",
       "      <td>-0.501443</td>\n",
       "    </tr>\n",
       "    <tr>\n",
       "      <th>999987</th>\n",
       "      <td>0.043356</td>\n",
       "      <td>0.078333</td>\n",
       "      <td>0.920646</td>\n",
       "      <td>0.611950</td>\n",
       "      <td>0.609161</td>\n",
       "      <td>-0.244335</td>\n",
       "    </tr>\n",
       "    <tr>\n",
       "      <th>999989</th>\n",
       "      <td>0.281945</td>\n",
       "      <td>0.413634</td>\n",
       "      <td>0.649327</td>\n",
       "      <td>0.275183</td>\n",
       "      <td>0.827683</td>\n",
       "      <td>0.691200</td>\n",
       "    </tr>\n",
       "    <tr>\n",
       "      <th>999996</th>\n",
       "      <td>0.325051</td>\n",
       "      <td>0.333427</td>\n",
       "      <td>0.653682</td>\n",
       "      <td>0.128653</td>\n",
       "      <td>0.860640</td>\n",
       "      <td>0.724403</td>\n",
       "    </tr>\n",
       "  </tbody>\n",
       "</table>\n",
       "<p>249158 rows × 6 columns</p>\n",
       "</div>"
      ],
      "text/plain": [
       "               A         B         C         D         E         R\n",
       "4       0.320697  0.003434  0.940397  0.295927  0.228923  0.256604\n",
       "11      0.042849  0.477105  0.788122  0.104484  0.759718  0.568841\n",
       "12      0.064188  0.296234  0.718098  0.106845  0.586481  0.414050\n",
       "16      0.272212  0.314151  0.816739  0.727579  0.296068  0.441439\n",
       "23      0.243355  0.396697  0.193370  0.112007  0.267082  2.264934\n",
       "...          ...       ...       ...       ...       ...       ...\n",
       "999982  0.065822  0.327617  0.144960  0.056471  0.471039  2.299265\n",
       "999985  0.120968  0.132687  0.732792  0.916841  0.876359 -0.501443\n",
       "999987  0.043356  0.078333  0.920646  0.611950  0.609161 -0.244335\n",
       "999989  0.281945  0.413634  0.649327  0.275183  0.827683  0.691200\n",
       "999996  0.325051  0.333427  0.653682  0.128653  0.860640  0.724403\n",
       "\n",
       "[249158 rows x 6 columns]"
      ]
     },
     "execution_count": 197,
     "metadata": {},
     "output_type": "execute_result"
    }
   ],
   "source": [
    "df.query('A < @col_mean and B < @col_mean')"
   ]
  },
  {
   "cell_type": "markdown",
   "metadata": {
    "id": "098-pgqPZvz6"
   },
   "source": [
    "## 데이터 결합"
   ]
  },
  {
   "cell_type": "markdown",
   "metadata": {
    "id": "BCSOonbBpkpT"
   },
   "source": [
    "### Concat() / Append()"
   ]
  },
  {
   "cell_type": "code",
   "execution_count": 199,
   "metadata": {
    "id": "cTmO8pFKcd_W"
   },
   "outputs": [
    {
     "data": {
      "text/plain": [
       "1    a\n",
       "2    b\n",
       "3    c\n",
       "4    d\n",
       "dtype: object"
      ]
     },
     "execution_count": 199,
     "metadata": {},
     "output_type": "execute_result"
    }
   ],
   "source": [
    "s1 = pd.Series(['a', 'b'], index=[1, 2])\n",
    "s2 = pd.Series(['c', 'd'], index=[3, 4])\n",
    "pd.concat([s1, s2])"
   ]
  },
  {
   "cell_type": "code",
   "execution_count": 201,
   "metadata": {
    "id": "HnvsxJHqrAxj"
   },
   "outputs": [],
   "source": [
    "def create_df(cols, idx):\n",
    "    data = {c: [str(c.lower()) + str(i) for i in idx] for c in cols}\n",
    "    return pd.DataFrame(data, idx)"
   ]
  },
  {
   "cell_type": "code",
   "execution_count": 203,
   "metadata": {
    "id": "mIqdS3_saR2D"
   },
   "outputs": [
    {
     "data": {
      "text/html": [
       "<div>\n",
       "<style scoped>\n",
       "    .dataframe tbody tr th:only-of-type {\n",
       "        vertical-align: middle;\n",
       "    }\n",
       "\n",
       "    .dataframe tbody tr th {\n",
       "        vertical-align: top;\n",
       "    }\n",
       "\n",
       "    .dataframe thead th {\n",
       "        text-align: right;\n",
       "    }\n",
       "</style>\n",
       "<table border=\"1\" class=\"dataframe\">\n",
       "  <thead>\n",
       "    <tr style=\"text-align: right;\">\n",
       "      <th></th>\n",
       "      <th>A</th>\n",
       "      <th>B</th>\n",
       "    </tr>\n",
       "  </thead>\n",
       "  <tbody>\n",
       "    <tr>\n",
       "      <th>1</th>\n",
       "      <td>a1</td>\n",
       "      <td>b1</td>\n",
       "    </tr>\n",
       "    <tr>\n",
       "      <th>2</th>\n",
       "      <td>a2</td>\n",
       "      <td>b2</td>\n",
       "    </tr>\n",
       "  </tbody>\n",
       "</table>\n",
       "</div>"
      ],
      "text/plain": [
       "    A   B\n",
       "1  a1  b1\n",
       "2  a2  b2"
      ]
     },
     "execution_count": 203,
     "metadata": {},
     "output_type": "execute_result"
    }
   ],
   "source": [
    "df1 = create_df('AB', [1, 2])\n",
    "df1"
   ]
  },
  {
   "cell_type": "code",
   "execution_count": 205,
   "metadata": {
    "id": "9zjCkIpKawR7"
   },
   "outputs": [
    {
     "data": {
      "text/html": [
       "<div>\n",
       "<style scoped>\n",
       "    .dataframe tbody tr th:only-of-type {\n",
       "        vertical-align: middle;\n",
       "    }\n",
       "\n",
       "    .dataframe tbody tr th {\n",
       "        vertical-align: top;\n",
       "    }\n",
       "\n",
       "    .dataframe thead th {\n",
       "        text-align: right;\n",
       "    }\n",
       "</style>\n",
       "<table border=\"1\" class=\"dataframe\">\n",
       "  <thead>\n",
       "    <tr style=\"text-align: right;\">\n",
       "      <th></th>\n",
       "      <th>A</th>\n",
       "      <th>B</th>\n",
       "    </tr>\n",
       "  </thead>\n",
       "  <tbody>\n",
       "    <tr>\n",
       "      <th>3</th>\n",
       "      <td>a3</td>\n",
       "      <td>b3</td>\n",
       "    </tr>\n",
       "    <tr>\n",
       "      <th>4</th>\n",
       "      <td>a4</td>\n",
       "      <td>b4</td>\n",
       "    </tr>\n",
       "  </tbody>\n",
       "</table>\n",
       "</div>"
      ],
      "text/plain": [
       "    A   B\n",
       "3  a3  b3\n",
       "4  a4  b4"
      ]
     },
     "execution_count": 205,
     "metadata": {},
     "output_type": "execute_result"
    }
   ],
   "source": [
    "df2 = create_df('AB', [3, 4])\n",
    "df2"
   ]
  },
  {
   "cell_type": "code",
   "execution_count": 206,
   "metadata": {
    "id": "1BoDpvACc_J2"
   },
   "outputs": [
    {
     "data": {
      "text/html": [
       "<div>\n",
       "<style scoped>\n",
       "    .dataframe tbody tr th:only-of-type {\n",
       "        vertical-align: middle;\n",
       "    }\n",
       "\n",
       "    .dataframe tbody tr th {\n",
       "        vertical-align: top;\n",
       "    }\n",
       "\n",
       "    .dataframe thead th {\n",
       "        text-align: right;\n",
       "    }\n",
       "</style>\n",
       "<table border=\"1\" class=\"dataframe\">\n",
       "  <thead>\n",
       "    <tr style=\"text-align: right;\">\n",
       "      <th></th>\n",
       "      <th>A</th>\n",
       "      <th>B</th>\n",
       "    </tr>\n",
       "  </thead>\n",
       "  <tbody>\n",
       "    <tr>\n",
       "      <th>1</th>\n",
       "      <td>a1</td>\n",
       "      <td>b1</td>\n",
       "    </tr>\n",
       "    <tr>\n",
       "      <th>2</th>\n",
       "      <td>a2</td>\n",
       "      <td>b2</td>\n",
       "    </tr>\n",
       "    <tr>\n",
       "      <th>3</th>\n",
       "      <td>a3</td>\n",
       "      <td>b3</td>\n",
       "    </tr>\n",
       "    <tr>\n",
       "      <th>4</th>\n",
       "      <td>a4</td>\n",
       "      <td>b4</td>\n",
       "    </tr>\n",
       "  </tbody>\n",
       "</table>\n",
       "</div>"
      ],
      "text/plain": [
       "    A   B\n",
       "1  a1  b1\n",
       "2  a2  b2\n",
       "3  a3  b3\n",
       "4  a4  b4"
      ]
     },
     "execution_count": 206,
     "metadata": {},
     "output_type": "execute_result"
    }
   ],
   "source": [
    "pd.concat([df1, df2])"
   ]
  },
  {
   "cell_type": "code",
   "execution_count": 208,
   "metadata": {
    "id": "JJL0XcfGdBVu"
   },
   "outputs": [
    {
     "data": {
      "text/html": [
       "<div>\n",
       "<style scoped>\n",
       "    .dataframe tbody tr th:only-of-type {\n",
       "        vertical-align: middle;\n",
       "    }\n",
       "\n",
       "    .dataframe tbody tr th {\n",
       "        vertical-align: top;\n",
       "    }\n",
       "\n",
       "    .dataframe thead th {\n",
       "        text-align: right;\n",
       "    }\n",
       "</style>\n",
       "<table border=\"1\" class=\"dataframe\">\n",
       "  <thead>\n",
       "    <tr style=\"text-align: right;\">\n",
       "      <th></th>\n",
       "      <th>A</th>\n",
       "      <th>B</th>\n",
       "    </tr>\n",
       "  </thead>\n",
       "  <tbody>\n",
       "    <tr>\n",
       "      <th>0</th>\n",
       "      <td>a0</td>\n",
       "      <td>b0</td>\n",
       "    </tr>\n",
       "    <tr>\n",
       "      <th>1</th>\n",
       "      <td>a1</td>\n",
       "      <td>b1</td>\n",
       "    </tr>\n",
       "  </tbody>\n",
       "</table>\n",
       "</div>"
      ],
      "text/plain": [
       "    A   B\n",
       "0  a0  b0\n",
       "1  a1  b1"
      ]
     },
     "execution_count": 208,
     "metadata": {},
     "output_type": "execute_result"
    }
   ],
   "source": [
    "df3 = create_df('AB', [0, 1])\n",
    "df3"
   ]
  },
  {
   "cell_type": "code",
   "execution_count": 209,
   "metadata": {
    "id": "lYA3JakEdgKV"
   },
   "outputs": [
    {
     "data": {
      "text/html": [
       "<div>\n",
       "<style scoped>\n",
       "    .dataframe tbody tr th:only-of-type {\n",
       "        vertical-align: middle;\n",
       "    }\n",
       "\n",
       "    .dataframe tbody tr th {\n",
       "        vertical-align: top;\n",
       "    }\n",
       "\n",
       "    .dataframe thead th {\n",
       "        text-align: right;\n",
       "    }\n",
       "</style>\n",
       "<table border=\"1\" class=\"dataframe\">\n",
       "  <thead>\n",
       "    <tr style=\"text-align: right;\">\n",
       "      <th></th>\n",
       "      <th>C</th>\n",
       "      <th>D</th>\n",
       "    </tr>\n",
       "  </thead>\n",
       "  <tbody>\n",
       "    <tr>\n",
       "      <th>0</th>\n",
       "      <td>c0</td>\n",
       "      <td>d0</td>\n",
       "    </tr>\n",
       "    <tr>\n",
       "      <th>1</th>\n",
       "      <td>c1</td>\n",
       "      <td>d1</td>\n",
       "    </tr>\n",
       "  </tbody>\n",
       "</table>\n",
       "</div>"
      ],
      "text/plain": [
       "    C   D\n",
       "0  c0  d0\n",
       "1  c1  d1"
      ]
     },
     "execution_count": 209,
     "metadata": {},
     "output_type": "execute_result"
    }
   ],
   "source": [
    "df4 = create_df('CD', [0, 1])\n",
    "df4"
   ]
  },
  {
   "cell_type": "code",
   "execution_count": 210,
   "metadata": {
    "id": "8QH83dOOdiAs"
   },
   "outputs": [
    {
     "data": {
      "text/html": [
       "<div>\n",
       "<style scoped>\n",
       "    .dataframe tbody tr th:only-of-type {\n",
       "        vertical-align: middle;\n",
       "    }\n",
       "\n",
       "    .dataframe tbody tr th {\n",
       "        vertical-align: top;\n",
       "    }\n",
       "\n",
       "    .dataframe thead th {\n",
       "        text-align: right;\n",
       "    }\n",
       "</style>\n",
       "<table border=\"1\" class=\"dataframe\">\n",
       "  <thead>\n",
       "    <tr style=\"text-align: right;\">\n",
       "      <th></th>\n",
       "      <th>A</th>\n",
       "      <th>B</th>\n",
       "      <th>C</th>\n",
       "      <th>D</th>\n",
       "    </tr>\n",
       "  </thead>\n",
       "  <tbody>\n",
       "    <tr>\n",
       "      <th>0</th>\n",
       "      <td>a0</td>\n",
       "      <td>b0</td>\n",
       "      <td>NaN</td>\n",
       "      <td>NaN</td>\n",
       "    </tr>\n",
       "    <tr>\n",
       "      <th>1</th>\n",
       "      <td>a1</td>\n",
       "      <td>b1</td>\n",
       "      <td>NaN</td>\n",
       "      <td>NaN</td>\n",
       "    </tr>\n",
       "    <tr>\n",
       "      <th>0</th>\n",
       "      <td>NaN</td>\n",
       "      <td>NaN</td>\n",
       "      <td>c0</td>\n",
       "      <td>d0</td>\n",
       "    </tr>\n",
       "    <tr>\n",
       "      <th>1</th>\n",
       "      <td>NaN</td>\n",
       "      <td>NaN</td>\n",
       "      <td>c1</td>\n",
       "      <td>d1</td>\n",
       "    </tr>\n",
       "  </tbody>\n",
       "</table>\n",
       "</div>"
      ],
      "text/plain": [
       "     A    B    C    D\n",
       "0   a0   b0  NaN  NaN\n",
       "1   a1   b1  NaN  NaN\n",
       "0  NaN  NaN   c0   d0\n",
       "1  NaN  NaN   c1   d1"
      ]
     },
     "execution_count": 210,
     "metadata": {},
     "output_type": "execute_result"
    }
   ],
   "source": [
    "pd.concat([df3, df4])"
   ]
  },
  {
   "cell_type": "code",
   "execution_count": 211,
   "metadata": {
    "id": "b-ZOQg0gdk8E"
   },
   "outputs": [
    {
     "data": {
      "text/html": [
       "<div>\n",
       "<style scoped>\n",
       "    .dataframe tbody tr th:only-of-type {\n",
       "        vertical-align: middle;\n",
       "    }\n",
       "\n",
       "    .dataframe tbody tr th {\n",
       "        vertical-align: top;\n",
       "    }\n",
       "\n",
       "    .dataframe thead th {\n",
       "        text-align: right;\n",
       "    }\n",
       "</style>\n",
       "<table border=\"1\" class=\"dataframe\">\n",
       "  <thead>\n",
       "    <tr style=\"text-align: right;\">\n",
       "      <th></th>\n",
       "      <th>A</th>\n",
       "      <th>B</th>\n",
       "      <th>C</th>\n",
       "      <th>D</th>\n",
       "    </tr>\n",
       "  </thead>\n",
       "  <tbody>\n",
       "    <tr>\n",
       "      <th>0</th>\n",
       "      <td>a0</td>\n",
       "      <td>b0</td>\n",
       "      <td>c0</td>\n",
       "      <td>d0</td>\n",
       "    </tr>\n",
       "    <tr>\n",
       "      <th>1</th>\n",
       "      <td>a1</td>\n",
       "      <td>b1</td>\n",
       "      <td>c1</td>\n",
       "      <td>d1</td>\n",
       "    </tr>\n",
       "  </tbody>\n",
       "</table>\n",
       "</div>"
      ],
      "text/plain": [
       "    A   B   C   D\n",
       "0  a0  b0  c0  d0\n",
       "1  a1  b1  c1  d1"
      ]
     },
     "execution_count": 211,
     "metadata": {},
     "output_type": "execute_result"
    }
   ],
   "source": [
    "pd.concat([df3, df4], axis=1)"
   ]
  },
  {
   "cell_type": "code",
   "execution_count": 212,
   "metadata": {
    "id": "v_SSoUNIeeGO"
   },
   "outputs": [],
   "source": [
    "#pd.concat([df1, df3], verify_integrity=True)"
   ]
  },
  {
   "cell_type": "code",
   "execution_count": 213,
   "metadata": {
    "id": "FxzZqsfYfGIr"
   },
   "outputs": [
    {
     "data": {
      "text/html": [
       "<div>\n",
       "<style scoped>\n",
       "    .dataframe tbody tr th:only-of-type {\n",
       "        vertical-align: middle;\n",
       "    }\n",
       "\n",
       "    .dataframe tbody tr th {\n",
       "        vertical-align: top;\n",
       "    }\n",
       "\n",
       "    .dataframe thead th {\n",
       "        text-align: right;\n",
       "    }\n",
       "</style>\n",
       "<table border=\"1\" class=\"dataframe\">\n",
       "  <thead>\n",
       "    <tr style=\"text-align: right;\">\n",
       "      <th></th>\n",
       "      <th>A</th>\n",
       "      <th>B</th>\n",
       "    </tr>\n",
       "  </thead>\n",
       "  <tbody>\n",
       "    <tr>\n",
       "      <th>0</th>\n",
       "      <td>a1</td>\n",
       "      <td>b1</td>\n",
       "    </tr>\n",
       "    <tr>\n",
       "      <th>1</th>\n",
       "      <td>a2</td>\n",
       "      <td>b2</td>\n",
       "    </tr>\n",
       "    <tr>\n",
       "      <th>2</th>\n",
       "      <td>a0</td>\n",
       "      <td>b0</td>\n",
       "    </tr>\n",
       "    <tr>\n",
       "      <th>3</th>\n",
       "      <td>a1</td>\n",
       "      <td>b1</td>\n",
       "    </tr>\n",
       "  </tbody>\n",
       "</table>\n",
       "</div>"
      ],
      "text/plain": [
       "    A   B\n",
       "0  a1  b1\n",
       "1  a2  b2\n",
       "2  a0  b0\n",
       "3  a1  b1"
      ]
     },
     "execution_count": 213,
     "metadata": {},
     "output_type": "execute_result"
    }
   ],
   "source": [
    "pd.concat([df1, df3], ignore_index=True)"
   ]
  },
  {
   "cell_type": "code",
   "execution_count": 215,
   "metadata": {
    "id": "HNPzK-lyfRI7"
   },
   "outputs": [
    {
     "data": {
      "text/html": [
       "<div>\n",
       "<style scoped>\n",
       "    .dataframe tbody tr th:only-of-type {\n",
       "        vertical-align: middle;\n",
       "    }\n",
       "\n",
       "    .dataframe tbody tr th {\n",
       "        vertical-align: top;\n",
       "    }\n",
       "\n",
       "    .dataframe thead th {\n",
       "        text-align: right;\n",
       "    }\n",
       "</style>\n",
       "<table border=\"1\" class=\"dataframe\">\n",
       "  <thead>\n",
       "    <tr style=\"text-align: right;\">\n",
       "      <th></th>\n",
       "      <th></th>\n",
       "      <th>A</th>\n",
       "      <th>B</th>\n",
       "    </tr>\n",
       "  </thead>\n",
       "  <tbody>\n",
       "    <tr>\n",
       "      <th rowspan=\"2\" valign=\"top\">X</th>\n",
       "      <th>1</th>\n",
       "      <td>a1</td>\n",
       "      <td>b1</td>\n",
       "    </tr>\n",
       "    <tr>\n",
       "      <th>2</th>\n",
       "      <td>a2</td>\n",
       "      <td>b2</td>\n",
       "    </tr>\n",
       "    <tr>\n",
       "      <th rowspan=\"2\" valign=\"top\">Y</th>\n",
       "      <th>0</th>\n",
       "      <td>a0</td>\n",
       "      <td>b0</td>\n",
       "    </tr>\n",
       "    <tr>\n",
       "      <th>1</th>\n",
       "      <td>a1</td>\n",
       "      <td>b1</td>\n",
       "    </tr>\n",
       "  </tbody>\n",
       "</table>\n",
       "</div>"
      ],
      "text/plain": [
       "      A   B\n",
       "X 1  a1  b1\n",
       "  2  a2  b2\n",
       "Y 0  a0  b0\n",
       "  1  a1  b1"
      ]
     },
     "execution_count": 215,
     "metadata": {},
     "output_type": "execute_result"
    }
   ],
   "source": [
    "pd.concat([df1, df3], keys=['X', 'Y'])"
   ]
  },
  {
   "cell_type": "code",
   "execution_count": 216,
   "metadata": {
    "id": "ceNNvVDvfV0m"
   },
   "outputs": [
    {
     "data": {
      "text/html": [
       "<div>\n",
       "<style scoped>\n",
       "    .dataframe tbody tr th:only-of-type {\n",
       "        vertical-align: middle;\n",
       "    }\n",
       "\n",
       "    .dataframe tbody tr th {\n",
       "        vertical-align: top;\n",
       "    }\n",
       "\n",
       "    .dataframe thead th {\n",
       "        text-align: right;\n",
       "    }\n",
       "</style>\n",
       "<table border=\"1\" class=\"dataframe\">\n",
       "  <thead>\n",
       "    <tr style=\"text-align: right;\">\n",
       "      <th></th>\n",
       "      <th>A</th>\n",
       "      <th>B</th>\n",
       "      <th>C</th>\n",
       "      <th>D</th>\n",
       "    </tr>\n",
       "  </thead>\n",
       "  <tbody>\n",
       "    <tr>\n",
       "      <th>1</th>\n",
       "      <td>a1</td>\n",
       "      <td>b1</td>\n",
       "      <td>c1</td>\n",
       "      <td>NaN</td>\n",
       "    </tr>\n",
       "    <tr>\n",
       "      <th>2</th>\n",
       "      <td>a2</td>\n",
       "      <td>b2</td>\n",
       "      <td>c2</td>\n",
       "      <td>NaN</td>\n",
       "    </tr>\n",
       "    <tr>\n",
       "      <th>3</th>\n",
       "      <td>NaN</td>\n",
       "      <td>b3</td>\n",
       "      <td>c3</td>\n",
       "      <td>d3</td>\n",
       "    </tr>\n",
       "    <tr>\n",
       "      <th>4</th>\n",
       "      <td>NaN</td>\n",
       "      <td>b4</td>\n",
       "      <td>c4</td>\n",
       "      <td>d4</td>\n",
       "    </tr>\n",
       "  </tbody>\n",
       "</table>\n",
       "</div>"
      ],
      "text/plain": [
       "     A   B   C    D\n",
       "1   a1  b1  c1  NaN\n",
       "2   a2  b2  c2  NaN\n",
       "3  NaN  b3  c3   d3\n",
       "4  NaN  b4  c4   d4"
      ]
     },
     "execution_count": 216,
     "metadata": {},
     "output_type": "execute_result"
    }
   ],
   "source": [
    "df5 = create_df('ABC', [1,2])\n",
    "df6 = create_df('BCD', [3,4])\n",
    "pd.concat([df5, df6])"
   ]
  },
  {
   "cell_type": "code",
   "execution_count": 217,
   "metadata": {
    "id": "ymWRBGuwgD5W"
   },
   "outputs": [
    {
     "data": {
      "text/html": [
       "<div>\n",
       "<style scoped>\n",
       "    .dataframe tbody tr th:only-of-type {\n",
       "        vertical-align: middle;\n",
       "    }\n",
       "\n",
       "    .dataframe tbody tr th {\n",
       "        vertical-align: top;\n",
       "    }\n",
       "\n",
       "    .dataframe thead th {\n",
       "        text-align: right;\n",
       "    }\n",
       "</style>\n",
       "<table border=\"1\" class=\"dataframe\">\n",
       "  <thead>\n",
       "    <tr style=\"text-align: right;\">\n",
       "      <th></th>\n",
       "      <th>B</th>\n",
       "      <th>C</th>\n",
       "    </tr>\n",
       "  </thead>\n",
       "  <tbody>\n",
       "    <tr>\n",
       "      <th>1</th>\n",
       "      <td>b1</td>\n",
       "      <td>c1</td>\n",
       "    </tr>\n",
       "    <tr>\n",
       "      <th>2</th>\n",
       "      <td>b2</td>\n",
       "      <td>c2</td>\n",
       "    </tr>\n",
       "    <tr>\n",
       "      <th>3</th>\n",
       "      <td>b3</td>\n",
       "      <td>c3</td>\n",
       "    </tr>\n",
       "    <tr>\n",
       "      <th>4</th>\n",
       "      <td>b4</td>\n",
       "      <td>c4</td>\n",
       "    </tr>\n",
       "  </tbody>\n",
       "</table>\n",
       "</div>"
      ],
      "text/plain": [
       "    B   C\n",
       "1  b1  c1\n",
       "2  b2  c2\n",
       "3  b3  c3\n",
       "4  b4  c4"
      ]
     },
     "execution_count": 217,
     "metadata": {},
     "output_type": "execute_result"
    }
   ],
   "source": [
    "pd.concat([df5, df6], join='inner')"
   ]
  },
  {
   "cell_type": "code",
   "execution_count": 218,
   "metadata": {
    "id": "2P0hjxCEfk4e"
   },
   "outputs": [
    {
     "data": {
      "text/html": [
       "<div>\n",
       "<style scoped>\n",
       "    .dataframe tbody tr th:only-of-type {\n",
       "        vertical-align: middle;\n",
       "    }\n",
       "\n",
       "    .dataframe tbody tr th {\n",
       "        vertical-align: top;\n",
       "    }\n",
       "\n",
       "    .dataframe thead th {\n",
       "        text-align: right;\n",
       "    }\n",
       "</style>\n",
       "<table border=\"1\" class=\"dataframe\">\n",
       "  <thead>\n",
       "    <tr style=\"text-align: right;\">\n",
       "      <th></th>\n",
       "      <th>A</th>\n",
       "      <th>B</th>\n",
       "      <th>C</th>\n",
       "      <th>D</th>\n",
       "    </tr>\n",
       "  </thead>\n",
       "  <tbody>\n",
       "    <tr>\n",
       "      <th>1</th>\n",
       "      <td>a1</td>\n",
       "      <td>b1</td>\n",
       "      <td>c1</td>\n",
       "      <td>NaN</td>\n",
       "    </tr>\n",
       "    <tr>\n",
       "      <th>2</th>\n",
       "      <td>a2</td>\n",
       "      <td>b2</td>\n",
       "      <td>c2</td>\n",
       "      <td>NaN</td>\n",
       "    </tr>\n",
       "    <tr>\n",
       "      <th>3</th>\n",
       "      <td>NaN</td>\n",
       "      <td>b3</td>\n",
       "      <td>c3</td>\n",
       "      <td>d3</td>\n",
       "    </tr>\n",
       "    <tr>\n",
       "      <th>4</th>\n",
       "      <td>NaN</td>\n",
       "      <td>b4</td>\n",
       "      <td>c4</td>\n",
       "      <td>d4</td>\n",
       "    </tr>\n",
       "  </tbody>\n",
       "</table>\n",
       "</div>"
      ],
      "text/plain": [
       "     A   B   C    D\n",
       "1   a1  b1  c1  NaN\n",
       "2   a2  b2  c2  NaN\n",
       "3  NaN  b3  c3   d3\n",
       "4  NaN  b4  c4   d4"
      ]
     },
     "execution_count": 218,
     "metadata": {},
     "output_type": "execute_result"
    }
   ],
   "source": [
    "df5.append(df6)"
   ]
  },
  {
   "cell_type": "markdown",
   "metadata": {
    "id": "XCDss0yIppQt"
   },
   "source": [
    "### 병합과 조인"
   ]
  },
  {
   "cell_type": "code",
   "execution_count": 219,
   "metadata": {
    "id": "tD2y5H3EosYY"
   },
   "outputs": [
    {
     "data": {
      "text/html": [
       "<div>\n",
       "<style scoped>\n",
       "    .dataframe tbody tr th:only-of-type {\n",
       "        vertical-align: middle;\n",
       "    }\n",
       "\n",
       "    .dataframe tbody tr th {\n",
       "        vertical-align: top;\n",
       "    }\n",
       "\n",
       "    .dataframe thead th {\n",
       "        text-align: right;\n",
       "    }\n",
       "</style>\n",
       "<table border=\"1\" class=\"dataframe\">\n",
       "  <thead>\n",
       "    <tr style=\"text-align: right;\">\n",
       "      <th></th>\n",
       "      <th>학생</th>\n",
       "      <th>학과</th>\n",
       "    </tr>\n",
       "  </thead>\n",
       "  <tbody>\n",
       "    <tr>\n",
       "      <th>0</th>\n",
       "      <td>홍길동</td>\n",
       "      <td>경영학과</td>\n",
       "    </tr>\n",
       "    <tr>\n",
       "      <th>1</th>\n",
       "      <td>이순신</td>\n",
       "      <td>교육학과</td>\n",
       "    </tr>\n",
       "    <tr>\n",
       "      <th>2</th>\n",
       "      <td>임꺽정</td>\n",
       "      <td>컴퓨터학과</td>\n",
       "    </tr>\n",
       "    <tr>\n",
       "      <th>3</th>\n",
       "      <td>김유신</td>\n",
       "      <td>통계학과</td>\n",
       "    </tr>\n",
       "  </tbody>\n",
       "</table>\n",
       "</div>"
      ],
      "text/plain": [
       "    학생     학과\n",
       "0  홍길동   경영학과\n",
       "1  이순신   교육학과\n",
       "2  임꺽정  컴퓨터학과\n",
       "3  김유신   통계학과"
      ]
     },
     "execution_count": 219,
     "metadata": {},
     "output_type": "execute_result"
    }
   ],
   "source": [
    "df1 = pd.DataFrame({'학생' : ['홍길동', '이순신', '임꺽정', '김유신'],\n",
    "                   '학과' : ['경영학과', '교육학과', '컴퓨터학과', '통계학과']})\n",
    "df1"
   ]
  },
  {
   "cell_type": "code",
   "execution_count": 221,
   "metadata": {
    "id": "-Gnfj0cVrQ-L"
   },
   "outputs": [
    {
     "data": {
      "text/html": [
       "<div>\n",
       "<style scoped>\n",
       "    .dataframe tbody tr th:only-of-type {\n",
       "        vertical-align: middle;\n",
       "    }\n",
       "\n",
       "    .dataframe tbody tr th {\n",
       "        vertical-align: top;\n",
       "    }\n",
       "\n",
       "    .dataframe thead th {\n",
       "        text-align: right;\n",
       "    }\n",
       "</style>\n",
       "<table border=\"1\" class=\"dataframe\">\n",
       "  <thead>\n",
       "    <tr style=\"text-align: right;\">\n",
       "      <th></th>\n",
       "      <th>학생</th>\n",
       "      <th>입학년도</th>\n",
       "    </tr>\n",
       "  </thead>\n",
       "  <tbody>\n",
       "    <tr>\n",
       "      <th>0</th>\n",
       "      <td>홍길동</td>\n",
       "      <td>2012</td>\n",
       "    </tr>\n",
       "    <tr>\n",
       "      <th>1</th>\n",
       "      <td>이순신</td>\n",
       "      <td>2016</td>\n",
       "    </tr>\n",
       "    <tr>\n",
       "      <th>2</th>\n",
       "      <td>임꺽정</td>\n",
       "      <td>2019</td>\n",
       "    </tr>\n",
       "    <tr>\n",
       "      <th>3</th>\n",
       "      <td>김유신</td>\n",
       "      <td>2020</td>\n",
       "    </tr>\n",
       "  </tbody>\n",
       "</table>\n",
       "</div>"
      ],
      "text/plain": [
       "    학생  입학년도\n",
       "0  홍길동  2012\n",
       "1  이순신  2016\n",
       "2  임꺽정  2019\n",
       "3  김유신  2020"
      ]
     },
     "execution_count": 221,
     "metadata": {},
     "output_type": "execute_result"
    }
   ],
   "source": [
    "df2 = pd.DataFrame({'학생' : ['홍길동', '이순신', '임꺽정', '김유신'],\n",
    "                   '입학년도' : [2012, 2016, 2019, 2020]})\n",
    "df2"
   ]
  },
  {
   "cell_type": "code",
   "execution_count": 222,
   "metadata": {
    "id": "4_L0wq5BrRqC"
   },
   "outputs": [
    {
     "data": {
      "text/html": [
       "<div>\n",
       "<style scoped>\n",
       "    .dataframe tbody tr th:only-of-type {\n",
       "        vertical-align: middle;\n",
       "    }\n",
       "\n",
       "    .dataframe tbody tr th {\n",
       "        vertical-align: top;\n",
       "    }\n",
       "\n",
       "    .dataframe thead th {\n",
       "        text-align: right;\n",
       "    }\n",
       "</style>\n",
       "<table border=\"1\" class=\"dataframe\">\n",
       "  <thead>\n",
       "    <tr style=\"text-align: right;\">\n",
       "      <th></th>\n",
       "      <th>학생</th>\n",
       "      <th>학과</th>\n",
       "      <th>입학년도</th>\n",
       "    </tr>\n",
       "  </thead>\n",
       "  <tbody>\n",
       "    <tr>\n",
       "      <th>0</th>\n",
       "      <td>홍길동</td>\n",
       "      <td>경영학과</td>\n",
       "      <td>2012</td>\n",
       "    </tr>\n",
       "    <tr>\n",
       "      <th>1</th>\n",
       "      <td>이순신</td>\n",
       "      <td>교육학과</td>\n",
       "      <td>2016</td>\n",
       "    </tr>\n",
       "    <tr>\n",
       "      <th>2</th>\n",
       "      <td>임꺽정</td>\n",
       "      <td>컴퓨터학과</td>\n",
       "      <td>2019</td>\n",
       "    </tr>\n",
       "    <tr>\n",
       "      <th>3</th>\n",
       "      <td>김유신</td>\n",
       "      <td>통계학과</td>\n",
       "      <td>2020</td>\n",
       "    </tr>\n",
       "  </tbody>\n",
       "</table>\n",
       "</div>"
      ],
      "text/plain": [
       "    학생     학과  입학년도\n",
       "0  홍길동   경영학과  2012\n",
       "1  이순신   교육학과  2016\n",
       "2  임꺽정  컴퓨터학과  2019\n",
       "3  김유신   통계학과  2020"
      ]
     },
     "execution_count": 222,
     "metadata": {},
     "output_type": "execute_result"
    }
   ],
   "source": [
    "df3 = pd.merge(df1, df2)\n",
    "df3"
   ]
  },
  {
   "cell_type": "code",
   "execution_count": 223,
   "metadata": {
    "id": "JB30RrgprcxI"
   },
   "outputs": [
    {
     "data": {
      "text/html": [
       "<div>\n",
       "<style scoped>\n",
       "    .dataframe tbody tr th:only-of-type {\n",
       "        vertical-align: middle;\n",
       "    }\n",
       "\n",
       "    .dataframe tbody tr th {\n",
       "        vertical-align: top;\n",
       "    }\n",
       "\n",
       "    .dataframe thead th {\n",
       "        text-align: right;\n",
       "    }\n",
       "</style>\n",
       "<table border=\"1\" class=\"dataframe\">\n",
       "  <thead>\n",
       "    <tr style=\"text-align: right;\">\n",
       "      <th></th>\n",
       "      <th>학과</th>\n",
       "      <th>학과정</th>\n",
       "    </tr>\n",
       "  </thead>\n",
       "  <tbody>\n",
       "    <tr>\n",
       "      <th>0</th>\n",
       "      <td>경영학과</td>\n",
       "      <td>황희</td>\n",
       "    </tr>\n",
       "    <tr>\n",
       "      <th>1</th>\n",
       "      <td>교육학과</td>\n",
       "      <td>장영실</td>\n",
       "    </tr>\n",
       "    <tr>\n",
       "      <th>2</th>\n",
       "      <td>컴퓨터학과</td>\n",
       "      <td>안창호</td>\n",
       "    </tr>\n",
       "    <tr>\n",
       "      <th>3</th>\n",
       "      <td>통계학과</td>\n",
       "      <td>정약용</td>\n",
       "    </tr>\n",
       "  </tbody>\n",
       "</table>\n",
       "</div>"
      ],
      "text/plain": [
       "      학과  학과정\n",
       "0   경영학과   황희\n",
       "1   교육학과  장영실\n",
       "2  컴퓨터학과  안창호\n",
       "3   통계학과  정약용"
      ]
     },
     "execution_count": 223,
     "metadata": {},
     "output_type": "execute_result"
    }
   ],
   "source": [
    "df4 = pd.DataFrame({'학과': ['경영학과', '교육학과', '컴퓨터학과', '통계학과'],\n",
    "                   '학과정' : ['황희', '장영실', '안창호', '정약용']})\n",
    "df4"
   ]
  },
  {
   "cell_type": "code",
   "execution_count": 224,
   "metadata": {
    "id": "M-DPYK8-sZ1j"
   },
   "outputs": [
    {
     "data": {
      "text/html": [
       "<div>\n",
       "<style scoped>\n",
       "    .dataframe tbody tr th:only-of-type {\n",
       "        vertical-align: middle;\n",
       "    }\n",
       "\n",
       "    .dataframe tbody tr th {\n",
       "        vertical-align: top;\n",
       "    }\n",
       "\n",
       "    .dataframe thead th {\n",
       "        text-align: right;\n",
       "    }\n",
       "</style>\n",
       "<table border=\"1\" class=\"dataframe\">\n",
       "  <thead>\n",
       "    <tr style=\"text-align: right;\">\n",
       "      <th></th>\n",
       "      <th>학생</th>\n",
       "      <th>학과</th>\n",
       "      <th>입학년도</th>\n",
       "      <th>학과정</th>\n",
       "    </tr>\n",
       "  </thead>\n",
       "  <tbody>\n",
       "    <tr>\n",
       "      <th>0</th>\n",
       "      <td>홍길동</td>\n",
       "      <td>경영학과</td>\n",
       "      <td>2012</td>\n",
       "      <td>황희</td>\n",
       "    </tr>\n",
       "    <tr>\n",
       "      <th>1</th>\n",
       "      <td>이순신</td>\n",
       "      <td>교육학과</td>\n",
       "      <td>2016</td>\n",
       "      <td>장영실</td>\n",
       "    </tr>\n",
       "    <tr>\n",
       "      <th>2</th>\n",
       "      <td>임꺽정</td>\n",
       "      <td>컴퓨터학과</td>\n",
       "      <td>2019</td>\n",
       "      <td>안창호</td>\n",
       "    </tr>\n",
       "    <tr>\n",
       "      <th>3</th>\n",
       "      <td>김유신</td>\n",
       "      <td>통계학과</td>\n",
       "      <td>2020</td>\n",
       "      <td>정약용</td>\n",
       "    </tr>\n",
       "  </tbody>\n",
       "</table>\n",
       "</div>"
      ],
      "text/plain": [
       "    학생     학과  입학년도  학과정\n",
       "0  홍길동   경영학과  2012   황희\n",
       "1  이순신   교육학과  2016  장영실\n",
       "2  임꺽정  컴퓨터학과  2019  안창호\n",
       "3  김유신   통계학과  2020  정약용"
      ]
     },
     "execution_count": 224,
     "metadata": {},
     "output_type": "execute_result"
    }
   ],
   "source": [
    "pd.merge(df3, df4)"
   ]
  },
  {
   "cell_type": "code",
   "execution_count": 225,
   "metadata": {
    "id": "xvXEDN6GsgSF"
   },
   "outputs": [
    {
     "data": {
      "text/html": [
       "<div>\n",
       "<style scoped>\n",
       "    .dataframe tbody tr th:only-of-type {\n",
       "        vertical-align: middle;\n",
       "    }\n",
       "\n",
       "    .dataframe tbody tr th {\n",
       "        vertical-align: top;\n",
       "    }\n",
       "\n",
       "    .dataframe thead th {\n",
       "        text-align: right;\n",
       "    }\n",
       "</style>\n",
       "<table border=\"1\" class=\"dataframe\">\n",
       "  <thead>\n",
       "    <tr style=\"text-align: right;\">\n",
       "      <th></th>\n",
       "      <th>학과</th>\n",
       "      <th>과목</th>\n",
       "    </tr>\n",
       "  </thead>\n",
       "  <tbody>\n",
       "    <tr>\n",
       "      <th>0</th>\n",
       "      <td>경영학과</td>\n",
       "      <td>경영개론</td>\n",
       "    </tr>\n",
       "    <tr>\n",
       "      <th>1</th>\n",
       "      <td>교육학과</td>\n",
       "      <td>기초수학</td>\n",
       "    </tr>\n",
       "    <tr>\n",
       "      <th>2</th>\n",
       "      <td>교육학과</td>\n",
       "      <td>물리학</td>\n",
       "    </tr>\n",
       "    <tr>\n",
       "      <th>3</th>\n",
       "      <td>컴퓨터학과</td>\n",
       "      <td>프로그래밍</td>\n",
       "    </tr>\n",
       "    <tr>\n",
       "      <th>4</th>\n",
       "      <td>컴퓨터학과</td>\n",
       "      <td>운영체제</td>\n",
       "    </tr>\n",
       "    <tr>\n",
       "      <th>5</th>\n",
       "      <td>통계학과</td>\n",
       "      <td>확률론</td>\n",
       "    </tr>\n",
       "  </tbody>\n",
       "</table>\n",
       "</div>"
      ],
      "text/plain": [
       "      학과     과목\n",
       "0   경영학과   경영개론\n",
       "1   교육학과   기초수학\n",
       "2   교육학과    물리학\n",
       "3  컴퓨터학과  프로그래밍\n",
       "4  컴퓨터학과   운영체제\n",
       "5   통계학과    확률론"
      ]
     },
     "execution_count": 225,
     "metadata": {},
     "output_type": "execute_result"
    }
   ],
   "source": [
    "df5 = pd.DataFrame({'학과' : ['경영학과', '교육학과', '교육학과', '컴퓨터학과', '컴퓨터학과', '통계학과'],\n",
    "                   '과목' : ['경영개론', '기초수학', '물리학', '프로그래밍', '운영체제', '확률론']})\n",
    "df5"
   ]
  },
  {
   "cell_type": "code",
   "execution_count": 227,
   "metadata": {
    "id": "H9JRk6RVtLNJ"
   },
   "outputs": [
    {
     "data": {
      "text/html": [
       "<div>\n",
       "<style scoped>\n",
       "    .dataframe tbody tr th:only-of-type {\n",
       "        vertical-align: middle;\n",
       "    }\n",
       "\n",
       "    .dataframe tbody tr th {\n",
       "        vertical-align: top;\n",
       "    }\n",
       "\n",
       "    .dataframe thead th {\n",
       "        text-align: right;\n",
       "    }\n",
       "</style>\n",
       "<table border=\"1\" class=\"dataframe\">\n",
       "  <thead>\n",
       "    <tr style=\"text-align: right;\">\n",
       "      <th></th>\n",
       "      <th>학생</th>\n",
       "      <th>학과</th>\n",
       "      <th>과목</th>\n",
       "    </tr>\n",
       "  </thead>\n",
       "  <tbody>\n",
       "    <tr>\n",
       "      <th>0</th>\n",
       "      <td>홍길동</td>\n",
       "      <td>경영학과</td>\n",
       "      <td>경영개론</td>\n",
       "    </tr>\n",
       "    <tr>\n",
       "      <th>1</th>\n",
       "      <td>이순신</td>\n",
       "      <td>교육학과</td>\n",
       "      <td>기초수학</td>\n",
       "    </tr>\n",
       "    <tr>\n",
       "      <th>2</th>\n",
       "      <td>이순신</td>\n",
       "      <td>교육학과</td>\n",
       "      <td>물리학</td>\n",
       "    </tr>\n",
       "    <tr>\n",
       "      <th>3</th>\n",
       "      <td>임꺽정</td>\n",
       "      <td>컴퓨터학과</td>\n",
       "      <td>프로그래밍</td>\n",
       "    </tr>\n",
       "    <tr>\n",
       "      <th>4</th>\n",
       "      <td>임꺽정</td>\n",
       "      <td>컴퓨터학과</td>\n",
       "      <td>운영체제</td>\n",
       "    </tr>\n",
       "    <tr>\n",
       "      <th>5</th>\n",
       "      <td>김유신</td>\n",
       "      <td>통계학과</td>\n",
       "      <td>확률론</td>\n",
       "    </tr>\n",
       "  </tbody>\n",
       "</table>\n",
       "</div>"
      ],
      "text/plain": [
       "    학생     학과     과목\n",
       "0  홍길동   경영학과   경영개론\n",
       "1  이순신   교육학과   기초수학\n",
       "2  이순신   교육학과    물리학\n",
       "3  임꺽정  컴퓨터학과  프로그래밍\n",
       "4  임꺽정  컴퓨터학과   운영체제\n",
       "5  김유신   통계학과    확률론"
      ]
     },
     "execution_count": 227,
     "metadata": {},
     "output_type": "execute_result"
    }
   ],
   "source": [
    "pd.merge(df1, df5)"
   ]
  },
  {
   "cell_type": "code",
   "execution_count": 228,
   "metadata": {
    "id": "HCsJ0Wg7teqe"
   },
   "outputs": [
    {
     "data": {
      "text/html": [
       "<div>\n",
       "<style scoped>\n",
       "    .dataframe tbody tr th:only-of-type {\n",
       "        vertical-align: middle;\n",
       "    }\n",
       "\n",
       "    .dataframe tbody tr th {\n",
       "        vertical-align: top;\n",
       "    }\n",
       "\n",
       "    .dataframe thead th {\n",
       "        text-align: right;\n",
       "    }\n",
       "</style>\n",
       "<table border=\"1\" class=\"dataframe\">\n",
       "  <thead>\n",
       "    <tr style=\"text-align: right;\">\n",
       "      <th></th>\n",
       "      <th>학생</th>\n",
       "      <th>학과</th>\n",
       "      <th>입학년도</th>\n",
       "    </tr>\n",
       "  </thead>\n",
       "  <tbody>\n",
       "    <tr>\n",
       "      <th>0</th>\n",
       "      <td>홍길동</td>\n",
       "      <td>경영학과</td>\n",
       "      <td>2012</td>\n",
       "    </tr>\n",
       "    <tr>\n",
       "      <th>1</th>\n",
       "      <td>이순신</td>\n",
       "      <td>교육학과</td>\n",
       "      <td>2016</td>\n",
       "    </tr>\n",
       "    <tr>\n",
       "      <th>2</th>\n",
       "      <td>임꺽정</td>\n",
       "      <td>컴퓨터학과</td>\n",
       "      <td>2019</td>\n",
       "    </tr>\n",
       "    <tr>\n",
       "      <th>3</th>\n",
       "      <td>김유신</td>\n",
       "      <td>통계학과</td>\n",
       "      <td>2020</td>\n",
       "    </tr>\n",
       "  </tbody>\n",
       "</table>\n",
       "</div>"
      ],
      "text/plain": [
       "    학생     학과  입학년도\n",
       "0  홍길동   경영학과  2012\n",
       "1  이순신   교육학과  2016\n",
       "2  임꺽정  컴퓨터학과  2019\n",
       "3  김유신   통계학과  2020"
      ]
     },
     "execution_count": 228,
     "metadata": {},
     "output_type": "execute_result"
    }
   ],
   "source": [
    "pd.merge(df1, df2, on='학생')"
   ]
  },
  {
   "cell_type": "code",
   "execution_count": 229,
   "metadata": {
    "id": "U_ePghIst4fQ"
   },
   "outputs": [
    {
     "data": {
      "text/html": [
       "<div>\n",
       "<style scoped>\n",
       "    .dataframe tbody tr th:only-of-type {\n",
       "        vertical-align: middle;\n",
       "    }\n",
       "\n",
       "    .dataframe tbody tr th {\n",
       "        vertical-align: top;\n",
       "    }\n",
       "\n",
       "    .dataframe thead th {\n",
       "        text-align: right;\n",
       "    }\n",
       "</style>\n",
       "<table border=\"1\" class=\"dataframe\">\n",
       "  <thead>\n",
       "    <tr style=\"text-align: right;\">\n",
       "      <th></th>\n",
       "      <th>이름</th>\n",
       "      <th>성적</th>\n",
       "    </tr>\n",
       "  </thead>\n",
       "  <tbody>\n",
       "    <tr>\n",
       "      <th>0</th>\n",
       "      <td>홍길동</td>\n",
       "      <td>A</td>\n",
       "    </tr>\n",
       "    <tr>\n",
       "      <th>1</th>\n",
       "      <td>이순신</td>\n",
       "      <td>A+</td>\n",
       "    </tr>\n",
       "    <tr>\n",
       "      <th>2</th>\n",
       "      <td>임꺽정</td>\n",
       "      <td>B</td>\n",
       "    </tr>\n",
       "    <tr>\n",
       "      <th>3</th>\n",
       "      <td>김유신</td>\n",
       "      <td>A+</td>\n",
       "    </tr>\n",
       "  </tbody>\n",
       "</table>\n",
       "</div>"
      ],
      "text/plain": [
       "    이름  성적\n",
       "0  홍길동   A\n",
       "1  이순신  A+\n",
       "2  임꺽정   B\n",
       "3  김유신  A+"
      ]
     },
     "execution_count": 229,
     "metadata": {},
     "output_type": "execute_result"
    }
   ],
   "source": [
    "df6 = pd.DataFrame({'이름' : ['홍길동', '이순신', '임꺽정', '김유신'],\n",
    "                   '성적' : ['A', 'A+', 'B', 'A+']})\n",
    "df6"
   ]
  },
  {
   "cell_type": "code",
   "execution_count": 230,
   "metadata": {
    "id": "-PZ1D1VwuiTG"
   },
   "outputs": [
    {
     "data": {
      "text/html": [
       "<div>\n",
       "<style scoped>\n",
       "    .dataframe tbody tr th:only-of-type {\n",
       "        vertical-align: middle;\n",
       "    }\n",
       "\n",
       "    .dataframe tbody tr th {\n",
       "        vertical-align: top;\n",
       "    }\n",
       "\n",
       "    .dataframe thead th {\n",
       "        text-align: right;\n",
       "    }\n",
       "</style>\n",
       "<table border=\"1\" class=\"dataframe\">\n",
       "  <thead>\n",
       "    <tr style=\"text-align: right;\">\n",
       "      <th></th>\n",
       "      <th>학생</th>\n",
       "      <th>학과</th>\n",
       "      <th>이름</th>\n",
       "      <th>성적</th>\n",
       "    </tr>\n",
       "  </thead>\n",
       "  <tbody>\n",
       "    <tr>\n",
       "      <th>0</th>\n",
       "      <td>홍길동</td>\n",
       "      <td>경영학과</td>\n",
       "      <td>홍길동</td>\n",
       "      <td>A</td>\n",
       "    </tr>\n",
       "    <tr>\n",
       "      <th>1</th>\n",
       "      <td>이순신</td>\n",
       "      <td>교육학과</td>\n",
       "      <td>이순신</td>\n",
       "      <td>A+</td>\n",
       "    </tr>\n",
       "    <tr>\n",
       "      <th>2</th>\n",
       "      <td>임꺽정</td>\n",
       "      <td>컴퓨터학과</td>\n",
       "      <td>임꺽정</td>\n",
       "      <td>B</td>\n",
       "    </tr>\n",
       "    <tr>\n",
       "      <th>3</th>\n",
       "      <td>김유신</td>\n",
       "      <td>통계학과</td>\n",
       "      <td>김유신</td>\n",
       "      <td>A+</td>\n",
       "    </tr>\n",
       "  </tbody>\n",
       "</table>\n",
       "</div>"
      ],
      "text/plain": [
       "    학생     학과   이름  성적\n",
       "0  홍길동   경영학과  홍길동   A\n",
       "1  이순신   교육학과  이순신  A+\n",
       "2  임꺽정  컴퓨터학과  임꺽정   B\n",
       "3  김유신   통계학과  김유신  A+"
      ]
     },
     "execution_count": 230,
     "metadata": {},
     "output_type": "execute_result"
    }
   ],
   "source": [
    "pd.merge(df1, df6, left_on='학생', right_on='이름')"
   ]
  },
  {
   "cell_type": "code",
   "execution_count": 231,
   "metadata": {
    "id": "7z1jmMhSukPA"
   },
   "outputs": [
    {
     "data": {
      "text/html": [
       "<div>\n",
       "<style scoped>\n",
       "    .dataframe tbody tr th:only-of-type {\n",
       "        vertical-align: middle;\n",
       "    }\n",
       "\n",
       "    .dataframe tbody tr th {\n",
       "        vertical-align: top;\n",
       "    }\n",
       "\n",
       "    .dataframe thead th {\n",
       "        text-align: right;\n",
       "    }\n",
       "</style>\n",
       "<table border=\"1\" class=\"dataframe\">\n",
       "  <thead>\n",
       "    <tr style=\"text-align: right;\">\n",
       "      <th></th>\n",
       "      <th>학생</th>\n",
       "      <th>학과</th>\n",
       "      <th>성적</th>\n",
       "    </tr>\n",
       "  </thead>\n",
       "  <tbody>\n",
       "    <tr>\n",
       "      <th>0</th>\n",
       "      <td>홍길동</td>\n",
       "      <td>경영학과</td>\n",
       "      <td>A</td>\n",
       "    </tr>\n",
       "    <tr>\n",
       "      <th>1</th>\n",
       "      <td>이순신</td>\n",
       "      <td>교육학과</td>\n",
       "      <td>A+</td>\n",
       "    </tr>\n",
       "    <tr>\n",
       "      <th>2</th>\n",
       "      <td>임꺽정</td>\n",
       "      <td>컴퓨터학과</td>\n",
       "      <td>B</td>\n",
       "    </tr>\n",
       "    <tr>\n",
       "      <th>3</th>\n",
       "      <td>김유신</td>\n",
       "      <td>통계학과</td>\n",
       "      <td>A+</td>\n",
       "    </tr>\n",
       "  </tbody>\n",
       "</table>\n",
       "</div>"
      ],
      "text/plain": [
       "    학생     학과  성적\n",
       "0  홍길동   경영학과   A\n",
       "1  이순신   교육학과  A+\n",
       "2  임꺽정  컴퓨터학과   B\n",
       "3  김유신   통계학과  A+"
      ]
     },
     "execution_count": 231,
     "metadata": {},
     "output_type": "execute_result"
    }
   ],
   "source": [
    "pd.merge(df1, df6, left_on='학생', right_on='이름').drop('이름', axis=1)"
   ]
  },
  {
   "cell_type": "code",
   "execution_count": 232,
   "metadata": {
    "id": "xBdg5QbquseD"
   },
   "outputs": [],
   "source": [
    "mdf1 = df1.set_index('학생')\n",
    "mdf2 = df2.set_index('학생')"
   ]
  },
  {
   "cell_type": "code",
   "execution_count": 233,
   "metadata": {
    "id": "PkYo6QP-u5MM"
   },
   "outputs": [
    {
     "data": {
      "text/html": [
       "<div>\n",
       "<style scoped>\n",
       "    .dataframe tbody tr th:only-of-type {\n",
       "        vertical-align: middle;\n",
       "    }\n",
       "\n",
       "    .dataframe tbody tr th {\n",
       "        vertical-align: top;\n",
       "    }\n",
       "\n",
       "    .dataframe thead th {\n",
       "        text-align: right;\n",
       "    }\n",
       "</style>\n",
       "<table border=\"1\" class=\"dataframe\">\n",
       "  <thead>\n",
       "    <tr style=\"text-align: right;\">\n",
       "      <th></th>\n",
       "      <th>학과</th>\n",
       "    </tr>\n",
       "    <tr>\n",
       "      <th>학생</th>\n",
       "      <th></th>\n",
       "    </tr>\n",
       "  </thead>\n",
       "  <tbody>\n",
       "    <tr>\n",
       "      <th>홍길동</th>\n",
       "      <td>경영학과</td>\n",
       "    </tr>\n",
       "    <tr>\n",
       "      <th>이순신</th>\n",
       "      <td>교육학과</td>\n",
       "    </tr>\n",
       "    <tr>\n",
       "      <th>임꺽정</th>\n",
       "      <td>컴퓨터학과</td>\n",
       "    </tr>\n",
       "    <tr>\n",
       "      <th>김유신</th>\n",
       "      <td>통계학과</td>\n",
       "    </tr>\n",
       "  </tbody>\n",
       "</table>\n",
       "</div>"
      ],
      "text/plain": [
       "        학과\n",
       "학생        \n",
       "홍길동   경영학과\n",
       "이순신   교육학과\n",
       "임꺽정  컴퓨터학과\n",
       "김유신   통계학과"
      ]
     },
     "execution_count": 233,
     "metadata": {},
     "output_type": "execute_result"
    }
   ],
   "source": [
    "mdf1"
   ]
  },
  {
   "cell_type": "code",
   "execution_count": 234,
   "metadata": {
    "id": "ITON974EvRp8"
   },
   "outputs": [
    {
     "data": {
      "text/html": [
       "<div>\n",
       "<style scoped>\n",
       "    .dataframe tbody tr th:only-of-type {\n",
       "        vertical-align: middle;\n",
       "    }\n",
       "\n",
       "    .dataframe tbody tr th {\n",
       "        vertical-align: top;\n",
       "    }\n",
       "\n",
       "    .dataframe thead th {\n",
       "        text-align: right;\n",
       "    }\n",
       "</style>\n",
       "<table border=\"1\" class=\"dataframe\">\n",
       "  <thead>\n",
       "    <tr style=\"text-align: right;\">\n",
       "      <th></th>\n",
       "      <th>입학년도</th>\n",
       "    </tr>\n",
       "    <tr>\n",
       "      <th>학생</th>\n",
       "      <th></th>\n",
       "    </tr>\n",
       "  </thead>\n",
       "  <tbody>\n",
       "    <tr>\n",
       "      <th>홍길동</th>\n",
       "      <td>2012</td>\n",
       "    </tr>\n",
       "    <tr>\n",
       "      <th>이순신</th>\n",
       "      <td>2016</td>\n",
       "    </tr>\n",
       "    <tr>\n",
       "      <th>임꺽정</th>\n",
       "      <td>2019</td>\n",
       "    </tr>\n",
       "    <tr>\n",
       "      <th>김유신</th>\n",
       "      <td>2020</td>\n",
       "    </tr>\n",
       "  </tbody>\n",
       "</table>\n",
       "</div>"
      ],
      "text/plain": [
       "     입학년도\n",
       "학생       \n",
       "홍길동  2012\n",
       "이순신  2016\n",
       "임꺽정  2019\n",
       "김유신  2020"
      ]
     },
     "execution_count": 234,
     "metadata": {},
     "output_type": "execute_result"
    }
   ],
   "source": [
    "mdf2"
   ]
  },
  {
   "cell_type": "code",
   "execution_count": 235,
   "metadata": {
    "id": "pM9VHro8vR_b"
   },
   "outputs": [
    {
     "data": {
      "text/html": [
       "<div>\n",
       "<style scoped>\n",
       "    .dataframe tbody tr th:only-of-type {\n",
       "        vertical-align: middle;\n",
       "    }\n",
       "\n",
       "    .dataframe tbody tr th {\n",
       "        vertical-align: top;\n",
       "    }\n",
       "\n",
       "    .dataframe thead th {\n",
       "        text-align: right;\n",
       "    }\n",
       "</style>\n",
       "<table border=\"1\" class=\"dataframe\">\n",
       "  <thead>\n",
       "    <tr style=\"text-align: right;\">\n",
       "      <th></th>\n",
       "      <th>학과</th>\n",
       "      <th>입학년도</th>\n",
       "    </tr>\n",
       "    <tr>\n",
       "      <th>학생</th>\n",
       "      <th></th>\n",
       "      <th></th>\n",
       "    </tr>\n",
       "  </thead>\n",
       "  <tbody>\n",
       "    <tr>\n",
       "      <th>홍길동</th>\n",
       "      <td>경영학과</td>\n",
       "      <td>2012</td>\n",
       "    </tr>\n",
       "    <tr>\n",
       "      <th>이순신</th>\n",
       "      <td>교육학과</td>\n",
       "      <td>2016</td>\n",
       "    </tr>\n",
       "    <tr>\n",
       "      <th>임꺽정</th>\n",
       "      <td>컴퓨터학과</td>\n",
       "      <td>2019</td>\n",
       "    </tr>\n",
       "    <tr>\n",
       "      <th>김유신</th>\n",
       "      <td>통계학과</td>\n",
       "      <td>2020</td>\n",
       "    </tr>\n",
       "  </tbody>\n",
       "</table>\n",
       "</div>"
      ],
      "text/plain": [
       "        학과  입학년도\n",
       "학생              \n",
       "홍길동   경영학과  2012\n",
       "이순신   교육학과  2016\n",
       "임꺽정  컴퓨터학과  2019\n",
       "김유신   통계학과  2020"
      ]
     },
     "execution_count": 235,
     "metadata": {},
     "output_type": "execute_result"
    }
   ],
   "source": [
    "pd.merge(mdf1, mdf2, left_index=True, right_index=True)"
   ]
  },
  {
   "cell_type": "code",
   "execution_count": 237,
   "metadata": {
    "id": "tb70J4-YvYL-"
   },
   "outputs": [
    {
     "data": {
      "text/html": [
       "<div>\n",
       "<style scoped>\n",
       "    .dataframe tbody tr th:only-of-type {\n",
       "        vertical-align: middle;\n",
       "    }\n",
       "\n",
       "    .dataframe tbody tr th {\n",
       "        vertical-align: top;\n",
       "    }\n",
       "\n",
       "    .dataframe thead th {\n",
       "        text-align: right;\n",
       "    }\n",
       "</style>\n",
       "<table border=\"1\" class=\"dataframe\">\n",
       "  <thead>\n",
       "    <tr style=\"text-align: right;\">\n",
       "      <th></th>\n",
       "      <th>학과</th>\n",
       "      <th>학생</th>\n",
       "      <th>입학년도</th>\n",
       "    </tr>\n",
       "    <tr>\n",
       "      <th>학생</th>\n",
       "      <th></th>\n",
       "      <th></th>\n",
       "      <th></th>\n",
       "    </tr>\n",
       "  </thead>\n",
       "  <tbody>\n",
       "    <tr>\n",
       "      <th>홍길동</th>\n",
       "      <td>경영학과</td>\n",
       "      <td>NaN</td>\n",
       "      <td>NaN</td>\n",
       "    </tr>\n",
       "    <tr>\n",
       "      <th>이순신</th>\n",
       "      <td>교육학과</td>\n",
       "      <td>NaN</td>\n",
       "      <td>NaN</td>\n",
       "    </tr>\n",
       "    <tr>\n",
       "      <th>임꺽정</th>\n",
       "      <td>컴퓨터학과</td>\n",
       "      <td>NaN</td>\n",
       "      <td>NaN</td>\n",
       "    </tr>\n",
       "    <tr>\n",
       "      <th>김유신</th>\n",
       "      <td>통계학과</td>\n",
       "      <td>NaN</td>\n",
       "      <td>NaN</td>\n",
       "    </tr>\n",
       "  </tbody>\n",
       "</table>\n",
       "</div>"
      ],
      "text/plain": [
       "        학과   학생  입학년도\n",
       "학생                   \n",
       "홍길동   경영학과  NaN   NaN\n",
       "이순신   교육학과  NaN   NaN\n",
       "임꺽정  컴퓨터학과  NaN   NaN\n",
       "김유신   통계학과  NaN   NaN"
      ]
     },
     "execution_count": 237,
     "metadata": {},
     "output_type": "execute_result"
    }
   ],
   "source": [
    "mdf1.join(df2)"
   ]
  },
  {
   "cell_type": "code",
   "execution_count": 239,
   "metadata": {
    "id": "h4jWcr7hvx93"
   },
   "outputs": [
    {
     "data": {
      "text/html": [
       "<div>\n",
       "<style scoped>\n",
       "    .dataframe tbody tr th:only-of-type {\n",
       "        vertical-align: middle;\n",
       "    }\n",
       "\n",
       "    .dataframe tbody tr th {\n",
       "        vertical-align: top;\n",
       "    }\n",
       "\n",
       "    .dataframe thead th {\n",
       "        text-align: right;\n",
       "    }\n",
       "</style>\n",
       "<table border=\"1\" class=\"dataframe\">\n",
       "  <thead>\n",
       "    <tr style=\"text-align: right;\">\n",
       "      <th></th>\n",
       "      <th>학과</th>\n",
       "      <th>이름</th>\n",
       "      <th>성적</th>\n",
       "    </tr>\n",
       "  </thead>\n",
       "  <tbody>\n",
       "    <tr>\n",
       "      <th>0</th>\n",
       "      <td>경영학과</td>\n",
       "      <td>홍길동</td>\n",
       "      <td>A</td>\n",
       "    </tr>\n",
       "    <tr>\n",
       "      <th>1</th>\n",
       "      <td>교육학과</td>\n",
       "      <td>이순신</td>\n",
       "      <td>A+</td>\n",
       "    </tr>\n",
       "    <tr>\n",
       "      <th>2</th>\n",
       "      <td>컴퓨터학과</td>\n",
       "      <td>임꺽정</td>\n",
       "      <td>B</td>\n",
       "    </tr>\n",
       "    <tr>\n",
       "      <th>3</th>\n",
       "      <td>통계학과</td>\n",
       "      <td>김유신</td>\n",
       "      <td>A+</td>\n",
       "    </tr>\n",
       "  </tbody>\n",
       "</table>\n",
       "</div>"
      ],
      "text/plain": [
       "      학과   이름  성적\n",
       "0   경영학과  홍길동   A\n",
       "1   교육학과  이순신  A+\n",
       "2  컴퓨터학과  임꺽정   B\n",
       "3   통계학과  김유신  A+"
      ]
     },
     "execution_count": 239,
     "metadata": {},
     "output_type": "execute_result"
    }
   ],
   "source": [
    "pd.merge(mdf1, df6, left_index=True, right_on='이름')"
   ]
  },
  {
   "cell_type": "code",
   "execution_count": 240,
   "metadata": {
    "id": "5BMgmFDyxmYX"
   },
   "outputs": [
    {
     "data": {
      "text/html": [
       "<div>\n",
       "<style scoped>\n",
       "    .dataframe tbody tr th:only-of-type {\n",
       "        vertical-align: middle;\n",
       "    }\n",
       "\n",
       "    .dataframe tbody tr th {\n",
       "        vertical-align: top;\n",
       "    }\n",
       "\n",
       "    .dataframe thead th {\n",
       "        text-align: right;\n",
       "    }\n",
       "</style>\n",
       "<table border=\"1\" class=\"dataframe\">\n",
       "  <thead>\n",
       "    <tr style=\"text-align: right;\">\n",
       "      <th></th>\n",
       "      <th>이름</th>\n",
       "      <th>주문음식</th>\n",
       "    </tr>\n",
       "  </thead>\n",
       "  <tbody>\n",
       "    <tr>\n",
       "      <th>0</th>\n",
       "      <td>홍길동</td>\n",
       "      <td>햄버거</td>\n",
       "    </tr>\n",
       "    <tr>\n",
       "      <th>1</th>\n",
       "      <td>이순신</td>\n",
       "      <td>피자</td>\n",
       "    </tr>\n",
       "    <tr>\n",
       "      <th>2</th>\n",
       "      <td>임꺽정</td>\n",
       "      <td>짜장면</td>\n",
       "    </tr>\n",
       "  </tbody>\n",
       "</table>\n",
       "</div>"
      ],
      "text/plain": [
       "    이름 주문음식\n",
       "0  홍길동  햄버거\n",
       "1  이순신   피자\n",
       "2  임꺽정  짜장면"
      ]
     },
     "execution_count": 240,
     "metadata": {},
     "output_type": "execute_result"
    }
   ],
   "source": [
    "df7 = pd.DataFrame({'이름':['홍길동', '이순신', '임꺽정'],\n",
    "                   '주문음식' : ['햄버거', '피자', '짜장면']})\n",
    "df7"
   ]
  },
  {
   "cell_type": "code",
   "execution_count": 241,
   "metadata": {
    "id": "K6REnIONx5IB"
   },
   "outputs": [
    {
     "data": {
      "text/html": [
       "<div>\n",
       "<style scoped>\n",
       "    .dataframe tbody tr th:only-of-type {\n",
       "        vertical-align: middle;\n",
       "    }\n",
       "\n",
       "    .dataframe tbody tr th {\n",
       "        vertical-align: top;\n",
       "    }\n",
       "\n",
       "    .dataframe thead th {\n",
       "        text-align: right;\n",
       "    }\n",
       "</style>\n",
       "<table border=\"1\" class=\"dataframe\">\n",
       "  <thead>\n",
       "    <tr style=\"text-align: right;\">\n",
       "      <th></th>\n",
       "      <th>이름</th>\n",
       "      <th>주문음식</th>\n",
       "    </tr>\n",
       "  </thead>\n",
       "  <tbody>\n",
       "    <tr>\n",
       "      <th>0</th>\n",
       "      <td>홍길동</td>\n",
       "      <td>콜라</td>\n",
       "    </tr>\n",
       "    <tr>\n",
       "      <th>1</th>\n",
       "      <td>이순신</td>\n",
       "      <td>사이다</td>\n",
       "    </tr>\n",
       "    <tr>\n",
       "      <th>2</th>\n",
       "      <td>김유신</td>\n",
       "      <td>커피</td>\n",
       "    </tr>\n",
       "  </tbody>\n",
       "</table>\n",
       "</div>"
      ],
      "text/plain": [
       "    이름 주문음식\n",
       "0  홍길동   콜라\n",
       "1  이순신  사이다\n",
       "2  김유신   커피"
      ]
     },
     "execution_count": 241,
     "metadata": {},
     "output_type": "execute_result"
    }
   ],
   "source": [
    "df8 = pd.DataFrame({'이름' : ['홍길동', '이순신', '김유신'],\n",
    "                   '주문음식' : ['콜라', '사이다', '커피']})\n",
    "df8"
   ]
  },
  {
   "cell_type": "code",
   "execution_count": 242,
   "metadata": {
    "id": "we6EQ2YbyuCl"
   },
   "outputs": [
    {
     "data": {
      "text/html": [
       "<div>\n",
       "<style scoped>\n",
       "    .dataframe tbody tr th:only-of-type {\n",
       "        vertical-align: middle;\n",
       "    }\n",
       "\n",
       "    .dataframe tbody tr th {\n",
       "        vertical-align: top;\n",
       "    }\n",
       "\n",
       "    .dataframe thead th {\n",
       "        text-align: right;\n",
       "    }\n",
       "</style>\n",
       "<table border=\"1\" class=\"dataframe\">\n",
       "  <thead>\n",
       "    <tr style=\"text-align: right;\">\n",
       "      <th></th>\n",
       "      <th>이름</th>\n",
       "      <th>주문음식</th>\n",
       "    </tr>\n",
       "  </thead>\n",
       "  <tbody>\n",
       "  </tbody>\n",
       "</table>\n",
       "</div>"
      ],
      "text/plain": [
       "Empty DataFrame\n",
       "Columns: [이름, 주문음식]\n",
       "Index: []"
      ]
     },
     "execution_count": 242,
     "metadata": {},
     "output_type": "execute_result"
    }
   ],
   "source": [
    "pd.merge(df7, df8)"
   ]
  },
  {
   "cell_type": "code",
   "execution_count": 243,
   "metadata": {
    "id": "6fXhbe-zyxk3"
   },
   "outputs": [
    {
     "data": {
      "text/html": [
       "<div>\n",
       "<style scoped>\n",
       "    .dataframe tbody tr th:only-of-type {\n",
       "        vertical-align: middle;\n",
       "    }\n",
       "\n",
       "    .dataframe tbody tr th {\n",
       "        vertical-align: top;\n",
       "    }\n",
       "\n",
       "    .dataframe thead th {\n",
       "        text-align: right;\n",
       "    }\n",
       "</style>\n",
       "<table border=\"1\" class=\"dataframe\">\n",
       "  <thead>\n",
       "    <tr style=\"text-align: right;\">\n",
       "      <th></th>\n",
       "      <th>이름</th>\n",
       "      <th>주문음식</th>\n",
       "    </tr>\n",
       "  </thead>\n",
       "  <tbody>\n",
       "  </tbody>\n",
       "</table>\n",
       "</div>"
      ],
      "text/plain": [
       "Empty DataFrame\n",
       "Columns: [이름, 주문음식]\n",
       "Index: []"
      ]
     },
     "execution_count": 243,
     "metadata": {},
     "output_type": "execute_result"
    }
   ],
   "source": [
    "pd.merge(df7, df8, how='inner')"
   ]
  },
  {
   "cell_type": "code",
   "execution_count": 244,
   "metadata": {
    "id": "elU9-4r3y4NE"
   },
   "outputs": [
    {
     "data": {
      "text/html": [
       "<div>\n",
       "<style scoped>\n",
       "    .dataframe tbody tr th:only-of-type {\n",
       "        vertical-align: middle;\n",
       "    }\n",
       "\n",
       "    .dataframe tbody tr th {\n",
       "        vertical-align: top;\n",
       "    }\n",
       "\n",
       "    .dataframe thead th {\n",
       "        text-align: right;\n",
       "    }\n",
       "</style>\n",
       "<table border=\"1\" class=\"dataframe\">\n",
       "  <thead>\n",
       "    <tr style=\"text-align: right;\">\n",
       "      <th></th>\n",
       "      <th>이름</th>\n",
       "      <th>주문음식</th>\n",
       "    </tr>\n",
       "  </thead>\n",
       "  <tbody>\n",
       "    <tr>\n",
       "      <th>0</th>\n",
       "      <td>홍길동</td>\n",
       "      <td>햄버거</td>\n",
       "    </tr>\n",
       "    <tr>\n",
       "      <th>1</th>\n",
       "      <td>이순신</td>\n",
       "      <td>피자</td>\n",
       "    </tr>\n",
       "    <tr>\n",
       "      <th>2</th>\n",
       "      <td>임꺽정</td>\n",
       "      <td>짜장면</td>\n",
       "    </tr>\n",
       "    <tr>\n",
       "      <th>3</th>\n",
       "      <td>홍길동</td>\n",
       "      <td>콜라</td>\n",
       "    </tr>\n",
       "    <tr>\n",
       "      <th>4</th>\n",
       "      <td>이순신</td>\n",
       "      <td>사이다</td>\n",
       "    </tr>\n",
       "    <tr>\n",
       "      <th>5</th>\n",
       "      <td>김유신</td>\n",
       "      <td>커피</td>\n",
       "    </tr>\n",
       "  </tbody>\n",
       "</table>\n",
       "</div>"
      ],
      "text/plain": [
       "    이름 주문음식\n",
       "0  홍길동  햄버거\n",
       "1  이순신   피자\n",
       "2  임꺽정  짜장면\n",
       "3  홍길동   콜라\n",
       "4  이순신  사이다\n",
       "5  김유신   커피"
      ]
     },
     "execution_count": 244,
     "metadata": {},
     "output_type": "execute_result"
    }
   ],
   "source": [
    "pd.merge(df7, df8, how='outer')"
   ]
  },
  {
   "cell_type": "code",
   "execution_count": 245,
   "metadata": {
    "id": "Ojd4m8oLy6tk"
   },
   "outputs": [
    {
     "data": {
      "text/html": [
       "<div>\n",
       "<style scoped>\n",
       "    .dataframe tbody tr th:only-of-type {\n",
       "        vertical-align: middle;\n",
       "    }\n",
       "\n",
       "    .dataframe tbody tr th {\n",
       "        vertical-align: top;\n",
       "    }\n",
       "\n",
       "    .dataframe thead th {\n",
       "        text-align: right;\n",
       "    }\n",
       "</style>\n",
       "<table border=\"1\" class=\"dataframe\">\n",
       "  <thead>\n",
       "    <tr style=\"text-align: right;\">\n",
       "      <th></th>\n",
       "      <th>이름</th>\n",
       "      <th>주문음식</th>\n",
       "    </tr>\n",
       "  </thead>\n",
       "  <tbody>\n",
       "    <tr>\n",
       "      <th>0</th>\n",
       "      <td>홍길동</td>\n",
       "      <td>햄버거</td>\n",
       "    </tr>\n",
       "    <tr>\n",
       "      <th>1</th>\n",
       "      <td>이순신</td>\n",
       "      <td>피자</td>\n",
       "    </tr>\n",
       "    <tr>\n",
       "      <th>2</th>\n",
       "      <td>임꺽정</td>\n",
       "      <td>짜장면</td>\n",
       "    </tr>\n",
       "  </tbody>\n",
       "</table>\n",
       "</div>"
      ],
      "text/plain": [
       "    이름 주문음식\n",
       "0  홍길동  햄버거\n",
       "1  이순신   피자\n",
       "2  임꺽정  짜장면"
      ]
     },
     "execution_count": 245,
     "metadata": {},
     "output_type": "execute_result"
    }
   ],
   "source": [
    "pd.merge(df7, df8, how='left')"
   ]
  },
  {
   "cell_type": "code",
   "execution_count": 246,
   "metadata": {
    "id": "R0Te8J7Py9Up"
   },
   "outputs": [
    {
     "data": {
      "text/html": [
       "<div>\n",
       "<style scoped>\n",
       "    .dataframe tbody tr th:only-of-type {\n",
       "        vertical-align: middle;\n",
       "    }\n",
       "\n",
       "    .dataframe tbody tr th {\n",
       "        vertical-align: top;\n",
       "    }\n",
       "\n",
       "    .dataframe thead th {\n",
       "        text-align: right;\n",
       "    }\n",
       "</style>\n",
       "<table border=\"1\" class=\"dataframe\">\n",
       "  <thead>\n",
       "    <tr style=\"text-align: right;\">\n",
       "      <th></th>\n",
       "      <th>이름</th>\n",
       "      <th>주문음식</th>\n",
       "    </tr>\n",
       "  </thead>\n",
       "  <tbody>\n",
       "    <tr>\n",
       "      <th>0</th>\n",
       "      <td>홍길동</td>\n",
       "      <td>콜라</td>\n",
       "    </tr>\n",
       "    <tr>\n",
       "      <th>1</th>\n",
       "      <td>이순신</td>\n",
       "      <td>사이다</td>\n",
       "    </tr>\n",
       "    <tr>\n",
       "      <th>2</th>\n",
       "      <td>김유신</td>\n",
       "      <td>커피</td>\n",
       "    </tr>\n",
       "  </tbody>\n",
       "</table>\n",
       "</div>"
      ],
      "text/plain": [
       "    이름 주문음식\n",
       "0  홍길동   콜라\n",
       "1  이순신  사이다\n",
       "2  김유신   커피"
      ]
     },
     "execution_count": 246,
     "metadata": {},
     "output_type": "execute_result"
    }
   ],
   "source": [
    "pd.merge(df7, df8, how='right')"
   ]
  },
  {
   "cell_type": "code",
   "execution_count": 247,
   "metadata": {
    "id": "7VZHxJsky_L0"
   },
   "outputs": [
    {
     "data": {
      "text/html": [
       "<div>\n",
       "<style scoped>\n",
       "    .dataframe tbody tr th:only-of-type {\n",
       "        vertical-align: middle;\n",
       "    }\n",
       "\n",
       "    .dataframe tbody tr th {\n",
       "        vertical-align: top;\n",
       "    }\n",
       "\n",
       "    .dataframe thead th {\n",
       "        text-align: right;\n",
       "    }\n",
       "</style>\n",
       "<table border=\"1\" class=\"dataframe\">\n",
       "  <thead>\n",
       "    <tr style=\"text-align: right;\">\n",
       "      <th></th>\n",
       "      <th>이름</th>\n",
       "      <th>순위</th>\n",
       "    </tr>\n",
       "  </thead>\n",
       "  <tbody>\n",
       "    <tr>\n",
       "      <th>0</th>\n",
       "      <td>홍길동</td>\n",
       "      <td>3</td>\n",
       "    </tr>\n",
       "    <tr>\n",
       "      <th>1</th>\n",
       "      <td>이순신</td>\n",
       "      <td>2</td>\n",
       "    </tr>\n",
       "    <tr>\n",
       "      <th>2</th>\n",
       "      <td>임꺽정</td>\n",
       "      <td>4</td>\n",
       "    </tr>\n",
       "    <tr>\n",
       "      <th>3</th>\n",
       "      <td>김유신</td>\n",
       "      <td>1</td>\n",
       "    </tr>\n",
       "  </tbody>\n",
       "</table>\n",
       "</div>"
      ],
      "text/plain": [
       "    이름  순위\n",
       "0  홍길동   3\n",
       "1  이순신   2\n",
       "2  임꺽정   4\n",
       "3  김유신   1"
      ]
     },
     "execution_count": 247,
     "metadata": {},
     "output_type": "execute_result"
    }
   ],
   "source": [
    "df9 = pd.DataFrame({'이름' : ['홍길동', '이순신', '임꺽정', '김유신'],\n",
    "                   '순위' : [3, 2, 4, 1]})\n",
    "df9"
   ]
  },
  {
   "cell_type": "code",
   "execution_count": 248,
   "metadata": {
    "id": "akYbKT0x0A0J"
   },
   "outputs": [
    {
     "data": {
      "text/html": [
       "<div>\n",
       "<style scoped>\n",
       "    .dataframe tbody tr th:only-of-type {\n",
       "        vertical-align: middle;\n",
       "    }\n",
       "\n",
       "    .dataframe tbody tr th {\n",
       "        vertical-align: top;\n",
       "    }\n",
       "\n",
       "    .dataframe thead th {\n",
       "        text-align: right;\n",
       "    }\n",
       "</style>\n",
       "<table border=\"1\" class=\"dataframe\">\n",
       "  <thead>\n",
       "    <tr style=\"text-align: right;\">\n",
       "      <th></th>\n",
       "      <th>이름</th>\n",
       "      <th>순위</th>\n",
       "    </tr>\n",
       "  </thead>\n",
       "  <tbody>\n",
       "    <tr>\n",
       "      <th>0</th>\n",
       "      <td>홍길동</td>\n",
       "      <td>4</td>\n",
       "    </tr>\n",
       "    <tr>\n",
       "      <th>1</th>\n",
       "      <td>이순신</td>\n",
       "      <td>1</td>\n",
       "    </tr>\n",
       "    <tr>\n",
       "      <th>2</th>\n",
       "      <td>임꺽정</td>\n",
       "      <td>3</td>\n",
       "    </tr>\n",
       "    <tr>\n",
       "      <th>3</th>\n",
       "      <td>김유신</td>\n",
       "      <td>2</td>\n",
       "    </tr>\n",
       "  </tbody>\n",
       "</table>\n",
       "</div>"
      ],
      "text/plain": [
       "    이름  순위\n",
       "0  홍길동   4\n",
       "1  이순신   1\n",
       "2  임꺽정   3\n",
       "3  김유신   2"
      ]
     },
     "execution_count": 248,
     "metadata": {},
     "output_type": "execute_result"
    }
   ],
   "source": [
    "df10 = pd.DataFrame({'이름' : ['홍길동', '이순신', '임꺽정', '김유신'],\n",
    "                    '순위' : [4, 1, 3, 2]})\n",
    "df10"
   ]
  },
  {
   "cell_type": "code",
   "execution_count": 249,
   "metadata": {
    "id": "hC82_HIA0Gts"
   },
   "outputs": [
    {
     "data": {
      "text/html": [
       "<div>\n",
       "<style scoped>\n",
       "    .dataframe tbody tr th:only-of-type {\n",
       "        vertical-align: middle;\n",
       "    }\n",
       "\n",
       "    .dataframe tbody tr th {\n",
       "        vertical-align: top;\n",
       "    }\n",
       "\n",
       "    .dataframe thead th {\n",
       "        text-align: right;\n",
       "    }\n",
       "</style>\n",
       "<table border=\"1\" class=\"dataframe\">\n",
       "  <thead>\n",
       "    <tr style=\"text-align: right;\">\n",
       "      <th></th>\n",
       "      <th>이름</th>\n",
       "      <th>순위_x</th>\n",
       "      <th>순위_y</th>\n",
       "    </tr>\n",
       "  </thead>\n",
       "  <tbody>\n",
       "    <tr>\n",
       "      <th>0</th>\n",
       "      <td>홍길동</td>\n",
       "      <td>3</td>\n",
       "      <td>4</td>\n",
       "    </tr>\n",
       "    <tr>\n",
       "      <th>1</th>\n",
       "      <td>이순신</td>\n",
       "      <td>2</td>\n",
       "      <td>1</td>\n",
       "    </tr>\n",
       "    <tr>\n",
       "      <th>2</th>\n",
       "      <td>임꺽정</td>\n",
       "      <td>4</td>\n",
       "      <td>3</td>\n",
       "    </tr>\n",
       "    <tr>\n",
       "      <th>3</th>\n",
       "      <td>김유신</td>\n",
       "      <td>1</td>\n",
       "      <td>2</td>\n",
       "    </tr>\n",
       "  </tbody>\n",
       "</table>\n",
       "</div>"
      ],
      "text/plain": [
       "    이름  순위_x  순위_y\n",
       "0  홍길동     3     4\n",
       "1  이순신     2     1\n",
       "2  임꺽정     4     3\n",
       "3  김유신     1     2"
      ]
     },
     "execution_count": 249,
     "metadata": {},
     "output_type": "execute_result"
    }
   ],
   "source": [
    "pd.merge(df9, df10, on='이름')"
   ]
  },
  {
   "cell_type": "code",
   "execution_count": 250,
   "metadata": {
    "id": "lvanUKHh0NSl"
   },
   "outputs": [
    {
     "data": {
      "text/html": [
       "<div>\n",
       "<style scoped>\n",
       "    .dataframe tbody tr th:only-of-type {\n",
       "        vertical-align: middle;\n",
       "    }\n",
       "\n",
       "    .dataframe tbody tr th {\n",
       "        vertical-align: top;\n",
       "    }\n",
       "\n",
       "    .dataframe thead th {\n",
       "        text-align: right;\n",
       "    }\n",
       "</style>\n",
       "<table border=\"1\" class=\"dataframe\">\n",
       "  <thead>\n",
       "    <tr style=\"text-align: right;\">\n",
       "      <th></th>\n",
       "      <th>이름</th>\n",
       "      <th>순위_인기</th>\n",
       "      <th>순위_성적</th>\n",
       "    </tr>\n",
       "  </thead>\n",
       "  <tbody>\n",
       "    <tr>\n",
       "      <th>0</th>\n",
       "      <td>홍길동</td>\n",
       "      <td>3</td>\n",
       "      <td>4</td>\n",
       "    </tr>\n",
       "    <tr>\n",
       "      <th>1</th>\n",
       "      <td>이순신</td>\n",
       "      <td>2</td>\n",
       "      <td>1</td>\n",
       "    </tr>\n",
       "    <tr>\n",
       "      <th>2</th>\n",
       "      <td>임꺽정</td>\n",
       "      <td>4</td>\n",
       "      <td>3</td>\n",
       "    </tr>\n",
       "    <tr>\n",
       "      <th>3</th>\n",
       "      <td>김유신</td>\n",
       "      <td>1</td>\n",
       "      <td>2</td>\n",
       "    </tr>\n",
       "  </tbody>\n",
       "</table>\n",
       "</div>"
      ],
      "text/plain": [
       "    이름  순위_인기  순위_성적\n",
       "0  홍길동      3      4\n",
       "1  이순신      2      1\n",
       "2  임꺽정      4      3\n",
       "3  김유신      1      2"
      ]
     },
     "execution_count": 250,
     "metadata": {},
     "output_type": "execute_result"
    }
   ],
   "source": [
    "pd.merge(df9, df10, on='이름', suffixes=['_인기', '_성적'])"
   ]
  },
  {
   "cell_type": "markdown",
   "metadata": {
    "id": "TR_8q2S50uIk"
   },
   "source": [
    "## 데이터 집계와 그룹 연산"
   ]
  },
  {
   "cell_type": "markdown",
   "metadata": {
    "id": "NnkMJFRlWPm7"
   },
   "source": [
    "#### 집계 연산(Aggregation)\n"
   ]
  },
  {
   "cell_type": "code",
   "execution_count": 251,
   "metadata": {
    "id": "5AR3wQl_5QLq"
   },
   "outputs": [
    {
     "data": {
      "text/html": [
       "<div>\n",
       "<style scoped>\n",
       "    .dataframe tbody tr th:only-of-type {\n",
       "        vertical-align: middle;\n",
       "    }\n",
       "\n",
       "    .dataframe tbody tr th {\n",
       "        vertical-align: top;\n",
       "    }\n",
       "\n",
       "    .dataframe thead th {\n",
       "        text-align: right;\n",
       "    }\n",
       "</style>\n",
       "<table border=\"1\" class=\"dataframe\">\n",
       "  <thead>\n",
       "    <tr style=\"text-align: right;\">\n",
       "      <th></th>\n",
       "      <th>A</th>\n",
       "      <th>B</th>\n",
       "      <th>C</th>\n",
       "    </tr>\n",
       "  </thead>\n",
       "  <tbody>\n",
       "    <tr>\n",
       "      <th>1</th>\n",
       "      <td>1.00</td>\n",
       "      <td>1.2</td>\n",
       "      <td>NaN</td>\n",
       "    </tr>\n",
       "    <tr>\n",
       "      <th>2</th>\n",
       "      <td>2.40</td>\n",
       "      <td>5.5</td>\n",
       "      <td>4.2</td>\n",
       "    </tr>\n",
       "    <tr>\n",
       "      <th>3</th>\n",
       "      <td>NaN</td>\n",
       "      <td>NaN</td>\n",
       "      <td>NaN</td>\n",
       "    </tr>\n",
       "    <tr>\n",
       "      <th>4</th>\n",
       "      <td>0.44</td>\n",
       "      <td>-3.1</td>\n",
       "      <td>-4.1</td>\n",
       "    </tr>\n",
       "  </tbody>\n",
       "</table>\n",
       "</div>"
      ],
      "text/plain": [
       "      A    B    C\n",
       "1  1.00  1.2  NaN\n",
       "2  2.40  5.5  4.2\n",
       "3   NaN  NaN  NaN\n",
       "4  0.44 -3.1 -4.1"
      ]
     },
     "execution_count": 251,
     "metadata": {},
     "output_type": "execute_result"
    }
   ],
   "source": [
    "df = pd.DataFrame([[1, 1.2, np.nan],\n",
    "                  [2.4, 5.5, 4.2],\n",
    "                  [np.nan, np.nan, np.nan],\n",
    "                  [0.44, -3.1, -4.1]],\n",
    "                 index=[1, 2, 3, 4],\n",
    "                 columns=['A', 'B', 'C'])\n",
    "df"
   ]
  },
  {
   "cell_type": "code",
   "execution_count": 252,
   "metadata": {
    "id": "jI0_ZOegZh86"
   },
   "outputs": [
    {
     "data": {
      "text/html": [
       "<div>\n",
       "<style scoped>\n",
       "    .dataframe tbody tr th:only-of-type {\n",
       "        vertical-align: middle;\n",
       "    }\n",
       "\n",
       "    .dataframe tbody tr th {\n",
       "        vertical-align: top;\n",
       "    }\n",
       "\n",
       "    .dataframe thead th {\n",
       "        text-align: right;\n",
       "    }\n",
       "</style>\n",
       "<table border=\"1\" class=\"dataframe\">\n",
       "  <thead>\n",
       "    <tr style=\"text-align: right;\">\n",
       "      <th></th>\n",
       "      <th>A</th>\n",
       "      <th>B</th>\n",
       "      <th>C</th>\n",
       "    </tr>\n",
       "  </thead>\n",
       "  <tbody>\n",
       "    <tr>\n",
       "      <th>1</th>\n",
       "      <td>1.0</td>\n",
       "      <td>1.2</td>\n",
       "      <td>NaN</td>\n",
       "    </tr>\n",
       "    <tr>\n",
       "      <th>2</th>\n",
       "      <td>2.4</td>\n",
       "      <td>5.5</td>\n",
       "      <td>4.2</td>\n",
       "    </tr>\n",
       "  </tbody>\n",
       "</table>\n",
       "</div>"
      ],
      "text/plain": [
       "     A    B    C\n",
       "1  1.0  1.2  NaN\n",
       "2  2.4  5.5  4.2"
      ]
     },
     "execution_count": 252,
     "metadata": {},
     "output_type": "execute_result"
    }
   ],
   "source": [
    "df.head(2)"
   ]
  },
  {
   "cell_type": "code",
   "execution_count": 253,
   "metadata": {
    "id": "fd2vnUehZoWF"
   },
   "outputs": [
    {
     "data": {
      "text/html": [
       "<div>\n",
       "<style scoped>\n",
       "    .dataframe tbody tr th:only-of-type {\n",
       "        vertical-align: middle;\n",
       "    }\n",
       "\n",
       "    .dataframe tbody tr th {\n",
       "        vertical-align: top;\n",
       "    }\n",
       "\n",
       "    .dataframe thead th {\n",
       "        text-align: right;\n",
       "    }\n",
       "</style>\n",
       "<table border=\"1\" class=\"dataframe\">\n",
       "  <thead>\n",
       "    <tr style=\"text-align: right;\">\n",
       "      <th></th>\n",
       "      <th>A</th>\n",
       "      <th>B</th>\n",
       "      <th>C</th>\n",
       "    </tr>\n",
       "  </thead>\n",
       "  <tbody>\n",
       "    <tr>\n",
       "      <th>3</th>\n",
       "      <td>NaN</td>\n",
       "      <td>NaN</td>\n",
       "      <td>NaN</td>\n",
       "    </tr>\n",
       "    <tr>\n",
       "      <th>4</th>\n",
       "      <td>0.44</td>\n",
       "      <td>-3.1</td>\n",
       "      <td>-4.1</td>\n",
       "    </tr>\n",
       "  </tbody>\n",
       "</table>\n",
       "</div>"
      ],
      "text/plain": [
       "      A    B    C\n",
       "3   NaN  NaN  NaN\n",
       "4  0.44 -3.1 -4.1"
      ]
     },
     "execution_count": 253,
     "metadata": {},
     "output_type": "execute_result"
    }
   ],
   "source": [
    "df.tail(2)"
   ]
  },
  {
   "cell_type": "code",
   "execution_count": 254,
   "metadata": {
    "id": "I4DNBURwZq76"
   },
   "outputs": [
    {
     "data": {
      "text/html": [
       "<div>\n",
       "<style scoped>\n",
       "    .dataframe tbody tr th:only-of-type {\n",
       "        vertical-align: middle;\n",
       "    }\n",
       "\n",
       "    .dataframe tbody tr th {\n",
       "        vertical-align: top;\n",
       "    }\n",
       "\n",
       "    .dataframe thead th {\n",
       "        text-align: right;\n",
       "    }\n",
       "</style>\n",
       "<table border=\"1\" class=\"dataframe\">\n",
       "  <thead>\n",
       "    <tr style=\"text-align: right;\">\n",
       "      <th></th>\n",
       "      <th>A</th>\n",
       "      <th>B</th>\n",
       "      <th>C</th>\n",
       "    </tr>\n",
       "  </thead>\n",
       "  <tbody>\n",
       "    <tr>\n",
       "      <th>count</th>\n",
       "      <td>3.000000</td>\n",
       "      <td>3.00</td>\n",
       "      <td>2.000000</td>\n",
       "    </tr>\n",
       "    <tr>\n",
       "      <th>mean</th>\n",
       "      <td>1.280000</td>\n",
       "      <td>1.20</td>\n",
       "      <td>0.050000</td>\n",
       "    </tr>\n",
       "    <tr>\n",
       "      <th>std</th>\n",
       "      <td>1.009554</td>\n",
       "      <td>4.30</td>\n",
       "      <td>5.868986</td>\n",
       "    </tr>\n",
       "    <tr>\n",
       "      <th>min</th>\n",
       "      <td>0.440000</td>\n",
       "      <td>-3.10</td>\n",
       "      <td>-4.100000</td>\n",
       "    </tr>\n",
       "    <tr>\n",
       "      <th>25%</th>\n",
       "      <td>0.720000</td>\n",
       "      <td>-0.95</td>\n",
       "      <td>-2.025000</td>\n",
       "    </tr>\n",
       "    <tr>\n",
       "      <th>50%</th>\n",
       "      <td>1.000000</td>\n",
       "      <td>1.20</td>\n",
       "      <td>0.050000</td>\n",
       "    </tr>\n",
       "    <tr>\n",
       "      <th>75%</th>\n",
       "      <td>1.700000</td>\n",
       "      <td>3.35</td>\n",
       "      <td>2.125000</td>\n",
       "    </tr>\n",
       "    <tr>\n",
       "      <th>max</th>\n",
       "      <td>2.400000</td>\n",
       "      <td>5.50</td>\n",
       "      <td>4.200000</td>\n",
       "    </tr>\n",
       "  </tbody>\n",
       "</table>\n",
       "</div>"
      ],
      "text/plain": [
       "              A     B         C\n",
       "count  3.000000  3.00  2.000000\n",
       "mean   1.280000  1.20  0.050000\n",
       "std    1.009554  4.30  5.868986\n",
       "min    0.440000 -3.10 -4.100000\n",
       "25%    0.720000 -0.95 -2.025000\n",
       "50%    1.000000  1.20  0.050000\n",
       "75%    1.700000  3.35  2.125000\n",
       "max    2.400000  5.50  4.200000"
      ]
     },
     "execution_count": 254,
     "metadata": {},
     "output_type": "execute_result"
    }
   ],
   "source": [
    "df.describe()"
   ]
  },
  {
   "cell_type": "code",
   "execution_count": 255,
   "metadata": {
    "id": "M9mBVcqmZ-K_"
   },
   "outputs": [
    {
     "name": "stdout",
     "output_type": "stream",
     "text": [
      "      A    B    C\n",
      "1  1.00  1.2  NaN\n",
      "2  2.40  5.5  4.2\n",
      "3   NaN  NaN  NaN\n",
      "4  0.44 -3.1 -4.1\n",
      "2 2\n"
     ]
    }
   ],
   "source": [
    "print(df)\n",
    "print(np.argmin(df), np.argmax(df))"
   ]
  },
  {
   "cell_type": "code",
   "execution_count": 256,
   "metadata": {
    "id": "i65nWUsJa2p1"
   },
   "outputs": [
    {
     "name": "stdout",
     "output_type": "stream",
     "text": [
      "      A    B    C\n",
      "1  1.00  1.2  NaN\n",
      "2  2.40  5.5  4.2\n",
      "3   NaN  NaN  NaN\n",
      "4  0.44 -3.1 -4.1\n",
      "A    4\n",
      "B    4\n",
      "C    4\n",
      "dtype: int64\n",
      "A    2\n",
      "B    2\n",
      "C    2\n",
      "dtype: int64\n"
     ]
    }
   ],
   "source": [
    "print(df)\n",
    "print(df.idxmin())\n",
    "print(df.idxmax())"
   ]
  },
  {
   "cell_type": "code",
   "execution_count": 258,
   "metadata": {
    "id": "jqs9rYXAd-Kn"
   },
   "outputs": [
    {
     "name": "stdout",
     "output_type": "stream",
     "text": [
      "      A    B    C\n",
      "1  1.00  1.2  NaN\n",
      "2  2.40  5.5  4.2\n",
      "3   NaN  NaN  NaN\n",
      "4  0.44 -3.1 -4.1\n",
      "A    1.009554\n",
      "B    4.300000\n",
      "C    5.868986\n",
      "dtype: float64\n",
      "A     1.0192\n",
      "B    18.4900\n",
      "C    34.4450\n",
      "dtype: float64\n"
     ]
    }
   ],
   "source": [
    "print(df)\n",
    "print(df.std())\n",
    "print(df.var())"
   ]
  },
  {
   "cell_type": "code",
   "execution_count": 259,
   "metadata": {
    "id": "gYIy8wF7eNth"
   },
   "outputs": [
    {
     "name": "stdout",
     "output_type": "stream",
     "text": [
      "      A    B    C\n",
      "1  1.00  1.2  NaN\n",
      "2  2.40  5.5  4.2\n",
      "3   NaN  NaN  NaN\n",
      "4  0.44 -3.1 -4.1\n",
      "A    1.15207\n",
      "B    0.00000\n",
      "C        NaN\n",
      "dtype: float64\n",
      "A   NaN\n",
      "B   NaN\n",
      "C   NaN\n",
      "dtype: float64\n"
     ]
    }
   ],
   "source": [
    "print(df)\n",
    "print(df.skew())\n",
    "print(df.kurt())"
   ]
  },
  {
   "cell_type": "code",
   "execution_count": 260,
   "metadata": {
    "id": "IYZJFuMte3Jb"
   },
   "outputs": [
    {
     "name": "stdout",
     "output_type": "stream",
     "text": [
      "      A    B    C\n",
      "1  1.00  1.2  NaN\n",
      "2  2.40  5.5  4.2\n",
      "3   NaN  NaN  NaN\n",
      "4  0.44 -3.1 -4.1\n",
      "A    3.84\n",
      "B    3.60\n",
      "C    0.10\n",
      "dtype: float64\n",
      "      A    B    C\n",
      "1  1.00  1.2  NaN\n",
      "2  3.40  6.7  4.2\n",
      "3   NaN  NaN  NaN\n",
      "4  3.84  3.6  0.1\n"
     ]
    }
   ],
   "source": [
    "print(df)\n",
    "print(df.sum())\n",
    "print(df.cumsum())"
   ]
  },
  {
   "cell_type": "code",
   "execution_count": 261,
   "metadata": {
    "id": "zeo4laoDfARh"
   },
   "outputs": [
    {
     "name": "stdout",
     "output_type": "stream",
     "text": [
      "      A    B    C\n",
      "1  1.00  1.2  NaN\n",
      "2  2.40  5.5  4.2\n",
      "3   NaN  NaN  NaN\n",
      "4  0.44 -3.1 -4.1\n",
      "A     1.056\n",
      "B   -20.460\n",
      "C   -17.220\n",
      "dtype: float64\n",
      "       A      B      C\n",
      "1  1.000   1.20    NaN\n",
      "2  2.400   6.60   4.20\n",
      "3    NaN    NaN    NaN\n",
      "4  1.056 -20.46 -17.22\n"
     ]
    }
   ],
   "source": [
    "print(df)\n",
    "print(df.prod())\n",
    "print(df.cumprod())"
   ]
  },
  {
   "cell_type": "code",
   "execution_count": 262,
   "metadata": {
    "id": "uO8VFmO3mku9"
   },
   "outputs": [
    {
     "data": {
      "text/html": [
       "<div>\n",
       "<style scoped>\n",
       "    .dataframe tbody tr th:only-of-type {\n",
       "        vertical-align: middle;\n",
       "    }\n",
       "\n",
       "    .dataframe tbody tr th {\n",
       "        vertical-align: top;\n",
       "    }\n",
       "\n",
       "    .dataframe thead th {\n",
       "        text-align: right;\n",
       "    }\n",
       "</style>\n",
       "<table border=\"1\" class=\"dataframe\">\n",
       "  <thead>\n",
       "    <tr style=\"text-align: right;\">\n",
       "      <th></th>\n",
       "      <th>A</th>\n",
       "      <th>B</th>\n",
       "      <th>C</th>\n",
       "    </tr>\n",
       "  </thead>\n",
       "  <tbody>\n",
       "    <tr>\n",
       "      <th>1</th>\n",
       "      <td>NaN</td>\n",
       "      <td>NaN</td>\n",
       "      <td>NaN</td>\n",
       "    </tr>\n",
       "    <tr>\n",
       "      <th>2</th>\n",
       "      <td>1.4</td>\n",
       "      <td>4.3</td>\n",
       "      <td>NaN</td>\n",
       "    </tr>\n",
       "    <tr>\n",
       "      <th>3</th>\n",
       "      <td>NaN</td>\n",
       "      <td>NaN</td>\n",
       "      <td>NaN</td>\n",
       "    </tr>\n",
       "    <tr>\n",
       "      <th>4</th>\n",
       "      <td>NaN</td>\n",
       "      <td>NaN</td>\n",
       "      <td>NaN</td>\n",
       "    </tr>\n",
       "  </tbody>\n",
       "</table>\n",
       "</div>"
      ],
      "text/plain": [
       "     A    B   C\n",
       "1  NaN  NaN NaN\n",
       "2  1.4  4.3 NaN\n",
       "3  NaN  NaN NaN\n",
       "4  NaN  NaN NaN"
      ]
     },
     "execution_count": 262,
     "metadata": {},
     "output_type": "execute_result"
    }
   ],
   "source": [
    "df.diff()"
   ]
  },
  {
   "cell_type": "code",
   "execution_count": 263,
   "metadata": {
    "id": "TfgY7dimneBl"
   },
   "outputs": [
    {
     "data": {
      "text/plain": [
       "A    1.00\n",
       "B    1.20\n",
       "C    0.05\n",
       "Name: 0.5, dtype: float64"
      ]
     },
     "execution_count": 263,
     "metadata": {},
     "output_type": "execute_result"
    }
   ],
   "source": [
    "df.quantile()"
   ]
  },
  {
   "cell_type": "code",
   "execution_count": 264,
   "metadata": {
    "id": "dF_MpNjypa2z"
   },
   "outputs": [
    {
     "data": {
      "text/html": [
       "<div>\n",
       "<style scoped>\n",
       "    .dataframe tbody tr th:only-of-type {\n",
       "        vertical-align: middle;\n",
       "    }\n",
       "\n",
       "    .dataframe tbody tr th {\n",
       "        vertical-align: top;\n",
       "    }\n",
       "\n",
       "    .dataframe thead th {\n",
       "        text-align: right;\n",
       "    }\n",
       "</style>\n",
       "<table border=\"1\" class=\"dataframe\">\n",
       "  <thead>\n",
       "    <tr style=\"text-align: right;\">\n",
       "      <th></th>\n",
       "      <th>A</th>\n",
       "      <th>B</th>\n",
       "      <th>C</th>\n",
       "    </tr>\n",
       "  </thead>\n",
       "  <tbody>\n",
       "    <tr>\n",
       "      <th>1</th>\n",
       "      <td>NaN</td>\n",
       "      <td>NaN</td>\n",
       "      <td>NaN</td>\n",
       "    </tr>\n",
       "    <tr>\n",
       "      <th>2</th>\n",
       "      <td>1.400000</td>\n",
       "      <td>3.583333</td>\n",
       "      <td>NaN</td>\n",
       "    </tr>\n",
       "    <tr>\n",
       "      <th>3</th>\n",
       "      <td>0.000000</td>\n",
       "      <td>0.000000</td>\n",
       "      <td>0.00000</td>\n",
       "    </tr>\n",
       "    <tr>\n",
       "      <th>4</th>\n",
       "      <td>-0.816667</td>\n",
       "      <td>-1.563636</td>\n",
       "      <td>-1.97619</td>\n",
       "    </tr>\n",
       "  </tbody>\n",
       "</table>\n",
       "</div>"
      ],
      "text/plain": [
       "          A         B        C\n",
       "1       NaN       NaN      NaN\n",
       "2  1.400000  3.583333      NaN\n",
       "3  0.000000  0.000000  0.00000\n",
       "4 -0.816667 -1.563636 -1.97619"
      ]
     },
     "execution_count": 264,
     "metadata": {},
     "output_type": "execute_result"
    }
   ],
   "source": [
    "df.pct_change()"
   ]
  },
  {
   "cell_type": "code",
   "execution_count": 265,
   "metadata": {
    "id": "oE-GXjRSpN3-"
   },
   "outputs": [
    {
     "data": {
      "text/html": [
       "<div>\n",
       "<style scoped>\n",
       "    .dataframe tbody tr th:only-of-type {\n",
       "        vertical-align: middle;\n",
       "    }\n",
       "\n",
       "    .dataframe tbody tr th {\n",
       "        vertical-align: top;\n",
       "    }\n",
       "\n",
       "    .dataframe thead th {\n",
       "        text-align: right;\n",
       "    }\n",
       "</style>\n",
       "<table border=\"1\" class=\"dataframe\">\n",
       "  <thead>\n",
       "    <tr style=\"text-align: right;\">\n",
       "      <th></th>\n",
       "      <th>A</th>\n",
       "      <th>B</th>\n",
       "      <th>C</th>\n",
       "    </tr>\n",
       "  </thead>\n",
       "  <tbody>\n",
       "    <tr>\n",
       "      <th>A</th>\n",
       "      <td>1.000000</td>\n",
       "      <td>0.970725</td>\n",
       "      <td>1.0</td>\n",
       "    </tr>\n",
       "    <tr>\n",
       "      <th>B</th>\n",
       "      <td>0.970725</td>\n",
       "      <td>1.000000</td>\n",
       "      <td>1.0</td>\n",
       "    </tr>\n",
       "    <tr>\n",
       "      <th>C</th>\n",
       "      <td>1.000000</td>\n",
       "      <td>1.000000</td>\n",
       "      <td>1.0</td>\n",
       "    </tr>\n",
       "  </tbody>\n",
       "</table>\n",
       "</div>"
      ],
      "text/plain": [
       "          A         B    C\n",
       "A  1.000000  0.970725  1.0\n",
       "B  0.970725  1.000000  1.0\n",
       "C  1.000000  1.000000  1.0"
      ]
     },
     "execution_count": 265,
     "metadata": {},
     "output_type": "execute_result"
    }
   ],
   "source": [
    "df.corr()"
   ]
  },
  {
   "cell_type": "code",
   "execution_count": 266,
   "metadata": {
    "id": "NYkglCVFqZbI"
   },
   "outputs": [
    {
     "data": {
      "text/plain": [
       "A    0.970725\n",
       "B    1.000000\n",
       "C    1.000000\n",
       "dtype: float64"
      ]
     },
     "execution_count": 266,
     "metadata": {},
     "output_type": "execute_result"
    }
   ],
   "source": [
    "df.corrwith(df.B)"
   ]
  },
  {
   "cell_type": "code",
   "execution_count": 267,
   "metadata": {
    "id": "reK3YKyVpTh-"
   },
   "outputs": [
    {
     "data": {
      "text/html": [
       "<div>\n",
       "<style scoped>\n",
       "    .dataframe tbody tr th:only-of-type {\n",
       "        vertical-align: middle;\n",
       "    }\n",
       "\n",
       "    .dataframe tbody tr th {\n",
       "        vertical-align: top;\n",
       "    }\n",
       "\n",
       "    .dataframe thead th {\n",
       "        text-align: right;\n",
       "    }\n",
       "</style>\n",
       "<table border=\"1\" class=\"dataframe\">\n",
       "  <thead>\n",
       "    <tr style=\"text-align: right;\">\n",
       "      <th></th>\n",
       "      <th>A</th>\n",
       "      <th>B</th>\n",
       "      <th>C</th>\n",
       "    </tr>\n",
       "  </thead>\n",
       "  <tbody>\n",
       "    <tr>\n",
       "      <th>A</th>\n",
       "      <td>1.0192</td>\n",
       "      <td>4.214</td>\n",
       "      <td>8.134</td>\n",
       "    </tr>\n",
       "    <tr>\n",
       "      <th>B</th>\n",
       "      <td>4.2140</td>\n",
       "      <td>18.490</td>\n",
       "      <td>35.690</td>\n",
       "    </tr>\n",
       "    <tr>\n",
       "      <th>C</th>\n",
       "      <td>8.1340</td>\n",
       "      <td>35.690</td>\n",
       "      <td>34.445</td>\n",
       "    </tr>\n",
       "  </tbody>\n",
       "</table>\n",
       "</div>"
      ],
      "text/plain": [
       "        A       B       C\n",
       "A  1.0192   4.214   8.134\n",
       "B  4.2140  18.490  35.690\n",
       "C  8.1340  35.690  34.445"
      ]
     },
     "execution_count": 267,
     "metadata": {},
     "output_type": "execute_result"
    }
   ],
   "source": [
    "df.cov()"
   ]
  },
  {
   "cell_type": "code",
   "execution_count": 268,
   "metadata": {
    "id": "NYmiwnWmqmOE"
   },
   "outputs": [
    {
     "data": {
      "text/plain": [
       "array([ 1.2,  5.5,  nan, -3.1])"
      ]
     },
     "execution_count": 268,
     "metadata": {},
     "output_type": "execute_result"
    }
   ],
   "source": [
    "df['B'].unique()"
   ]
  },
  {
   "cell_type": "code",
   "execution_count": 269,
   "metadata": {
    "id": "uzOEBqYAq0bf"
   },
   "outputs": [
    {
     "data": {
      "text/plain": [
       "2.40    1\n",
       "0.44    1\n",
       "1.00    1\n",
       "Name: A, dtype: int64"
      ]
     },
     "execution_count": 269,
     "metadata": {},
     "output_type": "execute_result"
    }
   ],
   "source": [
    "df['A'].value_counts()"
   ]
  },
  {
   "cell_type": "markdown",
   "metadata": {
    "id": "iVaTvBns27tS"
   },
   "source": [
    "### GroupBy 연산"
   ]
  },
  {
   "cell_type": "code",
   "execution_count": 3,
   "metadata": {
    "id": "yOTrmBm58Wwm"
   },
   "outputs": [
    {
     "data": {
      "text/html": [
       "<div>\n",
       "<style scoped>\n",
       "    .dataframe tbody tr th:only-of-type {\n",
       "        vertical-align: middle;\n",
       "    }\n",
       "\n",
       "    .dataframe tbody tr th {\n",
       "        vertical-align: top;\n",
       "    }\n",
       "\n",
       "    .dataframe thead th {\n",
       "        text-align: right;\n",
       "    }\n",
       "</style>\n",
       "<table border=\"1\" class=\"dataframe\">\n",
       "  <thead>\n",
       "    <tr style=\"text-align: right;\">\n",
       "      <th></th>\n",
       "      <th>c1</th>\n",
       "      <th>c2</th>\n",
       "      <th>c3</th>\n",
       "      <th>c4</th>\n",
       "    </tr>\n",
       "  </thead>\n",
       "  <tbody>\n",
       "    <tr>\n",
       "      <th>0</th>\n",
       "      <td>a</td>\n",
       "      <td>A</td>\n",
       "      <td>3</td>\n",
       "      <td>0.674265</td>\n",
       "    </tr>\n",
       "    <tr>\n",
       "      <th>1</th>\n",
       "      <td>a</td>\n",
       "      <td>B</td>\n",
       "      <td>3</td>\n",
       "      <td>0.207306</td>\n",
       "    </tr>\n",
       "    <tr>\n",
       "      <th>2</th>\n",
       "      <td>b</td>\n",
       "      <td>B</td>\n",
       "      <td>3</td>\n",
       "      <td>0.944438</td>\n",
       "    </tr>\n",
       "    <tr>\n",
       "      <th>3</th>\n",
       "      <td>b</td>\n",
       "      <td>A</td>\n",
       "      <td>3</td>\n",
       "      <td>0.490856</td>\n",
       "    </tr>\n",
       "    <tr>\n",
       "      <th>4</th>\n",
       "      <td>c</td>\n",
       "      <td>D</td>\n",
       "      <td>3</td>\n",
       "      <td>0.378876</td>\n",
       "    </tr>\n",
       "    <tr>\n",
       "      <th>5</th>\n",
       "      <td>d</td>\n",
       "      <td>C</td>\n",
       "      <td>3</td>\n",
       "      <td>0.655246</td>\n",
       "    </tr>\n",
       "    <tr>\n",
       "      <th>6</th>\n",
       "      <td>b</td>\n",
       "      <td>C</td>\n",
       "      <td>3</td>\n",
       "      <td>0.839020</td>\n",
       "    </tr>\n",
       "  </tbody>\n",
       "</table>\n",
       "</div>"
      ],
      "text/plain": [
       "  c1 c2  c3        c4\n",
       "0  a  A   3  0.674265\n",
       "1  a  B   3  0.207306\n",
       "2  b  B   3  0.944438\n",
       "3  b  A   3  0.490856\n",
       "4  c  D   3  0.378876\n",
       "5  d  C   3  0.655246\n",
       "6  b  C   3  0.839020"
      ]
     },
     "execution_count": 3,
     "metadata": {},
     "output_type": "execute_result"
    }
   ],
   "source": [
    "df = pd.DataFrame({'c1' : ['a', 'a', 'b', 'b', 'c', 'd', 'b'],\n",
    "                  'c2' : ['A', 'B', 'B', 'A', 'D', 'C', 'C'],\n",
    "                  'c3' : np.random.randint(7),\n",
    "                  'c4' : np.random.random(7)})\n",
    "df"
   ]
  },
  {
   "cell_type": "code",
   "execution_count": 4,
   "metadata": {
    "id": "8NNZKuIzXKFD"
   },
   "outputs": [
    {
     "data": {
      "text/plain": [
       "c1     object\n",
       "c2     object\n",
       "c3      int64\n",
       "c4    float64\n",
       "dtype: object"
      ]
     },
     "execution_count": 4,
     "metadata": {},
     "output_type": "execute_result"
    }
   ],
   "source": [
    "df.dtypes"
   ]
  },
  {
   "cell_type": "code",
   "execution_count": 5,
   "metadata": {
    "id": "YyL-IgRFJwPE"
   },
   "outputs": [
    {
     "data": {
      "text/plain": [
       "c1\n",
       "a    3\n",
       "b    3\n",
       "c    3\n",
       "d    3\n",
       "Name: c3, dtype: int64"
      ]
     },
     "execution_count": 5,
     "metadata": {},
     "output_type": "execute_result"
    }
   ],
   "source": [
    "df['c3'].groupby(df['c1']).mean()"
   ]
  },
  {
   "cell_type": "code",
   "execution_count": 6,
   "metadata": {
    "id": "5Jkhs5U-OMSE"
   },
   "outputs": [
    {
     "data": {
      "text/plain": [
       "c2\n",
       "A    0.129690\n",
       "B    0.521230\n",
       "C    0.129947\n",
       "D         NaN\n",
       "Name: c4, dtype: float64"
      ]
     },
     "execution_count": 6,
     "metadata": {},
     "output_type": "execute_result"
    }
   ],
   "source": [
    "df['c4'].groupby(df['c2']).std()"
   ]
  },
  {
   "cell_type": "code",
   "execution_count": 8,
   "metadata": {
    "id": "WpDjcHLtOSto"
   },
   "outputs": [
    {
     "data": {
      "text/plain": [
       "c1  c2\n",
       "a   A     0.674265\n",
       "    B     0.207306\n",
       "b   A     0.490856\n",
       "    B     0.944438\n",
       "    C     0.839020\n",
       "c   D     0.378876\n",
       "d   C     0.655246\n",
       "Name: c4, dtype: float64"
      ]
     },
     "execution_count": 8,
     "metadata": {},
     "output_type": "execute_result"
    }
   ],
   "source": [
    "df['c4'].groupby([df['c1'], df['c2']]).mean()"
   ]
  },
  {
   "cell_type": "code",
   "execution_count": 9,
   "metadata": {
    "id": "l4CCXC_jOkac"
   },
   "outputs": [
    {
     "data": {
      "text/html": [
       "<div>\n",
       "<style scoped>\n",
       "    .dataframe tbody tr th:only-of-type {\n",
       "        vertical-align: middle;\n",
       "    }\n",
       "\n",
       "    .dataframe tbody tr th {\n",
       "        vertical-align: top;\n",
       "    }\n",
       "\n",
       "    .dataframe thead th {\n",
       "        text-align: right;\n",
       "    }\n",
       "</style>\n",
       "<table border=\"1\" class=\"dataframe\">\n",
       "  <thead>\n",
       "    <tr style=\"text-align: right;\">\n",
       "      <th>c2</th>\n",
       "      <th>A</th>\n",
       "      <th>B</th>\n",
       "      <th>C</th>\n",
       "      <th>D</th>\n",
       "    </tr>\n",
       "    <tr>\n",
       "      <th>c1</th>\n",
       "      <th></th>\n",
       "      <th></th>\n",
       "      <th></th>\n",
       "      <th></th>\n",
       "    </tr>\n",
       "  </thead>\n",
       "  <tbody>\n",
       "    <tr>\n",
       "      <th>a</th>\n",
       "      <td>0.674265</td>\n",
       "      <td>0.207306</td>\n",
       "      <td>NaN</td>\n",
       "      <td>NaN</td>\n",
       "    </tr>\n",
       "    <tr>\n",
       "      <th>b</th>\n",
       "      <td>0.490856</td>\n",
       "      <td>0.944438</td>\n",
       "      <td>0.839020</td>\n",
       "      <td>NaN</td>\n",
       "    </tr>\n",
       "    <tr>\n",
       "      <th>c</th>\n",
       "      <td>NaN</td>\n",
       "      <td>NaN</td>\n",
       "      <td>NaN</td>\n",
       "      <td>0.378876</td>\n",
       "    </tr>\n",
       "    <tr>\n",
       "      <th>d</th>\n",
       "      <td>NaN</td>\n",
       "      <td>NaN</td>\n",
       "      <td>0.655246</td>\n",
       "      <td>NaN</td>\n",
       "    </tr>\n",
       "  </tbody>\n",
       "</table>\n",
       "</div>"
      ],
      "text/plain": [
       "c2         A         B         C         D\n",
       "c1                                        \n",
       "a   0.674265  0.207306       NaN       NaN\n",
       "b   0.490856  0.944438  0.839020       NaN\n",
       "c        NaN       NaN       NaN  0.378876\n",
       "d        NaN       NaN  0.655246       NaN"
      ]
     },
     "execution_count": 9,
     "metadata": {},
     "output_type": "execute_result"
    }
   ],
   "source": [
    "df['c4'].groupby([df['c1'], df['c2']]).mean().unstack()"
   ]
  },
  {
   "cell_type": "code",
   "execution_count": 10,
   "metadata": {
    "id": "v4t_XjXWROgc"
   },
   "outputs": [
    {
     "data": {
      "text/html": [
       "<div>\n",
       "<style scoped>\n",
       "    .dataframe tbody tr th:only-of-type {\n",
       "        vertical-align: middle;\n",
       "    }\n",
       "\n",
       "    .dataframe tbody tr th {\n",
       "        vertical-align: top;\n",
       "    }\n",
       "\n",
       "    .dataframe thead th {\n",
       "        text-align: right;\n",
       "    }\n",
       "</style>\n",
       "<table border=\"1\" class=\"dataframe\">\n",
       "  <thead>\n",
       "    <tr style=\"text-align: right;\">\n",
       "      <th></th>\n",
       "      <th>c3</th>\n",
       "      <th>c4</th>\n",
       "    </tr>\n",
       "    <tr>\n",
       "      <th>c1</th>\n",
       "      <th></th>\n",
       "      <th></th>\n",
       "    </tr>\n",
       "  </thead>\n",
       "  <tbody>\n",
       "    <tr>\n",
       "      <th>a</th>\n",
       "      <td>3</td>\n",
       "      <td>0.440786</td>\n",
       "    </tr>\n",
       "    <tr>\n",
       "      <th>b</th>\n",
       "      <td>3</td>\n",
       "      <td>0.758104</td>\n",
       "    </tr>\n",
       "    <tr>\n",
       "      <th>c</th>\n",
       "      <td>3</td>\n",
       "      <td>0.378876</td>\n",
       "    </tr>\n",
       "    <tr>\n",
       "      <th>d</th>\n",
       "      <td>3</td>\n",
       "      <td>0.655246</td>\n",
       "    </tr>\n",
       "  </tbody>\n",
       "</table>\n",
       "</div>"
      ],
      "text/plain": [
       "    c3        c4\n",
       "c1              \n",
       "a    3  0.440786\n",
       "b    3  0.758104\n",
       "c    3  0.378876\n",
       "d    3  0.655246"
      ]
     },
     "execution_count": 10,
     "metadata": {},
     "output_type": "execute_result"
    }
   ],
   "source": [
    "df.groupby('c1').mean()"
   ]
  },
  {
   "cell_type": "code",
   "execution_count": 11,
   "metadata": {
    "id": "WrFg05U5RXE6"
   },
   "outputs": [
    {
     "data": {
      "text/html": [
       "<div>\n",
       "<style scoped>\n",
       "    .dataframe tbody tr th:only-of-type {\n",
       "        vertical-align: middle;\n",
       "    }\n",
       "\n",
       "    .dataframe tbody tr th {\n",
       "        vertical-align: top;\n",
       "    }\n",
       "\n",
       "    .dataframe thead th {\n",
       "        text-align: right;\n",
       "    }\n",
       "</style>\n",
       "<table border=\"1\" class=\"dataframe\">\n",
       "  <thead>\n",
       "    <tr style=\"text-align: right;\">\n",
       "      <th></th>\n",
       "      <th></th>\n",
       "      <th>c3</th>\n",
       "      <th>c4</th>\n",
       "    </tr>\n",
       "    <tr>\n",
       "      <th>c1</th>\n",
       "      <th>c2</th>\n",
       "      <th></th>\n",
       "      <th></th>\n",
       "    </tr>\n",
       "  </thead>\n",
       "  <tbody>\n",
       "    <tr>\n",
       "      <th rowspan=\"2\" valign=\"top\">a</th>\n",
       "      <th>A</th>\n",
       "      <td>3</td>\n",
       "      <td>0.674265</td>\n",
       "    </tr>\n",
       "    <tr>\n",
       "      <th>B</th>\n",
       "      <td>3</td>\n",
       "      <td>0.207306</td>\n",
       "    </tr>\n",
       "    <tr>\n",
       "      <th rowspan=\"3\" valign=\"top\">b</th>\n",
       "      <th>A</th>\n",
       "      <td>3</td>\n",
       "      <td>0.490856</td>\n",
       "    </tr>\n",
       "    <tr>\n",
       "      <th>B</th>\n",
       "      <td>3</td>\n",
       "      <td>0.944438</td>\n",
       "    </tr>\n",
       "    <tr>\n",
       "      <th>C</th>\n",
       "      <td>3</td>\n",
       "      <td>0.839020</td>\n",
       "    </tr>\n",
       "    <tr>\n",
       "      <th>c</th>\n",
       "      <th>D</th>\n",
       "      <td>3</td>\n",
       "      <td>0.378876</td>\n",
       "    </tr>\n",
       "    <tr>\n",
       "      <th>d</th>\n",
       "      <th>C</th>\n",
       "      <td>3</td>\n",
       "      <td>0.655246</td>\n",
       "    </tr>\n",
       "  </tbody>\n",
       "</table>\n",
       "</div>"
      ],
      "text/plain": [
       "       c3        c4\n",
       "c1 c2              \n",
       "a  A    3  0.674265\n",
       "   B    3  0.207306\n",
       "b  A    3  0.490856\n",
       "   B    3  0.944438\n",
       "   C    3  0.839020\n",
       "c  D    3  0.378876\n",
       "d  C    3  0.655246"
      ]
     },
     "execution_count": 11,
     "metadata": {},
     "output_type": "execute_result"
    }
   ],
   "source": [
    "df.groupby(['c1', 'c2']).mean()"
   ]
  },
  {
   "cell_type": "code",
   "execution_count": 12,
   "metadata": {
    "id": "Oj5diRr-Rh3Y"
   },
   "outputs": [
    {
     "data": {
      "text/plain": [
       "c1  c2\n",
       "a   A     1\n",
       "    B     1\n",
       "b   A     1\n",
       "    B     1\n",
       "    C     1\n",
       "c   D     1\n",
       "d   C     1\n",
       "dtype: int64"
      ]
     },
     "execution_count": 12,
     "metadata": {},
     "output_type": "execute_result"
    }
   ],
   "source": [
    "df.groupby(['c1', 'c2']).size()"
   ]
  },
  {
   "cell_type": "code",
   "execution_count": 13,
   "metadata": {
    "id": "drwoM9kNViu9"
   },
   "outputs": [
    {
     "name": "stdout",
     "output_type": "stream",
     "text": [
      "a\n",
      "  c1 c2  c3        c4\n",
      "0  a  A   3  0.674265\n",
      "1  a  B   3  0.207306\n",
      "b\n",
      "  c1 c2  c3        c4\n",
      "2  b  B   3  0.944438\n",
      "3  b  A   3  0.490856\n",
      "6  b  C   3  0.839020\n",
      "c\n",
      "  c1 c2  c3        c4\n",
      "4  c  D   3  0.378876\n",
      "d\n",
      "  c1 c2  c3        c4\n",
      "5  d  C   3  0.655246\n"
     ]
    }
   ],
   "source": [
    "for c1, group in df.groupby('c1'):\n",
    "    print(c1)\n",
    "    print(group)"
   ]
  },
  {
   "cell_type": "code",
   "execution_count": 14,
   "metadata": {
    "id": "TYDUCgdCWQW7"
   },
   "outputs": [
    {
     "name": "stdout",
     "output_type": "stream",
     "text": [
      "('a', 'A')\n",
      "  c1 c2  c3        c4\n",
      "0  a  A   3  0.674265\n",
      "('a', 'B')\n",
      "  c1 c2  c3        c4\n",
      "1  a  B   3  0.207306\n",
      "('b', 'A')\n",
      "  c1 c2  c3        c4\n",
      "3  b  A   3  0.490856\n",
      "('b', 'B')\n",
      "  c1 c2  c3        c4\n",
      "2  b  B   3  0.944438\n",
      "('b', 'C')\n",
      "  c1 c2  c3       c4\n",
      "6  b  C   3  0.83902\n",
      "('c', 'D')\n",
      "  c1 c2  c3        c4\n",
      "4  c  D   3  0.378876\n",
      "('d', 'C')\n",
      "  c1 c2  c3        c4\n",
      "5  d  C   3  0.655246\n"
     ]
    }
   ],
   "source": [
    "for (c1, c2), group in df.groupby(['c1', 'c2']):\n",
    "    print((c1, c2))\n",
    "    print(group)"
   ]
  },
  {
   "cell_type": "code",
   "execution_count": 16,
   "metadata": {
    "id": "gqqcpQx6XFPD"
   },
   "outputs": [
    {
     "data": {
      "text/html": [
       "<div>\n",
       "<style scoped>\n",
       "    .dataframe tbody tr th:only-of-type {\n",
       "        vertical-align: middle;\n",
       "    }\n",
       "\n",
       "    .dataframe tbody tr th {\n",
       "        vertical-align: top;\n",
       "    }\n",
       "\n",
       "    .dataframe thead th {\n",
       "        text-align: right;\n",
       "    }\n",
       "</style>\n",
       "<table border=\"1\" class=\"dataframe\">\n",
       "  <thead>\n",
       "    <tr style=\"text-align: right;\">\n",
       "      <th></th>\n",
       "      <th></th>\n",
       "      <th>c4</th>\n",
       "    </tr>\n",
       "    <tr>\n",
       "      <th>c1</th>\n",
       "      <th>c2</th>\n",
       "      <th></th>\n",
       "    </tr>\n",
       "  </thead>\n",
       "  <tbody>\n",
       "    <tr>\n",
       "      <th rowspan=\"2\" valign=\"top\">a</th>\n",
       "      <th>A</th>\n",
       "      <td>0.674265</td>\n",
       "    </tr>\n",
       "    <tr>\n",
       "      <th>B</th>\n",
       "      <td>0.207306</td>\n",
       "    </tr>\n",
       "    <tr>\n",
       "      <th rowspan=\"3\" valign=\"top\">b</th>\n",
       "      <th>A</th>\n",
       "      <td>0.490856</td>\n",
       "    </tr>\n",
       "    <tr>\n",
       "      <th>B</th>\n",
       "      <td>0.944438</td>\n",
       "    </tr>\n",
       "    <tr>\n",
       "      <th>C</th>\n",
       "      <td>0.839020</td>\n",
       "    </tr>\n",
       "    <tr>\n",
       "      <th>c</th>\n",
       "      <th>D</th>\n",
       "      <td>0.378876</td>\n",
       "    </tr>\n",
       "    <tr>\n",
       "      <th>d</th>\n",
       "      <th>C</th>\n",
       "      <td>0.655246</td>\n",
       "    </tr>\n",
       "  </tbody>\n",
       "</table>\n",
       "</div>"
      ],
      "text/plain": [
       "             c4\n",
       "c1 c2          \n",
       "a  A   0.674265\n",
       "   B   0.207306\n",
       "b  A   0.490856\n",
       "   B   0.944438\n",
       "   C   0.839020\n",
       "c  D   0.378876\n",
       "d  C   0.655246"
      ]
     },
     "execution_count": 16,
     "metadata": {},
     "output_type": "execute_result"
    }
   ],
   "source": [
    "df.groupby(['c1', 'c2'])[['c4']].mean()"
   ]
  },
  {
   "cell_type": "code",
   "execution_count": 18,
   "metadata": {
    "id": "d7gVpUPyYgKO"
   },
   "outputs": [
    {
     "data": {
      "text/plain": [
       "c1\n",
       "a    3.0\n",
       "b    3.0\n",
       "c    3.0\n",
       "d    3.0\n",
       "Name: c3, dtype: float64"
      ]
     },
     "execution_count": 18,
     "metadata": {},
     "output_type": "execute_result"
    }
   ],
   "source": [
    "df.groupby('c1')['c3'].quantile()"
   ]
  },
  {
   "cell_type": "code",
   "execution_count": 19,
   "metadata": {
    "id": "mS0V6sfQZyQv"
   },
   "outputs": [
    {
     "data": {
      "text/plain": [
       "c1\n",
       "a    3\n",
       "b    3\n",
       "c    3\n",
       "d    3\n",
       "Name: c3, dtype: int64"
      ]
     },
     "execution_count": 19,
     "metadata": {},
     "output_type": "execute_result"
    }
   ],
   "source": [
    "df.groupby('c1')['c3'].median()"
   ]
  },
  {
   "cell_type": "code",
   "execution_count": 20,
   "metadata": {
    "id": "bEv1Yx3dZ2kO"
   },
   "outputs": [
    {
     "data": {
      "text/plain": [
       "c1\n",
       "a    0.0\n",
       "b    0.0\n",
       "c    NaN\n",
       "d    NaN\n",
       "Name: c3, dtype: float64"
      ]
     },
     "execution_count": 20,
     "metadata": {},
     "output_type": "execute_result"
    }
   ],
   "source": [
    "df.groupby('c1')['c3'].std()"
   ]
  },
  {
   "cell_type": "code",
   "execution_count": 22,
   "metadata": {
    "id": "jsZefMocZ58d"
   },
   "outputs": [
    {
     "data": {
      "text/html": [
       "<div>\n",
       "<style scoped>\n",
       "    .dataframe tbody tr th:only-of-type {\n",
       "        vertical-align: middle;\n",
       "    }\n",
       "\n",
       "    .dataframe tbody tr th {\n",
       "        vertical-align: top;\n",
       "    }\n",
       "\n",
       "    .dataframe thead th {\n",
       "        text-align: right;\n",
       "    }\n",
       "</style>\n",
       "<table border=\"1\" class=\"dataframe\">\n",
       "  <thead>\n",
       "    <tr style=\"text-align: right;\">\n",
       "      <th></th>\n",
       "      <th></th>\n",
       "      <th>mean</th>\n",
       "      <th>min</th>\n",
       "      <th>max</th>\n",
       "    </tr>\n",
       "    <tr>\n",
       "      <th>c1</th>\n",
       "      <th>c2</th>\n",
       "      <th></th>\n",
       "      <th></th>\n",
       "      <th></th>\n",
       "    </tr>\n",
       "  </thead>\n",
       "  <tbody>\n",
       "    <tr>\n",
       "      <th rowspan=\"2\" valign=\"top\">a</th>\n",
       "      <th>A</th>\n",
       "      <td>0.674265</td>\n",
       "      <td>0.674265</td>\n",
       "      <td>0.674265</td>\n",
       "    </tr>\n",
       "    <tr>\n",
       "      <th>B</th>\n",
       "      <td>0.207306</td>\n",
       "      <td>0.207306</td>\n",
       "      <td>0.207306</td>\n",
       "    </tr>\n",
       "    <tr>\n",
       "      <th rowspan=\"3\" valign=\"top\">b</th>\n",
       "      <th>A</th>\n",
       "      <td>0.490856</td>\n",
       "      <td>0.490856</td>\n",
       "      <td>0.490856</td>\n",
       "    </tr>\n",
       "    <tr>\n",
       "      <th>B</th>\n",
       "      <td>0.944438</td>\n",
       "      <td>0.944438</td>\n",
       "      <td>0.944438</td>\n",
       "    </tr>\n",
       "    <tr>\n",
       "      <th>C</th>\n",
       "      <td>0.839020</td>\n",
       "      <td>0.839020</td>\n",
       "      <td>0.839020</td>\n",
       "    </tr>\n",
       "    <tr>\n",
       "      <th>c</th>\n",
       "      <th>D</th>\n",
       "      <td>0.378876</td>\n",
       "      <td>0.378876</td>\n",
       "      <td>0.378876</td>\n",
       "    </tr>\n",
       "    <tr>\n",
       "      <th>d</th>\n",
       "      <th>C</th>\n",
       "      <td>0.655246</td>\n",
       "      <td>0.655246</td>\n",
       "      <td>0.655246</td>\n",
       "    </tr>\n",
       "  </tbody>\n",
       "</table>\n",
       "</div>"
      ],
      "text/plain": [
       "           mean       min       max\n",
       "c1 c2                              \n",
       "a  A   0.674265  0.674265  0.674265\n",
       "   B   0.207306  0.207306  0.207306\n",
       "b  A   0.490856  0.490856  0.490856\n",
       "   B   0.944438  0.944438  0.944438\n",
       "   C   0.839020  0.839020  0.839020\n",
       "c  D   0.378876  0.378876  0.378876\n",
       "d  C   0.655246  0.655246  0.655246"
      ]
     },
     "execution_count": 22,
     "metadata": {},
     "output_type": "execute_result"
    }
   ],
   "source": [
    "df.groupby(['c1', 'c2'])['c4'].agg(['mean', 'min', 'max'])"
   ]
  },
  {
   "cell_type": "code",
   "execution_count": 23,
   "metadata": {
    "id": "zDCS1WJUalpC"
   },
   "outputs": [
    {
     "data": {
      "text/html": [
       "<div>\n",
       "<style scoped>\n",
       "    .dataframe tbody tr th:only-of-type {\n",
       "        vertical-align: middle;\n",
       "    }\n",
       "\n",
       "    .dataframe tbody tr th {\n",
       "        vertical-align: top;\n",
       "    }\n",
       "\n",
       "    .dataframe thead th {\n",
       "        text-align: right;\n",
       "    }\n",
       "</style>\n",
       "<table border=\"1\" class=\"dataframe\">\n",
       "  <thead>\n",
       "    <tr style=\"text-align: right;\">\n",
       "      <th></th>\n",
       "      <th>c1</th>\n",
       "      <th>c2</th>\n",
       "      <th>c4</th>\n",
       "    </tr>\n",
       "  </thead>\n",
       "  <tbody>\n",
       "    <tr>\n",
       "      <th>0</th>\n",
       "      <td>a</td>\n",
       "      <td>A</td>\n",
       "      <td>0.674265</td>\n",
       "    </tr>\n",
       "    <tr>\n",
       "      <th>1</th>\n",
       "      <td>a</td>\n",
       "      <td>B</td>\n",
       "      <td>0.207306</td>\n",
       "    </tr>\n",
       "    <tr>\n",
       "      <th>2</th>\n",
       "      <td>b</td>\n",
       "      <td>A</td>\n",
       "      <td>0.490856</td>\n",
       "    </tr>\n",
       "    <tr>\n",
       "      <th>3</th>\n",
       "      <td>b</td>\n",
       "      <td>B</td>\n",
       "      <td>0.944438</td>\n",
       "    </tr>\n",
       "    <tr>\n",
       "      <th>4</th>\n",
       "      <td>b</td>\n",
       "      <td>C</td>\n",
       "      <td>0.839020</td>\n",
       "    </tr>\n",
       "    <tr>\n",
       "      <th>5</th>\n",
       "      <td>c</td>\n",
       "      <td>D</td>\n",
       "      <td>0.378876</td>\n",
       "    </tr>\n",
       "    <tr>\n",
       "      <th>6</th>\n",
       "      <td>d</td>\n",
       "      <td>C</td>\n",
       "      <td>0.655246</td>\n",
       "    </tr>\n",
       "  </tbody>\n",
       "</table>\n",
       "</div>"
      ],
      "text/plain": [
       "  c1 c2        c4\n",
       "0  a  A  0.674265\n",
       "1  a  B  0.207306\n",
       "2  b  A  0.490856\n",
       "3  b  B  0.944438\n",
       "4  b  C  0.839020\n",
       "5  c  D  0.378876\n",
       "6  d  C  0.655246"
      ]
     },
     "execution_count": 23,
     "metadata": {},
     "output_type": "execute_result"
    }
   ],
   "source": [
    "df.groupby(['c1', 'c2'], as_index=False)['c4'].mean() "
   ]
  },
  {
   "cell_type": "code",
   "execution_count": 24,
   "metadata": {
    "id": "b8GgSFhgbrGu"
   },
   "outputs": [
    {
     "data": {
      "text/plain": [
       "c1  c2\n",
       "a   A     0.674265\n",
       "    B     0.207306\n",
       "b   A     0.490856\n",
       "    B     0.944438\n",
       "    C     0.839020\n",
       "c   D     0.378876\n",
       "d   C     0.655246\n",
       "Name: c4, dtype: float64"
      ]
     },
     "execution_count": 24,
     "metadata": {},
     "output_type": "execute_result"
    }
   ],
   "source": [
    "df.groupby(['c1', 'c2'], group_keys=False)['c4'].mean()"
   ]
  },
  {
   "cell_type": "code",
   "execution_count": 27,
   "metadata": {
    "id": "-sBX539zduqJ"
   },
   "outputs": [
    {
     "data": {
      "text/html": [
       "<div>\n",
       "<style scoped>\n",
       "    .dataframe tbody tr th:only-of-type {\n",
       "        vertical-align: middle;\n",
       "    }\n",
       "\n",
       "    .dataframe tbody tr th {\n",
       "        vertical-align: top;\n",
       "    }\n",
       "\n",
       "    .dataframe thead th {\n",
       "        text-align: right;\n",
       "    }\n",
       "</style>\n",
       "<table border=\"1\" class=\"dataframe\">\n",
       "  <thead>\n",
       "    <tr style=\"text-align: right;\">\n",
       "      <th></th>\n",
       "      <th>c1</th>\n",
       "      <th>c2</th>\n",
       "      <th>c3</th>\n",
       "      <th>c4</th>\n",
       "    </tr>\n",
       "  </thead>\n",
       "  <tbody>\n",
       "    <tr>\n",
       "      <th>2</th>\n",
       "      <td>b</td>\n",
       "      <td>B</td>\n",
       "      <td>3</td>\n",
       "      <td>0.944438</td>\n",
       "    </tr>\n",
       "    <tr>\n",
       "      <th>3</th>\n",
       "      <td>b</td>\n",
       "      <td>A</td>\n",
       "      <td>3</td>\n",
       "      <td>0.490856</td>\n",
       "    </tr>\n",
       "    <tr>\n",
       "      <th>6</th>\n",
       "      <td>b</td>\n",
       "      <td>C</td>\n",
       "      <td>3</td>\n",
       "      <td>0.839020</td>\n",
       "    </tr>\n",
       "    <tr>\n",
       "      <th>4</th>\n",
       "      <td>c</td>\n",
       "      <td>D</td>\n",
       "      <td>3</td>\n",
       "      <td>0.378876</td>\n",
       "    </tr>\n",
       "    <tr>\n",
       "      <th>5</th>\n",
       "      <td>d</td>\n",
       "      <td>C</td>\n",
       "      <td>3</td>\n",
       "      <td>0.655246</td>\n",
       "    </tr>\n",
       "  </tbody>\n",
       "</table>\n",
       "</div>"
      ],
      "text/plain": [
       "  c1 c2  c3        c4\n",
       "2  b  B   3  0.944438\n",
       "3  b  A   3  0.490856\n",
       "6  b  C   3  0.839020\n",
       "4  c  D   3  0.378876\n",
       "5  d  C   3  0.655246"
      ]
     },
     "execution_count": 27,
     "metadata": {},
     "output_type": "execute_result"
    }
   ],
   "source": [
    "def top(df, n=3, column='c1'):\n",
    "    return df.sort_values(by=column)[-n:]\n",
    "\n",
    "top(df, n=5)"
   ]
  },
  {
   "cell_type": "code",
   "execution_count": 28,
   "metadata": {
    "id": "ijUek7SAd3DR"
   },
   "outputs": [
    {
     "data": {
      "text/html": [
       "<div>\n",
       "<style scoped>\n",
       "    .dataframe tbody tr th:only-of-type {\n",
       "        vertical-align: middle;\n",
       "    }\n",
       "\n",
       "    .dataframe tbody tr th {\n",
       "        vertical-align: top;\n",
       "    }\n",
       "\n",
       "    .dataframe thead th {\n",
       "        text-align: right;\n",
       "    }\n",
       "</style>\n",
       "<table border=\"1\" class=\"dataframe\">\n",
       "  <thead>\n",
       "    <tr style=\"text-align: right;\">\n",
       "      <th></th>\n",
       "      <th></th>\n",
       "      <th>c1</th>\n",
       "      <th>c2</th>\n",
       "      <th>c3</th>\n",
       "      <th>c4</th>\n",
       "    </tr>\n",
       "    <tr>\n",
       "      <th>c1</th>\n",
       "      <th></th>\n",
       "      <th></th>\n",
       "      <th></th>\n",
       "      <th></th>\n",
       "      <th></th>\n",
       "    </tr>\n",
       "  </thead>\n",
       "  <tbody>\n",
       "    <tr>\n",
       "      <th rowspan=\"2\" valign=\"top\">a</th>\n",
       "      <th>0</th>\n",
       "      <td>a</td>\n",
       "      <td>A</td>\n",
       "      <td>3</td>\n",
       "      <td>0.674265</td>\n",
       "    </tr>\n",
       "    <tr>\n",
       "      <th>1</th>\n",
       "      <td>a</td>\n",
       "      <td>B</td>\n",
       "      <td>3</td>\n",
       "      <td>0.207306</td>\n",
       "    </tr>\n",
       "    <tr>\n",
       "      <th rowspan=\"3\" valign=\"top\">b</th>\n",
       "      <th>2</th>\n",
       "      <td>b</td>\n",
       "      <td>B</td>\n",
       "      <td>3</td>\n",
       "      <td>0.944438</td>\n",
       "    </tr>\n",
       "    <tr>\n",
       "      <th>3</th>\n",
       "      <td>b</td>\n",
       "      <td>A</td>\n",
       "      <td>3</td>\n",
       "      <td>0.490856</td>\n",
       "    </tr>\n",
       "    <tr>\n",
       "      <th>6</th>\n",
       "      <td>b</td>\n",
       "      <td>C</td>\n",
       "      <td>3</td>\n",
       "      <td>0.839020</td>\n",
       "    </tr>\n",
       "    <tr>\n",
       "      <th>c</th>\n",
       "      <th>4</th>\n",
       "      <td>c</td>\n",
       "      <td>D</td>\n",
       "      <td>3</td>\n",
       "      <td>0.378876</td>\n",
       "    </tr>\n",
       "    <tr>\n",
       "      <th>d</th>\n",
       "      <th>5</th>\n",
       "      <td>d</td>\n",
       "      <td>C</td>\n",
       "      <td>3</td>\n",
       "      <td>0.655246</td>\n",
       "    </tr>\n",
       "  </tbody>\n",
       "</table>\n",
       "</div>"
      ],
      "text/plain": [
       "     c1 c2  c3        c4\n",
       "c1                      \n",
       "a  0  a  A   3  0.674265\n",
       "   1  a  B   3  0.207306\n",
       "b  2  b  B   3  0.944438\n",
       "   3  b  A   3  0.490856\n",
       "   6  b  C   3  0.839020\n",
       "c  4  c  D   3  0.378876\n",
       "d  5  d  C   3  0.655246"
      ]
     },
     "execution_count": 28,
     "metadata": {},
     "output_type": "execute_result"
    }
   ],
   "source": [
    "df.groupby('c1').apply(top)"
   ]
  },
  {
   "cell_type": "markdown",
   "metadata": {
    "id": "VS9PZhnt2_h8"
   },
   "source": [
    "### 피벗 테이블(Pivot Table)\n"
   ]
  },
  {
   "cell_type": "code",
   "execution_count": 29,
   "metadata": {
    "id": "hBXmgzUzeflH"
   },
   "outputs": [
    {
     "data": {
      "text/html": [
       "<div>\n",
       "<style scoped>\n",
       "    .dataframe tbody tr th:only-of-type {\n",
       "        vertical-align: middle;\n",
       "    }\n",
       "\n",
       "    .dataframe tbody tr th {\n",
       "        vertical-align: top;\n",
       "    }\n",
       "\n",
       "    .dataframe thead tr th {\n",
       "        text-align: left;\n",
       "    }\n",
       "\n",
       "    .dataframe thead tr:last-of-type th {\n",
       "        text-align: right;\n",
       "    }\n",
       "</style>\n",
       "<table border=\"1\" class=\"dataframe\">\n",
       "  <thead>\n",
       "    <tr>\n",
       "      <th></th>\n",
       "      <th colspan=\"4\" halign=\"left\">c3</th>\n",
       "      <th colspan=\"4\" halign=\"left\">c4</th>\n",
       "    </tr>\n",
       "    <tr>\n",
       "      <th>c2</th>\n",
       "      <th>A</th>\n",
       "      <th>B</th>\n",
       "      <th>C</th>\n",
       "      <th>D</th>\n",
       "      <th>A</th>\n",
       "      <th>B</th>\n",
       "      <th>C</th>\n",
       "      <th>D</th>\n",
       "    </tr>\n",
       "    <tr>\n",
       "      <th>c1</th>\n",
       "      <th></th>\n",
       "      <th></th>\n",
       "      <th></th>\n",
       "      <th></th>\n",
       "      <th></th>\n",
       "      <th></th>\n",
       "      <th></th>\n",
       "      <th></th>\n",
       "    </tr>\n",
       "  </thead>\n",
       "  <tbody>\n",
       "    <tr>\n",
       "      <th>a</th>\n",
       "      <td>3.0</td>\n",
       "      <td>3.0</td>\n",
       "      <td>NaN</td>\n",
       "      <td>NaN</td>\n",
       "      <td>0.674265</td>\n",
       "      <td>0.207306</td>\n",
       "      <td>NaN</td>\n",
       "      <td>NaN</td>\n",
       "    </tr>\n",
       "    <tr>\n",
       "      <th>b</th>\n",
       "      <td>3.0</td>\n",
       "      <td>3.0</td>\n",
       "      <td>3.0</td>\n",
       "      <td>NaN</td>\n",
       "      <td>0.490856</td>\n",
       "      <td>0.944438</td>\n",
       "      <td>0.839020</td>\n",
       "      <td>NaN</td>\n",
       "    </tr>\n",
       "    <tr>\n",
       "      <th>c</th>\n",
       "      <td>NaN</td>\n",
       "      <td>NaN</td>\n",
       "      <td>NaN</td>\n",
       "      <td>3.0</td>\n",
       "      <td>NaN</td>\n",
       "      <td>NaN</td>\n",
       "      <td>NaN</td>\n",
       "      <td>0.378876</td>\n",
       "    </tr>\n",
       "    <tr>\n",
       "      <th>d</th>\n",
       "      <td>NaN</td>\n",
       "      <td>NaN</td>\n",
       "      <td>3.0</td>\n",
       "      <td>NaN</td>\n",
       "      <td>NaN</td>\n",
       "      <td>NaN</td>\n",
       "      <td>0.655246</td>\n",
       "      <td>NaN</td>\n",
       "    </tr>\n",
       "  </tbody>\n",
       "</table>\n",
       "</div>"
      ],
      "text/plain": [
       "     c3                       c4                              \n",
       "c2    A    B    C    D         A         B         C         D\n",
       "c1                                                            \n",
       "a   3.0  3.0  NaN  NaN  0.674265  0.207306       NaN       NaN\n",
       "b   3.0  3.0  3.0  NaN  0.490856  0.944438  0.839020       NaN\n",
       "c   NaN  NaN  NaN  3.0       NaN       NaN       NaN  0.378876\n",
       "d   NaN  NaN  3.0  NaN       NaN       NaN  0.655246       NaN"
      ]
     },
     "execution_count": 29,
     "metadata": {},
     "output_type": "execute_result"
    }
   ],
   "source": [
    "df.pivot_table(['c3', 'c4'],\n",
    "              index=['c1'],\n",
    "              columns=['c2'])"
   ]
  },
  {
   "cell_type": "code",
   "execution_count": 30,
   "metadata": {
    "id": "voeul-pxfOb3"
   },
   "outputs": [
    {
     "data": {
      "text/html": [
       "<div>\n",
       "<style scoped>\n",
       "    .dataframe tbody tr th:only-of-type {\n",
       "        vertical-align: middle;\n",
       "    }\n",
       "\n",
       "    .dataframe tbody tr th {\n",
       "        vertical-align: top;\n",
       "    }\n",
       "\n",
       "    .dataframe thead tr th {\n",
       "        text-align: left;\n",
       "    }\n",
       "\n",
       "    .dataframe thead tr:last-of-type th {\n",
       "        text-align: right;\n",
       "    }\n",
       "</style>\n",
       "<table border=\"1\" class=\"dataframe\">\n",
       "  <thead>\n",
       "    <tr>\n",
       "      <th></th>\n",
       "      <th colspan=\"5\" halign=\"left\">c3</th>\n",
       "      <th colspan=\"5\" halign=\"left\">c4</th>\n",
       "    </tr>\n",
       "    <tr>\n",
       "      <th>c2</th>\n",
       "      <th>A</th>\n",
       "      <th>B</th>\n",
       "      <th>C</th>\n",
       "      <th>D</th>\n",
       "      <th>All</th>\n",
       "      <th>A</th>\n",
       "      <th>B</th>\n",
       "      <th>C</th>\n",
       "      <th>D</th>\n",
       "      <th>All</th>\n",
       "    </tr>\n",
       "    <tr>\n",
       "      <th>c1</th>\n",
       "      <th></th>\n",
       "      <th></th>\n",
       "      <th></th>\n",
       "      <th></th>\n",
       "      <th></th>\n",
       "      <th></th>\n",
       "      <th></th>\n",
       "      <th></th>\n",
       "      <th></th>\n",
       "      <th></th>\n",
       "    </tr>\n",
       "  </thead>\n",
       "  <tbody>\n",
       "    <tr>\n",
       "      <th>a</th>\n",
       "      <td>3.0</td>\n",
       "      <td>3.0</td>\n",
       "      <td>NaN</td>\n",
       "      <td>NaN</td>\n",
       "      <td>3</td>\n",
       "      <td>0.674265</td>\n",
       "      <td>0.207306</td>\n",
       "      <td>NaN</td>\n",
       "      <td>NaN</td>\n",
       "      <td>0.440786</td>\n",
       "    </tr>\n",
       "    <tr>\n",
       "      <th>b</th>\n",
       "      <td>3.0</td>\n",
       "      <td>3.0</td>\n",
       "      <td>3.0</td>\n",
       "      <td>NaN</td>\n",
       "      <td>3</td>\n",
       "      <td>0.490856</td>\n",
       "      <td>0.944438</td>\n",
       "      <td>0.839020</td>\n",
       "      <td>NaN</td>\n",
       "      <td>0.758104</td>\n",
       "    </tr>\n",
       "    <tr>\n",
       "      <th>c</th>\n",
       "      <td>NaN</td>\n",
       "      <td>NaN</td>\n",
       "      <td>NaN</td>\n",
       "      <td>3.0</td>\n",
       "      <td>3</td>\n",
       "      <td>NaN</td>\n",
       "      <td>NaN</td>\n",
       "      <td>NaN</td>\n",
       "      <td>0.378876</td>\n",
       "      <td>0.378876</td>\n",
       "    </tr>\n",
       "    <tr>\n",
       "      <th>d</th>\n",
       "      <td>NaN</td>\n",
       "      <td>NaN</td>\n",
       "      <td>3.0</td>\n",
       "      <td>NaN</td>\n",
       "      <td>3</td>\n",
       "      <td>NaN</td>\n",
       "      <td>NaN</td>\n",
       "      <td>0.655246</td>\n",
       "      <td>NaN</td>\n",
       "      <td>0.655246</td>\n",
       "    </tr>\n",
       "    <tr>\n",
       "      <th>All</th>\n",
       "      <td>3.0</td>\n",
       "      <td>3.0</td>\n",
       "      <td>3.0</td>\n",
       "      <td>3.0</td>\n",
       "      <td>3</td>\n",
       "      <td>0.582561</td>\n",
       "      <td>0.575872</td>\n",
       "      <td>0.747133</td>\n",
       "      <td>0.378876</td>\n",
       "      <td>0.598572</td>\n",
       "    </tr>\n",
       "  </tbody>\n",
       "</table>\n",
       "</div>"
      ],
      "text/plain": [
       "      c3                           c4                                        \n",
       "c2     A    B    C    D All         A         B         C         D       All\n",
       "c1                                                                           \n",
       "a    3.0  3.0  NaN  NaN   3  0.674265  0.207306       NaN       NaN  0.440786\n",
       "b    3.0  3.0  3.0  NaN   3  0.490856  0.944438  0.839020       NaN  0.758104\n",
       "c    NaN  NaN  NaN  3.0   3       NaN       NaN       NaN  0.378876  0.378876\n",
       "d    NaN  NaN  3.0  NaN   3       NaN       NaN  0.655246       NaN  0.655246\n",
       "All  3.0  3.0  3.0  3.0   3  0.582561  0.575872  0.747133  0.378876  0.598572"
      ]
     },
     "execution_count": 30,
     "metadata": {},
     "output_type": "execute_result"
    }
   ],
   "source": [
    "df.pivot_table(['c3', 'c4'],\n",
    "              index=['c1'],\n",
    "              columns=['c2'],\n",
    "              margins=True)"
   ]
  },
  {
   "cell_type": "code",
   "execution_count": 31,
   "metadata": {
    "id": "VCusVjzqfXRb"
   },
   "outputs": [
    {
     "data": {
      "text/html": [
       "<div>\n",
       "<style scoped>\n",
       "    .dataframe tbody tr th:only-of-type {\n",
       "        vertical-align: middle;\n",
       "    }\n",
       "\n",
       "    .dataframe tbody tr th {\n",
       "        vertical-align: top;\n",
       "    }\n",
       "\n",
       "    .dataframe thead tr th {\n",
       "        text-align: left;\n",
       "    }\n",
       "\n",
       "    .dataframe thead tr:last-of-type th {\n",
       "        text-align: right;\n",
       "    }\n",
       "</style>\n",
       "<table border=\"1\" class=\"dataframe\">\n",
       "  <thead>\n",
       "    <tr>\n",
       "      <th></th>\n",
       "      <th colspan=\"5\" halign=\"left\">c3</th>\n",
       "      <th colspan=\"5\" halign=\"left\">c4</th>\n",
       "    </tr>\n",
       "    <tr>\n",
       "      <th>c2</th>\n",
       "      <th>A</th>\n",
       "      <th>B</th>\n",
       "      <th>C</th>\n",
       "      <th>D</th>\n",
       "      <th>All</th>\n",
       "      <th>A</th>\n",
       "      <th>B</th>\n",
       "      <th>C</th>\n",
       "      <th>D</th>\n",
       "      <th>All</th>\n",
       "    </tr>\n",
       "    <tr>\n",
       "      <th>c1</th>\n",
       "      <th></th>\n",
       "      <th></th>\n",
       "      <th></th>\n",
       "      <th></th>\n",
       "      <th></th>\n",
       "      <th></th>\n",
       "      <th></th>\n",
       "      <th></th>\n",
       "      <th></th>\n",
       "      <th></th>\n",
       "    </tr>\n",
       "  </thead>\n",
       "  <tbody>\n",
       "    <tr>\n",
       "      <th>a</th>\n",
       "      <td>3.0</td>\n",
       "      <td>3.0</td>\n",
       "      <td>NaN</td>\n",
       "      <td>NaN</td>\n",
       "      <td>6</td>\n",
       "      <td>0.674265</td>\n",
       "      <td>0.207306</td>\n",
       "      <td>NaN</td>\n",
       "      <td>NaN</td>\n",
       "      <td>0.881572</td>\n",
       "    </tr>\n",
       "    <tr>\n",
       "      <th>b</th>\n",
       "      <td>3.0</td>\n",
       "      <td>3.0</td>\n",
       "      <td>3.0</td>\n",
       "      <td>NaN</td>\n",
       "      <td>9</td>\n",
       "      <td>0.490856</td>\n",
       "      <td>0.944438</td>\n",
       "      <td>0.839020</td>\n",
       "      <td>NaN</td>\n",
       "      <td>2.274313</td>\n",
       "    </tr>\n",
       "    <tr>\n",
       "      <th>c</th>\n",
       "      <td>NaN</td>\n",
       "      <td>NaN</td>\n",
       "      <td>NaN</td>\n",
       "      <td>3.0</td>\n",
       "      <td>3</td>\n",
       "      <td>NaN</td>\n",
       "      <td>NaN</td>\n",
       "      <td>NaN</td>\n",
       "      <td>0.378876</td>\n",
       "      <td>0.378876</td>\n",
       "    </tr>\n",
       "    <tr>\n",
       "      <th>d</th>\n",
       "      <td>NaN</td>\n",
       "      <td>NaN</td>\n",
       "      <td>3.0</td>\n",
       "      <td>NaN</td>\n",
       "      <td>3</td>\n",
       "      <td>NaN</td>\n",
       "      <td>NaN</td>\n",
       "      <td>0.655246</td>\n",
       "      <td>NaN</td>\n",
       "      <td>0.655246</td>\n",
       "    </tr>\n",
       "    <tr>\n",
       "      <th>All</th>\n",
       "      <td>6.0</td>\n",
       "      <td>6.0</td>\n",
       "      <td>6.0</td>\n",
       "      <td>3.0</td>\n",
       "      <td>21</td>\n",
       "      <td>1.165121</td>\n",
       "      <td>1.151744</td>\n",
       "      <td>1.494266</td>\n",
       "      <td>0.378876</td>\n",
       "      <td>4.190007</td>\n",
       "    </tr>\n",
       "  </tbody>\n",
       "</table>\n",
       "</div>"
      ],
      "text/plain": [
       "      c3                           c4                                        \n",
       "c2     A    B    C    D All         A         B         C         D       All\n",
       "c1                                                                           \n",
       "a    3.0  3.0  NaN  NaN   6  0.674265  0.207306       NaN       NaN  0.881572\n",
       "b    3.0  3.0  3.0  NaN   9  0.490856  0.944438  0.839020       NaN  2.274313\n",
       "c    NaN  NaN  NaN  3.0   3       NaN       NaN       NaN  0.378876  0.378876\n",
       "d    NaN  NaN  3.0  NaN   3       NaN       NaN  0.655246       NaN  0.655246\n",
       "All  6.0  6.0  6.0  3.0  21  1.165121  1.151744  1.494266  0.378876  4.190007"
      ]
     },
     "execution_count": 31,
     "metadata": {},
     "output_type": "execute_result"
    }
   ],
   "source": [
    "df.pivot_table(['c3', 'c4'],\n",
    "              index=['c1'],\n",
    "              columns=['c2'],\n",
    "              margins=True,\n",
    "              aggfunc=sum)"
   ]
  },
  {
   "cell_type": "code",
   "execution_count": 32,
   "metadata": {
    "id": "OaUu1cdEgO6f"
   },
   "outputs": [
    {
     "data": {
      "text/html": [
       "<div>\n",
       "<style scoped>\n",
       "    .dataframe tbody tr th:only-of-type {\n",
       "        vertical-align: middle;\n",
       "    }\n",
       "\n",
       "    .dataframe tbody tr th {\n",
       "        vertical-align: top;\n",
       "    }\n",
       "\n",
       "    .dataframe thead tr th {\n",
       "        text-align: left;\n",
       "    }\n",
       "\n",
       "    .dataframe thead tr:last-of-type th {\n",
       "        text-align: right;\n",
       "    }\n",
       "</style>\n",
       "<table border=\"1\" class=\"dataframe\">\n",
       "  <thead>\n",
       "    <tr>\n",
       "      <th></th>\n",
       "      <th colspan=\"5\" halign=\"left\">c3</th>\n",
       "      <th colspan=\"5\" halign=\"left\">c4</th>\n",
       "    </tr>\n",
       "    <tr>\n",
       "      <th>c2</th>\n",
       "      <th>A</th>\n",
       "      <th>B</th>\n",
       "      <th>C</th>\n",
       "      <th>D</th>\n",
       "      <th>All</th>\n",
       "      <th>A</th>\n",
       "      <th>B</th>\n",
       "      <th>C</th>\n",
       "      <th>D</th>\n",
       "      <th>All</th>\n",
       "    </tr>\n",
       "    <tr>\n",
       "      <th>c1</th>\n",
       "      <th></th>\n",
       "      <th></th>\n",
       "      <th></th>\n",
       "      <th></th>\n",
       "      <th></th>\n",
       "      <th></th>\n",
       "      <th></th>\n",
       "      <th></th>\n",
       "      <th></th>\n",
       "      <th></th>\n",
       "    </tr>\n",
       "  </thead>\n",
       "  <tbody>\n",
       "    <tr>\n",
       "      <th>a</th>\n",
       "      <td>3</td>\n",
       "      <td>3</td>\n",
       "      <td>0</td>\n",
       "      <td>0</td>\n",
       "      <td>6</td>\n",
       "      <td>0.674265</td>\n",
       "      <td>0.207306</td>\n",
       "      <td>0.000000</td>\n",
       "      <td>0.000000</td>\n",
       "      <td>0.881572</td>\n",
       "    </tr>\n",
       "    <tr>\n",
       "      <th>b</th>\n",
       "      <td>3</td>\n",
       "      <td>3</td>\n",
       "      <td>3</td>\n",
       "      <td>0</td>\n",
       "      <td>9</td>\n",
       "      <td>0.490856</td>\n",
       "      <td>0.944438</td>\n",
       "      <td>0.839020</td>\n",
       "      <td>0.000000</td>\n",
       "      <td>2.274313</td>\n",
       "    </tr>\n",
       "    <tr>\n",
       "      <th>c</th>\n",
       "      <td>0</td>\n",
       "      <td>0</td>\n",
       "      <td>0</td>\n",
       "      <td>3</td>\n",
       "      <td>3</td>\n",
       "      <td>0.000000</td>\n",
       "      <td>0.000000</td>\n",
       "      <td>0.000000</td>\n",
       "      <td>0.378876</td>\n",
       "      <td>0.378876</td>\n",
       "    </tr>\n",
       "    <tr>\n",
       "      <th>d</th>\n",
       "      <td>0</td>\n",
       "      <td>0</td>\n",
       "      <td>3</td>\n",
       "      <td>0</td>\n",
       "      <td>3</td>\n",
       "      <td>0.000000</td>\n",
       "      <td>0.000000</td>\n",
       "      <td>0.655246</td>\n",
       "      <td>0.000000</td>\n",
       "      <td>0.655246</td>\n",
       "    </tr>\n",
       "    <tr>\n",
       "      <th>All</th>\n",
       "      <td>6</td>\n",
       "      <td>6</td>\n",
       "      <td>6</td>\n",
       "      <td>3</td>\n",
       "      <td>21</td>\n",
       "      <td>1.165121</td>\n",
       "      <td>1.151744</td>\n",
       "      <td>1.494266</td>\n",
       "      <td>0.378876</td>\n",
       "      <td>4.190007</td>\n",
       "    </tr>\n",
       "  </tbody>\n",
       "</table>\n",
       "</div>"
      ],
      "text/plain": [
       "    c3                     c4                                        \n",
       "c2   A  B  C  D All         A         B         C         D       All\n",
       "c1                                                                   \n",
       "a    3  3  0  0   6  0.674265  0.207306  0.000000  0.000000  0.881572\n",
       "b    3  3  3  0   9  0.490856  0.944438  0.839020  0.000000  2.274313\n",
       "c    0  0  0  3   3  0.000000  0.000000  0.000000  0.378876  0.378876\n",
       "d    0  0  3  0   3  0.000000  0.000000  0.655246  0.000000  0.655246\n",
       "All  6  6  6  3  21  1.165121  1.151744  1.494266  0.378876  4.190007"
      ]
     },
     "execution_count": 32,
     "metadata": {},
     "output_type": "execute_result"
    }
   ],
   "source": [
    "df.pivot_table(['c3', 'c4'],\n",
    "              index=['c1'],\n",
    "              columns=['c2'],\n",
    "              margins=True,\n",
    "              aggfunc=sum,\n",
    "              fill_value=0)"
   ]
  },
  {
   "cell_type": "code",
   "execution_count": 33,
   "metadata": {
    "id": "I77K4Mg8jyct"
   },
   "outputs": [
    {
     "data": {
      "text/html": [
       "<div>\n",
       "<style scoped>\n",
       "    .dataframe tbody tr th:only-of-type {\n",
       "        vertical-align: middle;\n",
       "    }\n",
       "\n",
       "    .dataframe tbody tr th {\n",
       "        vertical-align: top;\n",
       "    }\n",
       "\n",
       "    .dataframe thead th {\n",
       "        text-align: right;\n",
       "    }\n",
       "</style>\n",
       "<table border=\"1\" class=\"dataframe\">\n",
       "  <thead>\n",
       "    <tr style=\"text-align: right;\">\n",
       "      <th>c2</th>\n",
       "      <th>A</th>\n",
       "      <th>B</th>\n",
       "      <th>C</th>\n",
       "      <th>D</th>\n",
       "    </tr>\n",
       "    <tr>\n",
       "      <th>c1</th>\n",
       "      <th></th>\n",
       "      <th></th>\n",
       "      <th></th>\n",
       "      <th></th>\n",
       "    </tr>\n",
       "  </thead>\n",
       "  <tbody>\n",
       "    <tr>\n",
       "      <th>a</th>\n",
       "      <td>1</td>\n",
       "      <td>1</td>\n",
       "      <td>0</td>\n",
       "      <td>0</td>\n",
       "    </tr>\n",
       "    <tr>\n",
       "      <th>b</th>\n",
       "      <td>1</td>\n",
       "      <td>1</td>\n",
       "      <td>1</td>\n",
       "      <td>0</td>\n",
       "    </tr>\n",
       "    <tr>\n",
       "      <th>c</th>\n",
       "      <td>0</td>\n",
       "      <td>0</td>\n",
       "      <td>0</td>\n",
       "      <td>1</td>\n",
       "    </tr>\n",
       "    <tr>\n",
       "      <th>d</th>\n",
       "      <td>0</td>\n",
       "      <td>0</td>\n",
       "      <td>1</td>\n",
       "      <td>0</td>\n",
       "    </tr>\n",
       "  </tbody>\n",
       "</table>\n",
       "</div>"
      ],
      "text/plain": [
       "c2  A  B  C  D\n",
       "c1            \n",
       "a   1  1  0  0\n",
       "b   1  1  1  0\n",
       "c   0  0  0  1\n",
       "d   0  0  1  0"
      ]
     },
     "execution_count": 33,
     "metadata": {},
     "output_type": "execute_result"
    }
   ],
   "source": [
    "pd.crosstab(df.c1, df.c2)"
   ]
  },
  {
   "cell_type": "code",
   "execution_count": 34,
   "metadata": {
    "id": "xC-rXgvbgivr"
   },
   "outputs": [
    {
     "data": {
      "text/html": [
       "<div>\n",
       "<style scoped>\n",
       "    .dataframe tbody tr th:only-of-type {\n",
       "        vertical-align: middle;\n",
       "    }\n",
       "\n",
       "    .dataframe tbody tr th {\n",
       "        vertical-align: top;\n",
       "    }\n",
       "\n",
       "    .dataframe thead th {\n",
       "        text-align: right;\n",
       "    }\n",
       "</style>\n",
       "<table border=\"1\" class=\"dataframe\">\n",
       "  <thead>\n",
       "    <tr style=\"text-align: right;\">\n",
       "      <th>c2</th>\n",
       "      <th>A</th>\n",
       "      <th>B</th>\n",
       "      <th>C</th>\n",
       "      <th>D</th>\n",
       "      <th>All</th>\n",
       "    </tr>\n",
       "    <tr>\n",
       "      <th>c1</th>\n",
       "      <th></th>\n",
       "      <th></th>\n",
       "      <th></th>\n",
       "      <th></th>\n",
       "      <th></th>\n",
       "    </tr>\n",
       "  </thead>\n",
       "  <tbody>\n",
       "    <tr>\n",
       "      <th>a</th>\n",
       "      <td>3.0</td>\n",
       "      <td>3.0</td>\n",
       "      <td>NaN</td>\n",
       "      <td>NaN</td>\n",
       "      <td>6</td>\n",
       "    </tr>\n",
       "    <tr>\n",
       "      <th>b</th>\n",
       "      <td>3.0</td>\n",
       "      <td>3.0</td>\n",
       "      <td>3.0</td>\n",
       "      <td>NaN</td>\n",
       "      <td>9</td>\n",
       "    </tr>\n",
       "    <tr>\n",
       "      <th>c</th>\n",
       "      <td>NaN</td>\n",
       "      <td>NaN</td>\n",
       "      <td>NaN</td>\n",
       "      <td>3.0</td>\n",
       "      <td>3</td>\n",
       "    </tr>\n",
       "    <tr>\n",
       "      <th>d</th>\n",
       "      <td>NaN</td>\n",
       "      <td>NaN</td>\n",
       "      <td>3.0</td>\n",
       "      <td>NaN</td>\n",
       "      <td>3</td>\n",
       "    </tr>\n",
       "    <tr>\n",
       "      <th>All</th>\n",
       "      <td>6.0</td>\n",
       "      <td>6.0</td>\n",
       "      <td>6.0</td>\n",
       "      <td>3.0</td>\n",
       "      <td>21</td>\n",
       "    </tr>\n",
       "  </tbody>\n",
       "</table>\n",
       "</div>"
      ],
      "text/plain": [
       "c2     A    B    C    D  All\n",
       "c1                          \n",
       "a    3.0  3.0  NaN  NaN    6\n",
       "b    3.0  3.0  3.0  NaN    9\n",
       "c    NaN  NaN  NaN  3.0    3\n",
       "d    NaN  NaN  3.0  NaN    3\n",
       "All  6.0  6.0  6.0  3.0   21"
      ]
     },
     "execution_count": 34,
     "metadata": {},
     "output_type": "execute_result"
    }
   ],
   "source": [
    "pd.crosstab(df.c1, df.c2, values=df.c3, aggfunc=sum, margins=True)"
   ]
  },
  {
   "cell_type": "markdown",
   "metadata": {
    "id": "bbyFIbJkBjvD"
   },
   "source": [
    "### 범주형(Categorical) 데이터\n"
   ]
  },
  {
   "cell_type": "code",
   "execution_count": 35,
   "metadata": {
    "id": "A6tDHNBCBnTT"
   },
   "outputs": [
    {
     "data": {
      "text/plain": [
       "0    c1\n",
       "1    c2\n",
       "2    c1\n",
       "3    c2\n",
       "4    c1\n",
       "5    c1\n",
       "6    c2\n",
       "7    c1\n",
       "8    c2\n",
       "9    c1\n",
       "dtype: object"
      ]
     },
     "execution_count": 35,
     "metadata": {},
     "output_type": "execute_result"
    }
   ],
   "source": [
    "s = pd.Series(['c1', 'c2', 'c1', 'c2', 'c1'] * 2)\n",
    "s"
   ]
  },
  {
   "cell_type": "code",
   "execution_count": 36,
   "metadata": {
    "id": "v-_JtRj8B5Wk"
   },
   "outputs": [
    {
     "data": {
      "text/plain": [
       "array(['c1', 'c2'], dtype=object)"
      ]
     },
     "execution_count": 36,
     "metadata": {},
     "output_type": "execute_result"
    }
   ],
   "source": [
    "pd.unique(s)"
   ]
  },
  {
   "cell_type": "code",
   "execution_count": 37,
   "metadata": {
    "id": "8EnnyCEdB8J-"
   },
   "outputs": [
    {
     "data": {
      "text/plain": [
       "c1    6\n",
       "c2    4\n",
       "dtype: int64"
      ]
     },
     "execution_count": 37,
     "metadata": {},
     "output_type": "execute_result"
    }
   ],
   "source": [
    "pd.value_counts(s)"
   ]
  },
  {
   "cell_type": "code",
   "execution_count": 38,
   "metadata": {
    "id": "7Bi_tGNMCD7o"
   },
   "outputs": [
    {
     "data": {
      "text/plain": [
       "0    0\n",
       "1    1\n",
       "2    0\n",
       "3    1\n",
       "4    0\n",
       "5    0\n",
       "6    1\n",
       "7    0\n",
       "8    1\n",
       "9    0\n",
       "dtype: int64"
      ]
     },
     "execution_count": 38,
     "metadata": {},
     "output_type": "execute_result"
    }
   ],
   "source": [
    "code = pd.Series([0, 1, 0, 1, 0] * 2)\n",
    "code"
   ]
  },
  {
   "cell_type": "code",
   "execution_count": 39,
   "metadata": {
    "id": "4aO21aofCNNx"
   },
   "outputs": [
    {
     "data": {
      "text/plain": [
       "0    c1\n",
       "1    c2\n",
       "dtype: object"
      ]
     },
     "execution_count": 39,
     "metadata": {},
     "output_type": "execute_result"
    }
   ],
   "source": [
    "d = pd.Series(['c1', 'c2'])\n",
    "d"
   ]
  },
  {
   "cell_type": "code",
   "execution_count": 40,
   "metadata": {
    "id": "fJ5nbwbVCV0m"
   },
   "outputs": [
    {
     "data": {
      "text/plain": [
       "0    c1\n",
       "1    c2\n",
       "0    c1\n",
       "1    c2\n",
       "0    c1\n",
       "0    c1\n",
       "1    c2\n",
       "0    c1\n",
       "1    c2\n",
       "0    c1\n",
       "dtype: object"
      ]
     },
     "execution_count": 40,
     "metadata": {},
     "output_type": "execute_result"
    }
   ],
   "source": [
    "d.take(code)"
   ]
  },
  {
   "cell_type": "code",
   "execution_count": 41,
   "metadata": {
    "id": "MZyW5zGdCpx1"
   },
   "outputs": [
    {
     "data": {
      "text/html": [
       "<div>\n",
       "<style scoped>\n",
       "    .dataframe tbody tr th:only-of-type {\n",
       "        vertical-align: middle;\n",
       "    }\n",
       "\n",
       "    .dataframe tbody tr th {\n",
       "        vertical-align: top;\n",
       "    }\n",
       "\n",
       "    .dataframe thead th {\n",
       "        text-align: right;\n",
       "    }\n",
       "</style>\n",
       "<table border=\"1\" class=\"dataframe\">\n",
       "  <thead>\n",
       "    <tr style=\"text-align: right;\">\n",
       "      <th></th>\n",
       "      <th>id</th>\n",
       "      <th>c</th>\n",
       "      <th>v</th>\n",
       "    </tr>\n",
       "  </thead>\n",
       "  <tbody>\n",
       "    <tr>\n",
       "      <th>0</th>\n",
       "      <td>0</td>\n",
       "      <td>c1</td>\n",
       "      <td>2087</td>\n",
       "    </tr>\n",
       "    <tr>\n",
       "      <th>1</th>\n",
       "      <td>1</td>\n",
       "      <td>c2</td>\n",
       "      <td>2042</td>\n",
       "    </tr>\n",
       "    <tr>\n",
       "      <th>2</th>\n",
       "      <td>2</td>\n",
       "      <td>c1</td>\n",
       "      <td>3759</td>\n",
       "    </tr>\n",
       "    <tr>\n",
       "      <th>3</th>\n",
       "      <td>3</td>\n",
       "      <td>c2</td>\n",
       "      <td>4916</td>\n",
       "    </tr>\n",
       "    <tr>\n",
       "      <th>4</th>\n",
       "      <td>4</td>\n",
       "      <td>c1</td>\n",
       "      <td>1140</td>\n",
       "    </tr>\n",
       "    <tr>\n",
       "      <th>5</th>\n",
       "      <td>5</td>\n",
       "      <td>c1</td>\n",
       "      <td>1481</td>\n",
       "    </tr>\n",
       "    <tr>\n",
       "      <th>6</th>\n",
       "      <td>6</td>\n",
       "      <td>c2</td>\n",
       "      <td>4534</td>\n",
       "    </tr>\n",
       "    <tr>\n",
       "      <th>7</th>\n",
       "      <td>7</td>\n",
       "      <td>c1</td>\n",
       "      <td>2069</td>\n",
       "    </tr>\n",
       "    <tr>\n",
       "      <th>8</th>\n",
       "      <td>8</td>\n",
       "      <td>c2</td>\n",
       "      <td>4835</td>\n",
       "    </tr>\n",
       "    <tr>\n",
       "      <th>9</th>\n",
       "      <td>9</td>\n",
       "      <td>c1</td>\n",
       "      <td>2126</td>\n",
       "    </tr>\n",
       "  </tbody>\n",
       "</table>\n",
       "</div>"
      ],
      "text/plain": [
       "   id   c     v\n",
       "0   0  c1  2087\n",
       "1   1  c2  2042\n",
       "2   2  c1  3759\n",
       "3   3  c2  4916\n",
       "4   4  c1  1140\n",
       "5   5  c1  1481\n",
       "6   6  c2  4534\n",
       "7   7  c1  2069\n",
       "8   8  c2  4835\n",
       "9   9  c1  2126"
      ]
     },
     "execution_count": 41,
     "metadata": {},
     "output_type": "execute_result"
    }
   ],
   "source": [
    "df = pd.DataFrame({'id': np.arange(len(s)),\n",
    "                  'c':s,\n",
    "                  'v':np.random.randint(1000, 5000, size=len(s))})\n",
    "df"
   ]
  },
  {
   "cell_type": "code",
   "execution_count": 43,
   "metadata": {
    "id": "tOX0QS_iDe60"
   },
   "outputs": [
    {
     "data": {
      "text/plain": [
       "0    c1\n",
       "1    c2\n",
       "2    c1\n",
       "3    c2\n",
       "4    c1\n",
       "5    c1\n",
       "6    c2\n",
       "7    c1\n",
       "8    c2\n",
       "9    c1\n",
       "Name: c, dtype: category\n",
       "Categories (2, object): ['c1', 'c2']"
      ]
     },
     "execution_count": 43,
     "metadata": {},
     "output_type": "execute_result"
    }
   ],
   "source": [
    "c = df['c'].astype('category')\n",
    "c"
   ]
  },
  {
   "cell_type": "code",
   "execution_count": 44,
   "metadata": {
    "id": "vjDgdPmHE6nK"
   },
   "outputs": [
    {
     "data": {
      "text/plain": [
       "['c1', 'c2', 'c1', 'c2', 'c1', 'c1', 'c2', 'c1', 'c2', 'c1']\n",
       "Categories (2, object): ['c1', 'c2']"
      ]
     },
     "execution_count": 44,
     "metadata": {},
     "output_type": "execute_result"
    }
   ],
   "source": [
    "c.values"
   ]
  },
  {
   "cell_type": "code",
   "execution_count": 45,
   "metadata": {
    "id": "n30Dxm_JFeha"
   },
   "outputs": [
    {
     "data": {
      "text/plain": [
       "Index(['c1', 'c2'], dtype='object')"
      ]
     },
     "execution_count": 45,
     "metadata": {},
     "output_type": "execute_result"
    }
   ],
   "source": [
    "c.values.categories"
   ]
  },
  {
   "cell_type": "code",
   "execution_count": 46,
   "metadata": {
    "id": "Dm7eTHHUFloX"
   },
   "outputs": [
    {
     "data": {
      "text/plain": [
       "array([0, 1, 0, 1, 0, 0, 1, 0, 1, 0], dtype=int8)"
      ]
     },
     "execution_count": 46,
     "metadata": {},
     "output_type": "execute_result"
    }
   ],
   "source": [
    "c.values.codes"
   ]
  },
  {
   "cell_type": "code",
   "execution_count": 47,
   "metadata": {
    "id": "w9zC9hE8Fzbj"
   },
   "outputs": [
    {
     "data": {
      "text/plain": [
       "0    c1\n",
       "1    c2\n",
       "2    c1\n",
       "3    c2\n",
       "4    c1\n",
       "5    c1\n",
       "6    c2\n",
       "7    c1\n",
       "8    c2\n",
       "9    c1\n",
       "Name: c, dtype: category\n",
       "Categories (2, object): ['c1', 'c2']"
      ]
     },
     "execution_count": 47,
     "metadata": {},
     "output_type": "execute_result"
    }
   ],
   "source": [
    "df['c'] = c\n",
    "df.c"
   ]
  },
  {
   "cell_type": "code",
   "execution_count": 48,
   "metadata": {
    "id": "kHIkmMF3F7E6"
   },
   "outputs": [
    {
     "data": {
      "text/plain": [
       "['c1', 'c2', 'c3', 'c1', 'c2']\n",
       "Categories (3, object): ['c1', 'c2', 'c3']"
      ]
     },
     "execution_count": 48,
     "metadata": {},
     "output_type": "execute_result"
    }
   ],
   "source": [
    "c = pd.Categorical(['c1', 'c2', 'c3', 'c1', 'c2'])\n",
    "c"
   ]
  },
  {
   "cell_type": "code",
   "execution_count": 49,
   "metadata": {
    "id": "0Hd3a20OGIeK"
   },
   "outputs": [
    {
     "data": {
      "text/plain": [
       "['c1', 'c2', 'c3', 'c1', 'c2']\n",
       "Categories (3, object): ['c1', 'c2', 'c3']"
      ]
     },
     "execution_count": 49,
     "metadata": {},
     "output_type": "execute_result"
    }
   ],
   "source": [
    "categories = ['c1', 'c2', 'c3']\n",
    "codes = [0, 1, 2, 0, 1]\n",
    "c = pd.Categorical.from_codes(codes, categories)\n",
    "c"
   ]
  },
  {
   "cell_type": "code",
   "execution_count": 50,
   "metadata": {
    "id": "n3MRLHmPHKM2"
   },
   "outputs": [
    {
     "data": {
      "text/plain": [
       "['c1', 'c2', 'c1', 'c2', 'c1', 'c1', 'c2', 'c1', 'c2', 'c1']\n",
       "Categories (3, object): ['c1' < 'c2' < 'c3']"
      ]
     },
     "execution_count": 50,
     "metadata": {},
     "output_type": "execute_result"
    }
   ],
   "source": [
    "pd.Categorical.from_codes(code, categories, ordered=True)"
   ]
  },
  {
   "cell_type": "code",
   "execution_count": 51,
   "metadata": {
    "id": "2PYX6ou4HjlD"
   },
   "outputs": [
    {
     "data": {
      "text/plain": [
       "['c1', 'c2', 'c3', 'c1', 'c2']\n",
       "Categories (3, object): ['c1' < 'c2' < 'c3']"
      ]
     },
     "execution_count": 51,
     "metadata": {},
     "output_type": "execute_result"
    }
   ],
   "source": [
    "c.as_ordered()"
   ]
  },
  {
   "cell_type": "code",
   "execution_count": 52,
   "metadata": {
    "id": "tR-KJXBqH_DD"
   },
   "outputs": [
    {
     "data": {
      "text/plain": [
       "array([0, 1, 2, 0, 1], dtype=int8)"
      ]
     },
     "execution_count": 52,
     "metadata": {},
     "output_type": "execute_result"
    }
   ],
   "source": [
    "c.codes"
   ]
  },
  {
   "cell_type": "code",
   "execution_count": 53,
   "metadata": {
    "id": "Hiiiuv8DIJRJ"
   },
   "outputs": [
    {
     "data": {
      "text/plain": [
       "Index(['c1', 'c2', 'c3'], dtype='object')"
      ]
     },
     "execution_count": 53,
     "metadata": {},
     "output_type": "execute_result"
    }
   ],
   "source": [
    "c.categories"
   ]
  },
  {
   "cell_type": "code",
   "execution_count": 54,
   "metadata": {
    "id": "Oxhdd12PIQGR"
   },
   "outputs": [
    {
     "data": {
      "text/plain": [
       "Index(['c1', 'c2', 'c3', 'c4', 'c5'], dtype='object')"
      ]
     },
     "execution_count": 54,
     "metadata": {},
     "output_type": "execute_result"
    }
   ],
   "source": [
    "c = c.set_categories(['c1', 'c2', 'c3', 'c4', 'c5'])\n",
    "c.categories"
   ]
  },
  {
   "cell_type": "code",
   "execution_count": 55,
   "metadata": {
    "id": "w2kR4J0HIagG"
   },
   "outputs": [
    {
     "data": {
      "text/plain": [
       "c1    2\n",
       "c2    2\n",
       "c3    1\n",
       "c4    0\n",
       "c5    0\n",
       "dtype: int64"
      ]
     },
     "execution_count": 55,
     "metadata": {},
     "output_type": "execute_result"
    }
   ],
   "source": [
    "c.value_counts()"
   ]
  },
  {
   "cell_type": "code",
   "execution_count": 56,
   "metadata": {
    "id": "PP_HNmTxIsi7"
   },
   "outputs": [
    {
     "data": {
      "text/plain": [
       "['c1', 'c3', 'c1']\n",
       "Categories (5, object): ['c1', 'c2', 'c3', 'c4', 'c5']"
      ]
     },
     "execution_count": 56,
     "metadata": {},
     "output_type": "execute_result"
    }
   ],
   "source": [
    "c[c.isin(['c1', 'c3'])]"
   ]
  },
  {
   "cell_type": "code",
   "execution_count": 57,
   "metadata": {
    "id": "oOEz4iOoI4tx"
   },
   "outputs": [],
   "source": [
    "c = c.remove_unused_categories()"
   ]
  },
  {
   "cell_type": "code",
   "execution_count": 58,
   "metadata": {
    "id": "-Vrw8j9CJ1Qw"
   },
   "outputs": [
    {
     "data": {
      "text/plain": [
       "Index(['c1', 'c2', 'c3'], dtype='object')"
      ]
     },
     "execution_count": 58,
     "metadata": {},
     "output_type": "execute_result"
    }
   ],
   "source": [
    "c.categories"
   ]
  },
  {
   "cell_type": "markdown",
   "metadata": {
    "id": "wjRK-aLNzLKo"
   },
   "source": [
    "## 문자열 연산"
   ]
  },
  {
   "cell_type": "markdown",
   "metadata": {
    "id": "q1LwRoiH0h8A"
   },
   "source": [
    "#### 문자열 연산자"
   ]
  },
  {
   "cell_type": "code",
   "execution_count": 59,
   "metadata": {
    "id": "AXJwgoGYyPx7"
   },
   "outputs": [
    {
     "data": {
      "text/plain": [
       "0           Suan Lee\n",
       "1        Steven Jobs\n",
       "2         Larry page\n",
       "3          Elon Musk\n",
       "4               None\n",
       "5         Bill Gates\n",
       "6    Mark Zuckerberg\n",
       "7         Jeff Bezos\n",
       "dtype: object"
      ]
     },
     "execution_count": 59,
     "metadata": {},
     "output_type": "execute_result"
    }
   ],
   "source": [
    "name_tuple = ['Suan Lee', 'Steven Jobs', 'Larry page', 'Elon Musk', None, 'Bill Gates', 'Mark Zuckerberg', 'Jeff Bezos']\n",
    "names = pd.Series(name_tuple)\n",
    "names"
   ]
  },
  {
   "cell_type": "code",
   "execution_count": 60,
   "metadata": {
    "id": "8UZuQclNzvy7"
   },
   "outputs": [
    {
     "data": {
      "text/plain": [
       "0           suan lee\n",
       "1        steven jobs\n",
       "2         larry page\n",
       "3          elon musk\n",
       "4               None\n",
       "5         bill gates\n",
       "6    mark zuckerberg\n",
       "7         jeff bezos\n",
       "dtype: object"
      ]
     },
     "execution_count": 60,
     "metadata": {},
     "output_type": "execute_result"
    }
   ],
   "source": [
    "names.str.lower()"
   ]
  },
  {
   "cell_type": "code",
   "execution_count": 61,
   "metadata": {
    "id": "RKC2Y-_p1cgf"
   },
   "outputs": [
    {
     "data": {
      "text/plain": [
       "0     8.0\n",
       "1    11.0\n",
       "2    10.0\n",
       "3     9.0\n",
       "4     NaN\n",
       "5    10.0\n",
       "6    15.0\n",
       "7    10.0\n",
       "dtype: float64"
      ]
     },
     "execution_count": 61,
     "metadata": {},
     "output_type": "execute_result"
    }
   ],
   "source": [
    "names.str.len()"
   ]
  },
  {
   "cell_type": "code",
   "execution_count": 62,
   "metadata": {
    "id": "pEza_iX71gdo"
   },
   "outputs": [
    {
     "data": {
      "text/plain": [
       "0           [Suan, Lee]\n",
       "1        [Steven, Jobs]\n",
       "2         [Larry, page]\n",
       "3          [Elon, Musk]\n",
       "4                  None\n",
       "5         [Bill, Gates]\n",
       "6    [Mark, Zuckerberg]\n",
       "7         [Jeff, Bezos]\n",
       "dtype: object"
      ]
     },
     "execution_count": 62,
     "metadata": {},
     "output_type": "execute_result"
    }
   ],
   "source": [
    "names.str.split()"
   ]
  },
  {
   "cell_type": "markdown",
   "metadata": {
    "id": "fmpHWLto8PPZ"
   },
   "source": [
    "#### 기타 연산자\n"
   ]
  },
  {
   "cell_type": "code",
   "execution_count": 63,
   "metadata": {
    "id": "8OoAFpYw5xUT"
   },
   "outputs": [
    {
     "data": {
      "text/plain": [
       "0    Suan\n",
       "1    Stev\n",
       "2    Larr\n",
       "3    Elon\n",
       "4    None\n",
       "5    Bill\n",
       "6    Mark\n",
       "7    Jeff\n",
       "dtype: object"
      ]
     },
     "execution_count": 63,
     "metadata": {},
     "output_type": "execute_result"
    }
   ],
   "source": [
    "names.str[0:4]"
   ]
  },
  {
   "cell_type": "code",
   "execution_count": 64,
   "metadata": {
    "id": "psOVr0dE8_hQ"
   },
   "outputs": [
    {
     "data": {
      "text/plain": [
       "0           Lee\n",
       "1          Jobs\n",
       "2          page\n",
       "3          Musk\n",
       "4          None\n",
       "5         Gates\n",
       "6    Zuckerberg\n",
       "7         Bezos\n",
       "dtype: object"
      ]
     },
     "execution_count": 64,
     "metadata": {},
     "output_type": "execute_result"
    }
   ],
   "source": [
    "names.str.split().str.get(-1)"
   ]
  },
  {
   "cell_type": "code",
   "execution_count": 65,
   "metadata": {
    "id": "c1OM6UFk94ty"
   },
   "outputs": [
    {
     "data": {
      "text/plain": [
       "0                  Suan LeeSuan Lee\n",
       "1            Steven JobsSteven Jobs\n",
       "2              Larry pageLarry page\n",
       "3                Elon MuskElon Musk\n",
       "4                              None\n",
       "5              Bill GatesBill Gates\n",
       "6    Mark ZuckerbergMark Zuckerberg\n",
       "7              Jeff BezosJeff Bezos\n",
       "dtype: object"
      ]
     },
     "execution_count": 65,
     "metadata": {},
     "output_type": "execute_result"
    }
   ],
   "source": [
    "names.str.repeat(2)"
   ]
  },
  {
   "cell_type": "code",
   "execution_count": 66,
   "metadata": {
    "id": "8gTH3OAa9F7R"
   },
   "outputs": [
    {
     "data": {
      "text/plain": [
       "0                  S*u*a*n* *L*e*e\n",
       "1            S*t*e*v*e*n* *J*o*b*s\n",
       "2              L*a*r*r*y* *p*a*g*e\n",
       "3                E*l*o*n* *M*u*s*k\n",
       "4                             None\n",
       "5              B*i*l*l* *G*a*t*e*s\n",
       "6    M*a*r*k* *Z*u*c*k*e*r*b*e*r*g\n",
       "7              J*e*f*f* *B*e*z*o*s\n",
       "dtype: object"
      ]
     },
     "execution_count": 66,
     "metadata": {},
     "output_type": "execute_result"
    }
   ],
   "source": [
    "names.str.join('*')"
   ]
  },
  {
   "cell_type": "markdown",
   "metadata": {
    "id": "cc5I6nYe2rIA"
   },
   "source": [
    "#### 정규표현식\n"
   ]
  },
  {
   "cell_type": "code",
   "execution_count": 67,
   "metadata": {
    "id": "f__zeZaV2hJt"
   },
   "outputs": [
    {
     "data": {
      "text/plain": [
       "0    True\n",
       "1    True\n",
       "2    True\n",
       "3    True\n",
       "4    None\n",
       "5    True\n",
       "6    True\n",
       "7    True\n",
       "dtype: object"
      ]
     },
     "execution_count": 67,
     "metadata": {},
     "output_type": "execute_result"
    }
   ],
   "source": [
    "names.str.match('([A-Za-z]+)')"
   ]
  },
  {
   "cell_type": "code",
   "execution_count": 68,
   "metadata": {
    "id": "WE-XezJe4FJ1"
   },
   "outputs": [
    {
     "data": {
      "text/plain": [
       "0           [Suan, Lee]\n",
       "1        [Steven, Jobs]\n",
       "2         [Larry, page]\n",
       "3          [Elon, Musk]\n",
       "4                  None\n",
       "5         [Bill, Gates]\n",
       "6    [Mark, Zuckerberg]\n",
       "7         [Jeff, Bezos]\n",
       "dtype: object"
      ]
     },
     "execution_count": 68,
     "metadata": {},
     "output_type": "execute_result"
    }
   ],
   "source": [
    "names.str.findall('([A-Za-z]+)')"
   ]
  },
  {
   "cell_type": "markdown",
   "metadata": {
    "id": "coa1wuPKAjE4"
   },
   "source": [
    "## 시계열 처리"
   ]
  },
  {
   "cell_type": "code",
   "execution_count": 69,
   "metadata": {
    "id": "DpzWbv0F9eE2"
   },
   "outputs": [
    {
     "data": {
      "text/plain": [
       "2019-01-01    0\n",
       "2020-01-01    1\n",
       "2020-02-01    2\n",
       "2020-02-02    3\n",
       "2020-03-01    4\n",
       "dtype: int64"
      ]
     },
     "execution_count": 69,
     "metadata": {},
     "output_type": "execute_result"
    }
   ],
   "source": [
    "idx = pd.DatetimeIndex(['2019-01-01', '2020-01-01', '2020-02-01',\n",
    "                       '2020-02-02', '2020-03-01'])\n",
    "s = pd.Series([0, 1, 2, 3, 4], index =idx)\n",
    "s"
   ]
  },
  {
   "cell_type": "code",
   "execution_count": 70,
   "metadata": {
    "id": "ucLDgwSaBC-j"
   },
   "outputs": [
    {
     "data": {
      "text/plain": [
       "2020-01-01    1\n",
       "2020-02-01    2\n",
       "2020-02-02    3\n",
       "2020-03-01    4\n",
       "dtype: int64"
      ]
     },
     "execution_count": 70,
     "metadata": {},
     "output_type": "execute_result"
    }
   ],
   "source": [
    "s['2020-01-01':]"
   ]
  },
  {
   "cell_type": "code",
   "execution_count": 71,
   "metadata": {
    "id": "ULqUMOA6BLTV"
   },
   "outputs": [
    {
     "data": {
      "text/plain": [
       "2019-01-01    0\n",
       "2020-01-01    1\n",
       "dtype: int64"
      ]
     },
     "execution_count": 71,
     "metadata": {},
     "output_type": "execute_result"
    }
   ],
   "source": [
    "s[:'2020-01-01']"
   ]
  },
  {
   "cell_type": "code",
   "execution_count": 72,
   "metadata": {
    "id": "AWSo-DsCDlem"
   },
   "outputs": [
    {
     "data": {
      "text/plain": [
       "2019-01-01    0\n",
       "dtype: int64"
      ]
     },
     "execution_count": 72,
     "metadata": {},
     "output_type": "execute_result"
    }
   ],
   "source": [
    "s['2019']"
   ]
  },
  {
   "cell_type": "markdown",
   "metadata": {
    "id": "KuoU8dtlD7kR"
   },
   "source": [
    "#### 시계열 데이터 구조\n"
   ]
  },
  {
   "cell_type": "code",
   "execution_count": 73,
   "metadata": {
    "id": "WRDRlDNPDzAc"
   },
   "outputs": [
    {
     "data": {
      "text/plain": [
       "DatetimeIndex(['2019-12-12', '2020-01-01', '2020-02-02', '2020-03-04',\n",
       "               '2020-07-01'],\n",
       "              dtype='datetime64[ns]', freq=None)"
      ]
     },
     "execution_count": 73,
     "metadata": {},
     "output_type": "execute_result"
    }
   ],
   "source": [
    "from datetime import datetime\n",
    "dates = pd.to_datetime(['12-12-2019', datetime(2020, 1, 1), '2nd of Feb, 2020', '2020-Mar-4', '20200701'])\n",
    "dates"
   ]
  },
  {
   "cell_type": "code",
   "execution_count": 74,
   "metadata": {
    "id": "jEXv5UcQHKoZ"
   },
   "outputs": [
    {
     "data": {
      "text/plain": [
       "PeriodIndex(['2019-12-12', '2020-01-01', '2020-02-02', '2020-03-04',\n",
       "             '2020-07-01'],\n",
       "            dtype='period[D]', freq='D')"
      ]
     },
     "execution_count": 74,
     "metadata": {},
     "output_type": "execute_result"
    }
   ],
   "source": [
    "dates.to_period('D')"
   ]
  },
  {
   "cell_type": "code",
   "execution_count": 75,
   "metadata": {
    "id": "i11dXCIKIKIA"
   },
   "outputs": [
    {
     "data": {
      "text/plain": [
       "TimedeltaIndex(['0 days', '20 days', '52 days', '83 days', '202 days'], dtype='timedelta64[ns]', freq=None)"
      ]
     },
     "execution_count": 75,
     "metadata": {},
     "output_type": "execute_result"
    }
   ],
   "source": [
    "dates - dates[0]"
   ]
  },
  {
   "cell_type": "code",
   "execution_count": 76,
   "metadata": {
    "id": "747a7Q8AIOVZ"
   },
   "outputs": [
    {
     "data": {
      "text/plain": [
       "DatetimeIndex(['2020-01-01', '2020-01-02', '2020-01-03', '2020-01-04',\n",
       "               '2020-01-05', '2020-01-06', '2020-01-07', '2020-01-08',\n",
       "               '2020-01-09', '2020-01-10',\n",
       "               ...\n",
       "               '2020-06-22', '2020-06-23', '2020-06-24', '2020-06-25',\n",
       "               '2020-06-26', '2020-06-27', '2020-06-28', '2020-06-29',\n",
       "               '2020-06-30', '2020-07-01'],\n",
       "              dtype='datetime64[ns]', length=183, freq='D')"
      ]
     },
     "execution_count": 76,
     "metadata": {},
     "output_type": "execute_result"
    }
   ],
   "source": [
    "pd.date_range('2020-01-01', '2020-07-01')"
   ]
  },
  {
   "cell_type": "code",
   "execution_count": 77,
   "metadata": {
    "id": "hfaW7kliITUq"
   },
   "outputs": [
    {
     "data": {
      "text/plain": [
       "DatetimeIndex(['2020-01-01', '2020-01-02', '2020-01-03', '2020-01-04',\n",
       "               '2020-01-05', '2020-01-06', '2020-01-07'],\n",
       "              dtype='datetime64[ns]', freq='D')"
      ]
     },
     "execution_count": 77,
     "metadata": {},
     "output_type": "execute_result"
    }
   ],
   "source": [
    "pd.date_range('2020-01-01', periods=7)"
   ]
  },
  {
   "cell_type": "code",
   "execution_count": 78,
   "metadata": {
    "id": "QnIaj9cfIwjG"
   },
   "outputs": [
    {
     "data": {
      "text/plain": [
       "DatetimeIndex(['2020-01-31', '2020-02-29', '2020-03-31', '2020-04-30',\n",
       "               '2020-05-31', '2020-06-30', '2020-07-31'],\n",
       "              dtype='datetime64[ns]', freq='M')"
      ]
     },
     "execution_count": 78,
     "metadata": {},
     "output_type": "execute_result"
    }
   ],
   "source": [
    "pd.date_range('2020-01-01', periods=7, freq='M')"
   ]
  },
  {
   "cell_type": "code",
   "execution_count": 79,
   "metadata": {
    "id": "3A5IqEhwI2KO"
   },
   "outputs": [
    {
     "data": {
      "text/plain": [
       "DatetimeIndex(['2020-01-01 00:00:00', '2020-01-01 01:00:00',\n",
       "               '2020-01-01 02:00:00', '2020-01-01 03:00:00',\n",
       "               '2020-01-01 04:00:00', '2020-01-01 05:00:00',\n",
       "               '2020-01-01 06:00:00'],\n",
       "              dtype='datetime64[ns]', freq='H')"
      ]
     },
     "execution_count": 79,
     "metadata": {},
     "output_type": "execute_result"
    }
   ],
   "source": [
    "pd.date_range('2020-01-01', periods=7, freq='H')"
   ]
  },
  {
   "cell_type": "code",
   "execution_count": 80,
   "metadata": {
    "id": "DmqQPTOgiHLD"
   },
   "outputs": [
    {
     "data": {
      "text/plain": [
       "DatetimeIndex(['2020-01-01 12:00:00', '2020-01-02 00:00:00', 'NaT'], dtype='datetime64[ns]', freq=None)"
      ]
     },
     "execution_count": 80,
     "metadata": {},
     "output_type": "execute_result"
    }
   ],
   "source": [
    "idx = pd.to_datetime(['2020-01-01 12:00:00', '2020-01-02 00:00:00'] + [None])\n",
    "idx"
   ]
  },
  {
   "cell_type": "code",
   "execution_count": 81,
   "metadata": {
    "id": "sWSFkY1EieM6"
   },
   "outputs": [
    {
     "data": {
      "text/plain": [
       "NaT"
      ]
     },
     "execution_count": 81,
     "metadata": {},
     "output_type": "execute_result"
    }
   ],
   "source": [
    "idx[2]"
   ]
  },
  {
   "cell_type": "code",
   "execution_count": 82,
   "metadata": {
    "id": "15Nbw1roimzp"
   },
   "outputs": [
    {
     "data": {
      "text/plain": [
       "array([False, False,  True])"
      ]
     },
     "execution_count": 82,
     "metadata": {},
     "output_type": "execute_result"
    }
   ],
   "source": [
    "pd.isnull(idx)"
   ]
  },
  {
   "cell_type": "markdown",
   "metadata": {
    "id": "eUdhdTqckQML"
   },
   "source": [
    "### 시계열 기본"
   ]
  },
  {
   "cell_type": "code",
   "execution_count": 83,
   "metadata": {
    "id": "o3C5bsKnkS3z"
   },
   "outputs": [
    {
     "data": {
      "text/plain": [
       "[datetime.datetime(2020, 1, 1, 0, 0),\n",
       " datetime.datetime(2020, 1, 2, 0, 0),\n",
       " datetime.datetime(2020, 1, 4, 0, 0),\n",
       " datetime.datetime(2020, 1, 7, 0, 0),\n",
       " datetime.datetime(2020, 1, 10, 0, 0),\n",
       " datetime.datetime(2020, 1, 11, 0, 0),\n",
       " datetime.datetime(2020, 1, 15, 0, 0)]"
      ]
     },
     "execution_count": 83,
     "metadata": {},
     "output_type": "execute_result"
    }
   ],
   "source": [
    "dates= [datetime(2020, 1, 1), datetime(2020, 1, 2), datetime(2020, 1, 4), datetime(2020, 1, 7),\n",
    "       datetime(2020, 1, 10), datetime(2020, 1, 11), datetime(2020, 1, 15)]\n",
    "dates"
   ]
  },
  {
   "cell_type": "code",
   "execution_count": 84,
   "metadata": {
    "id": "n0NOghJ3lK8f"
   },
   "outputs": [
    {
     "data": {
      "text/plain": [
       "2020-01-01    0.263991\n",
       "2020-01-02    0.741761\n",
       "2020-01-04    0.969564\n",
       "2020-01-07    1.164782\n",
       "2020-01-10    0.838253\n",
       "2020-01-11   -0.039622\n",
       "2020-01-15   -0.073338\n",
       "dtype: float64"
      ]
     },
     "execution_count": 84,
     "metadata": {},
     "output_type": "execute_result"
    }
   ],
   "source": [
    "ts = pd.Series(np.random.randn(7), index=dates)\n",
    "ts"
   ]
  },
  {
   "cell_type": "code",
   "execution_count": 85,
   "metadata": {
    "id": "_eTZ-8BOlYb_"
   },
   "outputs": [
    {
     "data": {
      "text/plain": [
       "DatetimeIndex(['2020-01-01', '2020-01-02', '2020-01-04', '2020-01-07',\n",
       "               '2020-01-10', '2020-01-11', '2020-01-15'],\n",
       "              dtype='datetime64[ns]', freq=None)"
      ]
     },
     "execution_count": 85,
     "metadata": {},
     "output_type": "execute_result"
    }
   ],
   "source": [
    "ts.index"
   ]
  },
  {
   "cell_type": "code",
   "execution_count": 86,
   "metadata": {
    "id": "vr-FEVSyll5c"
   },
   "outputs": [
    {
     "data": {
      "text/plain": [
       "Timestamp('2020-01-01 00:00:00')"
      ]
     },
     "execution_count": 86,
     "metadata": {},
     "output_type": "execute_result"
    }
   ],
   "source": [
    "ts.index[0]"
   ]
  },
  {
   "cell_type": "code",
   "execution_count": 87,
   "metadata": {
    "id": "aaRJ83ZNm1P4"
   },
   "outputs": [
    {
     "data": {
      "text/plain": [
       "0.9695642271317747"
      ]
     },
     "execution_count": 87,
     "metadata": {},
     "output_type": "execute_result"
    }
   ],
   "source": [
    "ts[ts.index[2]]"
   ]
  },
  {
   "cell_type": "code",
   "execution_count": 88,
   "metadata": {
    "id": "h9tW0LHSnAT7"
   },
   "outputs": [
    {
     "data": {
      "text/plain": [
       "0.9695642271317747"
      ]
     },
     "execution_count": 88,
     "metadata": {},
     "output_type": "execute_result"
    }
   ],
   "source": [
    "ts['20200104']"
   ]
  },
  {
   "cell_type": "code",
   "execution_count": 89,
   "metadata": {
    "id": "-PiTx7qanLSF"
   },
   "outputs": [
    {
     "data": {
      "text/plain": [
       "0.9695642271317747"
      ]
     },
     "execution_count": 89,
     "metadata": {},
     "output_type": "execute_result"
    }
   ],
   "source": [
    "ts['1/4/2020']"
   ]
  },
  {
   "cell_type": "code",
   "execution_count": 90,
   "metadata": {
    "id": "RZXHXH79oL87"
   },
   "outputs": [
    {
     "data": {
      "text/plain": [
       "2017-10-01   -0.960662\n",
       "2017-10-02   -1.792537\n",
       "2017-10-03    0.132584\n",
       "2017-10-04   -0.677342\n",
       "2017-10-05   -0.911321\n",
       "                ...   \n",
       "2020-06-22   -0.140769\n",
       "2020-06-23    1.144656\n",
       "2020-06-24    1.631823\n",
       "2020-06-25    0.185229\n",
       "2020-06-26   -1.401777\n",
       "Freq: D, Length: 1000, dtype: float64"
      ]
     },
     "execution_count": 90,
     "metadata": {},
     "output_type": "execute_result"
    }
   ],
   "source": [
    "ts = pd.Series(np.random.randn(1000),\n",
    "              index=pd.date_range('2017-10-01', periods=1000))\n",
    "ts"
   ]
  },
  {
   "cell_type": "code",
   "execution_count": 91,
   "metadata": {
    "id": "OrV7HKEkoZL7"
   },
   "outputs": [
    {
     "data": {
      "text/plain": [
       "2020-01-01   -0.451343\n",
       "2020-01-02    0.544365\n",
       "2020-01-03    0.446798\n",
       "2020-01-04    0.416157\n",
       "2020-01-05    1.172374\n",
       "                ...   \n",
       "2020-06-22   -0.140769\n",
       "2020-06-23    1.144656\n",
       "2020-06-24    1.631823\n",
       "2020-06-25    0.185229\n",
       "2020-06-26   -1.401777\n",
       "Freq: D, Length: 178, dtype: float64"
      ]
     },
     "execution_count": 91,
     "metadata": {},
     "output_type": "execute_result"
    }
   ],
   "source": [
    "ts['2020']"
   ]
  },
  {
   "cell_type": "code",
   "execution_count": 92,
   "metadata": {
    "id": "bAtqzI_jor5X"
   },
   "outputs": [
    {
     "data": {
      "text/plain": [
       "2020-06-01    0.842111\n",
       "2020-06-02    0.198303\n",
       "2020-06-03    0.656753\n",
       "2020-06-04   -1.408915\n",
       "2020-06-05    0.137344\n",
       "2020-06-06    0.412319\n",
       "2020-06-07    0.563326\n",
       "2020-06-08   -0.472421\n",
       "2020-06-09   -0.467774\n",
       "2020-06-10   -0.905605\n",
       "2020-06-11   -2.658735\n",
       "2020-06-12    0.053256\n",
       "2020-06-13   -0.287946\n",
       "2020-06-14    0.938112\n",
       "2020-06-15   -0.211522\n",
       "2020-06-16   -0.879909\n",
       "2020-06-17    1.580337\n",
       "2020-06-18    0.241675\n",
       "2020-06-19    1.044349\n",
       "2020-06-20   -0.239184\n",
       "2020-06-21   -0.778864\n",
       "2020-06-22   -0.140769\n",
       "2020-06-23    1.144656\n",
       "2020-06-24    1.631823\n",
       "2020-06-25    0.185229\n",
       "2020-06-26   -1.401777\n",
       "Freq: D, dtype: float64"
      ]
     },
     "execution_count": 92,
     "metadata": {},
     "output_type": "execute_result"
    }
   ],
   "source": [
    "ts['2020-06']"
   ]
  },
  {
   "cell_type": "code",
   "execution_count": 93,
   "metadata": {
    "id": "AkHSxPFKpW3g"
   },
   "outputs": [
    {
     "data": {
      "text/plain": [
       "2020-06-20   -0.239184\n",
       "2020-06-21   -0.778864\n",
       "2020-06-22   -0.140769\n",
       "2020-06-23    1.144656\n",
       "2020-06-24    1.631823\n",
       "2020-06-25    0.185229\n",
       "2020-06-26   -1.401777\n",
       "Freq: D, dtype: float64"
      ]
     },
     "execution_count": 93,
     "metadata": {},
     "output_type": "execute_result"
    }
   ],
   "source": [
    "ts[datetime(2020, 6, 20):]"
   ]
  },
  {
   "cell_type": "code",
   "execution_count": 94,
   "metadata": {
    "id": "BLcA7EkOpdwC"
   },
   "outputs": [
    {
     "data": {
      "text/plain": [
       "2020-06-10   -0.905605\n",
       "2020-06-11   -2.658735\n",
       "2020-06-12    0.053256\n",
       "2020-06-13   -0.287946\n",
       "2020-06-14    0.938112\n",
       "2020-06-15   -0.211522\n",
       "2020-06-16   -0.879909\n",
       "2020-06-17    1.580337\n",
       "2020-06-18    0.241675\n",
       "2020-06-19    1.044349\n",
       "2020-06-20   -0.239184\n",
       "Freq: D, dtype: float64"
      ]
     },
     "execution_count": 94,
     "metadata": {},
     "output_type": "execute_result"
    }
   ],
   "source": [
    "ts['2020-06-10':'2020-06-20']"
   ]
  },
  {
   "cell_type": "code",
   "execution_count": 95,
   "metadata": {
    "id": "k2WCkszlqEwH"
   },
   "outputs": [
    {
     "data": {
      "text/html": [
       "<div>\n",
       "<style scoped>\n",
       "    .dataframe tbody tr th:only-of-type {\n",
       "        vertical-align: middle;\n",
       "    }\n",
       "\n",
       "    .dataframe tbody tr th {\n",
       "        vertical-align: top;\n",
       "    }\n",
       "\n",
       "    .dataframe thead th {\n",
       "        text-align: right;\n",
       "    }\n",
       "</style>\n",
       "<table border=\"1\" class=\"dataframe\">\n",
       "  <thead>\n",
       "    <tr style=\"text-align: right;\">\n",
       "      <th></th>\n",
       "      <th>A</th>\n",
       "      <th>B</th>\n",
       "      <th>C</th>\n",
       "      <th>D</th>\n",
       "    </tr>\n",
       "  </thead>\n",
       "  <tbody>\n",
       "    <tr>\n",
       "      <th>2017-10-01</th>\n",
       "      <td>-0.645465</td>\n",
       "      <td>1.475549</td>\n",
       "      <td>-0.127287</td>\n",
       "      <td>0.706699</td>\n",
       "    </tr>\n",
       "    <tr>\n",
       "      <th>2017-10-02</th>\n",
       "      <td>1.545780</td>\n",
       "      <td>0.131715</td>\n",
       "      <td>0.627648</td>\n",
       "      <td>-0.834889</td>\n",
       "    </tr>\n",
       "    <tr>\n",
       "      <th>2017-10-03</th>\n",
       "      <td>-0.771348</td>\n",
       "      <td>0.721854</td>\n",
       "      <td>-0.902990</td>\n",
       "      <td>-2.715995</td>\n",
       "    </tr>\n",
       "    <tr>\n",
       "      <th>2017-10-04</th>\n",
       "      <td>0.356215</td>\n",
       "      <td>1.361846</td>\n",
       "      <td>-0.800140</td>\n",
       "      <td>1.218291</td>\n",
       "    </tr>\n",
       "    <tr>\n",
       "      <th>2017-10-05</th>\n",
       "      <td>-1.524915</td>\n",
       "      <td>-1.346660</td>\n",
       "      <td>0.672298</td>\n",
       "      <td>0.754435</td>\n",
       "    </tr>\n",
       "    <tr>\n",
       "      <th>...</th>\n",
       "      <td>...</td>\n",
       "      <td>...</td>\n",
       "      <td>...</td>\n",
       "      <td>...</td>\n",
       "    </tr>\n",
       "    <tr>\n",
       "      <th>2020-06-22</th>\n",
       "      <td>-0.715286</td>\n",
       "      <td>-0.473431</td>\n",
       "      <td>-0.279020</td>\n",
       "      <td>0.100177</td>\n",
       "    </tr>\n",
       "    <tr>\n",
       "      <th>2020-06-23</th>\n",
       "      <td>1.720231</td>\n",
       "      <td>1.733301</td>\n",
       "      <td>0.190702</td>\n",
       "      <td>-1.223960</td>\n",
       "    </tr>\n",
       "    <tr>\n",
       "      <th>2020-06-24</th>\n",
       "      <td>1.260663</td>\n",
       "      <td>1.022764</td>\n",
       "      <td>-1.111716</td>\n",
       "      <td>-0.021434</td>\n",
       "    </tr>\n",
       "    <tr>\n",
       "      <th>2020-06-25</th>\n",
       "      <td>-1.268088</td>\n",
       "      <td>0.151027</td>\n",
       "      <td>0.471630</td>\n",
       "      <td>0.917494</td>\n",
       "    </tr>\n",
       "    <tr>\n",
       "      <th>2020-06-26</th>\n",
       "      <td>1.154403</td>\n",
       "      <td>1.130113</td>\n",
       "      <td>-0.271328</td>\n",
       "      <td>-0.278995</td>\n",
       "    </tr>\n",
       "  </tbody>\n",
       "</table>\n",
       "<p>1000 rows × 4 columns</p>\n",
       "</div>"
      ],
      "text/plain": [
       "                   A         B         C         D\n",
       "2017-10-01 -0.645465  1.475549 -0.127287  0.706699\n",
       "2017-10-02  1.545780  0.131715  0.627648 -0.834889\n",
       "2017-10-03 -0.771348  0.721854 -0.902990 -2.715995\n",
       "2017-10-04  0.356215  1.361846 -0.800140  1.218291\n",
       "2017-10-05 -1.524915 -1.346660  0.672298  0.754435\n",
       "...              ...       ...       ...       ...\n",
       "2020-06-22 -0.715286 -0.473431 -0.279020  0.100177\n",
       "2020-06-23  1.720231  1.733301  0.190702 -1.223960\n",
       "2020-06-24  1.260663  1.022764 -1.111716 -0.021434\n",
       "2020-06-25 -1.268088  0.151027  0.471630  0.917494\n",
       "2020-06-26  1.154403  1.130113 -0.271328 -0.278995\n",
       "\n",
       "[1000 rows x 4 columns]"
      ]
     },
     "execution_count": 95,
     "metadata": {},
     "output_type": "execute_result"
    }
   ],
   "source": [
    "tdf = pd.DataFrame(np.random.randn(1000, 4),\n",
    "                  index=pd.date_range('2017-10-01', periods=1000),\n",
    "                  columns=['A', 'B', 'C', 'D'])\n",
    "tdf"
   ]
  },
  {
   "cell_type": "code",
   "execution_count": 96,
   "metadata": {
    "id": "PDFICllKqwrv"
   },
   "outputs": [
    {
     "name": "stderr",
     "output_type": "stream",
     "text": [
      "<ipython-input-96-8f66df2f472c>:1: FutureWarning: Indexing a DataFrame with a datetimelike index using a single string to slice the rows, like `frame[string]`, is deprecated and will be removed in a future version. Use `frame.loc[string]` instead.\n",
      "  tdf['2020']\n"
     ]
    },
    {
     "data": {
      "text/html": [
       "<div>\n",
       "<style scoped>\n",
       "    .dataframe tbody tr th:only-of-type {\n",
       "        vertical-align: middle;\n",
       "    }\n",
       "\n",
       "    .dataframe tbody tr th {\n",
       "        vertical-align: top;\n",
       "    }\n",
       "\n",
       "    .dataframe thead th {\n",
       "        text-align: right;\n",
       "    }\n",
       "</style>\n",
       "<table border=\"1\" class=\"dataframe\">\n",
       "  <thead>\n",
       "    <tr style=\"text-align: right;\">\n",
       "      <th></th>\n",
       "      <th>A</th>\n",
       "      <th>B</th>\n",
       "      <th>C</th>\n",
       "      <th>D</th>\n",
       "    </tr>\n",
       "  </thead>\n",
       "  <tbody>\n",
       "    <tr>\n",
       "      <th>2020-01-01</th>\n",
       "      <td>1.146488</td>\n",
       "      <td>-1.807088</td>\n",
       "      <td>0.202516</td>\n",
       "      <td>0.346479</td>\n",
       "    </tr>\n",
       "    <tr>\n",
       "      <th>2020-01-02</th>\n",
       "      <td>-0.818374</td>\n",
       "      <td>0.442638</td>\n",
       "      <td>-0.496340</td>\n",
       "      <td>-0.197460</td>\n",
       "    </tr>\n",
       "    <tr>\n",
       "      <th>2020-01-03</th>\n",
       "      <td>0.221955</td>\n",
       "      <td>1.051605</td>\n",
       "      <td>0.127932</td>\n",
       "      <td>-0.444380</td>\n",
       "    </tr>\n",
       "    <tr>\n",
       "      <th>2020-01-04</th>\n",
       "      <td>0.430497</td>\n",
       "      <td>-0.668448</td>\n",
       "      <td>-0.644132</td>\n",
       "      <td>0.120934</td>\n",
       "    </tr>\n",
       "    <tr>\n",
       "      <th>2020-01-05</th>\n",
       "      <td>-0.144829</td>\n",
       "      <td>0.804610</td>\n",
       "      <td>0.684053</td>\n",
       "      <td>1.556291</td>\n",
       "    </tr>\n",
       "    <tr>\n",
       "      <th>...</th>\n",
       "      <td>...</td>\n",
       "      <td>...</td>\n",
       "      <td>...</td>\n",
       "      <td>...</td>\n",
       "    </tr>\n",
       "    <tr>\n",
       "      <th>2020-06-22</th>\n",
       "      <td>-0.715286</td>\n",
       "      <td>-0.473431</td>\n",
       "      <td>-0.279020</td>\n",
       "      <td>0.100177</td>\n",
       "    </tr>\n",
       "    <tr>\n",
       "      <th>2020-06-23</th>\n",
       "      <td>1.720231</td>\n",
       "      <td>1.733301</td>\n",
       "      <td>0.190702</td>\n",
       "      <td>-1.223960</td>\n",
       "    </tr>\n",
       "    <tr>\n",
       "      <th>2020-06-24</th>\n",
       "      <td>1.260663</td>\n",
       "      <td>1.022764</td>\n",
       "      <td>-1.111716</td>\n",
       "      <td>-0.021434</td>\n",
       "    </tr>\n",
       "    <tr>\n",
       "      <th>2020-06-25</th>\n",
       "      <td>-1.268088</td>\n",
       "      <td>0.151027</td>\n",
       "      <td>0.471630</td>\n",
       "      <td>0.917494</td>\n",
       "    </tr>\n",
       "    <tr>\n",
       "      <th>2020-06-26</th>\n",
       "      <td>1.154403</td>\n",
       "      <td>1.130113</td>\n",
       "      <td>-0.271328</td>\n",
       "      <td>-0.278995</td>\n",
       "    </tr>\n",
       "  </tbody>\n",
       "</table>\n",
       "<p>178 rows × 4 columns</p>\n",
       "</div>"
      ],
      "text/plain": [
       "                   A         B         C         D\n",
       "2020-01-01  1.146488 -1.807088  0.202516  0.346479\n",
       "2020-01-02 -0.818374  0.442638 -0.496340 -0.197460\n",
       "2020-01-03  0.221955  1.051605  0.127932 -0.444380\n",
       "2020-01-04  0.430497 -0.668448 -0.644132  0.120934\n",
       "2020-01-05 -0.144829  0.804610  0.684053  1.556291\n",
       "...              ...       ...       ...       ...\n",
       "2020-06-22 -0.715286 -0.473431 -0.279020  0.100177\n",
       "2020-06-23  1.720231  1.733301  0.190702 -1.223960\n",
       "2020-06-24  1.260663  1.022764 -1.111716 -0.021434\n",
       "2020-06-25 -1.268088  0.151027  0.471630  0.917494\n",
       "2020-06-26  1.154403  1.130113 -0.271328 -0.278995\n",
       "\n",
       "[178 rows x 4 columns]"
      ]
     },
     "execution_count": 96,
     "metadata": {},
     "output_type": "execute_result"
    }
   ],
   "source": [
    "tdf['2020']"
   ]
  },
  {
   "cell_type": "code",
   "execution_count": 97,
   "metadata": {
    "id": "3q6TX5rVq0q1"
   },
   "outputs": [
    {
     "data": {
      "text/html": [
       "<div>\n",
       "<style scoped>\n",
       "    .dataframe tbody tr th:only-of-type {\n",
       "        vertical-align: middle;\n",
       "    }\n",
       "\n",
       "    .dataframe tbody tr th {\n",
       "        vertical-align: top;\n",
       "    }\n",
       "\n",
       "    .dataframe thead th {\n",
       "        text-align: right;\n",
       "    }\n",
       "</style>\n",
       "<table border=\"1\" class=\"dataframe\">\n",
       "  <thead>\n",
       "    <tr style=\"text-align: right;\">\n",
       "      <th></th>\n",
       "      <th>A</th>\n",
       "      <th>B</th>\n",
       "      <th>C</th>\n",
       "      <th>D</th>\n",
       "    </tr>\n",
       "  </thead>\n",
       "  <tbody>\n",
       "    <tr>\n",
       "      <th>2020-06-01</th>\n",
       "      <td>0.434211</td>\n",
       "      <td>1.053955</td>\n",
       "      <td>1.228545</td>\n",
       "      <td>0.094094</td>\n",
       "    </tr>\n",
       "    <tr>\n",
       "      <th>2020-06-02</th>\n",
       "      <td>1.548504</td>\n",
       "      <td>0.696717</td>\n",
       "      <td>0.276815</td>\n",
       "      <td>-0.437064</td>\n",
       "    </tr>\n",
       "    <tr>\n",
       "      <th>2020-06-03</th>\n",
       "      <td>-1.174143</td>\n",
       "      <td>0.203954</td>\n",
       "      <td>1.633648</td>\n",
       "      <td>-0.934881</td>\n",
       "    </tr>\n",
       "    <tr>\n",
       "      <th>2020-06-04</th>\n",
       "      <td>-0.227723</td>\n",
       "      <td>0.206088</td>\n",
       "      <td>0.006199</td>\n",
       "      <td>1.377339</td>\n",
       "    </tr>\n",
       "    <tr>\n",
       "      <th>2020-06-05</th>\n",
       "      <td>0.819965</td>\n",
       "      <td>0.305830</td>\n",
       "      <td>1.017664</td>\n",
       "      <td>-0.328019</td>\n",
       "    </tr>\n",
       "    <tr>\n",
       "      <th>2020-06-06</th>\n",
       "      <td>-0.468377</td>\n",
       "      <td>1.651363</td>\n",
       "      <td>-0.169807</td>\n",
       "      <td>0.933420</td>\n",
       "    </tr>\n",
       "    <tr>\n",
       "      <th>2020-06-07</th>\n",
       "      <td>-0.103158</td>\n",
       "      <td>0.130499</td>\n",
       "      <td>1.217279</td>\n",
       "      <td>-1.778587</td>\n",
       "    </tr>\n",
       "    <tr>\n",
       "      <th>2020-06-08</th>\n",
       "      <td>0.047540</td>\n",
       "      <td>1.023474</td>\n",
       "      <td>0.392994</td>\n",
       "      <td>-1.761869</td>\n",
       "    </tr>\n",
       "    <tr>\n",
       "      <th>2020-06-09</th>\n",
       "      <td>0.201195</td>\n",
       "      <td>-1.456836</td>\n",
       "      <td>-0.408648</td>\n",
       "      <td>0.471249</td>\n",
       "    </tr>\n",
       "    <tr>\n",
       "      <th>2020-06-10</th>\n",
       "      <td>1.356710</td>\n",
       "      <td>-2.172230</td>\n",
       "      <td>1.553144</td>\n",
       "      <td>0.285334</td>\n",
       "    </tr>\n",
       "    <tr>\n",
       "      <th>2020-06-11</th>\n",
       "      <td>-1.221596</td>\n",
       "      <td>0.090355</td>\n",
       "      <td>1.887684</td>\n",
       "      <td>-0.594212</td>\n",
       "    </tr>\n",
       "    <tr>\n",
       "      <th>2020-06-12</th>\n",
       "      <td>0.601817</td>\n",
       "      <td>0.889545</td>\n",
       "      <td>-1.431301</td>\n",
       "      <td>-0.733255</td>\n",
       "    </tr>\n",
       "    <tr>\n",
       "      <th>2020-06-13</th>\n",
       "      <td>-0.902523</td>\n",
       "      <td>0.874048</td>\n",
       "      <td>-2.070890</td>\n",
       "      <td>-1.562480</td>\n",
       "    </tr>\n",
       "    <tr>\n",
       "      <th>2020-06-14</th>\n",
       "      <td>0.951827</td>\n",
       "      <td>0.754432</td>\n",
       "      <td>-0.305397</td>\n",
       "      <td>-0.102046</td>\n",
       "    </tr>\n",
       "    <tr>\n",
       "      <th>2020-06-15</th>\n",
       "      <td>-1.148971</td>\n",
       "      <td>0.752140</td>\n",
       "      <td>-0.068756</td>\n",
       "      <td>0.483591</td>\n",
       "    </tr>\n",
       "    <tr>\n",
       "      <th>2020-06-16</th>\n",
       "      <td>1.735287</td>\n",
       "      <td>0.868374</td>\n",
       "      <td>-0.093591</td>\n",
       "      <td>-0.169226</td>\n",
       "    </tr>\n",
       "    <tr>\n",
       "      <th>2020-06-17</th>\n",
       "      <td>-1.246150</td>\n",
       "      <td>1.895251</td>\n",
       "      <td>0.525565</td>\n",
       "      <td>0.842796</td>\n",
       "    </tr>\n",
       "    <tr>\n",
       "      <th>2020-06-18</th>\n",
       "      <td>1.175326</td>\n",
       "      <td>-1.758939</td>\n",
       "      <td>0.758057</td>\n",
       "      <td>0.580363</td>\n",
       "    </tr>\n",
       "    <tr>\n",
       "      <th>2020-06-19</th>\n",
       "      <td>-0.747186</td>\n",
       "      <td>0.926587</td>\n",
       "      <td>1.445428</td>\n",
       "      <td>1.221069</td>\n",
       "    </tr>\n",
       "    <tr>\n",
       "      <th>2020-06-20</th>\n",
       "      <td>0.463491</td>\n",
       "      <td>-1.133415</td>\n",
       "      <td>-1.399947</td>\n",
       "      <td>-0.770776</td>\n",
       "    </tr>\n",
       "    <tr>\n",
       "      <th>2020-06-21</th>\n",
       "      <td>1.190164</td>\n",
       "      <td>0.612301</td>\n",
       "      <td>0.844391</td>\n",
       "      <td>0.112101</td>\n",
       "    </tr>\n",
       "    <tr>\n",
       "      <th>2020-06-22</th>\n",
       "      <td>-0.715286</td>\n",
       "      <td>-0.473431</td>\n",
       "      <td>-0.279020</td>\n",
       "      <td>0.100177</td>\n",
       "    </tr>\n",
       "    <tr>\n",
       "      <th>2020-06-23</th>\n",
       "      <td>1.720231</td>\n",
       "      <td>1.733301</td>\n",
       "      <td>0.190702</td>\n",
       "      <td>-1.223960</td>\n",
       "    </tr>\n",
       "    <tr>\n",
       "      <th>2020-06-24</th>\n",
       "      <td>1.260663</td>\n",
       "      <td>1.022764</td>\n",
       "      <td>-1.111716</td>\n",
       "      <td>-0.021434</td>\n",
       "    </tr>\n",
       "    <tr>\n",
       "      <th>2020-06-25</th>\n",
       "      <td>-1.268088</td>\n",
       "      <td>0.151027</td>\n",
       "      <td>0.471630</td>\n",
       "      <td>0.917494</td>\n",
       "    </tr>\n",
       "    <tr>\n",
       "      <th>2020-06-26</th>\n",
       "      <td>1.154403</td>\n",
       "      <td>1.130113</td>\n",
       "      <td>-0.271328</td>\n",
       "      <td>-0.278995</td>\n",
       "    </tr>\n",
       "  </tbody>\n",
       "</table>\n",
       "</div>"
      ],
      "text/plain": [
       "                   A         B         C         D\n",
       "2020-06-01  0.434211  1.053955  1.228545  0.094094\n",
       "2020-06-02  1.548504  0.696717  0.276815 -0.437064\n",
       "2020-06-03 -1.174143  0.203954  1.633648 -0.934881\n",
       "2020-06-04 -0.227723  0.206088  0.006199  1.377339\n",
       "2020-06-05  0.819965  0.305830  1.017664 -0.328019\n",
       "2020-06-06 -0.468377  1.651363 -0.169807  0.933420\n",
       "2020-06-07 -0.103158  0.130499  1.217279 -1.778587\n",
       "2020-06-08  0.047540  1.023474  0.392994 -1.761869\n",
       "2020-06-09  0.201195 -1.456836 -0.408648  0.471249\n",
       "2020-06-10  1.356710 -2.172230  1.553144  0.285334\n",
       "2020-06-11 -1.221596  0.090355  1.887684 -0.594212\n",
       "2020-06-12  0.601817  0.889545 -1.431301 -0.733255\n",
       "2020-06-13 -0.902523  0.874048 -2.070890 -1.562480\n",
       "2020-06-14  0.951827  0.754432 -0.305397 -0.102046\n",
       "2020-06-15 -1.148971  0.752140 -0.068756  0.483591\n",
       "2020-06-16  1.735287  0.868374 -0.093591 -0.169226\n",
       "2020-06-17 -1.246150  1.895251  0.525565  0.842796\n",
       "2020-06-18  1.175326 -1.758939  0.758057  0.580363\n",
       "2020-06-19 -0.747186  0.926587  1.445428  1.221069\n",
       "2020-06-20  0.463491 -1.133415 -1.399947 -0.770776\n",
       "2020-06-21  1.190164  0.612301  0.844391  0.112101\n",
       "2020-06-22 -0.715286 -0.473431 -0.279020  0.100177\n",
       "2020-06-23  1.720231  1.733301  0.190702 -1.223960\n",
       "2020-06-24  1.260663  1.022764 -1.111716 -0.021434\n",
       "2020-06-25 -1.268088  0.151027  0.471630  0.917494\n",
       "2020-06-26  1.154403  1.130113 -0.271328 -0.278995"
      ]
     },
     "execution_count": 97,
     "metadata": {},
     "output_type": "execute_result"
    }
   ],
   "source": [
    "tdf.loc['2020-06']"
   ]
  },
  {
   "cell_type": "code",
   "execution_count": 98,
   "metadata": {
    "id": "n0FVEH7sq74X"
   },
   "outputs": [
    {
     "data": {
      "text/html": [
       "<div>\n",
       "<style scoped>\n",
       "    .dataframe tbody tr th:only-of-type {\n",
       "        vertical-align: middle;\n",
       "    }\n",
       "\n",
       "    .dataframe tbody tr th {\n",
       "        vertical-align: top;\n",
       "    }\n",
       "\n",
       "    .dataframe thead th {\n",
       "        text-align: right;\n",
       "    }\n",
       "</style>\n",
       "<table border=\"1\" class=\"dataframe\">\n",
       "  <thead>\n",
       "    <tr style=\"text-align: right;\">\n",
       "      <th></th>\n",
       "      <th>A</th>\n",
       "      <th>B</th>\n",
       "      <th>C</th>\n",
       "      <th>D</th>\n",
       "    </tr>\n",
       "  </thead>\n",
       "  <tbody>\n",
       "    <tr>\n",
       "      <th>2020-06-20</th>\n",
       "      <td>0.463491</td>\n",
       "      <td>-1.133415</td>\n",
       "      <td>-1.399947</td>\n",
       "      <td>-0.770776</td>\n",
       "    </tr>\n",
       "    <tr>\n",
       "      <th>2020-06-21</th>\n",
       "      <td>1.190164</td>\n",
       "      <td>0.612301</td>\n",
       "      <td>0.844391</td>\n",
       "      <td>0.112101</td>\n",
       "    </tr>\n",
       "    <tr>\n",
       "      <th>2020-06-22</th>\n",
       "      <td>-0.715286</td>\n",
       "      <td>-0.473431</td>\n",
       "      <td>-0.279020</td>\n",
       "      <td>0.100177</td>\n",
       "    </tr>\n",
       "    <tr>\n",
       "      <th>2020-06-23</th>\n",
       "      <td>1.720231</td>\n",
       "      <td>1.733301</td>\n",
       "      <td>0.190702</td>\n",
       "      <td>-1.223960</td>\n",
       "    </tr>\n",
       "    <tr>\n",
       "      <th>2020-06-24</th>\n",
       "      <td>1.260663</td>\n",
       "      <td>1.022764</td>\n",
       "      <td>-1.111716</td>\n",
       "      <td>-0.021434</td>\n",
       "    </tr>\n",
       "    <tr>\n",
       "      <th>2020-06-25</th>\n",
       "      <td>-1.268088</td>\n",
       "      <td>0.151027</td>\n",
       "      <td>0.471630</td>\n",
       "      <td>0.917494</td>\n",
       "    </tr>\n",
       "    <tr>\n",
       "      <th>2020-06-26</th>\n",
       "      <td>1.154403</td>\n",
       "      <td>1.130113</td>\n",
       "      <td>-0.271328</td>\n",
       "      <td>-0.278995</td>\n",
       "    </tr>\n",
       "  </tbody>\n",
       "</table>\n",
       "</div>"
      ],
      "text/plain": [
       "                   A         B         C         D\n",
       "2020-06-20  0.463491 -1.133415 -1.399947 -0.770776\n",
       "2020-06-21  1.190164  0.612301  0.844391  0.112101\n",
       "2020-06-22 -0.715286 -0.473431 -0.279020  0.100177\n",
       "2020-06-23  1.720231  1.733301  0.190702 -1.223960\n",
       "2020-06-24  1.260663  1.022764 -1.111716 -0.021434\n",
       "2020-06-25 -1.268088  0.151027  0.471630  0.917494\n",
       "2020-06-26  1.154403  1.130113 -0.271328 -0.278995"
      ]
     },
     "execution_count": 98,
     "metadata": {},
     "output_type": "execute_result"
    }
   ],
   "source": [
    "tdf['2020-06-20':]"
   ]
  },
  {
   "cell_type": "code",
   "execution_count": 99,
   "metadata": {
    "id": "hkbUwF9JrULg"
   },
   "outputs": [
    {
     "data": {
      "text/plain": [
       "2017-10-01   -0.127287\n",
       "2017-10-02    0.627648\n",
       "2017-10-03   -0.902990\n",
       "2017-10-04   -0.800140\n",
       "2017-10-05    0.672298\n",
       "                ...   \n",
       "2020-06-22   -0.279020\n",
       "2020-06-23    0.190702\n",
       "2020-06-24   -1.111716\n",
       "2020-06-25    0.471630\n",
       "2020-06-26   -0.271328\n",
       "Freq: D, Name: C, Length: 1000, dtype: float64"
      ]
     },
     "execution_count": 99,
     "metadata": {},
     "output_type": "execute_result"
    }
   ],
   "source": [
    "tdf['C']"
   ]
  },
  {
   "cell_type": "code",
   "execution_count": 100,
   "metadata": {
    "id": "Bo4Ao2zisOs6"
   },
   "outputs": [
    {
     "data": {
      "text/plain": [
       "2017-10-01   -0.127287\n",
       "2017-10-02    0.627648\n",
       "2017-10-03   -0.902990\n",
       "2017-10-04   -0.800140\n",
       "2017-10-05    0.672298\n",
       "                ...   \n",
       "2020-06-22   -0.279020\n",
       "2020-06-23    0.190702\n",
       "2020-06-24   -1.111716\n",
       "2020-06-25    0.471630\n",
       "2020-06-26   -0.271328\n",
       "Freq: D, Name: C, Length: 1000, dtype: float64"
      ]
     },
     "execution_count": 100,
     "metadata": {},
     "output_type": "execute_result"
    }
   ],
   "source": [
    "tdf['C']"
   ]
  },
  {
   "cell_type": "code",
   "execution_count": 102,
   "metadata": {
    "id": "0jxhrhS3tBEq"
   },
   "outputs": [
    {
     "data": {
      "text/plain": [
       "2020-01-01    0.141050\n",
       "2020-01-01    0.538580\n",
       "2020-01-02   -0.855798\n",
       "2020-01-02    0.824855\n",
       "2020-01-03   -1.075796\n",
       "2020-01-04   -1.415578\n",
       "2020-01-05    0.782463\n",
       "2020-01-05   -0.903427\n",
       "2020-01-06    1.283459\n",
       "2020-01-07   -0.911562\n",
       "dtype: float64"
      ]
     },
     "execution_count": 102,
     "metadata": {},
     "output_type": "execute_result"
    }
   ],
   "source": [
    "ts = pd.Series(np.random.randn(10),\n",
    "              index=pd.DatetimeIndex(['2020-01-01', '2020-01-01', '2020-01-02', '2020-01-02', '2020-01-03',\n",
    "                                     '2020-01-04', '2020-01-05', '2020-01-05', '2020-01-06', '2020-01-07']))\n",
    "ts"
   ]
  },
  {
   "cell_type": "code",
   "execution_count": 103,
   "metadata": {
    "id": "4M9BEkp3tIKW"
   },
   "outputs": [
    {
     "data": {
      "text/plain": [
       "False"
      ]
     },
     "execution_count": 103,
     "metadata": {},
     "output_type": "execute_result"
    }
   ],
   "source": [
    "ts.index.is_unique"
   ]
  },
  {
   "cell_type": "code",
   "execution_count": 104,
   "metadata": {
    "id": "H8vDMscHtRUp"
   },
   "outputs": [
    {
     "data": {
      "text/plain": [
       "2020-01-01    0.14105\n",
       "2020-01-01    0.53858\n",
       "dtype: float64"
      ]
     },
     "execution_count": 104,
     "metadata": {},
     "output_type": "execute_result"
    }
   ],
   "source": [
    "ts['2020-01-01']"
   ]
  },
  {
   "cell_type": "code",
   "execution_count": 105,
   "metadata": {
    "id": "eFP7MlKWtiNc"
   },
   "outputs": [
    {
     "data": {
      "text/plain": [
       "2020-01-01    0.339815\n",
       "2020-01-02   -0.015471\n",
       "2020-01-03   -1.075796\n",
       "2020-01-04   -1.415578\n",
       "2020-01-05   -0.060482\n",
       "2020-01-06    1.283459\n",
       "2020-01-07   -0.911562\n",
       "dtype: float64"
      ]
     },
     "execution_count": 105,
     "metadata": {},
     "output_type": "execute_result"
    }
   ],
   "source": [
    "ts.groupby(level=0).mean()"
   ]
  },
  {
   "cell_type": "code",
   "execution_count": 106,
   "metadata": {
    "id": "k9MGkCSBuAQ1"
   },
   "outputs": [
    {
     "data": {
      "text/plain": [
       "DatetimeIndex(['2020-01-01', '2020-01-02', '2020-01-03', '2020-01-04',\n",
       "               '2020-01-05', '2020-01-06', '2020-01-07', '2020-01-08',\n",
       "               '2020-01-09', '2020-01-10',\n",
       "               ...\n",
       "               '2020-06-22', '2020-06-23', '2020-06-24', '2020-06-25',\n",
       "               '2020-06-26', '2020-06-27', '2020-06-28', '2020-06-29',\n",
       "               '2020-06-30', '2020-07-01'],\n",
       "              dtype='datetime64[ns]', length=183, freq='D')"
      ]
     },
     "execution_count": 106,
     "metadata": {},
     "output_type": "execute_result"
    }
   ],
   "source": [
    "pd.date_range('2020-01-01', '2020-07-01')"
   ]
  },
  {
   "cell_type": "code",
   "execution_count": 111,
   "metadata": {
    "id": "OExzMN61uUfo"
   },
   "outputs": [
    {
     "data": {
      "text/plain": [
       "DatetimeIndex(['2020-01-01', '2020-01-02', '2020-01-03', '2020-01-04',\n",
       "               '2020-01-05', '2020-01-06', '2020-01-07', '2020-01-08',\n",
       "               '2020-01-09', '2020-01-10'],\n",
       "              dtype='datetime64[ns]', freq='D')"
      ]
     },
     "execution_count": 111,
     "metadata": {},
     "output_type": "execute_result"
    }
   ],
   "source": [
    "pd.date_range(start='2020-01-01', periods=10)"
   ]
  },
  {
   "cell_type": "code",
   "execution_count": 113,
   "metadata": {},
   "outputs": [
    {
     "data": {
      "text/plain": [
       "DatetimeIndex(['2020-06-22', '2020-06-23', '2020-06-24', '2020-06-25',\n",
       "               '2020-06-26', '2020-06-27', '2020-06-28', '2020-06-29',\n",
       "               '2020-06-30', '2020-07-01'],\n",
       "              dtype='datetime64[ns]', freq='D')"
      ]
     },
     "execution_count": 113,
     "metadata": {},
     "output_type": "execute_result"
    }
   ],
   "source": [
    "pd.date_range(end='2020-07-01', periods=10)"
   ]
  },
  {
   "cell_type": "code",
   "execution_count": 108,
   "metadata": {
    "id": "Xhpa_AEWuGv5"
   },
   "outputs": [
    {
     "data": {
      "text/plain": [
       "DatetimeIndex(['2020-01-01', '2020-01-02', '2020-01-03', '2020-01-06',\n",
       "               '2020-01-07', '2020-01-08', '2020-01-09', '2020-01-10',\n",
       "               '2020-01-13', '2020-01-14',\n",
       "               ...\n",
       "               '2020-06-18', '2020-06-19', '2020-06-22', '2020-06-23',\n",
       "               '2020-06-24', '2020-06-25', '2020-06-26', '2020-06-29',\n",
       "               '2020-06-30', '2020-07-01'],\n",
       "              dtype='datetime64[ns]', length=131, freq='B')"
      ]
     },
     "execution_count": 108,
     "metadata": {},
     "output_type": "execute_result"
    }
   ],
   "source": [
    "pd.date_range('2020-01-01', '2020-07-01', freq='B')"
   ]
  },
  {
   "cell_type": "markdown",
   "metadata": {
    "id": "qyGkgydIJVm5"
   },
   "source": [
    "### 주기와 오프셋\n"
   ]
  },
  {
   "cell_type": "code",
   "execution_count": 114,
   "metadata": {
    "id": "00N0V3YjI7Vh"
   },
   "outputs": [
    {
     "data": {
      "text/plain": [
       "TimedeltaIndex(['0 days 00:00:00', '0 days 01:00:00', '0 days 02:00:00',\n",
       "                '0 days 03:00:00', '0 days 04:00:00', '0 days 05:00:00',\n",
       "                '0 days 06:00:00', '0 days 07:00:00', '0 days 08:00:00',\n",
       "                '0 days 09:00:00', '0 days 10:00:00', '0 days 11:00:00'],\n",
       "               dtype='timedelta64[ns]', freq='H')"
      ]
     },
     "execution_count": 114,
     "metadata": {},
     "output_type": "execute_result"
    }
   ],
   "source": [
    "pd.timedelta_range(0, periods=12, freq='H')"
   ]
  },
  {
   "cell_type": "code",
   "execution_count": 115,
   "metadata": {
    "id": "WSeShMblJDWE"
   },
   "outputs": [
    {
     "data": {
      "text/plain": [
       "TimedeltaIndex(['0 days 00:00:00', '0 days 00:01:00', '0 days 00:02:00',\n",
       "                '0 days 00:03:00', '0 days 00:04:00', '0 days 00:05:00',\n",
       "                '0 days 00:06:00', '0 days 00:07:00', '0 days 00:08:00',\n",
       "                '0 days 00:09:00', '0 days 00:10:00', '0 days 00:11:00',\n",
       "                '0 days 00:12:00', '0 days 00:13:00', '0 days 00:14:00',\n",
       "                '0 days 00:15:00', '0 days 00:16:00', '0 days 00:17:00',\n",
       "                '0 days 00:18:00', '0 days 00:19:00', '0 days 00:20:00',\n",
       "                '0 days 00:21:00', '0 days 00:22:00', '0 days 00:23:00',\n",
       "                '0 days 00:24:00', '0 days 00:25:00', '0 days 00:26:00',\n",
       "                '0 days 00:27:00', '0 days 00:28:00', '0 days 00:29:00',\n",
       "                '0 days 00:30:00', '0 days 00:31:00', '0 days 00:32:00',\n",
       "                '0 days 00:33:00', '0 days 00:34:00', '0 days 00:35:00',\n",
       "                '0 days 00:36:00', '0 days 00:37:00', '0 days 00:38:00',\n",
       "                '0 days 00:39:00', '0 days 00:40:00', '0 days 00:41:00',\n",
       "                '0 days 00:42:00', '0 days 00:43:00', '0 days 00:44:00',\n",
       "                '0 days 00:45:00', '0 days 00:46:00', '0 days 00:47:00',\n",
       "                '0 days 00:48:00', '0 days 00:49:00', '0 days 00:50:00',\n",
       "                '0 days 00:51:00', '0 days 00:52:00', '0 days 00:53:00',\n",
       "                '0 days 00:54:00', '0 days 00:55:00', '0 days 00:56:00',\n",
       "                '0 days 00:57:00', '0 days 00:58:00', '0 days 00:59:00'],\n",
       "               dtype='timedelta64[ns]', freq='T')"
      ]
     },
     "execution_count": 115,
     "metadata": {},
     "output_type": "execute_result"
    }
   ],
   "source": [
    "pd.timedelta_range(0, periods=60, freq='T')"
   ]
  },
  {
   "cell_type": "code",
   "execution_count": 116,
   "metadata": {
    "id": "IZVLhHbBJMpm"
   },
   "outputs": [
    {
     "data": {
      "text/plain": [
       "TimedeltaIndex(['0 days 00:00:00', '0 days 01:30:00', '0 days 03:00:00',\n",
       "                '0 days 04:30:00', '0 days 06:00:00', '0 days 07:30:00',\n",
       "                '0 days 09:00:00', '0 days 10:30:00', '0 days 12:00:00',\n",
       "                '0 days 13:30:00'],\n",
       "               dtype='timedelta64[ns]', freq='90T')"
      ]
     },
     "execution_count": 116,
     "metadata": {},
     "output_type": "execute_result"
    }
   ],
   "source": [
    "pd.timedelta_range(0, periods=10, freq='1H30T')"
   ]
  },
  {
   "cell_type": "code",
   "execution_count": 119,
   "metadata": {
    "id": "8Uzz7uZEK-mZ"
   },
   "outputs": [
    {
     "data": {
      "text/plain": [
       "DatetimeIndex(['2020-01-01', '2020-01-02', '2020-01-03', '2020-01-06',\n",
       "               '2020-01-07', '2020-01-08', '2020-01-09', '2020-01-10',\n",
       "               '2020-01-13', '2020-01-14', '2020-01-15', '2020-01-16',\n",
       "               '2020-01-17', '2020-01-20', '2020-01-21', '2020-01-22',\n",
       "               '2020-01-23', '2020-01-24', '2020-01-27', '2020-01-28'],\n",
       "              dtype='datetime64[ns]', freq='B')"
      ]
     },
     "execution_count": 119,
     "metadata": {},
     "output_type": "execute_result"
    }
   ],
   "source": [
    "pd.date_range('2020-01-01', periods=20, freq='B')"
   ]
  },
  {
   "cell_type": "code",
   "execution_count": 120,
   "metadata": {
    "id": "VGWXkmAh4ZcT"
   },
   "outputs": [
    {
     "data": {
      "text/plain": [
       "DatetimeIndex(['2020-01-01 00:00:00', '2020-01-01 02:00:00',\n",
       "               '2020-01-01 04:00:00', '2020-01-01 06:00:00',\n",
       "               '2020-01-01 08:00:00', '2020-01-01 10:00:00',\n",
       "               '2020-01-01 12:00:00', '2020-01-01 14:00:00',\n",
       "               '2020-01-01 16:00:00', '2020-01-01 18:00:00',\n",
       "               '2020-01-01 20:00:00', '2020-01-01 22:00:00',\n",
       "               '2020-01-02 00:00:00', '2020-01-02 02:00:00',\n",
       "               '2020-01-02 04:00:00', '2020-01-02 06:00:00',\n",
       "               '2020-01-02 08:00:00', '2020-01-02 10:00:00',\n",
       "               '2020-01-02 12:00:00', '2020-01-02 14:00:00',\n",
       "               '2020-01-02 16:00:00', '2020-01-02 18:00:00',\n",
       "               '2020-01-02 20:00:00', '2020-01-02 22:00:00',\n",
       "               '2020-01-03 00:00:00', '2020-01-03 02:00:00',\n",
       "               '2020-01-03 04:00:00', '2020-01-03 06:00:00',\n",
       "               '2020-01-03 08:00:00', '2020-01-03 10:00:00'],\n",
       "              dtype='datetime64[ns]', freq='2H')"
      ]
     },
     "execution_count": 120,
     "metadata": {},
     "output_type": "execute_result"
    }
   ],
   "source": [
    "pd.date_range('2020-01-01', periods=30, freq='2H')"
   ]
  },
  {
   "cell_type": "code",
   "execution_count": 121,
   "metadata": {
    "id": "2CeqVHBx33XS"
   },
   "outputs": [
    {
     "data": {
      "text/plain": [
       "DatetimeIndex(['2020-01-01 00:00:00', '2020-01-01 00:00:01',\n",
       "               '2020-01-01 00:00:02', '2020-01-01 00:00:03',\n",
       "               '2020-01-01 00:00:04', '2020-01-01 00:00:05',\n",
       "               '2020-01-01 00:00:06', '2020-01-01 00:00:07',\n",
       "               '2020-01-01 00:00:08', '2020-01-01 00:00:09',\n",
       "               '2020-01-01 00:00:10', '2020-01-01 00:00:11',\n",
       "               '2020-01-01 00:00:12', '2020-01-01 00:00:13',\n",
       "               '2020-01-01 00:00:14', '2020-01-01 00:00:15',\n",
       "               '2020-01-01 00:00:16', '2020-01-01 00:00:17',\n",
       "               '2020-01-01 00:00:18', '2020-01-01 00:00:19'],\n",
       "              dtype='datetime64[ns]', freq='S')"
      ]
     },
     "execution_count": 121,
     "metadata": {},
     "output_type": "execute_result"
    }
   ],
   "source": [
    "pd.date_range('2020-01-01', periods=20, freq='S')"
   ]
  },
  {
   "cell_type": "markdown",
   "metadata": {
    "id": "muiRlbyH7LPh"
   },
   "source": [
    "### 시프트(Shift)"
   ]
  },
  {
   "cell_type": "code",
   "execution_count": 122,
   "metadata": {
    "id": "nYJfyvH-5LZB"
   },
   "outputs": [
    {
     "data": {
      "text/plain": [
       "2020-01-01    0.493169\n",
       "2020-01-02   -0.088100\n",
       "2020-01-03    1.945302\n",
       "2020-01-06   -1.836782\n",
       "2020-01-07   -0.467373\n",
       "Freq: B, dtype: float64"
      ]
     },
     "execution_count": 122,
     "metadata": {},
     "output_type": "execute_result"
    }
   ],
   "source": [
    "ts = pd.Series(np.random.randn(5),\n",
    "              index=pd.date_range('2020-01-01', periods=5, freq='B'))\n",
    "ts"
   ]
  },
  {
   "cell_type": "code",
   "execution_count": 123,
   "metadata": {
    "id": "Dve8sn3D5n4p"
   },
   "outputs": [
    {
     "data": {
      "text/plain": [
       "2020-01-01         NaN\n",
       "2020-01-02    0.493169\n",
       "2020-01-03   -0.088100\n",
       "2020-01-06    1.945302\n",
       "2020-01-07   -1.836782\n",
       "Freq: B, dtype: float64"
      ]
     },
     "execution_count": 123,
     "metadata": {},
     "output_type": "execute_result"
    }
   ],
   "source": [
    "ts.shift(1)"
   ]
  },
  {
   "cell_type": "code",
   "execution_count": 124,
   "metadata": {
    "id": "qWXBes3q5qo6"
   },
   "outputs": [
    {
     "data": {
      "text/plain": [
       "2020-01-01         NaN\n",
       "2020-01-02         NaN\n",
       "2020-01-03         NaN\n",
       "2020-01-06    0.493169\n",
       "2020-01-07   -0.088100\n",
       "Freq: B, dtype: float64"
      ]
     },
     "execution_count": 124,
     "metadata": {},
     "output_type": "execute_result"
    }
   ],
   "source": [
    "ts.shift(3)"
   ]
  },
  {
   "cell_type": "code",
   "execution_count": 125,
   "metadata": {
    "id": "ZN-dCvZU5tLx"
   },
   "outputs": [
    {
     "data": {
      "text/plain": [
       "2020-01-01    1.945302\n",
       "2020-01-02   -1.836782\n",
       "2020-01-03   -0.467373\n",
       "2020-01-06         NaN\n",
       "2020-01-07         NaN\n",
       "Freq: B, dtype: float64"
      ]
     },
     "execution_count": 125,
     "metadata": {},
     "output_type": "execute_result"
    }
   ],
   "source": [
    "ts.shift(-2)"
   ]
  },
  {
   "cell_type": "code",
   "execution_count": 126,
   "metadata": {
    "id": "Yzi9nKB_53D-"
   },
   "outputs": [
    {
     "data": {
      "text/plain": [
       "2020-01-06    0.493169\n",
       "2020-01-07   -0.088100\n",
       "2020-01-08    1.945302\n",
       "2020-01-09   -1.836782\n",
       "2020-01-10   -0.467373\n",
       "Freq: B, dtype: float64"
      ]
     },
     "execution_count": 126,
     "metadata": {},
     "output_type": "execute_result"
    }
   ],
   "source": [
    "ts.shift(3, freq='B')"
   ]
  },
  {
   "cell_type": "code",
   "execution_count": 127,
   "metadata": {
    "id": "oUavnBzH6IR1"
   },
   "outputs": [
    {
     "data": {
      "text/plain": [
       "2020-01-12    0.493169\n",
       "2020-01-12   -0.088100\n",
       "2020-01-12    1.945302\n",
       "2020-01-19   -1.836782\n",
       "2020-01-19   -0.467373\n",
       "dtype: float64"
      ]
     },
     "execution_count": 127,
     "metadata": {},
     "output_type": "execute_result"
    }
   ],
   "source": [
    "ts.shift(2, freq='W')"
   ]
  },
  {
   "cell_type": "markdown",
   "metadata": {
    "id": "IGa7k2HO7PJp"
   },
   "source": [
    "### 시간대 처리\n",
    "\n",
    "* 국제표준시(Coordinated Universal Time, UTC)를 기준으로 떨어진 거리만큼 오프셋으로 시간대 처리\n",
    "* 전 세계의 시간대 정보를 모아놓은 올슨 데이터베이스를 활용한 라이브러리인 `pytz` 사용"
   ]
  },
  {
   "cell_type": "code",
   "execution_count": 128,
   "metadata": {
    "id": "FxrFeONy7QNb"
   },
   "outputs": [
    {
     "data": {
      "text/plain": [
       "['Africa/Abidjan', 'Africa/Accra', 'Africa/Addis_Ababa', 'Africa/Algiers', 'Africa/Asmara', 'Africa/Bamako', 'Africa/Bangui', 'Africa/Banjul', 'Africa/Bissau', 'Africa/Blantyre', 'Africa/Brazzaville', 'Africa/Bujumbura', 'Africa/Cairo', 'Africa/Casablanca', 'Africa/Ceuta', 'Africa/Conakry', 'Africa/Dakar', 'Africa/Dar_es_Salaam', 'Africa/Djibouti', 'Africa/Douala', 'Africa/El_Aaiun', 'Africa/Freetown', 'Africa/Gaborone', 'Africa/Harare', 'Africa/Johannesburg', 'Africa/Juba', 'Africa/Kampala', 'Africa/Khartoum', 'Africa/Kigali', 'Africa/Kinshasa', 'Africa/Lagos', 'Africa/Libreville', 'Africa/Lome', 'Africa/Luanda', 'Africa/Lubumbashi', 'Africa/Lusaka', 'Africa/Malabo', 'Africa/Maputo', 'Africa/Maseru', 'Africa/Mbabane', 'Africa/Mogadishu', 'Africa/Monrovia', 'Africa/Nairobi', 'Africa/Ndjamena', 'Africa/Niamey', 'Africa/Nouakchott', 'Africa/Ouagadougou', 'Africa/Porto-Novo', 'Africa/Sao_Tome', 'Africa/Tripoli', 'Africa/Tunis', 'Africa/Windhoek', 'America/Adak', 'America/Anchorage', 'America/Anguilla', 'America/Antigua', 'America/Araguaina', 'America/Argentina/Buenos_Aires', 'America/Argentina/Catamarca', 'America/Argentina/Cordoba', 'America/Argentina/Jujuy', 'America/Argentina/La_Rioja', 'America/Argentina/Mendoza', 'America/Argentina/Rio_Gallegos', 'America/Argentina/Salta', 'America/Argentina/San_Juan', 'America/Argentina/San_Luis', 'America/Argentina/Tucuman', 'America/Argentina/Ushuaia', 'America/Aruba', 'America/Asuncion', 'America/Atikokan', 'America/Bahia', 'America/Bahia_Banderas', 'America/Barbados', 'America/Belem', 'America/Belize', 'America/Blanc-Sablon', 'America/Boa_Vista', 'America/Bogota', 'America/Boise', 'America/Cambridge_Bay', 'America/Campo_Grande', 'America/Cancun', 'America/Caracas', 'America/Cayenne', 'America/Cayman', 'America/Chicago', 'America/Chihuahua', 'America/Costa_Rica', 'America/Creston', 'America/Cuiaba', 'America/Curacao', 'America/Danmarkshavn', 'America/Dawson', 'America/Dawson_Creek', 'America/Denver', 'America/Detroit', 'America/Dominica', 'America/Edmonton', 'America/Eirunepe', 'America/El_Salvador', 'America/Fort_Nelson', 'America/Fortaleza', 'America/Glace_Bay', 'America/Goose_Bay', 'America/Grand_Turk', 'America/Grenada', 'America/Guadeloupe', 'America/Guatemala', 'America/Guayaquil', 'America/Guyana', 'America/Halifax', 'America/Havana', 'America/Hermosillo', 'America/Indiana/Indianapolis', 'America/Indiana/Knox', 'America/Indiana/Marengo', 'America/Indiana/Petersburg', 'America/Indiana/Tell_City', 'America/Indiana/Vevay', 'America/Indiana/Vincennes', 'America/Indiana/Winamac', 'America/Inuvik', 'America/Iqaluit', 'America/Jamaica', 'America/Juneau', 'America/Kentucky/Louisville', 'America/Kentucky/Monticello', 'America/Kralendijk', 'America/La_Paz', 'America/Lima', 'America/Los_Angeles', 'America/Lower_Princes', 'America/Maceio', 'America/Managua', 'America/Manaus', 'America/Marigot', 'America/Martinique', 'America/Matamoros', 'America/Mazatlan', 'America/Menominee', 'America/Merida', 'America/Metlakatla', 'America/Mexico_City', 'America/Miquelon', 'America/Moncton', 'America/Monterrey', 'America/Montevideo', 'America/Montserrat', 'America/Nassau', 'America/New_York', 'America/Nipigon', 'America/Nome', 'America/Noronha', 'America/North_Dakota/Beulah', 'America/North_Dakota/Center', 'America/North_Dakota/New_Salem', 'America/Nuuk', 'America/Ojinaga', 'America/Panama', 'America/Pangnirtung', 'America/Paramaribo', 'America/Phoenix', 'America/Port-au-Prince', 'America/Port_of_Spain', 'America/Porto_Velho', 'America/Puerto_Rico', 'America/Punta_Arenas', 'America/Rainy_River', 'America/Rankin_Inlet', 'America/Recife', 'America/Regina', 'America/Resolute', 'America/Rio_Branco', 'America/Santarem', 'America/Santiago', 'America/Santo_Domingo', 'America/Sao_Paulo', 'America/Scoresbysund', 'America/Sitka', 'America/St_Barthelemy', 'America/St_Johns', 'America/St_Kitts', 'America/St_Lucia', 'America/St_Thomas', 'America/St_Vincent', 'America/Swift_Current', 'America/Tegucigalpa', 'America/Thule', 'America/Thunder_Bay', 'America/Tijuana', 'America/Toronto', 'America/Tortola', 'America/Vancouver', 'America/Whitehorse', 'America/Winnipeg', 'America/Yakutat', 'America/Yellowknife', 'Antarctica/Casey', 'Antarctica/Davis', 'Antarctica/DumontDUrville', 'Antarctica/Macquarie', 'Antarctica/Mawson', 'Antarctica/McMurdo', 'Antarctica/Palmer', 'Antarctica/Rothera', 'Antarctica/Syowa', 'Antarctica/Troll', 'Antarctica/Vostok', 'Arctic/Longyearbyen', 'Asia/Aden', 'Asia/Almaty', 'Asia/Amman', 'Asia/Anadyr', 'Asia/Aqtau', 'Asia/Aqtobe', 'Asia/Ashgabat', 'Asia/Atyrau', 'Asia/Baghdad', 'Asia/Bahrain', 'Asia/Baku', 'Asia/Bangkok', 'Asia/Barnaul', 'Asia/Beirut', 'Asia/Bishkek', 'Asia/Brunei', 'Asia/Chita', 'Asia/Choibalsan', 'Asia/Colombo', 'Asia/Damascus', 'Asia/Dhaka', 'Asia/Dili', 'Asia/Dubai', 'Asia/Dushanbe', 'Asia/Famagusta', 'Asia/Gaza', 'Asia/Hebron', 'Asia/Ho_Chi_Minh', 'Asia/Hong_Kong', 'Asia/Hovd', 'Asia/Irkutsk', 'Asia/Jakarta', 'Asia/Jayapura', 'Asia/Jerusalem', 'Asia/Kabul', 'Asia/Kamchatka', 'Asia/Karachi', 'Asia/Kathmandu', 'Asia/Khandyga', 'Asia/Kolkata', 'Asia/Krasnoyarsk', 'Asia/Kuala_Lumpur', 'Asia/Kuching', 'Asia/Kuwait', 'Asia/Macau', 'Asia/Magadan', 'Asia/Makassar', 'Asia/Manila', 'Asia/Muscat', 'Asia/Nicosia', 'Asia/Novokuznetsk', 'Asia/Novosibirsk', 'Asia/Omsk', 'Asia/Oral', 'Asia/Phnom_Penh', 'Asia/Pontianak', 'Asia/Pyongyang', 'Asia/Qatar', 'Asia/Qostanay', 'Asia/Qyzylorda', 'Asia/Riyadh', 'Asia/Sakhalin', 'Asia/Samarkand', 'Asia/Seoul', 'Asia/Shanghai', 'Asia/Singapore', 'Asia/Srednekolymsk', 'Asia/Taipei', 'Asia/Tashkent', 'Asia/Tbilisi', 'Asia/Tehran', 'Asia/Thimphu', 'Asia/Tokyo', 'Asia/Tomsk', 'Asia/Ulaanbaatar', 'Asia/Urumqi', 'Asia/Ust-Nera', 'Asia/Vientiane', 'Asia/Vladivostok', 'Asia/Yakutsk', 'Asia/Yangon', 'Asia/Yekaterinburg', 'Asia/Yerevan', 'Atlantic/Azores', 'Atlantic/Bermuda', 'Atlantic/Canary', 'Atlantic/Cape_Verde', 'Atlantic/Faroe', 'Atlantic/Madeira', 'Atlantic/Reykjavik', 'Atlantic/South_Georgia', 'Atlantic/St_Helena', 'Atlantic/Stanley', 'Australia/Adelaide', 'Australia/Brisbane', 'Australia/Broken_Hill', 'Australia/Darwin', 'Australia/Eucla', 'Australia/Hobart', 'Australia/Lindeman', 'Australia/Lord_Howe', 'Australia/Melbourne', 'Australia/Perth', 'Australia/Sydney', 'Canada/Atlantic', 'Canada/Central', 'Canada/Eastern', 'Canada/Mountain', 'Canada/Newfoundland', 'Canada/Pacific', 'Europe/Amsterdam', 'Europe/Andorra', 'Europe/Astrakhan', 'Europe/Athens', 'Europe/Belgrade', 'Europe/Berlin', 'Europe/Bratislava', 'Europe/Brussels', 'Europe/Bucharest', 'Europe/Budapest', 'Europe/Busingen', 'Europe/Chisinau', 'Europe/Copenhagen', 'Europe/Dublin', 'Europe/Gibraltar', 'Europe/Guernsey', 'Europe/Helsinki', 'Europe/Isle_of_Man', 'Europe/Istanbul', 'Europe/Jersey', 'Europe/Kaliningrad', 'Europe/Kiev', 'Europe/Kirov', 'Europe/Lisbon', 'Europe/Ljubljana', 'Europe/London', 'Europe/Luxembourg', 'Europe/Madrid', 'Europe/Malta', 'Europe/Mariehamn', 'Europe/Minsk', 'Europe/Monaco', 'Europe/Moscow', 'Europe/Oslo', 'Europe/Paris', 'Europe/Podgorica', 'Europe/Prague', 'Europe/Riga', 'Europe/Rome', 'Europe/Samara', 'Europe/San_Marino', 'Europe/Sarajevo', 'Europe/Saratov', 'Europe/Simferopol', 'Europe/Skopje', 'Europe/Sofia', 'Europe/Stockholm', 'Europe/Tallinn', 'Europe/Tirane', 'Europe/Ulyanovsk', 'Europe/Uzhgorod', 'Europe/Vaduz', 'Europe/Vatican', 'Europe/Vienna', 'Europe/Vilnius', 'Europe/Volgograd', 'Europe/Warsaw', 'Europe/Zagreb', 'Europe/Zaporozhye', 'Europe/Zurich', 'GMT', 'Indian/Antananarivo', 'Indian/Chagos', 'Indian/Christmas', 'Indian/Cocos', 'Indian/Comoro', 'Indian/Kerguelen', 'Indian/Mahe', 'Indian/Maldives', 'Indian/Mauritius', 'Indian/Mayotte', 'Indian/Reunion', 'Pacific/Apia', 'Pacific/Auckland', 'Pacific/Bougainville', 'Pacific/Chatham', 'Pacific/Chuuk', 'Pacific/Easter', 'Pacific/Efate', 'Pacific/Enderbury', 'Pacific/Fakaofo', 'Pacific/Fiji', 'Pacific/Funafuti', 'Pacific/Galapagos', 'Pacific/Gambier', 'Pacific/Guadalcanal', 'Pacific/Guam', 'Pacific/Honolulu', 'Pacific/Kiritimati', 'Pacific/Kosrae', 'Pacific/Kwajalein', 'Pacific/Majuro', 'Pacific/Marquesas', 'Pacific/Midway', 'Pacific/Nauru', 'Pacific/Niue', 'Pacific/Norfolk', 'Pacific/Noumea', 'Pacific/Pago_Pago', 'Pacific/Palau', 'Pacific/Pitcairn', 'Pacific/Pohnpei', 'Pacific/Port_Moresby', 'Pacific/Rarotonga', 'Pacific/Saipan', 'Pacific/Tahiti', 'Pacific/Tarawa', 'Pacific/Tongatapu', 'Pacific/Wake', 'Pacific/Wallis', 'US/Alaska', 'US/Arizona', 'US/Central', 'US/Eastern', 'US/Hawaii', 'US/Mountain', 'US/Pacific', 'UTC']"
      ]
     },
     "execution_count": 128,
     "metadata": {},
     "output_type": "execute_result"
    }
   ],
   "source": [
    "import pytz\n",
    "pytz.common_timezones"
   ]
  },
  {
   "cell_type": "code",
   "execution_count": 129,
   "metadata": {
    "id": "GRjk1NK-7P3O"
   },
   "outputs": [],
   "source": [
    "tz = pytz.timezone('Asia/Seoul')"
   ]
  },
  {
   "cell_type": "code",
   "execution_count": 130,
   "metadata": {
    "id": "wjngkZuzOU1U"
   },
   "outputs": [
    {
     "data": {
      "text/plain": [
       "2020-01-01   -0.484210\n",
       "2020-01-02   -0.364146\n",
       "2020-01-03   -0.566874\n",
       "2020-01-06   -0.348180\n",
       "2020-01-07   -0.896984\n",
       "2020-01-08   -0.491758\n",
       "2020-01-09    1.588265\n",
       "Freq: B, dtype: float64"
      ]
     },
     "execution_count": 130,
     "metadata": {},
     "output_type": "execute_result"
    }
   ],
   "source": [
    "didx = pd.date_range('2020-01-01', periods=7, freq='B')\n",
    "ts = pd.Series(np.random.randn(len(didx)), index=didx)\n",
    "ts"
   ]
  },
  {
   "cell_type": "code",
   "execution_count": 131,
   "metadata": {
    "id": "_AxYonc1PV1o"
   },
   "outputs": [
    {
     "data": {
      "text/plain": [
       "DatetimeIndex(['2020-01-01 09:00:00+00:00', '2020-01-02 09:00:00+00:00',\n",
       "               '2020-01-03 09:00:00+00:00', '2020-01-06 09:00:00+00:00',\n",
       "               '2020-01-07 09:00:00+00:00', '2020-01-08 09:00:00+00:00',\n",
       "               '2020-01-09 09:00:00+00:00'],\n",
       "              dtype='datetime64[ns, UTC]', freq='B')"
      ]
     },
     "execution_count": 131,
     "metadata": {},
     "output_type": "execute_result"
    }
   ],
   "source": [
    "pd.date_range('2020-01-01 09:00', periods=7, freq='B', tz='UTC')"
   ]
  },
  {
   "cell_type": "code",
   "execution_count": 132,
   "metadata": {
    "id": "Zyc-pgsLPxHx"
   },
   "outputs": [
    {
     "data": {
      "text/plain": [
       "2020-01-01 00:00:00+00:00   -0.484210\n",
       "2020-01-02 00:00:00+00:00   -0.364146\n",
       "2020-01-03 00:00:00+00:00   -0.566874\n",
       "2020-01-06 00:00:00+00:00   -0.348180\n",
       "2020-01-07 00:00:00+00:00   -0.896984\n",
       "2020-01-08 00:00:00+00:00   -0.491758\n",
       "2020-01-09 00:00:00+00:00    1.588265\n",
       "Freq: B, dtype: float64"
      ]
     },
     "execution_count": 132,
     "metadata": {},
     "output_type": "execute_result"
    }
   ],
   "source": [
    "ts_utc = ts.tz_localize('UTC')\n",
    "ts_utc"
   ]
  },
  {
   "cell_type": "code",
   "execution_count": 133,
   "metadata": {
    "id": "7ZOXCc73QJ6U"
   },
   "outputs": [
    {
     "data": {
      "text/plain": [
       "DatetimeIndex(['2020-01-01 00:00:00+00:00', '2020-01-02 00:00:00+00:00',\n",
       "               '2020-01-03 00:00:00+00:00', '2020-01-06 00:00:00+00:00',\n",
       "               '2020-01-07 00:00:00+00:00', '2020-01-08 00:00:00+00:00',\n",
       "               '2020-01-09 00:00:00+00:00'],\n",
       "              dtype='datetime64[ns, UTC]', freq='B')"
      ]
     },
     "execution_count": 133,
     "metadata": {},
     "output_type": "execute_result"
    }
   ],
   "source": [
    "ts_utc.index"
   ]
  },
  {
   "cell_type": "code",
   "execution_count": 135,
   "metadata": {
    "id": "gQTL-ZSBQMJ5"
   },
   "outputs": [
    {
     "data": {
      "text/plain": [
       "2020-01-01 09:00:00+09:00   -0.484210\n",
       "2020-01-02 09:00:00+09:00   -0.364146\n",
       "2020-01-03 09:00:00+09:00   -0.566874\n",
       "2020-01-06 09:00:00+09:00   -0.348180\n",
       "2020-01-07 09:00:00+09:00   -0.896984\n",
       "2020-01-08 09:00:00+09:00   -0.491758\n",
       "2020-01-09 09:00:00+09:00    1.588265\n",
       "Freq: B, dtype: float64"
      ]
     },
     "execution_count": 135,
     "metadata": {},
     "output_type": "execute_result"
    }
   ],
   "source": [
    "ts_utc.tz_convert('Asia/Seoul')"
   ]
  },
  {
   "cell_type": "code",
   "execution_count": 136,
   "metadata": {
    "id": "Kgm-C70kQX1K"
   },
   "outputs": [],
   "source": [
    "ts_seoul = ts.tz_localize('Asia/seoul')"
   ]
  },
  {
   "cell_type": "code",
   "execution_count": 137,
   "metadata": {
    "id": "uidYzkMEQiw-"
   },
   "outputs": [
    {
     "data": {
      "text/plain": [
       "2019-12-31 15:00:00+00:00   -0.484210\n",
       "2020-01-01 15:00:00+00:00   -0.364146\n",
       "2020-01-02 15:00:00+00:00   -0.566874\n",
       "2020-01-05 15:00:00+00:00   -0.348180\n",
       "2020-01-06 15:00:00+00:00   -0.896984\n",
       "2020-01-07 15:00:00+00:00   -0.491758\n",
       "2020-01-08 15:00:00+00:00    1.588265\n",
       "dtype: float64"
      ]
     },
     "execution_count": 137,
     "metadata": {},
     "output_type": "execute_result"
    }
   ],
   "source": [
    "ts_seoul.tz_convert('UTC')"
   ]
  },
  {
   "cell_type": "code",
   "execution_count": 138,
   "metadata": {
    "id": "7T4KfZo1Q0vv"
   },
   "outputs": [
    {
     "data": {
      "text/plain": [
       "2019-12-31 16:00:00+01:00   -0.484210\n",
       "2020-01-01 16:00:00+01:00   -0.364146\n",
       "2020-01-02 16:00:00+01:00   -0.566874\n",
       "2020-01-05 16:00:00+01:00   -0.348180\n",
       "2020-01-06 16:00:00+01:00   -0.896984\n",
       "2020-01-07 16:00:00+01:00   -0.491758\n",
       "2020-01-08 16:00:00+01:00    1.588265\n",
       "dtype: float64"
      ]
     },
     "execution_count": 138,
     "metadata": {},
     "output_type": "execute_result"
    }
   ],
   "source": [
    "ts_seoul.tz_convert('Europe/Berlin')"
   ]
  },
  {
   "cell_type": "code",
   "execution_count": 139,
   "metadata": {
    "id": "nlRi5wiLQ_2t"
   },
   "outputs": [
    {
     "data": {
      "text/plain": [
       "DatetimeIndex(['2020-01-01 00:00:00-05:00', '2020-01-02 00:00:00-05:00',\n",
       "               '2020-01-03 00:00:00-05:00', '2020-01-06 00:00:00-05:00',\n",
       "               '2020-01-07 00:00:00-05:00', '2020-01-08 00:00:00-05:00',\n",
       "               '2020-01-09 00:00:00-05:00'],\n",
       "              dtype='datetime64[ns, America/New_York]', freq=None)"
      ]
     },
     "execution_count": 139,
     "metadata": {},
     "output_type": "execute_result"
    }
   ],
   "source": [
    "ts.index.tz_localize('America/New_York')"
   ]
  },
  {
   "cell_type": "code",
   "execution_count": 140,
   "metadata": {
    "id": "tOnkPX7wRr1K"
   },
   "outputs": [
    {
     "data": {
      "text/plain": [
       "Timestamp('2020-01-01 12:00:00+0000', tz='UTC')"
      ]
     },
     "execution_count": 140,
     "metadata": {},
     "output_type": "execute_result"
    }
   ],
   "source": [
    "stamp = pd.Timestamp('2020-01-01 12:00')\n",
    "stamp_utc = stamp.tz_localize('UTC')\n",
    "stamp_utc"
   ]
  },
  {
   "cell_type": "code",
   "execution_count": 141,
   "metadata": {
    "id": "gzpDRNMbS7m4"
   },
   "outputs": [
    {
     "data": {
      "text/plain": [
       "1577880000000000000"
      ]
     },
     "execution_count": 141,
     "metadata": {},
     "output_type": "execute_result"
    }
   ],
   "source": [
    "stamp_utc.value"
   ]
  },
  {
   "cell_type": "code",
   "execution_count": 142,
   "metadata": {
    "id": "kV1-OuAyS1E1"
   },
   "outputs": [
    {
     "data": {
      "text/plain": [
       "Timestamp('2020-01-01 21:00:00+0900', tz='Asia/Seoul')"
      ]
     },
     "execution_count": 142,
     "metadata": {},
     "output_type": "execute_result"
    }
   ],
   "source": [
    "stamp_utc.tz_convert('Asia/Seoul')"
   ]
  },
  {
   "cell_type": "code",
   "execution_count": 143,
   "metadata": {
    "id": "vNWZbRg9S7ib"
   },
   "outputs": [
    {
     "data": {
      "text/plain": [
       "1577880000000000000"
      ]
     },
     "execution_count": 143,
     "metadata": {},
     "output_type": "execute_result"
    }
   ],
   "source": [
    "stamp_utc.tz_convert('Asia/Seoul').value"
   ]
  },
  {
   "cell_type": "code",
   "execution_count": 150,
   "metadata": {
    "id": "JktH-gJjSt3y"
   },
   "outputs": [
    {
     "data": {
      "text/plain": [
       "Timestamp('2020-01-01 12:00:00-0500', tz='America/New_York')"
      ]
     },
     "execution_count": 150,
     "metadata": {},
     "output_type": "execute_result"
    }
   ],
   "source": [
    "stamp_ny = pd.Timestamp('2020-01-01 12:00', tz='America/New_York')\n",
    "stamp_ny"
   ]
  },
  {
   "cell_type": "code",
   "execution_count": 151,
   "metadata": {
    "id": "y2YmFHiTSbvl"
   },
   "outputs": [
    {
     "data": {
      "text/plain": [
       "1577898000000000000"
      ]
     },
     "execution_count": 151,
     "metadata": {},
     "output_type": "execute_result"
    }
   ],
   "source": [
    "stamp_ny.value"
   ]
  },
  {
   "cell_type": "code",
   "execution_count": 146,
   "metadata": {
    "id": "escRmC7CSp7D"
   },
   "outputs": [
    {
     "data": {
      "text/plain": [
       "Timestamp('2020-01-01 20:00:00+0800', tz='Asia/Shanghai')"
      ]
     },
     "execution_count": 146,
     "metadata": {},
     "output_type": "execute_result"
    }
   ],
   "source": [
    "stamp_utc.tz_convert('Asia/Shanghai')"
   ]
  },
  {
   "cell_type": "code",
   "execution_count": 153,
   "metadata": {
    "id": "B8qC75WkVdUz"
   },
   "outputs": [
    {
     "data": {
      "text/plain": [
       "Timestamp('2020-01-01 12:00:00+0900', tz='Asia/Seoul')"
      ]
     },
     "execution_count": 153,
     "metadata": {},
     "output_type": "execute_result"
    }
   ],
   "source": [
    "stamp = pd.Timestamp('2020-01-01 12:00', tz= 'Asia/Seoul')\n",
    "stamp"
   ]
  },
  {
   "cell_type": "code",
   "execution_count": 154,
   "metadata": {
    "id": "vW_WSrFYVr39"
   },
   "outputs": [
    {
     "data": {
      "text/plain": [
       "Timestamp('2020-01-01 13:00:00+0900', tz='Asia/Seoul')"
      ]
     },
     "execution_count": 154,
     "metadata": {},
     "output_type": "execute_result"
    }
   ],
   "source": [
    "from pandas.tseries.offsets import Hour\n",
    "stamp + Hour()"
   ]
  },
  {
   "cell_type": "code",
   "execution_count": 155,
   "metadata": {
    "id": "eirSX--hVxsh"
   },
   "outputs": [
    {
     "data": {
      "text/plain": [
       "Timestamp('2020-01-01 15:00:00+0900', tz='Asia/Seoul')"
      ]
     },
     "execution_count": 155,
     "metadata": {},
     "output_type": "execute_result"
    }
   ],
   "source": [
    "stamp + 3 * Hour()"
   ]
  },
  {
   "cell_type": "code",
   "execution_count": 156,
   "metadata": {
    "id": "c5O6aWCoV6tn"
   },
   "outputs": [
    {
     "data": {
      "text/plain": [
       "2020-01-01 00:00:00+00:00   -0.484210\n",
       "2020-01-02 00:00:00+00:00   -0.364146\n",
       "2020-01-03 00:00:00+00:00   -0.566874\n",
       "2020-01-06 00:00:00+00:00   -0.348180\n",
       "2020-01-07 00:00:00+00:00   -0.896984\n",
       "2020-01-08 00:00:00+00:00   -0.491758\n",
       "2020-01-09 00:00:00+00:00    1.588265\n",
       "Freq: B, dtype: float64"
      ]
     },
     "execution_count": 156,
     "metadata": {},
     "output_type": "execute_result"
    }
   ],
   "source": [
    "ts_utc"
   ]
  },
  {
   "cell_type": "code",
   "execution_count": 158,
   "metadata": {
    "id": "fT1R8fH1YLxz"
   },
   "outputs": [],
   "source": [
    "ts1 = ts_utc[:5].tz_convert('Europe/Berlin')\n",
    "ts2 = ts_utc[2:].tz_convert('America/New_York')\n",
    "ts = ts1 + ts2"
   ]
  },
  {
   "cell_type": "code",
   "execution_count": 159,
   "metadata": {
    "id": "AImCb4SwZHDJ"
   },
   "outputs": [
    {
     "data": {
      "text/plain": [
       "DatetimeIndex(['2020-01-01 00:00:00+00:00', '2020-01-02 00:00:00+00:00',\n",
       "               '2020-01-03 00:00:00+00:00', '2020-01-06 00:00:00+00:00',\n",
       "               '2020-01-07 00:00:00+00:00', '2020-01-08 00:00:00+00:00',\n",
       "               '2020-01-09 00:00:00+00:00'],\n",
       "              dtype='datetime64[ns, UTC]', freq='B')"
      ]
     },
     "execution_count": 159,
     "metadata": {},
     "output_type": "execute_result"
    }
   ],
   "source": [
    "ts.index"
   ]
  },
  {
   "cell_type": "markdown",
   "metadata": {
    "id": "mBESoCw1ZPCb"
   },
   "source": [
    "### 기간과 기간 연산"
   ]
  },
  {
   "cell_type": "code",
   "execution_count": 160,
   "metadata": {
    "id": "zPuaVZFOZRXU"
   },
   "outputs": [
    {
     "data": {
      "text/plain": [
       "Period('2020', 'A-JAN')"
      ]
     },
     "execution_count": 160,
     "metadata": {},
     "output_type": "execute_result"
    }
   ],
   "source": [
    "p= pd.Period(2020, freq='A-JAN')\n",
    "p"
   ]
  },
  {
   "cell_type": "code",
   "execution_count": 161,
   "metadata": {
    "id": "Pa6d7K81c9D7"
   },
   "outputs": [
    {
     "data": {
      "text/plain": [
       "Period('2022', 'A-JAN')"
      ]
     },
     "execution_count": 161,
     "metadata": {},
     "output_type": "execute_result"
    }
   ],
   "source": [
    "p + 2"
   ]
  },
  {
   "cell_type": "code",
   "execution_count": 162,
   "metadata": {
    "id": "-8G5Fry1dA0Z"
   },
   "outputs": [
    {
     "data": {
      "text/plain": [
       "Period('2017', 'A-JAN')"
      ]
     },
     "execution_count": 162,
     "metadata": {},
     "output_type": "execute_result"
    }
   ],
   "source": [
    "p - 3"
   ]
  },
  {
   "cell_type": "code",
   "execution_count": 164,
   "metadata": {
    "id": "uX4eGfqPdJWX"
   },
   "outputs": [
    {
     "data": {
      "text/plain": [
       "<10 * YearEnds: month=1>"
      ]
     },
     "execution_count": 164,
     "metadata": {},
     "output_type": "execute_result"
    }
   ],
   "source": [
    "p1 = pd.Period(2010, freq='A-JAN')\n",
    "p2 = pd.Period(2020, freq='A-JAN')\n",
    "p2 - p1"
   ]
  },
  {
   "cell_type": "code",
   "execution_count": 165,
   "metadata": {
    "id": "bONu-Igwefj5"
   },
   "outputs": [],
   "source": [
    "pr = pd.period_range('2020-01-01', '2020-06-30', freq='M')"
   ]
  },
  {
   "cell_type": "code",
   "execution_count": 166,
   "metadata": {
    "id": "CgIISIP3esTI"
   },
   "outputs": [
    {
     "data": {
      "text/plain": [
       "2020-01    1.024047\n",
       "2020-02    0.816610\n",
       "2020-03   -0.178974\n",
       "2020-04   -0.047391\n",
       "2020-05   -0.451397\n",
       "2020-06    0.811403\n",
       "Freq: M, dtype: float64"
      ]
     },
     "execution_count": 166,
     "metadata": {},
     "output_type": "execute_result"
    }
   ],
   "source": [
    "pd.Series(np.random.randn(6), index=pr)"
   ]
  },
  {
   "cell_type": "code",
   "execution_count": 167,
   "metadata": {
    "id": "3UbMifZ9g_2a"
   },
   "outputs": [
    {
     "data": {
      "text/plain": [
       "PeriodIndex(['2020-01', '2020-02', '2020-04'], dtype='period[M]', freq='M')"
      ]
     },
     "execution_count": 167,
     "metadata": {},
     "output_type": "execute_result"
    }
   ],
   "source": [
    "pidx =pd.PeriodIndex(['2020-1', '2020-2', '2020-4'], freq='M')\n",
    "pidx"
   ]
  },
  {
   "cell_type": "code",
   "execution_count": 168,
   "metadata": {
    "id": "SrJaYKyFhqNK"
   },
   "outputs": [
    {
     "data": {
      "text/plain": [
       "Period('2020', 'A-FEB')"
      ]
     },
     "execution_count": 168,
     "metadata": {},
     "output_type": "execute_result"
    }
   ],
   "source": [
    "p = pd.Period('2020', freq='A-FEB')\n",
    "p"
   ]
  },
  {
   "cell_type": "code",
   "execution_count": 169,
   "metadata": {
    "id": "1zslgmgEhy_E"
   },
   "outputs": [
    {
     "data": {
      "text/plain": [
       "Period('2019-03', 'M')"
      ]
     },
     "execution_count": 169,
     "metadata": {},
     "output_type": "execute_result"
    }
   ],
   "source": [
    "p.asfreq('M', how='start')"
   ]
  },
  {
   "cell_type": "code",
   "execution_count": 170,
   "metadata": {
    "id": "Pf0MhblPh-4A"
   },
   "outputs": [
    {
     "data": {
      "text/plain": [
       "Period('2020-02', 'M')"
      ]
     },
     "execution_count": 170,
     "metadata": {},
     "output_type": "execute_result"
    }
   ],
   "source": [
    "p.asfreq('m', how='end')"
   ]
  },
  {
   "cell_type": "code",
   "execution_count": 171,
   "metadata": {
    "id": "TUAZmHE5iTDQ"
   },
   "outputs": [
    {
     "data": {
      "text/plain": [
       "Period('2020', 'A-OCT')"
      ]
     },
     "execution_count": 171,
     "metadata": {},
     "output_type": "execute_result"
    }
   ],
   "source": [
    "p = pd.Period('2020', freq='A-OCT')\n",
    "p"
   ]
  },
  {
   "cell_type": "code",
   "execution_count": 172,
   "metadata": {
    "id": "OXXVYyrSiXx5"
   },
   "outputs": [
    {
     "data": {
      "text/plain": [
       "Period('2020-10', 'M')"
      ]
     },
     "execution_count": 172,
     "metadata": {},
     "output_type": "execute_result"
    }
   ],
   "source": [
    "p.asfreq('M', how='end')"
   ]
  },
  {
   "cell_type": "code",
   "execution_count": 173,
   "metadata": {
    "id": "KwZxN0DSiZcR"
   },
   "outputs": [
    {
     "data": {
      "text/plain": [
       "Period('2020Q2', 'Q-JAN')"
      ]
     },
     "execution_count": 173,
     "metadata": {},
     "output_type": "execute_result"
    }
   ],
   "source": [
    "p = pd.Period('2020Q2', freq='Q-JAN')\n",
    "p"
   ]
  },
  {
   "cell_type": "code",
   "execution_count": 174,
   "metadata": {
    "id": "coUC21I4irbo"
   },
   "outputs": [
    {
     "data": {
      "text/plain": [
       "Period('2019-05-01', 'D')"
      ]
     },
     "execution_count": 174,
     "metadata": {},
     "output_type": "execute_result"
    }
   ],
   "source": [
    "p.asfreq('D', 'start')"
   ]
  },
  {
   "cell_type": "code",
   "execution_count": 175,
   "metadata": {
    "id": "l1-o5TuTjJ_6"
   },
   "outputs": [
    {
     "data": {
      "text/plain": [
       "Period('2019-07-31', 'D')"
      ]
     },
     "execution_count": 175,
     "metadata": {},
     "output_type": "execute_result"
    }
   ],
   "source": [
    "p.asfreq('D', 'end')"
   ]
  },
  {
   "cell_type": "code",
   "execution_count": 177,
   "metadata": {
    "id": "OXKM1tInjOo5"
   },
   "outputs": [
    {
     "data": {
      "text/plain": [
       "2019Q3    0\n",
       "2019Q4    1\n",
       "2020Q1    2\n",
       "2020Q2    3\n",
       "2020Q3    4\n",
       "Freq: Q-JAN, dtype: int32"
      ]
     },
     "execution_count": 177,
     "metadata": {},
     "output_type": "execute_result"
    }
   ],
   "source": [
    "pr = pd.period_range('2019Q3', '2020Q3', freq='Q-JAN')\n",
    "ts = pd.Series(np.arange(len(pr)), index=pr)\n",
    "ts"
   ]
  },
  {
   "cell_type": "code",
   "execution_count": 181,
   "metadata": {
    "id": "atGrrBMjj9sh"
   },
   "outputs": [
    {
     "data": {
      "text/plain": [
       "2019-07-31    0.221508\n",
       "2019-10-31    2.016662\n",
       "2020-01-31   -0.775075\n",
       "2020-04-30   -0.311983\n",
       "2020-07-31   -1.676341\n",
       "Freq: Q-JAN, dtype: float64"
      ]
     },
     "execution_count": 181,
     "metadata": {},
     "output_type": "execute_result"
    }
   ],
   "source": [
    "pr = pd.date_range('2019Q3', periods=5, freq='Q-JAN')\n",
    "ts = pd.Series(np.random.randn(5), index=pr)\n",
    "ts"
   ]
  },
  {
   "cell_type": "code",
   "execution_count": 182,
   "metadata": {
    "id": "eYrXQPsykF6O"
   },
   "outputs": [
    {
     "data": {
      "text/plain": [
       "2020Q2    0.221508\n",
       "2020Q3    2.016662\n",
       "2020Q4   -0.775075\n",
       "2021Q1   -0.311983\n",
       "2021Q2   -1.676341\n",
       "Freq: Q-JAN, dtype: float64"
      ]
     },
     "execution_count": 182,
     "metadata": {},
     "output_type": "execute_result"
    }
   ],
   "source": [
    "ts.to_period()"
   ]
  },
  {
   "cell_type": "code",
   "execution_count": 183,
   "metadata": {
    "id": "Ieb4UV57kPBS"
   },
   "outputs": [
    {
     "data": {
      "text/plain": [
       "2020-01-01   -0.172196\n",
       "2020-01-02   -2.867326\n",
       "2020-01-03   -1.258521\n",
       "2020-01-04    0.140224\n",
       "2020-01-05   -0.514933\n",
       "Freq: D, dtype: float64"
      ]
     },
     "execution_count": 183,
     "metadata": {},
     "output_type": "execute_result"
    }
   ],
   "source": [
    "pr = pd.date_range('2020-01-01', periods=5, freq='D')\n",
    "ts = pd.Series(np.random.randn(5), index=pr)\n",
    "ts"
   ]
  },
  {
   "cell_type": "code",
   "execution_count": 185,
   "metadata": {
    "id": "kQ0IShLqlPYy"
   },
   "outputs": [
    {
     "data": {
      "text/plain": [
       "2020-01   -0.172196\n",
       "2020-01   -2.867326\n",
       "2020-01   -1.258521\n",
       "2020-01    0.140224\n",
       "2020-01   -0.514933\n",
       "Freq: M, dtype: float64"
      ]
     },
     "execution_count": 185,
     "metadata": {},
     "output_type": "execute_result"
    }
   ],
   "source": [
    "p = ts.to_period('M')\n",
    "p"
   ]
  },
  {
   "cell_type": "code",
   "execution_count": 186,
   "metadata": {
    "id": "uIkBhkpnop55"
   },
   "outputs": [
    {
     "data": {
      "text/plain": [
       "2020-01-01   -0.172196\n",
       "2020-01-01   -2.867326\n",
       "2020-01-01   -1.258521\n",
       "2020-01-01    0.140224\n",
       "2020-01-01   -0.514933\n",
       "dtype: float64"
      ]
     },
     "execution_count": 186,
     "metadata": {},
     "output_type": "execute_result"
    }
   ],
   "source": [
    "p.to_timestamp(how='start')"
   ]
  },
  {
   "cell_type": "markdown",
   "metadata": {
    "id": "_7_r2sq0qoCb"
   },
   "source": [
    "### 리샘플링(Resampling)\n",
    "\n",
    "* 리샘플링(Resampling): 시계열의 빈도 변환\n",
    "* 다운샘플링(Down sampling): 상위 빈도 데이터를 하위 빈도 데이터로 집계\n",
    "* 업샘플링(Up sampling): 하위 빈도 데이터를 상위 빈도 데이터로 집계"
   ]
  },
  {
   "cell_type": "code",
   "execution_count": null,
   "metadata": {
    "id": "g16pgRe8qq2S"
   },
   "outputs": [],
   "source": []
  },
  {
   "cell_type": "code",
   "execution_count": null,
   "metadata": {
    "id": "dUOidLhdrSga"
   },
   "outputs": [],
   "source": []
  },
  {
   "cell_type": "code",
   "execution_count": null,
   "metadata": {
    "id": "syUsS-UtraUU"
   },
   "outputs": [],
   "source": []
  },
  {
   "cell_type": "code",
   "execution_count": null,
   "metadata": {
    "id": "wqGxv77wujni"
   },
   "outputs": [],
   "source": []
  },
  {
   "cell_type": "code",
   "execution_count": null,
   "metadata": {
    "id": "24TJiPXSu-cN"
   },
   "outputs": [],
   "source": []
  },
  {
   "cell_type": "code",
   "execution_count": null,
   "metadata": {
    "id": "iL0pJxPcwlt5"
   },
   "outputs": [],
   "source": []
  },
  {
   "cell_type": "code",
   "execution_count": null,
   "metadata": {
    "id": "UqjZ7uy1NTAM"
   },
   "outputs": [],
   "source": []
  },
  {
   "cell_type": "code",
   "execution_count": null,
   "metadata": {
    "id": "iTeIafSR1Hfx"
   },
   "outputs": [],
   "source": []
  },
  {
   "cell_type": "code",
   "execution_count": null,
   "metadata": {
    "id": "1KJJ4TSf1nMp"
   },
   "outputs": [],
   "source": []
  },
  {
   "cell_type": "code",
   "execution_count": null,
   "metadata": {
    "id": "79ITf-AM2Jcr"
   },
   "outputs": [],
   "source": []
  },
  {
   "cell_type": "code",
   "execution_count": null,
   "metadata": {
    "id": "kOBZwqXJ626g"
   },
   "outputs": [],
   "source": []
  },
  {
   "cell_type": "code",
   "execution_count": null,
   "metadata": {
    "id": "IZIifPcqBX28"
   },
   "outputs": [],
   "source": []
  },
  {
   "cell_type": "code",
   "execution_count": null,
   "metadata": {
    "id": "iEci9Ws3FNtG"
   },
   "outputs": [],
   "source": []
  },
  {
   "cell_type": "code",
   "execution_count": null,
   "metadata": {
    "id": "TPWnP2YNE2-Y"
   },
   "outputs": [],
   "source": []
  },
  {
   "cell_type": "code",
   "execution_count": null,
   "metadata": {
    "id": "r6b2V4P9B3eN"
   },
   "outputs": [],
   "source": []
  },
  {
   "cell_type": "code",
   "execution_count": null,
   "metadata": {
    "id": "YRU_MPfgC2OC"
   },
   "outputs": [],
   "source": []
  },
  {
   "cell_type": "code",
   "execution_count": null,
   "metadata": {
    "id": "bGwHQKT18B30"
   },
   "outputs": [],
   "source": []
  },
  {
   "cell_type": "code",
   "execution_count": null,
   "metadata": {
    "id": "0-fZbJgkCxvo"
   },
   "outputs": [],
   "source": []
  },
  {
   "cell_type": "markdown",
   "metadata": {
    "id": "gOTm-SAWFqUn"
   },
   "source": [
    "### 무빙 윈도우(Moving Window)"
   ]
  },
  {
   "cell_type": "code",
   "execution_count": null,
   "metadata": {
    "id": "ivW4TjmaFv_8"
   },
   "outputs": [],
   "source": []
  },
  {
   "cell_type": "code",
   "execution_count": null,
   "metadata": {
    "id": "g8NG71H-G3_1"
   },
   "outputs": [],
   "source": []
  },
  {
   "cell_type": "code",
   "execution_count": null,
   "metadata": {
    "id": "fPuiwcxR6r29"
   },
   "outputs": [],
   "source": []
  },
  {
   "cell_type": "code",
   "execution_count": null,
   "metadata": {
    "id": "rrS0Fv6IHkTD"
   },
   "outputs": [],
   "source": []
  },
  {
   "cell_type": "code",
   "execution_count": null,
   "metadata": {
    "id": "5eyUTf9gH7dy"
   },
   "outputs": [],
   "source": []
  },
  {
   "cell_type": "code",
   "execution_count": null,
   "metadata": {
    "id": "jE8ef_y7ISvQ"
   },
   "outputs": [],
   "source": []
  },
  {
   "cell_type": "code",
   "execution_count": null,
   "metadata": {
    "id": "YPivQozCIt2C"
   },
   "outputs": [],
   "source": []
  },
  {
   "cell_type": "code",
   "execution_count": null,
   "metadata": {
    "id": "uwUxlyN-I9Lr"
   },
   "outputs": [],
   "source": []
  },
  {
   "cell_type": "code",
   "execution_count": null,
   "metadata": {
    "id": "t6EOkaA7JQfk"
   },
   "outputs": [],
   "source": []
  },
  {
   "cell_type": "code",
   "execution_count": null,
   "metadata": {
    "id": "iOAqjinMJ-RM"
   },
   "outputs": [],
   "source": []
  },
  {
   "cell_type": "code",
   "execution_count": null,
   "metadata": {
    "id": "DMZPaDR0wR1P"
   },
   "outputs": [],
   "source": []
  },
  {
   "cell_type": "markdown",
   "metadata": {
    "id": "BOO7UiIisygc"
   },
   "source": [
    "## 데이터 읽기 및 저장\n"
   ]
  },
  {
   "cell_type": "markdown",
   "metadata": {
    "id": "gywGx4BUY8kK"
   },
   "source": [
    "### 텍스트 파일 읽기/쓰기"
   ]
  },
  {
   "cell_type": "code",
   "execution_count": null,
   "metadata": {
    "id": "YKleNV0lswbP"
   },
   "outputs": [],
   "source": []
  },
  {
   "cell_type": "code",
   "execution_count": null,
   "metadata": {
    "id": "uDL9fxU_N3e8"
   },
   "outputs": [],
   "source": []
  },
  {
   "cell_type": "code",
   "execution_count": null,
   "metadata": {
    "id": "8qpTNo0rNzQ1"
   },
   "outputs": [],
   "source": []
  },
  {
   "cell_type": "code",
   "execution_count": null,
   "metadata": {
    "id": "uFgOXuSWODON"
   },
   "outputs": [],
   "source": []
  },
  {
   "cell_type": "code",
   "execution_count": null,
   "metadata": {
    "id": "DxsJR_AHOGNM"
   },
   "outputs": [],
   "source": []
  },
  {
   "cell_type": "code",
   "execution_count": null,
   "metadata": {
    "id": "pINjVRJlOP3f"
   },
   "outputs": [],
   "source": []
  },
  {
   "cell_type": "code",
   "execution_count": null,
   "metadata": {
    "id": "_OOxJ6AoOdsa"
   },
   "outputs": [],
   "source": []
  },
  {
   "cell_type": "code",
   "execution_count": null,
   "metadata": {
    "id": "41CvMcUxOqG2"
   },
   "outputs": [],
   "source": []
  },
  {
   "cell_type": "code",
   "execution_count": null,
   "metadata": {
    "id": "IUWp5vjzPG_F"
   },
   "outputs": [],
   "source": []
  },
  {
   "cell_type": "code",
   "execution_count": null,
   "metadata": {
    "id": "lwh3G1yRQr1h"
   },
   "outputs": [],
   "source": []
  },
  {
   "cell_type": "code",
   "execution_count": null,
   "metadata": {
    "id": "PkUJzlMzRBue"
   },
   "outputs": [],
   "source": []
  },
  {
   "cell_type": "code",
   "execution_count": null,
   "metadata": {
    "id": "Ywb5JK5qRTvs"
   },
   "outputs": [],
   "source": []
  },
  {
   "cell_type": "code",
   "execution_count": null,
   "metadata": {
    "id": "PkEC01P2RaiM"
   },
   "outputs": [],
   "source": []
  },
  {
   "cell_type": "code",
   "execution_count": null,
   "metadata": {
    "id": "r-LMeRJUR8N4"
   },
   "outputs": [],
   "source": []
  },
  {
   "cell_type": "code",
   "execution_count": null,
   "metadata": {
    "id": "5eRV5ja3SawJ"
   },
   "outputs": [],
   "source": []
  },
  {
   "cell_type": "code",
   "execution_count": null,
   "metadata": {
    "id": "M7iJwB8MYwSv"
   },
   "outputs": [],
   "source": []
  },
  {
   "cell_type": "code",
   "execution_count": null,
   "metadata": {
    "id": "bsjS12WVZHcq"
   },
   "outputs": [],
   "source": []
  },
  {
   "cell_type": "code",
   "execution_count": null,
   "metadata": {
    "id": "QjP7lyGzZOpi"
   },
   "outputs": [],
   "source": []
  },
  {
   "cell_type": "code",
   "execution_count": null,
   "metadata": {
    "id": "fzxcYo0_ZUMI"
   },
   "outputs": [],
   "source": []
  },
  {
   "cell_type": "code",
   "execution_count": null,
   "metadata": {
    "id": "U0nvJRsTZg5E"
   },
   "outputs": [],
   "source": []
  },
  {
   "cell_type": "code",
   "execution_count": null,
   "metadata": {
    "id": "Xx7oQn_9axOD"
   },
   "outputs": [],
   "source": []
  },
  {
   "cell_type": "code",
   "execution_count": null,
   "metadata": {
    "id": "-cFa44vmbWJ-"
   },
   "outputs": [],
   "source": []
  },
  {
   "cell_type": "code",
   "execution_count": null,
   "metadata": {
    "id": "Sz4D4Rcrbkkj"
   },
   "outputs": [],
   "source": []
  },
  {
   "cell_type": "code",
   "execution_count": null,
   "metadata": {
    "id": "h-3yFqGYcc64"
   },
   "outputs": [],
   "source": []
  },
  {
   "cell_type": "code",
   "execution_count": null,
   "metadata": {
    "id": "8dwRbNbucm9_"
   },
   "outputs": [],
   "source": []
  },
  {
   "cell_type": "code",
   "execution_count": null,
   "metadata": {
    "id": "iEvJFXwTcx-y"
   },
   "outputs": [],
   "source": []
  },
  {
   "cell_type": "code",
   "execution_count": null,
   "metadata": {
    "id": "L5IlKRsKc7-X"
   },
   "outputs": [],
   "source": []
  },
  {
   "cell_type": "code",
   "execution_count": null,
   "metadata": {
    "id": "I2DeeF8rc-lS"
   },
   "outputs": [],
   "source": []
  },
  {
   "cell_type": "markdown",
   "metadata": {
    "id": "FbawLF89dKIZ"
   },
   "source": [
    "### 이진 데이터 파일 읽기/쓰기"
   ]
  },
  {
   "cell_type": "code",
   "execution_count": null,
   "metadata": {
    "id": "r86MX6x7dYgE"
   },
   "outputs": [],
   "source": []
  },
  {
   "cell_type": "code",
   "execution_count": null,
   "metadata": {
    "id": "V2GPiDLKdfmO"
   },
   "outputs": [],
   "source": []
  },
  {
   "cell_type": "code",
   "execution_count": null,
   "metadata": {
    "id": "B3eyfmJRdkQR"
   },
   "outputs": [],
   "source": []
  },
  {
   "cell_type": "code",
   "execution_count": null,
   "metadata": {
    "id": "UzOVC81Ed-2E"
   },
   "outputs": [],
   "source": []
  },
  {
   "cell_type": "code",
   "execution_count": null,
   "metadata": {
    "id": "uaO6OxkCeTq4"
   },
   "outputs": [],
   "source": []
  },
  {
   "cell_type": "code",
   "execution_count": null,
   "metadata": {
    "id": "OG_258xee3PR"
   },
   "outputs": [],
   "source": []
  },
  {
   "cell_type": "code",
   "execution_count": null,
   "metadata": {
    "id": "sWZ22PVde7Ha"
   },
   "outputs": [],
   "source": []
  },
  {
   "cell_type": "code",
   "execution_count": null,
   "metadata": {
    "id": "YglaWJ7CfAKj"
   },
   "outputs": [],
   "source": []
  },
  {
   "cell_type": "code",
   "execution_count": null,
   "metadata": {
    "id": "zjEeShTCfO8i"
   },
   "outputs": [],
   "source": []
  },
  {
   "cell_type": "code",
   "execution_count": null,
   "metadata": {
    "id": "wVRZCDhqfTgf"
   },
   "outputs": [],
   "source": []
  },
  {
   "cell_type": "code",
   "execution_count": null,
   "metadata": {
    "id": "SbB9VJMVfot5"
   },
   "outputs": [],
   "source": []
  },
  {
   "cell_type": "code",
   "execution_count": null,
   "metadata": {
    "id": "eVn_GwrTf7Eu"
   },
   "outputs": [],
   "source": []
  },
  {
   "cell_type": "code",
   "execution_count": null,
   "metadata": {
    "id": "GFvQJWz5gaXG"
   },
   "outputs": [],
   "source": []
  },
  {
   "cell_type": "code",
   "execution_count": null,
   "metadata": {
    "id": "Ij_Yh741gbp1"
   },
   "outputs": [],
   "source": []
  },
  {
   "cell_type": "markdown",
   "metadata": {
    "id": "TC1H-xT_2F8p"
   },
   "source": [
    "## 데이터 정제"
   ]
  },
  {
   "cell_type": "markdown",
   "metadata": {
    "id": "sHfYzJJsqoiD"
   },
   "source": [
    "### 누락값 처리\n",
    "\n",
    "* 대부분의 실제 데이터들은 정제되지 않고 누락값들이 존재\n",
    "* 서로 다른 데이터들은 다른 형태의 결측을 가짐\n",
    "* 결측 데이터는 `null`, `NaN`, `NA`로 표기"
   ]
  },
  {
   "cell_type": "markdown",
   "metadata": {
    "id": "eYG4GJ04HNea"
   },
   "source": [
    "#### None: 파이썬 누락 데이터"
   ]
  },
  {
   "cell_type": "code",
   "execution_count": null,
   "metadata": {
    "id": "SdbmIhZJqYk-"
   },
   "outputs": [],
   "source": []
  },
  {
   "cell_type": "code",
   "execution_count": null,
   "metadata": {
    "id": "TGgJm6tSOqz5"
   },
   "outputs": [],
   "source": []
  },
  {
   "cell_type": "markdown",
   "metadata": {
    "id": "Uz-ozgPrPj7g"
   },
   "source": [
    "#### NaN: 누락된 수치 데이터"
   ]
  },
  {
   "cell_type": "code",
   "execution_count": null,
   "metadata": {
    "id": "XIzPctmuPWfU"
   },
   "outputs": [],
   "source": []
  },
  {
   "cell_type": "code",
   "execution_count": null,
   "metadata": {
    "id": "9TVX3ZN5P6V3"
   },
   "outputs": [],
   "source": []
  },
  {
   "cell_type": "code",
   "execution_count": null,
   "metadata": {
    "id": "iVLmt-aQP8Gj"
   },
   "outputs": [],
   "source": []
  },
  {
   "cell_type": "code",
   "execution_count": null,
   "metadata": {
    "id": "hGP2AkgaSUSz"
   },
   "outputs": [],
   "source": []
  },
  {
   "cell_type": "code",
   "execution_count": null,
   "metadata": {
    "id": "TT4GHf_fSeRi"
   },
   "outputs": [],
   "source": []
  },
  {
   "cell_type": "code",
   "execution_count": null,
   "metadata": {
    "id": "U9qtvBxXSlfX"
   },
   "outputs": [],
   "source": []
  },
  {
   "cell_type": "code",
   "execution_count": null,
   "metadata": {
    "id": "FkOFTHSSS07A"
   },
   "outputs": [],
   "source": []
  },
  {
   "cell_type": "code",
   "execution_count": null,
   "metadata": {
    "id": "RWVqbN1oS6ZH"
   },
   "outputs": [],
   "source": []
  },
  {
   "cell_type": "code",
   "execution_count": null,
   "metadata": {
    "id": "d-jqa8t5S9z7"
   },
   "outputs": [],
   "source": []
  },
  {
   "cell_type": "code",
   "execution_count": null,
   "metadata": {
    "id": "BJHZK_CjTOUq"
   },
   "outputs": [],
   "source": []
  },
  {
   "cell_type": "markdown",
   "metadata": {
    "id": "TeZA_l5fUCks"
   },
   "source": [
    "#### Null 값 처리\n"
   ]
  },
  {
   "cell_type": "code",
   "execution_count": null,
   "metadata": {
    "id": "abbvoVnITo_y"
   },
   "outputs": [],
   "source": []
  },
  {
   "cell_type": "code",
   "execution_count": null,
   "metadata": {
    "id": "9gf6oys8akr0"
   },
   "outputs": [],
   "source": []
  },
  {
   "cell_type": "code",
   "execution_count": null,
   "metadata": {
    "id": "u9noWEenamtc"
   },
   "outputs": [],
   "source": []
  },
  {
   "cell_type": "code",
   "execution_count": null,
   "metadata": {
    "id": "EMWvOC5cauNb"
   },
   "outputs": [],
   "source": []
  },
  {
   "cell_type": "code",
   "execution_count": null,
   "metadata": {
    "id": "RVxZDos7azvf"
   },
   "outputs": [],
   "source": []
  },
  {
   "cell_type": "code",
   "execution_count": null,
   "metadata": {
    "id": "c02BqS-Aa9W-"
   },
   "outputs": [],
   "source": []
  },
  {
   "cell_type": "code",
   "execution_count": null,
   "metadata": {
    "id": "eKJY74ksbJx5"
   },
   "outputs": [],
   "source": []
  },
  {
   "cell_type": "code",
   "execution_count": null,
   "metadata": {
    "id": "hdqOfZdIbMAq"
   },
   "outputs": [],
   "source": []
  },
  {
   "cell_type": "code",
   "execution_count": null,
   "metadata": {
    "id": "Gk6hV9DibQsg"
   },
   "outputs": [],
   "source": []
  },
  {
   "cell_type": "code",
   "execution_count": null,
   "metadata": {
    "id": "88DA4w8ubUjj"
   },
   "outputs": [],
   "source": []
  },
  {
   "cell_type": "code",
   "execution_count": null,
   "metadata": {
    "id": "9F9FIW0-bYZs"
   },
   "outputs": [],
   "source": []
  },
  {
   "cell_type": "code",
   "execution_count": null,
   "metadata": {
    "id": "o3elF07Nqi2E"
   },
   "outputs": [],
   "source": []
  },
  {
   "cell_type": "code",
   "execution_count": null,
   "metadata": {
    "id": "w3Oe_XlsqlbP"
   },
   "outputs": [],
   "source": []
  },
  {
   "cell_type": "code",
   "execution_count": null,
   "metadata": {
    "id": "KDPaKJO7qsTY"
   },
   "outputs": [],
   "source": []
  },
  {
   "cell_type": "code",
   "execution_count": null,
   "metadata": {
    "id": "5kW3F5jAqvVP"
   },
   "outputs": [],
   "source": []
  },
  {
   "cell_type": "code",
   "execution_count": null,
   "metadata": {
    "id": "Gmo1xb_Xriuj"
   },
   "outputs": [],
   "source": []
  },
  {
   "cell_type": "code",
   "execution_count": null,
   "metadata": {
    "id": "JCXIWLKVq4rN"
   },
   "outputs": [],
   "source": []
  },
  {
   "cell_type": "code",
   "execution_count": null,
   "metadata": {
    "id": "BxA3XjSarl3J"
   },
   "outputs": [],
   "source": []
  },
  {
   "cell_type": "code",
   "execution_count": null,
   "metadata": {
    "id": "l0D2GjVeq8Fh"
   },
   "outputs": [],
   "source": []
  },
  {
   "cell_type": "markdown",
   "metadata": {
    "id": "FSLpWYGEiZRR"
   },
   "source": [
    "### 중복 제거"
   ]
  },
  {
   "cell_type": "code",
   "execution_count": null,
   "metadata": {
    "id": "Ii7qOLQ8s1hW"
   },
   "outputs": [],
   "source": []
  },
  {
   "cell_type": "code",
   "execution_count": null,
   "metadata": {
    "id": "14U6mS6fjOu9"
   },
   "outputs": [],
   "source": []
  },
  {
   "cell_type": "code",
   "execution_count": null,
   "metadata": {
    "id": "iLOdlpN5jR0d"
   },
   "outputs": [],
   "source": []
  },
  {
   "cell_type": "markdown",
   "metadata": {
    "id": "GaUfbZgwkCf-"
   },
   "source": [
    "### 값 치환"
   ]
  },
  {
   "cell_type": "code",
   "execution_count": null,
   "metadata": {
    "id": "VdG93-hpkE2j"
   },
   "outputs": [],
   "source": []
  },
  {
   "cell_type": "code",
   "execution_count": null,
   "metadata": {
    "id": "ZRnsdEEukSf3"
   },
   "outputs": [],
   "source": []
  },
  {
   "cell_type": "code",
   "execution_count": null,
   "metadata": {
    "id": "L3fSks4BkYSi"
   },
   "outputs": [],
   "source": []
  },
  {
   "cell_type": "code",
   "execution_count": null,
   "metadata": {
    "id": "_wtD7XeykdLs"
   },
   "outputs": [],
   "source": []
  },
  {
   "cell_type": "markdown",
   "metadata": {
    "id": "4sq_9jXcoFwb"
   },
   "source": [
    "## 참고문헌\n",
    "\n",
    "* Pandas 사이트: https://pandas.pydata.org/\n",
    "* Jake VanderPlas, \"Python Data Science Handbook\", O'Reilly\n",
    "* Wes Mckinney, \"Python for Data Analysis\", O'Reilly"
   ]
  }
 ],
 "metadata": {
  "colab": {
   "collapsed_sections": [],
   "name": "_Pandas 한번에 제대로 배우기.ipynb",
   "provenance": [],
   "toc_visible": true
  },
  "kernelspec": {
   "display_name": "Python 3",
   "language": "python",
   "name": "python3"
  },
  "language_info": {
   "codemirror_mode": {
    "name": "ipython",
    "version": 3
   },
   "file_extension": ".py",
   "mimetype": "text/x-python",
   "name": "python",
   "nbconvert_exporter": "python",
   "pygments_lexer": "ipython3",
   "version": "3.8.8"
  }
 },
 "nbformat": 4,
 "nbformat_minor": 1
}
